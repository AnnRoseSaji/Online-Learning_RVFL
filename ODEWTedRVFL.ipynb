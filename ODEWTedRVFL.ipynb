{
  "cells": [
    {
      "cell_type": "code",
      "execution_count": 1,
      "metadata": {
        "colab": {
          "base_uri": "https://localhost:8080/"
        },
        "id": "fXTNfun2482C",
        "outputId": "75d4feea-6a56-464a-970e-9a5d0198e22d"
      },
      "outputs": [
        {
          "output_type": "stream",
          "name": "stdout",
          "text": [
            "Collecting ewtpy\n",
            "  Downloading ewtpy-0.2-py2.py3-none-any.whl.metadata (3.1 kB)\n",
            "Requirement already satisfied: numpy in /usr/local/lib/python3.11/dist-packages (from ewtpy) (2.0.2)\n",
            "Requirement already satisfied: scipy in /usr/local/lib/python3.11/dist-packages (from ewtpy) (1.15.3)\n",
            "Downloading ewtpy-0.2-py2.py3-none-any.whl (8.9 kB)\n",
            "Installing collected packages: ewtpy\n",
            "Successfully installed ewtpy-0.2\n"
          ]
        }
      ],
      "source": [
        "!pip install ewtpy\n"
      ]
    },
    {
      "cell_type": "code",
      "source": [
        "# ======================= Airfoil Noise Dataset with ODEWTedRVFL =======================\n",
        "\n",
        "# ------------------------ Import Libraries ------------------------\n",
        "import numpy as np                      # Numerical computations\n",
        "import pandas as pd                     # Data loading and manipulation\n",
        "from sklearn.model_selection import train_test_split  # Splitting data\n",
        "from sklearn.preprocessing import StandardScaler      # Standardizing features\n",
        "from sklearn.metrics import mean_squared_error        # Evaluation metric\n",
        "import ewtpy                            # Empirical Wavelet Transform (EWT) package\n",
        "import warnings                         # Suppress unnecessary warnings\n",
        "warnings.filterwarnings(\"ignore\", category=RuntimeWarning)  # Ignore RuntimeWarnings\n",
        "\n",
        "# ------------------------ Load Dataset ------------------------\n",
        "# Dataset URL: UCI Airfoil Self Noise data\n",
        "url = \"https://raw.githubusercontent.com/rupakc/UCI-Data-Analysis/master/Airfoil%20Dataset/airfoil_self_noise.dat\"\n",
        "\n",
        "# Define column names as per UCI dataset description\n",
        "col_names = [\"frequency\", \"angle_of_attack\", \"chord_length\", \"free_stream_velocity\",\n",
        "             \"suction_side_displacement_thickness\", \"scaled_sound_pressure_level\"]\n",
        "\n",
        "# Read dataset from URL, space-separated\n",
        "df = pd.read_csv(url, sep=r'\\s+', header=None, names=col_names)\n",
        "\n",
        "# Split features and label\n",
        "X = df.drop(\"scaled_sound_pressure_level\", axis=1).values      # Features\n",
        "y = df[\"scaled_sound_pressure_level\"].values.astype(np.float32)  # Target output\n",
        "\n",
        "# ------------------------ EWT Feature Extraction ------------------------\n",
        "def compute_dynamic_ewt_features(signal, window=128, modes=3, k=5):\n",
        "    \"\"\"\n",
        "    For each point in the signal, apply Empirical Wavelet Transform (EWT) to a local segment,\n",
        "    and extract the last k values of each mode to form new features.\n",
        "    \"\"\"\n",
        "    features = []\n",
        "    for i in range(len(signal)):\n",
        "        start = max(0, i - window // 2)          # Start index of window\n",
        "        end = min(len(signal), i + window // 2)  # End index of window\n",
        "        segment = signal[start:end]              # Extract signal segment\n",
        "        mode_values = []\n",
        "        try:\n",
        "            # Perform EWT to extract modes\n",
        "            ewt_modes, _, _ = ewtpy.EWT1D(segment, N=modes)\n",
        "            if isinstance(ewt_modes, list):\n",
        "                for m in ewt_modes:\n",
        "                    values = m[-k:] if len(m) >= k else np.pad(m, (k - len(m), 0), mode='constant')  # Get last k values\n",
        "                    mode_values.extend(values)\n",
        "            elif isinstance(ewt_modes, np.ndarray):\n",
        "                for j in range(min(modes, ewt_modes.shape[0])):\n",
        "                    m = ewt_modes[j, :]\n",
        "                    values = m[-k:] if len(m) >= k else np.pad(m, (k - len(m), 0), mode='constant')\n",
        "                    mode_values.extend(values)\n",
        "            else:\n",
        "                mode_values = [0.0] * (modes * k)  # Fallback if modes not extracted\n",
        "        except Exception as e:\n",
        "            print(f\"Error at index {i}: {e}\")  # Debug print\n",
        "            mode_values = [0.0] * (modes * k)  # Replace with zeroes if failure\n",
        "        features.append(mode_values)  # Append extracted features for index i\n",
        "    return np.array(features)         # Return entire EWT feature matrix\n",
        "\n",
        "# Apply EWT-based dynamic feature extraction on target variable y\n",
        "ewt_features = compute_dynamic_ewt_features(y, window=128, modes=3, k=5)\n",
        "\n",
        "# Concatenate original features with extracted EWT features\n",
        "X_ewt = np.hstack([X, ewt_features])\n",
        "\n",
        "# ------------------------ Train/Test Split and Feature Scaling ------------------------\n",
        "X_train, X_test, y_train, y_test = train_test_split(X_ewt, y, test_size=0.3, random_state=42)  # 70-30 split\n",
        "\n",
        "# Standardize input features using Z-score normalization\n",
        "scaler = StandardScaler()\n",
        "X_train = scaler.fit_transform(X_train)\n",
        "X_test = scaler.transform(X_test)\n",
        "\n",
        "# ------------------------ Recursive Least Squares (RLS) Class ------------------------\n",
        "class RLS:\n",
        "    \"\"\"\n",
        "    Implements Recursive Least Squares algorithm for online linear regression.\n",
        "    \"\"\"\n",
        "    def __init__(self, dim, mu=0.95, delta=1000):\n",
        "        self.mu = mu                                # Forgetting factor (0 < mu ≤ 1)\n",
        "        self.R = np.eye(dim) * delta                # Initial covariance matrix\n",
        "        self.W_l = np.zeros((dim, 1))               # Initial weights\n",
        "\n",
        "    def update(self, x_t, y_t):\n",
        "        \"\"\"\n",
        "        Perform one RLS update step based on input vector x_t and target y_t.\n",
        "        \"\"\"\n",
        "        x_t = x_t.reshape(-1, 1)                    # Ensure column vector\n",
        "        y_t = np.array([[y_t]])                     # Scalar in 2D shape\n",
        "\n",
        "        denom = self.mu + x_t.T @ self.R @ x_t      # Denominator for RLS update\n",
        "\n",
        "        if denom <= 1e-8 or np.isnan(denom):\n",
        "            return                                  # Skip update if unstable\n",
        "\n",
        "        # Update inverse covariance matrix R\n",
        "        self.R = (1 / self.mu) * (\n",
        "            self.R - (self.R @ x_t @ x_t.T @ self.R) / denom\n",
        "        )\n",
        "\n",
        "        e_t = y_t - x_t.T @ self.W_l                # Prediction error\n",
        "        delta_W_l = self.R @ x_t @ e_t              # Weight update\n",
        "        self.W_l += delta_W_l                       # Update weights\n",
        "\n",
        "# ------------------------ Online Deep RVFL Class ------------------------\n",
        "class OnlineEDRVFL:\n",
        "    \"\"\"\n",
        "    Implements Online Ensemble Deep RVFL with RLS-based online learning.\n",
        "    \"\"\"\n",
        "    def __init__(self, input_dim, N_hidden=30, L=3, mu=0.7, s=0.7):\n",
        "        self.L = L                         # Number of layers\n",
        "        self.N_hidden = N_hidden          # Hidden units per layer\n",
        "        self.input_dim = input_dim\n",
        "        self.mu = mu                      # Forgetting factor for RLS\n",
        "        self.s = s                        # Smoothing factor for weight update\n",
        "        self.W = []                       # Hidden layer weights\n",
        "        self.rls = []                     # RLS objects per layer\n",
        "        self.beta = []                    # Offline-initialized weights per layer\n",
        "        current_input_dim = input_dim\n",
        "        for l in range(L):\n",
        "            W_l = np.random.randn(N_hidden, current_input_dim + 1)  # Random weights\n",
        "            self.W.append(W_l)\n",
        "            D_dim = N_hidden + current_input_dim + 1                # Feature dimension per layer\n",
        "            self.rls.append(RLS(dim=D_dim, mu=mu))                  # RLS object\n",
        "            self.beta.append(np.zeros((D_dim, 1)))                  # Init weights\n",
        "            current_input_dim += N_hidden                           # Update input dimension for next layer\n",
        "\n",
        "    def _activation(self, x):\n",
        "        return np.tanh(x)  # Nonlinear activation (tanh)\n",
        "\n",
        "    def _forward_layer(self, x, W):\n",
        "        x_bias = np.hstack([x, np.ones((x.shape[0], 1))])  # Add bias term\n",
        "        return self._activation(x_bias @ W.T)              # Apply activation\n",
        "\n",
        "    def initialize_offline(self, X, y, reg_lambda=1e-3):\n",
        "        \"\"\"\n",
        "        Initial offline training using ridge regression for all layers.\n",
        "        \"\"\"\n",
        "        current_X = X.copy()\n",
        "        for l in range(self.L):\n",
        "            h = self._forward_layer(current_X, self.W[l])  # Hidden output\n",
        "            D = np.hstack([h, current_X, np.ones((current_X.shape[0], 1))])  # Extended feature set\n",
        "            beta_l = np.linalg.inv(D.T @ D + reg_lambda * np.eye(D.shape[1])) @ D.T @ y.reshape(-1, 1)\n",
        "            self.beta[l] = beta_l                      # Save offline weights\n",
        "            self.rls[l].w = beta_l.copy()              # Set as initial weights in RLS\n",
        "            current_X = np.hstack([current_X, h])      # Prepare for next layer\n",
        "\n",
        "    def predict(self, x):\n",
        "        \"\"\"\n",
        "        Predict for a single input sample (used in ensemble).\n",
        "        \"\"\"\n",
        "        x = x.reshape(1, -1)\n",
        "        layer_input = x\n",
        "        preds = []\n",
        "        for l in range(self.L):\n",
        "            h = self._forward_layer(layer_input, self.W[l])\n",
        "            D = np.hstack([h, layer_input, np.ones((layer_input.shape[0], 1))])\n",
        "            pred = float(D @ self.rls[l].w)      # Predict using layer l\n",
        "            preds.append(pred)\n",
        "            layer_input = np.hstack([layer_input, h])  # Add to next input\n",
        "        return preds\n",
        "\n",
        "    def update_online(self, x, y):\n",
        "        \"\"\"\n",
        "        Perform online weight update using current input and true target.\n",
        "        \"\"\"\n",
        "        x = x.reshape(1, -1)\n",
        "        layer_input = x\n",
        "        for l in range(self.L):\n",
        "            h = self._forward_layer(layer_input, self.W[l])\n",
        "            D = np.hstack([h, layer_input, np.ones((layer_input.shape[0], 1))]).reshape(-1)\n",
        "            self.rls[l].update(D, y)                       # RLS update\n",
        "            if hasattr(self.rls[l], 'w') and self.rls[l].w is not None:\n",
        "                self.rls[l].w = self.s * self.rls[l].w + (1 - self.s) * self.beta[l]  # Smoothed weight update\n",
        "            layer_input = np.hstack([layer_input, h])\n",
        "\n",
        "    def ensemble_predict(self, preds, y_true):\n",
        "        \"\"\"\n",
        "        Aggregate predictions from all layers using weighted ensemble.\n",
        "        \"\"\"\n",
        "        errors = np.abs(np.array(preds) - y_true)  # Absolute errors\n",
        "        weights = 1 / (errors + 1e-8)               # Inverse error weighting\n",
        "        weights /= np.sum(weights)                  # Normalize\n",
        "        return float(np.dot(weights, preds))        # Weighted average\n",
        "\n",
        "# ------------------------ Train and Predict in Online Fashion ------------------------\n",
        "model = OnlineEDRVFL(input_dim=X_train.shape[1], N_hidden=30, L=3)\n",
        "\n",
        "# Use initial 200 samples for offline weight initialization\n",
        "model.initialize_offline(X_train[:200], y_train[:200])\n",
        "\n",
        "predictions = []                            # Store predictions\n",
        "y_stream = y_test[:500]                     # Streaming target data\n",
        "X_stream = X_test[:500]                     # Streaming input data\n",
        "batch_size = 10\n",
        "\n",
        "# Process test data in batches\n",
        "for i in range(0, len(X_stream), batch_size):\n",
        "    x_batch = X_stream[i:i + batch_size]\n",
        "    y_batch = y_stream[i:i + batch_size]\n",
        "\n",
        "    # Predict for each sample in batch\n",
        "    for j in range(len(x_batch)):\n",
        "        x_i = x_batch[j]\n",
        "        y_i = float(y_batch[j])\n",
        "        preds = model.predict(x_i)                      # Layer-wise predictions\n",
        "        y_pred = model.ensemble_predict(preds, y_i)     # Ensemble prediction\n",
        "        predictions.append(y_pred)                      # Store prediction\n",
        "\n",
        "    # Online update after batch predictions\n",
        "    for j in range(len(x_batch)):\n",
        "        x_i = x_batch[j]\n",
        "        y_i = float(y_batch[j])\n",
        "        model.update_online(x_i, y_i)                   # Update weights\n",
        "\n",
        "# ------------------------ Evaluation ------------------------\n",
        "predictions = np.array(predictions)                         # Convert to array\n",
        "rmse = np.sqrt(mean_squared_error(y_stream, predictions))   # Root Mean Square Error\n",
        "naive_mae = np.mean(np.abs(np.diff(y_train)))               # Baseline MAE for MASE\n",
        "mase = np.mean(np.abs(y_stream - predictions)) / naive_mae  # Mean Absolute Scaled Error\n",
        "\n",
        "# ------------------------ Print Results ------------------------\n",
        "print(f\"\\n RMSE: {rmse:.4f}\")\n",
        "print(f\" MASE: {mase:.4f}\")\n"
      ],
      "metadata": {
        "id": "9LwbIShOFEj4",
        "outputId": "646d9a73-0df4-4fc3-e11e-96a6935520ec",
        "colab": {
          "base_uri": "https://localhost:8080/"
        }
      },
      "execution_count": 16,
      "outputs": [
        {
          "output_type": "stream",
          "name": "stdout",
          "text": [
            "\n",
            " RMSE: 4.7784\n",
            " MASE: 0.4301\n"
          ]
        },
        {
          "output_type": "stream",
          "name": "stderr",
          "text": [
            "/tmp/ipython-input-16-564013689.py:158: DeprecationWarning: Conversion of an array with ndim > 0 to a scalar is deprecated, and will error in future. Ensure you extract a single element from your array before performing this operation. (Deprecated NumPy 1.25.)\n",
            "  pred = float(D @ self.rls[l].w)      # Predict using layer l\n"
          ]
        }
      ]
    },
    {
      "cell_type": "code",
      "execution_count": null,
      "metadata": {
        "colab": {
          "background_save": true,
          "base_uri": "https://localhost:8080/"
        },
        "id": "Fyl_UEz_OTNd",
        "outputId": "6136f964-add2-44a5-9434-920983679ec3"
      },
      "outputs": [
        {
          "name": "stderr",
          "output_type": "stream",
          "text": [
            "/tmp/ipython-input-4-455621206.py:139: DeprecationWarning: Conversion of an array with ndim > 0 to a scalar is deprecated, and will error in future. Ensure you extract a single element from your array before performing this operation. (Deprecated NumPy 1.25.)\n",
            "  pred = float(D @ self.rls[l].w)\n",
            "/tmp/ipython-input-4-455621206.py:139: DeprecationWarning: Conversion of an array with ndim > 0 to a scalar is deprecated, and will error in future. Ensure you extract a single element from your array before performing this operation. (Deprecated NumPy 1.25.)\n",
            "  pred = float(D @ self.rls[l].w)\n"
          ]
        },
        {
          "name": "stdout",
          "output_type": "stream",
          "text": [
            "s=0.1, L=2, N_hidden=20 -> RMSE: 5.3470, MASE: 0.4797\n"
          ]
        },
        {
          "name": "stderr",
          "output_type": "stream",
          "text": [
            "/tmp/ipython-input-4-455621206.py:139: DeprecationWarning: Conversion of an array with ndim > 0 to a scalar is deprecated, and will error in future. Ensure you extract a single element from your array before performing this operation. (Deprecated NumPy 1.25.)\n",
            "  pred = float(D @ self.rls[l].w)\n"
          ]
        },
        {
          "name": "stdout",
          "output_type": "stream",
          "text": [
            "s=0.1, L=2, N_hidden=30 -> RMSE: 5.0086, MASE: 0.4497\n"
          ]
        },
        {
          "name": "stderr",
          "output_type": "stream",
          "text": [
            "/tmp/ipython-input-4-455621206.py:139: DeprecationWarning: Conversion of an array with ndim > 0 to a scalar is deprecated, and will error in future. Ensure you extract a single element from your array before performing this operation. (Deprecated NumPy 1.25.)\n",
            "  pred = float(D @ self.rls[l].w)\n"
          ]
        },
        {
          "name": "stdout",
          "output_type": "stream",
          "text": [
            "s=0.1, L=2, N_hidden=40 -> RMSE: 5.1735, MASE: 0.4414\n"
          ]
        },
        {
          "name": "stderr",
          "output_type": "stream",
          "text": [
            "/tmp/ipython-input-4-455621206.py:139: DeprecationWarning: Conversion of an array with ndim > 0 to a scalar is deprecated, and will error in future. Ensure you extract a single element from your array before performing this operation. (Deprecated NumPy 1.25.)\n",
            "  pred = float(D @ self.rls[l].w)\n",
            "/tmp/ipython-input-4-455621206.py:139: DeprecationWarning: Conversion of an array with ndim > 0 to a scalar is deprecated, and will error in future. Ensure you extract a single element from your array before performing this operation. (Deprecated NumPy 1.25.)\n",
            "  pred = float(D @ self.rls[l].w)\n"
          ]
        },
        {
          "name": "stdout",
          "output_type": "stream",
          "text": [
            "s=0.1, L=3, N_hidden=20 -> RMSE: 4.8588, MASE: 0.4387\n"
          ]
        },
        {
          "name": "stderr",
          "output_type": "stream",
          "text": [
            "/tmp/ipython-input-4-455621206.py:139: DeprecationWarning: Conversion of an array with ndim > 0 to a scalar is deprecated, and will error in future. Ensure you extract a single element from your array before performing this operation. (Deprecated NumPy 1.25.)\n",
            "  pred = float(D @ self.rls[l].w)\n"
          ]
        },
        {
          "name": "stdout",
          "output_type": "stream",
          "text": [
            "s=0.1, L=3, N_hidden=30 -> RMSE: 4.8794, MASE: 0.4480\n"
          ]
        },
        {
          "name": "stderr",
          "output_type": "stream",
          "text": [
            "/tmp/ipython-input-4-455621206.py:139: DeprecationWarning: Conversion of an array with ndim > 0 to a scalar is deprecated, and will error in future. Ensure you extract a single element from your array before performing this operation. (Deprecated NumPy 1.25.)\n",
            "  pred = float(D @ self.rls[l].w)\n",
            "/tmp/ipython-input-4-455621206.py:139: DeprecationWarning: Conversion of an array with ndim > 0 to a scalar is deprecated, and will error in future. Ensure you extract a single element from your array before performing this operation. (Deprecated NumPy 1.25.)\n",
            "  pred = float(D @ self.rls[l].w)\n",
            "/tmp/ipython-input-4-455621206.py:139: DeprecationWarning: Conversion of an array with ndim > 0 to a scalar is deprecated, and will error in future. Ensure you extract a single element from your array before performing this operation. (Deprecated NumPy 1.25.)\n",
            "  pred = float(D @ self.rls[l].w)\n"
          ]
        },
        {
          "name": "stdout",
          "output_type": "stream",
          "text": [
            "s=0.1, L=3, N_hidden=40 -> RMSE: 5.2897, MASE: 0.4692\n",
            "s=0.1, L=4, N_hidden=20 -> RMSE: 4.9863, MASE: 0.4427\n"
          ]
        },
        {
          "name": "stderr",
          "output_type": "stream",
          "text": [
            "/tmp/ipython-input-4-455621206.py:139: DeprecationWarning: Conversion of an array with ndim > 0 to a scalar is deprecated, and will error in future. Ensure you extract a single element from your array before performing this operation. (Deprecated NumPy 1.25.)\n",
            "  pred = float(D @ self.rls[l].w)\n"
          ]
        },
        {
          "name": "stdout",
          "output_type": "stream",
          "text": [
            "s=0.1, L=4, N_hidden=30 -> RMSE: 4.7482, MASE: 0.3826\n"
          ]
        },
        {
          "name": "stderr",
          "output_type": "stream",
          "text": [
            "/tmp/ipython-input-4-455621206.py:139: DeprecationWarning: Conversion of an array with ndim > 0 to a scalar is deprecated, and will error in future. Ensure you extract a single element from your array before performing this operation. (Deprecated NumPy 1.25.)\n",
            "  pred = float(D @ self.rls[l].w)\n"
          ]
        },
        {
          "name": "stdout",
          "output_type": "stream",
          "text": [
            "s=0.1, L=4, N_hidden=40 -> RMSE: 4.9338, MASE: 0.4033\n"
          ]
        },
        {
          "name": "stderr",
          "output_type": "stream",
          "text": [
            "/tmp/ipython-input-4-455621206.py:139: DeprecationWarning: Conversion of an array with ndim > 0 to a scalar is deprecated, and will error in future. Ensure you extract a single element from your array before performing this operation. (Deprecated NumPy 1.25.)\n",
            "  pred = float(D @ self.rls[l].w)\n",
            "/tmp/ipython-input-4-455621206.py:139: DeprecationWarning: Conversion of an array with ndim > 0 to a scalar is deprecated, and will error in future. Ensure you extract a single element from your array before performing this operation. (Deprecated NumPy 1.25.)\n",
            "  pred = float(D @ self.rls[l].w)\n",
            "/tmp/ipython-input-4-455621206.py:139: DeprecationWarning: Conversion of an array with ndim > 0 to a scalar is deprecated, and will error in future. Ensure you extract a single element from your array before performing this operation. (Deprecated NumPy 1.25.)\n",
            "  pred = float(D @ self.rls[l].w)\n",
            "/tmp/ipython-input-4-455621206.py:139: DeprecationWarning: Conversion of an array with ndim > 0 to a scalar is deprecated, and will error in future. Ensure you extract a single element from your array before performing this operation. (Deprecated NumPy 1.25.)\n",
            "  pred = float(D @ self.rls[l].w)\n"
          ]
        },
        {
          "name": "stdout",
          "output_type": "stream",
          "text": [
            "s=0.1, L=5, N_hidden=20 -> RMSE: 4.7695, MASE: 0.4146\n",
            "s=0.1, L=5, N_hidden=30 -> RMSE: 4.7326, MASE: 0.4052\n"
          ]
        },
        {
          "name": "stderr",
          "output_type": "stream",
          "text": [
            "/tmp/ipython-input-4-455621206.py:139: DeprecationWarning: Conversion of an array with ndim > 0 to a scalar is deprecated, and will error in future. Ensure you extract a single element from your array before performing this operation. (Deprecated NumPy 1.25.)\n",
            "  pred = float(D @ self.rls[l].w)\n",
            "/tmp/ipython-input-4-455621206.py:139: DeprecationWarning: Conversion of an array with ndim > 0 to a scalar is deprecated, and will error in future. Ensure you extract a single element from your array before performing this operation. (Deprecated NumPy 1.25.)\n",
            "  pred = float(D @ self.rls[l].w)\n",
            "/tmp/ipython-input-4-455621206.py:139: DeprecationWarning: Conversion of an array with ndim > 0 to a scalar is deprecated, and will error in future. Ensure you extract a single element from your array before performing this operation. (Deprecated NumPy 1.25.)\n",
            "  pred = float(D @ self.rls[l].w)\n"
          ]
        },
        {
          "name": "stdout",
          "output_type": "stream",
          "text": [
            "s=0.1, L=5, N_hidden=40 -> RMSE: 4.9492, MASE: 0.3837\n"
          ]
        },
        {
          "name": "stderr",
          "output_type": "stream",
          "text": [
            "/tmp/ipython-input-4-455621206.py:139: DeprecationWarning: Conversion of an array with ndim > 0 to a scalar is deprecated, and will error in future. Ensure you extract a single element from your array before performing this operation. (Deprecated NumPy 1.25.)\n",
            "  pred = float(D @ self.rls[l].w)\n"
          ]
        },
        {
          "name": "stdout",
          "output_type": "stream",
          "text": [
            "s=0.1, L=6, N_hidden=20 -> RMSE: 4.9115, MASE: 0.4072\n"
          ]
        },
        {
          "name": "stderr",
          "output_type": "stream",
          "text": [
            "/tmp/ipython-input-4-455621206.py:139: DeprecationWarning: Conversion of an array with ndim > 0 to a scalar is deprecated, and will error in future. Ensure you extract a single element from your array before performing this operation. (Deprecated NumPy 1.25.)\n",
            "  pred = float(D @ self.rls[l].w)\n",
            "/tmp/ipython-input-4-455621206.py:139: DeprecationWarning: Conversion of an array with ndim > 0 to a scalar is deprecated, and will error in future. Ensure you extract a single element from your array before performing this operation. (Deprecated NumPy 1.25.)\n",
            "  pred = float(D @ self.rls[l].w)\n"
          ]
        },
        {
          "name": "stdout",
          "output_type": "stream",
          "text": [
            "s=0.1, L=6, N_hidden=30 -> RMSE: 4.6039, MASE: 0.3756\n"
          ]
        },
        {
          "name": "stderr",
          "output_type": "stream",
          "text": [
            "/tmp/ipython-input-4-455621206.py:139: DeprecationWarning: Conversion of an array with ndim > 0 to a scalar is deprecated, and will error in future. Ensure you extract a single element from your array before performing this operation. (Deprecated NumPy 1.25.)\n",
            "  pred = float(D @ self.rls[l].w)\n",
            "/tmp/ipython-input-4-455621206.py:139: DeprecationWarning: Conversion of an array with ndim > 0 to a scalar is deprecated, and will error in future. Ensure you extract a single element from your array before performing this operation. (Deprecated NumPy 1.25.)\n",
            "  pred = float(D @ self.rls[l].w)\n",
            "/tmp/ipython-input-4-455621206.py:139: DeprecationWarning: Conversion of an array with ndim > 0 to a scalar is deprecated, and will error in future. Ensure you extract a single element from your array before performing this operation. (Deprecated NumPy 1.25.)\n",
            "  pred = float(D @ self.rls[l].w)\n",
            "/tmp/ipython-input-4-455621206.py:139: DeprecationWarning: Conversion of an array with ndim > 0 to a scalar is deprecated, and will error in future. Ensure you extract a single element from your array before performing this operation. (Deprecated NumPy 1.25.)\n",
            "  pred = float(D @ self.rls[l].w)\n",
            "/tmp/ipython-input-4-455621206.py:139: DeprecationWarning: Conversion of an array with ndim > 0 to a scalar is deprecated, and will error in future. Ensure you extract a single element from your array before performing this operation. (Deprecated NumPy 1.25.)\n",
            "  pred = float(D @ self.rls[l].w)\n",
            "/tmp/ipython-input-4-455621206.py:139: DeprecationWarning: Conversion of an array with ndim > 0 to a scalar is deprecated, and will error in future. Ensure you extract a single element from your array before performing this operation. (Deprecated NumPy 1.25.)\n",
            "  pred = float(D @ self.rls[l].w)\n"
          ]
        },
        {
          "name": "stdout",
          "output_type": "stream",
          "text": [
            "s=0.1, L=6, N_hidden=40 -> RMSE: 4.3367, MASE: 0.3321\n"
          ]
        },
        {
          "name": "stderr",
          "output_type": "stream",
          "text": [
            "/tmp/ipython-input-4-455621206.py:139: DeprecationWarning: Conversion of an array with ndim > 0 to a scalar is deprecated, and will error in future. Ensure you extract a single element from your array before performing this operation. (Deprecated NumPy 1.25.)\n",
            "  pred = float(D @ self.rls[l].w)\n",
            "/tmp/ipython-input-4-455621206.py:139: DeprecationWarning: Conversion of an array with ndim > 0 to a scalar is deprecated, and will error in future. Ensure you extract a single element from your array before performing this operation. (Deprecated NumPy 1.25.)\n",
            "  pred = float(D @ self.rls[l].w)\n",
            "/tmp/ipython-input-4-455621206.py:139: DeprecationWarning: Conversion of an array with ndim > 0 to a scalar is deprecated, and will error in future. Ensure you extract a single element from your array before performing this operation. (Deprecated NumPy 1.25.)\n",
            "  pred = float(D @ self.rls[l].w)\n",
            "/tmp/ipython-input-4-455621206.py:139: DeprecationWarning: Conversion of an array with ndim > 0 to a scalar is deprecated, and will error in future. Ensure you extract a single element from your array before performing this operation. (Deprecated NumPy 1.25.)\n",
            "  pred = float(D @ self.rls[l].w)\n"
          ]
        },
        {
          "name": "stdout",
          "output_type": "stream",
          "text": [
            "s=0.1, L=7, N_hidden=20 -> RMSE: 5.0493, MASE: 0.4165\n"
          ]
        },
        {
          "name": "stderr",
          "output_type": "stream",
          "text": [
            "/tmp/ipython-input-4-455621206.py:139: DeprecationWarning: Conversion of an array with ndim > 0 to a scalar is deprecated, and will error in future. Ensure you extract a single element from your array before performing this operation. (Deprecated NumPy 1.25.)\n",
            "  pred = float(D @ self.rls[l].w)\n",
            "/tmp/ipython-input-4-455621206.py:139: DeprecationWarning: Conversion of an array with ndim > 0 to a scalar is deprecated, and will error in future. Ensure you extract a single element from your array before performing this operation. (Deprecated NumPy 1.25.)\n",
            "  pred = float(D @ self.rls[l].w)\n"
          ]
        },
        {
          "name": "stdout",
          "output_type": "stream",
          "text": [
            "s=0.1, L=7, N_hidden=30 -> RMSE: 4.3993, MASE: 0.3641\n"
          ]
        },
        {
          "name": "stderr",
          "output_type": "stream",
          "text": [
            "/tmp/ipython-input-4-455621206.py:139: DeprecationWarning: Conversion of an array with ndim > 0 to a scalar is deprecated, and will error in future. Ensure you extract a single element from your array before performing this operation. (Deprecated NumPy 1.25.)\n",
            "  pred = float(D @ self.rls[l].w)\n",
            "/tmp/ipython-input-4-455621206.py:139: DeprecationWarning: Conversion of an array with ndim > 0 to a scalar is deprecated, and will error in future. Ensure you extract a single element from your array before performing this operation. (Deprecated NumPy 1.25.)\n",
            "  pred = float(D @ self.rls[l].w)\n",
            "/tmp/ipython-input-4-455621206.py:139: DeprecationWarning: Conversion of an array with ndim > 0 to a scalar is deprecated, and will error in future. Ensure you extract a single element from your array before performing this operation. (Deprecated NumPy 1.25.)\n",
            "  pred = float(D @ self.rls[l].w)\n",
            "/tmp/ipython-input-4-455621206.py:139: DeprecationWarning: Conversion of an array with ndim > 0 to a scalar is deprecated, and will error in future. Ensure you extract a single element from your array before performing this operation. (Deprecated NumPy 1.25.)\n",
            "  pred = float(D @ self.rls[l].w)\n",
            "/tmp/ipython-input-4-455621206.py:139: DeprecationWarning: Conversion of an array with ndim > 0 to a scalar is deprecated, and will error in future. Ensure you extract a single element from your array before performing this operation. (Deprecated NumPy 1.25.)\n",
            "  pred = float(D @ self.rls[l].w)\n",
            "/tmp/ipython-input-4-455621206.py:139: DeprecationWarning: Conversion of an array with ndim > 0 to a scalar is deprecated, and will error in future. Ensure you extract a single element from your array before performing this operation. (Deprecated NumPy 1.25.)\n",
            "  pred = float(D @ self.rls[l].w)\n",
            "/tmp/ipython-input-4-455621206.py:139: DeprecationWarning: Conversion of an array with ndim > 0 to a scalar is deprecated, and will error in future. Ensure you extract a single element from your array before performing this operation. (Deprecated NumPy 1.25.)\n",
            "  pred = float(D @ self.rls[l].w)\n",
            "/tmp/ipython-input-4-455621206.py:139: DeprecationWarning: Conversion of an array with ndim > 0 to a scalar is deprecated, and will error in future. Ensure you extract a single element from your array before performing this operation. (Deprecated NumPy 1.25.)\n",
            "  pred = float(D @ self.rls[l].w)\n"
          ]
        },
        {
          "name": "stdout",
          "output_type": "stream",
          "text": [
            "s=0.1, L=7, N_hidden=40 -> RMSE: 5.0076, MASE: 0.3946\n"
          ]
        },
        {
          "name": "stderr",
          "output_type": "stream",
          "text": [
            "/tmp/ipython-input-4-455621206.py:139: DeprecationWarning: Conversion of an array with ndim > 0 to a scalar is deprecated, and will error in future. Ensure you extract a single element from your array before performing this operation. (Deprecated NumPy 1.25.)\n",
            "  pred = float(D @ self.rls[l].w)\n",
            "/tmp/ipython-input-4-455621206.py:139: DeprecationWarning: Conversion of an array with ndim > 0 to a scalar is deprecated, and will error in future. Ensure you extract a single element from your array before performing this operation. (Deprecated NumPy 1.25.)\n",
            "  pred = float(D @ self.rls[l].w)\n",
            "/tmp/ipython-input-4-455621206.py:139: DeprecationWarning: Conversion of an array with ndim > 0 to a scalar is deprecated, and will error in future. Ensure you extract a single element from your array before performing this operation. (Deprecated NumPy 1.25.)\n",
            "  pred = float(D @ self.rls[l].w)\n",
            "/tmp/ipython-input-4-455621206.py:139: DeprecationWarning: Conversion of an array with ndim > 0 to a scalar is deprecated, and will error in future. Ensure you extract a single element from your array before performing this operation. (Deprecated NumPy 1.25.)\n",
            "  pred = float(D @ self.rls[l].w)\n"
          ]
        },
        {
          "name": "stdout",
          "output_type": "stream",
          "text": [
            "s=0.1, L=8, N_hidden=20 -> RMSE: 4.5932, MASE: 0.3757\n"
          ]
        },
        {
          "name": "stderr",
          "output_type": "stream",
          "text": [
            "/tmp/ipython-input-4-455621206.py:139: DeprecationWarning: Conversion of an array with ndim > 0 to a scalar is deprecated, and will error in future. Ensure you extract a single element from your array before performing this operation. (Deprecated NumPy 1.25.)\n",
            "  pred = float(D @ self.rls[l].w)\n",
            "/tmp/ipython-input-4-455621206.py:139: DeprecationWarning: Conversion of an array with ndim > 0 to a scalar is deprecated, and will error in future. Ensure you extract a single element from your array before performing this operation. (Deprecated NumPy 1.25.)\n",
            "  pred = float(D @ self.rls[l].w)\n",
            "/tmp/ipython-input-4-455621206.py:139: DeprecationWarning: Conversion of an array with ndim > 0 to a scalar is deprecated, and will error in future. Ensure you extract a single element from your array before performing this operation. (Deprecated NumPy 1.25.)\n",
            "  pred = float(D @ self.rls[l].w)\n",
            "/tmp/ipython-input-4-455621206.py:139: DeprecationWarning: Conversion of an array with ndim > 0 to a scalar is deprecated, and will error in future. Ensure you extract a single element from your array before performing this operation. (Deprecated NumPy 1.25.)\n",
            "  pred = float(D @ self.rls[l].w)\n"
          ]
        },
        {
          "name": "stdout",
          "output_type": "stream",
          "text": [
            "s=0.1, L=8, N_hidden=30 -> RMSE: 5.1486, MASE: 0.3899\n"
          ]
        },
        {
          "name": "stderr",
          "output_type": "stream",
          "text": [
            "/tmp/ipython-input-4-455621206.py:139: DeprecationWarning: Conversion of an array with ndim > 0 to a scalar is deprecated, and will error in future. Ensure you extract a single element from your array before performing this operation. (Deprecated NumPy 1.25.)\n",
            "  pred = float(D @ self.rls[l].w)\n",
            "/tmp/ipython-input-4-455621206.py:139: DeprecationWarning: Conversion of an array with ndim > 0 to a scalar is deprecated, and will error in future. Ensure you extract a single element from your array before performing this operation. (Deprecated NumPy 1.25.)\n",
            "  pred = float(D @ self.rls[l].w)\n",
            "/tmp/ipython-input-4-455621206.py:139: DeprecationWarning: Conversion of an array with ndim > 0 to a scalar is deprecated, and will error in future. Ensure you extract a single element from your array before performing this operation. (Deprecated NumPy 1.25.)\n",
            "  pred = float(D @ self.rls[l].w)\n",
            "/tmp/ipython-input-4-455621206.py:139: DeprecationWarning: Conversion of an array with ndim > 0 to a scalar is deprecated, and will error in future. Ensure you extract a single element from your array before performing this operation. (Deprecated NumPy 1.25.)\n",
            "  pred = float(D @ self.rls[l].w)\n",
            "/tmp/ipython-input-4-455621206.py:139: DeprecationWarning: Conversion of an array with ndim > 0 to a scalar is deprecated, and will error in future. Ensure you extract a single element from your array before performing this operation. (Deprecated NumPy 1.25.)\n",
            "  pred = float(D @ self.rls[l].w)\n",
            "/tmp/ipython-input-4-455621206.py:139: DeprecationWarning: Conversion of an array with ndim > 0 to a scalar is deprecated, and will error in future. Ensure you extract a single element from your array before performing this operation. (Deprecated NumPy 1.25.)\n",
            "  pred = float(D @ self.rls[l].w)\n",
            "/tmp/ipython-input-4-455621206.py:139: DeprecationWarning: Conversion of an array with ndim > 0 to a scalar is deprecated, and will error in future. Ensure you extract a single element from your array before performing this operation. (Deprecated NumPy 1.25.)\n",
            "  pred = float(D @ self.rls[l].w)\n"
          ]
        },
        {
          "name": "stdout",
          "output_type": "stream",
          "text": [
            "s=0.1, L=8, N_hidden=40 -> RMSE: 3.7311, MASE: 0.2866\n"
          ]
        },
        {
          "name": "stderr",
          "output_type": "stream",
          "text": [
            "/tmp/ipython-input-4-455621206.py:139: DeprecationWarning: Conversion of an array with ndim > 0 to a scalar is deprecated, and will error in future. Ensure you extract a single element from your array before performing this operation. (Deprecated NumPy 1.25.)\n",
            "  pred = float(D @ self.rls[l].w)\n",
            "/tmp/ipython-input-4-455621206.py:139: DeprecationWarning: Conversion of an array with ndim > 0 to a scalar is deprecated, and will error in future. Ensure you extract a single element from your array before performing this operation. (Deprecated NumPy 1.25.)\n",
            "  pred = float(D @ self.rls[l].w)\n",
            "/tmp/ipython-input-4-455621206.py:139: DeprecationWarning: Conversion of an array with ndim > 0 to a scalar is deprecated, and will error in future. Ensure you extract a single element from your array before performing this operation. (Deprecated NumPy 1.25.)\n",
            "  pred = float(D @ self.rls[l].w)\n",
            "/tmp/ipython-input-4-455621206.py:139: DeprecationWarning: Conversion of an array with ndim > 0 to a scalar is deprecated, and will error in future. Ensure you extract a single element from your array before performing this operation. (Deprecated NumPy 1.25.)\n",
            "  pred = float(D @ self.rls[l].w)\n"
          ]
        },
        {
          "name": "stdout",
          "output_type": "stream",
          "text": [
            "s=0.1, L=9, N_hidden=20 -> RMSE: 4.6230, MASE: 0.3683\n"
          ]
        },
        {
          "name": "stderr",
          "output_type": "stream",
          "text": [
            "/tmp/ipython-input-4-455621206.py:139: DeprecationWarning: Conversion of an array with ndim > 0 to a scalar is deprecated, and will error in future. Ensure you extract a single element from your array before performing this operation. (Deprecated NumPy 1.25.)\n",
            "  pred = float(D @ self.rls[l].w)\n",
            "/tmp/ipython-input-4-455621206.py:139: DeprecationWarning: Conversion of an array with ndim > 0 to a scalar is deprecated, and will error in future. Ensure you extract a single element from your array before performing this operation. (Deprecated NumPy 1.25.)\n",
            "  pred = float(D @ self.rls[l].w)\n",
            "/tmp/ipython-input-4-455621206.py:139: DeprecationWarning: Conversion of an array with ndim > 0 to a scalar is deprecated, and will error in future. Ensure you extract a single element from your array before performing this operation. (Deprecated NumPy 1.25.)\n",
            "  pred = float(D @ self.rls[l].w)\n",
            "/tmp/ipython-input-4-455621206.py:139: DeprecationWarning: Conversion of an array with ndim > 0 to a scalar is deprecated, and will error in future. Ensure you extract a single element from your array before performing this operation. (Deprecated NumPy 1.25.)\n",
            "  pred = float(D @ self.rls[l].w)\n",
            "/tmp/ipython-input-4-455621206.py:139: DeprecationWarning: Conversion of an array with ndim > 0 to a scalar is deprecated, and will error in future. Ensure you extract a single element from your array before performing this operation. (Deprecated NumPy 1.25.)\n",
            "  pred = float(D @ self.rls[l].w)\n",
            "/tmp/ipython-input-4-455621206.py:139: DeprecationWarning: Conversion of an array with ndim > 0 to a scalar is deprecated, and will error in future. Ensure you extract a single element from your array before performing this operation. (Deprecated NumPy 1.25.)\n",
            "  pred = float(D @ self.rls[l].w)\n"
          ]
        },
        {
          "name": "stdout",
          "output_type": "stream",
          "text": [
            "s=0.1, L=9, N_hidden=30 -> RMSE: 3.9843, MASE: 0.3257\n"
          ]
        },
        {
          "name": "stderr",
          "output_type": "stream",
          "text": [
            "/tmp/ipython-input-4-455621206.py:139: DeprecationWarning: Conversion of an array with ndim > 0 to a scalar is deprecated, and will error in future. Ensure you extract a single element from your array before performing this operation. (Deprecated NumPy 1.25.)\n",
            "  pred = float(D @ self.rls[l].w)\n",
            "/tmp/ipython-input-4-455621206.py:139: DeprecationWarning: Conversion of an array with ndim > 0 to a scalar is deprecated, and will error in future. Ensure you extract a single element from your array before performing this operation. (Deprecated NumPy 1.25.)\n",
            "  pred = float(D @ self.rls[l].w)\n",
            "/tmp/ipython-input-4-455621206.py:139: DeprecationWarning: Conversion of an array with ndim > 0 to a scalar is deprecated, and will error in future. Ensure you extract a single element from your array before performing this operation. (Deprecated NumPy 1.25.)\n",
            "  pred = float(D @ self.rls[l].w)\n",
            "/tmp/ipython-input-4-455621206.py:139: DeprecationWarning: Conversion of an array with ndim > 0 to a scalar is deprecated, and will error in future. Ensure you extract a single element from your array before performing this operation. (Deprecated NumPy 1.25.)\n",
            "  pred = float(D @ self.rls[l].w)\n",
            "/tmp/ipython-input-4-455621206.py:139: DeprecationWarning: Conversion of an array with ndim > 0 to a scalar is deprecated, and will error in future. Ensure you extract a single element from your array before performing this operation. (Deprecated NumPy 1.25.)\n",
            "  pred = float(D @ self.rls[l].w)\n",
            "/tmp/ipython-input-4-455621206.py:139: DeprecationWarning: Conversion of an array with ndim > 0 to a scalar is deprecated, and will error in future. Ensure you extract a single element from your array before performing this operation. (Deprecated NumPy 1.25.)\n",
            "  pred = float(D @ self.rls[l].w)\n",
            "/tmp/ipython-input-4-455621206.py:139: DeprecationWarning: Conversion of an array with ndim > 0 to a scalar is deprecated, and will error in future. Ensure you extract a single element from your array before performing this operation. (Deprecated NumPy 1.25.)\n",
            "  pred = float(D @ self.rls[l].w)\n",
            "/tmp/ipython-input-4-455621206.py:139: DeprecationWarning: Conversion of an array with ndim > 0 to a scalar is deprecated, and will error in future. Ensure you extract a single element from your array before performing this operation. (Deprecated NumPy 1.25.)\n",
            "  pred = float(D @ self.rls[l].w)\n",
            "/tmp/ipython-input-4-455621206.py:139: DeprecationWarning: Conversion of an array with ndim > 0 to a scalar is deprecated, and will error in future. Ensure you extract a single element from your array before performing this operation. (Deprecated NumPy 1.25.)\n",
            "  pred = float(D @ self.rls[l].w)\n",
            "/tmp/ipython-input-4-455621206.py:139: DeprecationWarning: Conversion of an array with ndim > 0 to a scalar is deprecated, and will error in future. Ensure you extract a single element from your array before performing this operation. (Deprecated NumPy 1.25.)\n",
            "  pred = float(D @ self.rls[l].w)\n",
            "/tmp/ipython-input-4-455621206.py:139: DeprecationWarning: Conversion of an array with ndim > 0 to a scalar is deprecated, and will error in future. Ensure you extract a single element from your array before performing this operation. (Deprecated NumPy 1.25.)\n",
            "  pred = float(D @ self.rls[l].w)\n",
            "/tmp/ipython-input-4-455621206.py:139: DeprecationWarning: Conversion of an array with ndim > 0 to a scalar is deprecated, and will error in future. Ensure you extract a single element from your array before performing this operation. (Deprecated NumPy 1.25.)\n",
            "  pred = float(D @ self.rls[l].w)\n",
            "/tmp/ipython-input-4-455621206.py:139: DeprecationWarning: Conversion of an array with ndim > 0 to a scalar is deprecated, and will error in future. Ensure you extract a single element from your array before performing this operation. (Deprecated NumPy 1.25.)\n",
            "  pred = float(D @ self.rls[l].w)\n"
          ]
        },
        {
          "name": "stdout",
          "output_type": "stream",
          "text": [
            "s=0.1, L=9, N_hidden=40 -> RMSE: 4.9619, MASE: 0.3786\n",
            "s=0.2, L=2, N_hidden=20 -> RMSE: 4.8583, MASE: 0.4492\n"
          ]
        },
        {
          "name": "stderr",
          "output_type": "stream",
          "text": [
            "/tmp/ipython-input-4-455621206.py:139: DeprecationWarning: Conversion of an array with ndim > 0 to a scalar is deprecated, and will error in future. Ensure you extract a single element from your array before performing this operation. (Deprecated NumPy 1.25.)\n",
            "  pred = float(D @ self.rls[l].w)\n",
            "/tmp/ipython-input-4-455621206.py:139: DeprecationWarning: Conversion of an array with ndim > 0 to a scalar is deprecated, and will error in future. Ensure you extract a single element from your array before performing this operation. (Deprecated NumPy 1.25.)\n",
            "  pred = float(D @ self.rls[l].w)\n"
          ]
        },
        {
          "name": "stdout",
          "output_type": "stream",
          "text": [
            "s=0.2, L=2, N_hidden=30 -> RMSE: 5.1149, MASE: 0.4725\n",
            "s=0.2, L=2, N_hidden=40 -> RMSE: 5.2528, MASE: 0.4518\n"
          ]
        },
        {
          "name": "stderr",
          "output_type": "stream",
          "text": [
            "/tmp/ipython-input-4-455621206.py:139: DeprecationWarning: Conversion of an array with ndim > 0 to a scalar is deprecated, and will error in future. Ensure you extract a single element from your array before performing this operation. (Deprecated NumPy 1.25.)\n",
            "  pred = float(D @ self.rls[l].w)\n",
            "/tmp/ipython-input-4-455621206.py:139: DeprecationWarning: Conversion of an array with ndim > 0 to a scalar is deprecated, and will error in future. Ensure you extract a single element from your array before performing this operation. (Deprecated NumPy 1.25.)\n",
            "  pred = float(D @ self.rls[l].w)\n"
          ]
        },
        {
          "name": "stdout",
          "output_type": "stream",
          "text": [
            "s=0.2, L=3, N_hidden=20 -> RMSE: 5.1182, MASE: 0.4696\n"
          ]
        },
        {
          "name": "stderr",
          "output_type": "stream",
          "text": [
            "/tmp/ipython-input-4-455621206.py:139: DeprecationWarning: Conversion of an array with ndim > 0 to a scalar is deprecated, and will error in future. Ensure you extract a single element from your array before performing this operation. (Deprecated NumPy 1.25.)\n",
            "  pred = float(D @ self.rls[l].w)\n"
          ]
        },
        {
          "name": "stdout",
          "output_type": "stream",
          "text": [
            "s=0.2, L=3, N_hidden=30 -> RMSE: 5.0033, MASE: 0.4429\n"
          ]
        },
        {
          "name": "stderr",
          "output_type": "stream",
          "text": [
            "/tmp/ipython-input-4-455621206.py:139: DeprecationWarning: Conversion of an array with ndim > 0 to a scalar is deprecated, and will error in future. Ensure you extract a single element from your array before performing this operation. (Deprecated NumPy 1.25.)\n",
            "  pred = float(D @ self.rls[l].w)\n",
            "/tmp/ipython-input-4-455621206.py:139: DeprecationWarning: Conversion of an array with ndim > 0 to a scalar is deprecated, and will error in future. Ensure you extract a single element from your array before performing this operation. (Deprecated NumPy 1.25.)\n",
            "  pred = float(D @ self.rls[l].w)\n",
            "/tmp/ipython-input-4-455621206.py:139: DeprecationWarning: Conversion of an array with ndim > 0 to a scalar is deprecated, and will error in future. Ensure you extract a single element from your array before performing this operation. (Deprecated NumPy 1.25.)\n",
            "  pred = float(D @ self.rls[l].w)\n"
          ]
        },
        {
          "name": "stdout",
          "output_type": "stream",
          "text": [
            "s=0.2, L=3, N_hidden=40 -> RMSE: 5.3808, MASE: 0.4802\n",
            "s=0.2, L=4, N_hidden=20 -> RMSE: 4.7732, MASE: 0.4134\n"
          ]
        },
        {
          "name": "stderr",
          "output_type": "stream",
          "text": [
            "/tmp/ipython-input-4-455621206.py:139: DeprecationWarning: Conversion of an array with ndim > 0 to a scalar is deprecated, and will error in future. Ensure you extract a single element from your array before performing this operation. (Deprecated NumPy 1.25.)\n",
            "  pred = float(D @ self.rls[l].w)\n",
            "/tmp/ipython-input-4-455621206.py:139: DeprecationWarning: Conversion of an array with ndim > 0 to a scalar is deprecated, and will error in future. Ensure you extract a single element from your array before performing this operation. (Deprecated NumPy 1.25.)\n",
            "  pred = float(D @ self.rls[l].w)\n",
            "/tmp/ipython-input-4-455621206.py:139: DeprecationWarning: Conversion of an array with ndim > 0 to a scalar is deprecated, and will error in future. Ensure you extract a single element from your array before performing this operation. (Deprecated NumPy 1.25.)\n",
            "  pred = float(D @ self.rls[l].w)\n"
          ]
        },
        {
          "name": "stdout",
          "output_type": "stream",
          "text": [
            "s=0.2, L=4, N_hidden=30 -> RMSE: 4.6718, MASE: 0.4049\n"
          ]
        },
        {
          "name": "stderr",
          "output_type": "stream",
          "text": [
            "/tmp/ipython-input-4-455621206.py:139: DeprecationWarning: Conversion of an array with ndim > 0 to a scalar is deprecated, and will error in future. Ensure you extract a single element from your array before performing this operation. (Deprecated NumPy 1.25.)\n",
            "  pred = float(D @ self.rls[l].w)\n"
          ]
        },
        {
          "name": "stdout",
          "output_type": "stream",
          "text": [
            "s=0.2, L=4, N_hidden=40 -> RMSE: 4.7345, MASE: 0.3899\n"
          ]
        },
        {
          "name": "stderr",
          "output_type": "stream",
          "text": [
            "/tmp/ipython-input-4-455621206.py:139: DeprecationWarning: Conversion of an array with ndim > 0 to a scalar is deprecated, and will error in future. Ensure you extract a single element from your array before performing this operation. (Deprecated NumPy 1.25.)\n",
            "  pred = float(D @ self.rls[l].w)\n",
            "/tmp/ipython-input-4-455621206.py:139: DeprecationWarning: Conversion of an array with ndim > 0 to a scalar is deprecated, and will error in future. Ensure you extract a single element from your array before performing this operation. (Deprecated NumPy 1.25.)\n",
            "  pred = float(D @ self.rls[l].w)\n"
          ]
        },
        {
          "name": "stdout",
          "output_type": "stream",
          "text": [
            "s=0.2, L=5, N_hidden=20 -> RMSE: 5.0463, MASE: 0.4452\n"
          ]
        },
        {
          "name": "stderr",
          "output_type": "stream",
          "text": [
            "/tmp/ipython-input-4-455621206.py:139: DeprecationWarning: Conversion of an array with ndim > 0 to a scalar is deprecated, and will error in future. Ensure you extract a single element from your array before performing this operation. (Deprecated NumPy 1.25.)\n",
            "  pred = float(D @ self.rls[l].w)\n"
          ]
        },
        {
          "name": "stdout",
          "output_type": "stream",
          "text": [
            "s=0.2, L=5, N_hidden=30 -> RMSE: 5.2022, MASE: 0.4301\n"
          ]
        },
        {
          "name": "stderr",
          "output_type": "stream",
          "text": [
            "/tmp/ipython-input-4-455621206.py:139: DeprecationWarning: Conversion of an array with ndim > 0 to a scalar is deprecated, and will error in future. Ensure you extract a single element from your array before performing this operation. (Deprecated NumPy 1.25.)\n",
            "  pred = float(D @ self.rls[l].w)\n",
            "/tmp/ipython-input-4-455621206.py:139: DeprecationWarning: Conversion of an array with ndim > 0 to a scalar is deprecated, and will error in future. Ensure you extract a single element from your array before performing this operation. (Deprecated NumPy 1.25.)\n",
            "  pred = float(D @ self.rls[l].w)\n",
            "/tmp/ipython-input-4-455621206.py:139: DeprecationWarning: Conversion of an array with ndim > 0 to a scalar is deprecated, and will error in future. Ensure you extract a single element from your array before performing this operation. (Deprecated NumPy 1.25.)\n",
            "  pred = float(D @ self.rls[l].w)\n"
          ]
        },
        {
          "name": "stdout",
          "output_type": "stream",
          "text": [
            "s=0.2, L=5, N_hidden=40 -> RMSE: 4.3418, MASE: 0.3592\n"
          ]
        },
        {
          "name": "stderr",
          "output_type": "stream",
          "text": [
            "/tmp/ipython-input-4-455621206.py:139: DeprecationWarning: Conversion of an array with ndim > 0 to a scalar is deprecated, and will error in future. Ensure you extract a single element from your array before performing this operation. (Deprecated NumPy 1.25.)\n",
            "  pred = float(D @ self.rls[l].w)\n",
            "/tmp/ipython-input-4-455621206.py:139: DeprecationWarning: Conversion of an array with ndim > 0 to a scalar is deprecated, and will error in future. Ensure you extract a single element from your array before performing this operation. (Deprecated NumPy 1.25.)\n",
            "  pred = float(D @ self.rls[l].w)\n"
          ]
        },
        {
          "name": "stdout",
          "output_type": "stream",
          "text": [
            "s=0.2, L=6, N_hidden=20 -> RMSE: 5.0858, MASE: 0.4365\n"
          ]
        },
        {
          "name": "stderr",
          "output_type": "stream",
          "text": [
            "/tmp/ipython-input-4-455621206.py:139: DeprecationWarning: Conversion of an array with ndim > 0 to a scalar is deprecated, and will error in future. Ensure you extract a single element from your array before performing this operation. (Deprecated NumPy 1.25.)\n",
            "  pred = float(D @ self.rls[l].w)\n",
            "/tmp/ipython-input-4-455621206.py:139: DeprecationWarning: Conversion of an array with ndim > 0 to a scalar is deprecated, and will error in future. Ensure you extract a single element from your array before performing this operation. (Deprecated NumPy 1.25.)\n",
            "  pred = float(D @ self.rls[l].w)\n",
            "/tmp/ipython-input-4-455621206.py:139: DeprecationWarning: Conversion of an array with ndim > 0 to a scalar is deprecated, and will error in future. Ensure you extract a single element from your array before performing this operation. (Deprecated NumPy 1.25.)\n",
            "  pred = float(D @ self.rls[l].w)\n",
            "/tmp/ipython-input-4-455621206.py:139: DeprecationWarning: Conversion of an array with ndim > 0 to a scalar is deprecated, and will error in future. Ensure you extract a single element from your array before performing this operation. (Deprecated NumPy 1.25.)\n",
            "  pred = float(D @ self.rls[l].w)\n",
            "/tmp/ipython-input-4-455621206.py:139: DeprecationWarning: Conversion of an array with ndim > 0 to a scalar is deprecated, and will error in future. Ensure you extract a single element from your array before performing this operation. (Deprecated NumPy 1.25.)\n",
            "  pred = float(D @ self.rls[l].w)\n"
          ]
        },
        {
          "name": "stdout",
          "output_type": "stream",
          "text": [
            "s=0.2, L=6, N_hidden=30 -> RMSE: 4.0295, MASE: 0.3179\n"
          ]
        },
        {
          "name": "stderr",
          "output_type": "stream",
          "text": [
            "/tmp/ipython-input-4-455621206.py:139: DeprecationWarning: Conversion of an array with ndim > 0 to a scalar is deprecated, and will error in future. Ensure you extract a single element from your array before performing this operation. (Deprecated NumPy 1.25.)\n",
            "  pred = float(D @ self.rls[l].w)\n",
            "/tmp/ipython-input-4-455621206.py:139: DeprecationWarning: Conversion of an array with ndim > 0 to a scalar is deprecated, and will error in future. Ensure you extract a single element from your array before performing this operation. (Deprecated NumPy 1.25.)\n",
            "  pred = float(D @ self.rls[l].w)\n",
            "/tmp/ipython-input-4-455621206.py:139: DeprecationWarning: Conversion of an array with ndim > 0 to a scalar is deprecated, and will error in future. Ensure you extract a single element from your array before performing this operation. (Deprecated NumPy 1.25.)\n",
            "  pred = float(D @ self.rls[l].w)\n"
          ]
        },
        {
          "name": "stdout",
          "output_type": "stream",
          "text": [
            "s=0.2, L=6, N_hidden=40 -> RMSE: 4.5177, MASE: 0.3595\n"
          ]
        },
        {
          "name": "stderr",
          "output_type": "stream",
          "text": [
            "/tmp/ipython-input-4-455621206.py:139: DeprecationWarning: Conversion of an array with ndim > 0 to a scalar is deprecated, and will error in future. Ensure you extract a single element from your array before performing this operation. (Deprecated NumPy 1.25.)\n",
            "  pred = float(D @ self.rls[l].w)\n",
            "/tmp/ipython-input-4-455621206.py:139: DeprecationWarning: Conversion of an array with ndim > 0 to a scalar is deprecated, and will error in future. Ensure you extract a single element from your array before performing this operation. (Deprecated NumPy 1.25.)\n",
            "  pred = float(D @ self.rls[l].w)\n"
          ]
        },
        {
          "name": "stdout",
          "output_type": "stream",
          "text": [
            "s=0.2, L=7, N_hidden=20 -> RMSE: 5.1031, MASE: 0.4286\n"
          ]
        },
        {
          "name": "stderr",
          "output_type": "stream",
          "text": [
            "/tmp/ipython-input-4-455621206.py:139: DeprecationWarning: Conversion of an array with ndim > 0 to a scalar is deprecated, and will error in future. Ensure you extract a single element from your array before performing this operation. (Deprecated NumPy 1.25.)\n",
            "  pred = float(D @ self.rls[l].w)\n",
            "/tmp/ipython-input-4-455621206.py:139: DeprecationWarning: Conversion of an array with ndim > 0 to a scalar is deprecated, and will error in future. Ensure you extract a single element from your array before performing this operation. (Deprecated NumPy 1.25.)\n",
            "  pred = float(D @ self.rls[l].w)\n",
            "/tmp/ipython-input-4-455621206.py:139: DeprecationWarning: Conversion of an array with ndim > 0 to a scalar is deprecated, and will error in future. Ensure you extract a single element from your array before performing this operation. (Deprecated NumPy 1.25.)\n",
            "  pred = float(D @ self.rls[l].w)\n",
            "/tmp/ipython-input-4-455621206.py:139: DeprecationWarning: Conversion of an array with ndim > 0 to a scalar is deprecated, and will error in future. Ensure you extract a single element from your array before performing this operation. (Deprecated NumPy 1.25.)\n",
            "  pred = float(D @ self.rls[l].w)\n"
          ]
        },
        {
          "name": "stdout",
          "output_type": "stream",
          "text": [
            "s=0.2, L=7, N_hidden=30 -> RMSE: 4.0725, MASE: 0.3356\n"
          ]
        },
        {
          "name": "stderr",
          "output_type": "stream",
          "text": [
            "/tmp/ipython-input-4-455621206.py:139: DeprecationWarning: Conversion of an array with ndim > 0 to a scalar is deprecated, and will error in future. Ensure you extract a single element from your array before performing this operation. (Deprecated NumPy 1.25.)\n",
            "  pred = float(D @ self.rls[l].w)\n",
            "/tmp/ipython-input-4-455621206.py:139: DeprecationWarning: Conversion of an array with ndim > 0 to a scalar is deprecated, and will error in future. Ensure you extract a single element from your array before performing this operation. (Deprecated NumPy 1.25.)\n",
            "  pred = float(D @ self.rls[l].w)\n",
            "/tmp/ipython-input-4-455621206.py:139: DeprecationWarning: Conversion of an array with ndim > 0 to a scalar is deprecated, and will error in future. Ensure you extract a single element from your array before performing this operation. (Deprecated NumPy 1.25.)\n",
            "  pred = float(D @ self.rls[l].w)\n",
            "/tmp/ipython-input-4-455621206.py:139: DeprecationWarning: Conversion of an array with ndim > 0 to a scalar is deprecated, and will error in future. Ensure you extract a single element from your array before performing this operation. (Deprecated NumPy 1.25.)\n",
            "  pred = float(D @ self.rls[l].w)\n",
            "/tmp/ipython-input-4-455621206.py:139: DeprecationWarning: Conversion of an array with ndim > 0 to a scalar is deprecated, and will error in future. Ensure you extract a single element from your array before performing this operation. (Deprecated NumPy 1.25.)\n",
            "  pred = float(D @ self.rls[l].w)\n"
          ]
        },
        {
          "name": "stdout",
          "output_type": "stream",
          "text": [
            "s=0.2, L=7, N_hidden=40 -> RMSE: 4.9888, MASE: 0.3538\n"
          ]
        },
        {
          "name": "stderr",
          "output_type": "stream",
          "text": [
            "/tmp/ipython-input-4-455621206.py:139: DeprecationWarning: Conversion of an array with ndim > 0 to a scalar is deprecated, and will error in future. Ensure you extract a single element from your array before performing this operation. (Deprecated NumPy 1.25.)\n",
            "  pred = float(D @ self.rls[l].w)\n",
            "/tmp/ipython-input-4-455621206.py:139: DeprecationWarning: Conversion of an array with ndim > 0 to a scalar is deprecated, and will error in future. Ensure you extract a single element from your array before performing this operation. (Deprecated NumPy 1.25.)\n",
            "  pred = float(D @ self.rls[l].w)\n",
            "/tmp/ipython-input-4-455621206.py:139: DeprecationWarning: Conversion of an array with ndim > 0 to a scalar is deprecated, and will error in future. Ensure you extract a single element from your array before performing this operation. (Deprecated NumPy 1.25.)\n",
            "  pred = float(D @ self.rls[l].w)\n",
            "/tmp/ipython-input-4-455621206.py:139: DeprecationWarning: Conversion of an array with ndim > 0 to a scalar is deprecated, and will error in future. Ensure you extract a single element from your array before performing this operation. (Deprecated NumPy 1.25.)\n",
            "  pred = float(D @ self.rls[l].w)\n",
            "/tmp/ipython-input-4-455621206.py:139: DeprecationWarning: Conversion of an array with ndim > 0 to a scalar is deprecated, and will error in future. Ensure you extract a single element from your array before performing this operation. (Deprecated NumPy 1.25.)\n",
            "  pred = float(D @ self.rls[l].w)\n"
          ]
        },
        {
          "name": "stdout",
          "output_type": "stream",
          "text": [
            "s=0.2, L=8, N_hidden=20 -> RMSE: 4.6722, MASE: 0.3701\n"
          ]
        },
        {
          "name": "stderr",
          "output_type": "stream",
          "text": [
            "/tmp/ipython-input-4-455621206.py:139: DeprecationWarning: Conversion of an array with ndim > 0 to a scalar is deprecated, and will error in future. Ensure you extract a single element from your array before performing this operation. (Deprecated NumPy 1.25.)\n",
            "  pred = float(D @ self.rls[l].w)\n",
            "/tmp/ipython-input-4-455621206.py:139: DeprecationWarning: Conversion of an array with ndim > 0 to a scalar is deprecated, and will error in future. Ensure you extract a single element from your array before performing this operation. (Deprecated NumPy 1.25.)\n",
            "  pred = float(D @ self.rls[l].w)\n",
            "/tmp/ipython-input-4-455621206.py:139: DeprecationWarning: Conversion of an array with ndim > 0 to a scalar is deprecated, and will error in future. Ensure you extract a single element from your array before performing this operation. (Deprecated NumPy 1.25.)\n",
            "  pred = float(D @ self.rls[l].w)\n",
            "/tmp/ipython-input-4-455621206.py:139: DeprecationWarning: Conversion of an array with ndim > 0 to a scalar is deprecated, and will error in future. Ensure you extract a single element from your array before performing this operation. (Deprecated NumPy 1.25.)\n",
            "  pred = float(D @ self.rls[l].w)\n"
          ]
        },
        {
          "name": "stdout",
          "output_type": "stream",
          "text": [
            "s=0.2, L=8, N_hidden=30 -> RMSE: 3.6441, MASE: 0.3018\n"
          ]
        },
        {
          "name": "stderr",
          "output_type": "stream",
          "text": [
            "/tmp/ipython-input-4-455621206.py:139: DeprecationWarning: Conversion of an array with ndim > 0 to a scalar is deprecated, and will error in future. Ensure you extract a single element from your array before performing this operation. (Deprecated NumPy 1.25.)\n",
            "  pred = float(D @ self.rls[l].w)\n",
            "/tmp/ipython-input-4-455621206.py:139: DeprecationWarning: Conversion of an array with ndim > 0 to a scalar is deprecated, and will error in future. Ensure you extract a single element from your array before performing this operation. (Deprecated NumPy 1.25.)\n",
            "  pred = float(D @ self.rls[l].w)\n",
            "/tmp/ipython-input-4-455621206.py:139: DeprecationWarning: Conversion of an array with ndim > 0 to a scalar is deprecated, and will error in future. Ensure you extract a single element from your array before performing this operation. (Deprecated NumPy 1.25.)\n",
            "  pred = float(D @ self.rls[l].w)\n",
            "/tmp/ipython-input-4-455621206.py:139: DeprecationWarning: Conversion of an array with ndim > 0 to a scalar is deprecated, and will error in future. Ensure you extract a single element from your array before performing this operation. (Deprecated NumPy 1.25.)\n",
            "  pred = float(D @ self.rls[l].w)\n",
            "/tmp/ipython-input-4-455621206.py:139: DeprecationWarning: Conversion of an array with ndim > 0 to a scalar is deprecated, and will error in future. Ensure you extract a single element from your array before performing this operation. (Deprecated NumPy 1.25.)\n",
            "  pred = float(D @ self.rls[l].w)\n",
            "/tmp/ipython-input-4-455621206.py:139: DeprecationWarning: Conversion of an array with ndim > 0 to a scalar is deprecated, and will error in future. Ensure you extract a single element from your array before performing this operation. (Deprecated NumPy 1.25.)\n",
            "  pred = float(D @ self.rls[l].w)\n"
          ]
        },
        {
          "name": "stdout",
          "output_type": "stream",
          "text": [
            "s=0.2, L=8, N_hidden=40 -> RMSE: 5.3190, MASE: 0.3955\n"
          ]
        },
        {
          "name": "stderr",
          "output_type": "stream",
          "text": [
            "/tmp/ipython-input-4-455621206.py:139: DeprecationWarning: Conversion of an array with ndim > 0 to a scalar is deprecated, and will error in future. Ensure you extract a single element from your array before performing this operation. (Deprecated NumPy 1.25.)\n",
            "  pred = float(D @ self.rls[l].w)\n",
            "/tmp/ipython-input-4-455621206.py:139: DeprecationWarning: Conversion of an array with ndim > 0 to a scalar is deprecated, and will error in future. Ensure you extract a single element from your array before performing this operation. (Deprecated NumPy 1.25.)\n",
            "  pred = float(D @ self.rls[l].w)\n",
            "/tmp/ipython-input-4-455621206.py:139: DeprecationWarning: Conversion of an array with ndim > 0 to a scalar is deprecated, and will error in future. Ensure you extract a single element from your array before performing this operation. (Deprecated NumPy 1.25.)\n",
            "  pred = float(D @ self.rls[l].w)\n",
            "/tmp/ipython-input-4-455621206.py:139: DeprecationWarning: Conversion of an array with ndim > 0 to a scalar is deprecated, and will error in future. Ensure you extract a single element from your array before performing this operation. (Deprecated NumPy 1.25.)\n",
            "  pred = float(D @ self.rls[l].w)\n",
            "/tmp/ipython-input-4-455621206.py:139: DeprecationWarning: Conversion of an array with ndim > 0 to a scalar is deprecated, and will error in future. Ensure you extract a single element from your array before performing this operation. (Deprecated NumPy 1.25.)\n",
            "  pred = float(D @ self.rls[l].w)\n",
            "/tmp/ipython-input-4-455621206.py:139: DeprecationWarning: Conversion of an array with ndim > 0 to a scalar is deprecated, and will error in future. Ensure you extract a single element from your array before performing this operation. (Deprecated NumPy 1.25.)\n",
            "  pred = float(D @ self.rls[l].w)\n",
            "/tmp/ipython-input-4-455621206.py:139: DeprecationWarning: Conversion of an array with ndim > 0 to a scalar is deprecated, and will error in future. Ensure you extract a single element from your array before performing this operation. (Deprecated NumPy 1.25.)\n",
            "  pred = float(D @ self.rls[l].w)\n",
            "/tmp/ipython-input-4-455621206.py:139: DeprecationWarning: Conversion of an array with ndim > 0 to a scalar is deprecated, and will error in future. Ensure you extract a single element from your array before performing this operation. (Deprecated NumPy 1.25.)\n",
            "  pred = float(D @ self.rls[l].w)\n"
          ]
        },
        {
          "name": "stdout",
          "output_type": "stream",
          "text": [
            "s=0.2, L=9, N_hidden=20 -> RMSE: 4.2149, MASE: 0.3370\n"
          ]
        },
        {
          "name": "stderr",
          "output_type": "stream",
          "text": [
            "/tmp/ipython-input-4-455621206.py:139: DeprecationWarning: Conversion of an array with ndim > 0 to a scalar is deprecated, and will error in future. Ensure you extract a single element from your array before performing this operation. (Deprecated NumPy 1.25.)\n",
            "  pred = float(D @ self.rls[l].w)\n",
            "/tmp/ipython-input-4-455621206.py:139: DeprecationWarning: Conversion of an array with ndim > 0 to a scalar is deprecated, and will error in future. Ensure you extract a single element from your array before performing this operation. (Deprecated NumPy 1.25.)\n",
            "  pred = float(D @ self.rls[l].w)\n",
            "/tmp/ipython-input-4-455621206.py:139: DeprecationWarning: Conversion of an array with ndim > 0 to a scalar is deprecated, and will error in future. Ensure you extract a single element from your array before performing this operation. (Deprecated NumPy 1.25.)\n",
            "  pred = float(D @ self.rls[l].w)\n",
            "/tmp/ipython-input-4-455621206.py:139: DeprecationWarning: Conversion of an array with ndim > 0 to a scalar is deprecated, and will error in future. Ensure you extract a single element from your array before performing this operation. (Deprecated NumPy 1.25.)\n",
            "  pred = float(D @ self.rls[l].w)\n"
          ]
        },
        {
          "name": "stdout",
          "output_type": "stream",
          "text": [
            "s=0.2, L=9, N_hidden=30 -> RMSE: 3.5960, MASE: 0.3048\n"
          ]
        },
        {
          "name": "stderr",
          "output_type": "stream",
          "text": [
            "/tmp/ipython-input-4-455621206.py:139: DeprecationWarning: Conversion of an array with ndim > 0 to a scalar is deprecated, and will error in future. Ensure you extract a single element from your array before performing this operation. (Deprecated NumPy 1.25.)\n",
            "  pred = float(D @ self.rls[l].w)\n",
            "/tmp/ipython-input-4-455621206.py:139: DeprecationWarning: Conversion of an array with ndim > 0 to a scalar is deprecated, and will error in future. Ensure you extract a single element from your array before performing this operation. (Deprecated NumPy 1.25.)\n",
            "  pred = float(D @ self.rls[l].w)\n",
            "/tmp/ipython-input-4-455621206.py:139: DeprecationWarning: Conversion of an array with ndim > 0 to a scalar is deprecated, and will error in future. Ensure you extract a single element from your array before performing this operation. (Deprecated NumPy 1.25.)\n",
            "  pred = float(D @ self.rls[l].w)\n",
            "/tmp/ipython-input-4-455621206.py:139: DeprecationWarning: Conversion of an array with ndim > 0 to a scalar is deprecated, and will error in future. Ensure you extract a single element from your array before performing this operation. (Deprecated NumPy 1.25.)\n",
            "  pred = float(D @ self.rls[l].w)\n",
            "/tmp/ipython-input-4-455621206.py:139: DeprecationWarning: Conversion of an array with ndim > 0 to a scalar is deprecated, and will error in future. Ensure you extract a single element from your array before performing this operation. (Deprecated NumPy 1.25.)\n",
            "  pred = float(D @ self.rls[l].w)\n",
            "/tmp/ipython-input-4-455621206.py:139: DeprecationWarning: Conversion of an array with ndim > 0 to a scalar is deprecated, and will error in future. Ensure you extract a single element from your array before performing this operation. (Deprecated NumPy 1.25.)\n",
            "  pred = float(D @ self.rls[l].w)\n",
            "/tmp/ipython-input-4-455621206.py:139: DeprecationWarning: Conversion of an array with ndim > 0 to a scalar is deprecated, and will error in future. Ensure you extract a single element from your array before performing this operation. (Deprecated NumPy 1.25.)\n",
            "  pred = float(D @ self.rls[l].w)\n",
            "/tmp/ipython-input-4-455621206.py:139: DeprecationWarning: Conversion of an array with ndim > 0 to a scalar is deprecated, and will error in future. Ensure you extract a single element from your array before performing this operation. (Deprecated NumPy 1.25.)\n",
            "  pred = float(D @ self.rls[l].w)\n",
            "/tmp/ipython-input-4-455621206.py:139: DeprecationWarning: Conversion of an array with ndim > 0 to a scalar is deprecated, and will error in future. Ensure you extract a single element from your array before performing this operation. (Deprecated NumPy 1.25.)\n",
            "  pred = float(D @ self.rls[l].w)\n",
            "/tmp/ipython-input-4-455621206.py:139: DeprecationWarning: Conversion of an array with ndim > 0 to a scalar is deprecated, and will error in future. Ensure you extract a single element from your array before performing this operation. (Deprecated NumPy 1.25.)\n",
            "  pred = float(D @ self.rls[l].w)\n",
            "/tmp/ipython-input-4-455621206.py:139: DeprecationWarning: Conversion of an array with ndim > 0 to a scalar is deprecated, and will error in future. Ensure you extract a single element from your array before performing this operation. (Deprecated NumPy 1.25.)\n",
            "  pred = float(D @ self.rls[l].w)\n"
          ]
        },
        {
          "name": "stdout",
          "output_type": "stream",
          "text": [
            "s=0.2, L=9, N_hidden=40 -> RMSE: 4.6740, MASE: 0.3536\n",
            "s=0.3, L=2, N_hidden=20 -> RMSE: 5.0114, MASE: 0.4857\n"
          ]
        },
        {
          "name": "stderr",
          "output_type": "stream",
          "text": [
            "/tmp/ipython-input-4-455621206.py:139: DeprecationWarning: Conversion of an array with ndim > 0 to a scalar is deprecated, and will error in future. Ensure you extract a single element from your array before performing this operation. (Deprecated NumPy 1.25.)\n",
            "  pred = float(D @ self.rls[l].w)\n",
            "/tmp/ipython-input-4-455621206.py:139: DeprecationWarning: Conversion of an array with ndim > 0 to a scalar is deprecated, and will error in future. Ensure you extract a single element from your array before performing this operation. (Deprecated NumPy 1.25.)\n",
            "  pred = float(D @ self.rls[l].w)\n"
          ]
        },
        {
          "name": "stdout",
          "output_type": "stream",
          "text": [
            "s=0.3, L=2, N_hidden=30 -> RMSE: 5.3661, MASE: 0.5074\n",
            "s=0.3, L=2, N_hidden=40 -> RMSE: 5.4167, MASE: 0.5000\n"
          ]
        },
        {
          "name": "stderr",
          "output_type": "stream",
          "text": [
            "/tmp/ipython-input-4-455621206.py:139: DeprecationWarning: Conversion of an array with ndim > 0 to a scalar is deprecated, and will error in future. Ensure you extract a single element from your array before performing this operation. (Deprecated NumPy 1.25.)\n",
            "  pred = float(D @ self.rls[l].w)\n",
            "/tmp/ipython-input-4-455621206.py:139: DeprecationWarning: Conversion of an array with ndim > 0 to a scalar is deprecated, and will error in future. Ensure you extract a single element from your array before performing this operation. (Deprecated NumPy 1.25.)\n",
            "  pred = float(D @ self.rls[l].w)\n",
            "/tmp/ipython-input-4-455621206.py:139: DeprecationWarning: Conversion of an array with ndim > 0 to a scalar is deprecated, and will error in future. Ensure you extract a single element from your array before performing this operation. (Deprecated NumPy 1.25.)\n",
            "  pred = float(D @ self.rls[l].w)\n"
          ]
        },
        {
          "name": "stdout",
          "output_type": "stream",
          "text": [
            "s=0.3, L=3, N_hidden=20 -> RMSE: 4.7377, MASE: 0.4189\n"
          ]
        },
        {
          "name": "stderr",
          "output_type": "stream",
          "text": [
            "/tmp/ipython-input-4-455621206.py:139: DeprecationWarning: Conversion of an array with ndim > 0 to a scalar is deprecated, and will error in future. Ensure you extract a single element from your array before performing this operation. (Deprecated NumPy 1.25.)\n",
            "  pred = float(D @ self.rls[l].w)\n"
          ]
        },
        {
          "name": "stdout",
          "output_type": "stream",
          "text": [
            "s=0.3, L=3, N_hidden=30 -> RMSE: 4.9386, MASE: 0.4374\n"
          ]
        },
        {
          "name": "stderr",
          "output_type": "stream",
          "text": [
            "/tmp/ipython-input-4-455621206.py:139: DeprecationWarning: Conversion of an array with ndim > 0 to a scalar is deprecated, and will error in future. Ensure you extract a single element from your array before performing this operation. (Deprecated NumPy 1.25.)\n",
            "  pred = float(D @ self.rls[l].w)\n",
            "/tmp/ipython-input-4-455621206.py:139: DeprecationWarning: Conversion of an array with ndim > 0 to a scalar is deprecated, and will error in future. Ensure you extract a single element from your array before performing this operation. (Deprecated NumPy 1.25.)\n",
            "  pred = float(D @ self.rls[l].w)\n",
            "/tmp/ipython-input-4-455621206.py:139: DeprecationWarning: Conversion of an array with ndim > 0 to a scalar is deprecated, and will error in future. Ensure you extract a single element from your array before performing this operation. (Deprecated NumPy 1.25.)\n",
            "  pred = float(D @ self.rls[l].w)\n"
          ]
        },
        {
          "name": "stdout",
          "output_type": "stream",
          "text": [
            "s=0.3, L=3, N_hidden=40 -> RMSE: 4.9682, MASE: 0.4379\n",
            "s=0.3, L=4, N_hidden=20 -> RMSE: 5.1513, MASE: 0.4540\n"
          ]
        },
        {
          "name": "stderr",
          "output_type": "stream",
          "text": [
            "/tmp/ipython-input-4-455621206.py:139: DeprecationWarning: Conversion of an array with ndim > 0 to a scalar is deprecated, and will error in future. Ensure you extract a single element from your array before performing this operation. (Deprecated NumPy 1.25.)\n",
            "  pred = float(D @ self.rls[l].w)\n"
          ]
        },
        {
          "name": "stdout",
          "output_type": "stream",
          "text": [
            "s=0.3, L=4, N_hidden=30 -> RMSE: 5.4020, MASE: 0.4794\n"
          ]
        },
        {
          "name": "stderr",
          "output_type": "stream",
          "text": [
            "/tmp/ipython-input-4-455621206.py:139: DeprecationWarning: Conversion of an array with ndim > 0 to a scalar is deprecated, and will error in future. Ensure you extract a single element from your array before performing this operation. (Deprecated NumPy 1.25.)\n",
            "  pred = float(D @ self.rls[l].w)\n",
            "/tmp/ipython-input-4-455621206.py:139: DeprecationWarning: Conversion of an array with ndim > 0 to a scalar is deprecated, and will error in future. Ensure you extract a single element from your array before performing this operation. (Deprecated NumPy 1.25.)\n",
            "  pred = float(D @ self.rls[l].w)\n"
          ]
        },
        {
          "name": "stdout",
          "output_type": "stream",
          "text": [
            "s=0.3, L=4, N_hidden=40 -> RMSE: 4.5909, MASE: 0.3741\n"
          ]
        },
        {
          "name": "stderr",
          "output_type": "stream",
          "text": [
            "/tmp/ipython-input-4-455621206.py:139: DeprecationWarning: Conversion of an array with ndim > 0 to a scalar is deprecated, and will error in future. Ensure you extract a single element from your array before performing this operation. (Deprecated NumPy 1.25.)\n",
            "  pred = float(D @ self.rls[l].w)\n",
            "/tmp/ipython-input-4-455621206.py:139: DeprecationWarning: Conversion of an array with ndim > 0 to a scalar is deprecated, and will error in future. Ensure you extract a single element from your array before performing this operation. (Deprecated NumPy 1.25.)\n",
            "  pred = float(D @ self.rls[l].w)\n"
          ]
        },
        {
          "name": "stdout",
          "output_type": "stream",
          "text": [
            "s=0.3, L=5, N_hidden=20 -> RMSE: 4.8584, MASE: 0.4266\n"
          ]
        },
        {
          "name": "stderr",
          "output_type": "stream",
          "text": [
            "/tmp/ipython-input-4-455621206.py:139: DeprecationWarning: Conversion of an array with ndim > 0 to a scalar is deprecated, and will error in future. Ensure you extract a single element from your array before performing this operation. (Deprecated NumPy 1.25.)\n",
            "  pred = float(D @ self.rls[l].w)\n",
            "/tmp/ipython-input-4-455621206.py:139: DeprecationWarning: Conversion of an array with ndim > 0 to a scalar is deprecated, and will error in future. Ensure you extract a single element from your array before performing this operation. (Deprecated NumPy 1.25.)\n",
            "  pred = float(D @ self.rls[l].w)\n"
          ]
        },
        {
          "name": "stdout",
          "output_type": "stream",
          "text": [
            "s=0.3, L=5, N_hidden=30 -> RMSE: 4.7459, MASE: 0.3791\n"
          ]
        },
        {
          "name": "stderr",
          "output_type": "stream",
          "text": [
            "/tmp/ipython-input-4-455621206.py:139: DeprecationWarning: Conversion of an array with ndim > 0 to a scalar is deprecated, and will error in future. Ensure you extract a single element from your array before performing this operation. (Deprecated NumPy 1.25.)\n",
            "  pred = float(D @ self.rls[l].w)\n",
            "/tmp/ipython-input-4-455621206.py:139: DeprecationWarning: Conversion of an array with ndim > 0 to a scalar is deprecated, and will error in future. Ensure you extract a single element from your array before performing this operation. (Deprecated NumPy 1.25.)\n",
            "  pred = float(D @ self.rls[l].w)\n",
            "/tmp/ipython-input-4-455621206.py:139: DeprecationWarning: Conversion of an array with ndim > 0 to a scalar is deprecated, and will error in future. Ensure you extract a single element from your array before performing this operation. (Deprecated NumPy 1.25.)\n",
            "  pred = float(D @ self.rls[l].w)\n"
          ]
        },
        {
          "name": "stdout",
          "output_type": "stream",
          "text": [
            "s=0.3, L=5, N_hidden=40 -> RMSE: 4.8794, MASE: 0.3851\n"
          ]
        },
        {
          "name": "stderr",
          "output_type": "stream",
          "text": [
            "/tmp/ipython-input-4-455621206.py:139: DeprecationWarning: Conversion of an array with ndim > 0 to a scalar is deprecated, and will error in future. Ensure you extract a single element from your array before performing this operation. (Deprecated NumPy 1.25.)\n",
            "  pred = float(D @ self.rls[l].w)\n",
            "/tmp/ipython-input-4-455621206.py:139: DeprecationWarning: Conversion of an array with ndim > 0 to a scalar is deprecated, and will error in future. Ensure you extract a single element from your array before performing this operation. (Deprecated NumPy 1.25.)\n",
            "  pred = float(D @ self.rls[l].w)\n",
            "/tmp/ipython-input-4-455621206.py:139: DeprecationWarning: Conversion of an array with ndim > 0 to a scalar is deprecated, and will error in future. Ensure you extract a single element from your array before performing this operation. (Deprecated NumPy 1.25.)\n",
            "  pred = float(D @ self.rls[l].w)\n"
          ]
        },
        {
          "name": "stdout",
          "output_type": "stream",
          "text": [
            "s=0.3, L=6, N_hidden=20 -> RMSE: 4.1251, MASE: 0.3326\n"
          ]
        },
        {
          "name": "stderr",
          "output_type": "stream",
          "text": [
            "/tmp/ipython-input-4-455621206.py:139: DeprecationWarning: Conversion of an array with ndim > 0 to a scalar is deprecated, and will error in future. Ensure you extract a single element from your array before performing this operation. (Deprecated NumPy 1.25.)\n",
            "  pred = float(D @ self.rls[l].w)\n",
            "/tmp/ipython-input-4-455621206.py:139: DeprecationWarning: Conversion of an array with ndim > 0 to a scalar is deprecated, and will error in future. Ensure you extract a single element from your array before performing this operation. (Deprecated NumPy 1.25.)\n",
            "  pred = float(D @ self.rls[l].w)\n",
            "/tmp/ipython-input-4-455621206.py:139: DeprecationWarning: Conversion of an array with ndim > 0 to a scalar is deprecated, and will error in future. Ensure you extract a single element from your array before performing this operation. (Deprecated NumPy 1.25.)\n",
            "  pred = float(D @ self.rls[l].w)\n",
            "/tmp/ipython-input-4-455621206.py:139: DeprecationWarning: Conversion of an array with ndim > 0 to a scalar is deprecated, and will error in future. Ensure you extract a single element from your array before performing this operation. (Deprecated NumPy 1.25.)\n",
            "  pred = float(D @ self.rls[l].w)\n",
            "/tmp/ipython-input-4-455621206.py:139: DeprecationWarning: Conversion of an array with ndim > 0 to a scalar is deprecated, and will error in future. Ensure you extract a single element from your array before performing this operation. (Deprecated NumPy 1.25.)\n",
            "  pred = float(D @ self.rls[l].w)\n"
          ]
        },
        {
          "name": "stdout",
          "output_type": "stream",
          "text": [
            "s=0.3, L=6, N_hidden=30 -> RMSE: 4.4711, MASE: 0.3795\n"
          ]
        },
        {
          "name": "stderr",
          "output_type": "stream",
          "text": [
            "/tmp/ipython-input-4-455621206.py:139: DeprecationWarning: Conversion of an array with ndim > 0 to a scalar is deprecated, and will error in future. Ensure you extract a single element from your array before performing this operation. (Deprecated NumPy 1.25.)\n",
            "  pred = float(D @ self.rls[l].w)\n",
            "/tmp/ipython-input-4-455621206.py:139: DeprecationWarning: Conversion of an array with ndim > 0 to a scalar is deprecated, and will error in future. Ensure you extract a single element from your array before performing this operation. (Deprecated NumPy 1.25.)\n",
            "  pred = float(D @ self.rls[l].w)\n",
            "/tmp/ipython-input-4-455621206.py:139: DeprecationWarning: Conversion of an array with ndim > 0 to a scalar is deprecated, and will error in future. Ensure you extract a single element from your array before performing this operation. (Deprecated NumPy 1.25.)\n",
            "  pred = float(D @ self.rls[l].w)\n"
          ]
        },
        {
          "name": "stdout",
          "output_type": "stream",
          "text": [
            "s=0.3, L=6, N_hidden=40 -> RMSE: 4.5900, MASE: 0.3792\n"
          ]
        },
        {
          "name": "stderr",
          "output_type": "stream",
          "text": [
            "/tmp/ipython-input-4-455621206.py:139: DeprecationWarning: Conversion of an array with ndim > 0 to a scalar is deprecated, and will error in future. Ensure you extract a single element from your array before performing this operation. (Deprecated NumPy 1.25.)\n",
            "  pred = float(D @ self.rls[l].w)\n"
          ]
        },
        {
          "name": "stdout",
          "output_type": "stream",
          "text": [
            "s=0.3, L=7, N_hidden=20 -> RMSE: 4.7782, MASE: 0.3933\n"
          ]
        },
        {
          "name": "stderr",
          "output_type": "stream",
          "text": [
            "/tmp/ipython-input-4-455621206.py:139: DeprecationWarning: Conversion of an array with ndim > 0 to a scalar is deprecated, and will error in future. Ensure you extract a single element from your array before performing this operation. (Deprecated NumPy 1.25.)\n",
            "  pred = float(D @ self.rls[l].w)\n",
            "/tmp/ipython-input-4-455621206.py:139: DeprecationWarning: Conversion of an array with ndim > 0 to a scalar is deprecated, and will error in future. Ensure you extract a single element from your array before performing this operation. (Deprecated NumPy 1.25.)\n",
            "  pred = float(D @ self.rls[l].w)\n",
            "/tmp/ipython-input-4-455621206.py:139: DeprecationWarning: Conversion of an array with ndim > 0 to a scalar is deprecated, and will error in future. Ensure you extract a single element from your array before performing this operation. (Deprecated NumPy 1.25.)\n",
            "  pred = float(D @ self.rls[l].w)\n",
            "/tmp/ipython-input-4-455621206.py:139: DeprecationWarning: Conversion of an array with ndim > 0 to a scalar is deprecated, and will error in future. Ensure you extract a single element from your array before performing this operation. (Deprecated NumPy 1.25.)\n",
            "  pred = float(D @ self.rls[l].w)\n"
          ]
        },
        {
          "name": "stdout",
          "output_type": "stream",
          "text": [
            "s=0.3, L=7, N_hidden=30 -> RMSE: 4.5349, MASE: 0.3661\n"
          ]
        },
        {
          "name": "stderr",
          "output_type": "stream",
          "text": [
            "/tmp/ipython-input-4-455621206.py:139: DeprecationWarning: Conversion of an array with ndim > 0 to a scalar is deprecated, and will error in future. Ensure you extract a single element from your array before performing this operation. (Deprecated NumPy 1.25.)\n",
            "  pred = float(D @ self.rls[l].w)\n",
            "/tmp/ipython-input-4-455621206.py:139: DeprecationWarning: Conversion of an array with ndim > 0 to a scalar is deprecated, and will error in future. Ensure you extract a single element from your array before performing this operation. (Deprecated NumPy 1.25.)\n",
            "  pred = float(D @ self.rls[l].w)\n",
            "/tmp/ipython-input-4-455621206.py:139: DeprecationWarning: Conversion of an array with ndim > 0 to a scalar is deprecated, and will error in future. Ensure you extract a single element from your array before performing this operation. (Deprecated NumPy 1.25.)\n",
            "  pred = float(D @ self.rls[l].w)\n",
            "/tmp/ipython-input-4-455621206.py:139: DeprecationWarning: Conversion of an array with ndim > 0 to a scalar is deprecated, and will error in future. Ensure you extract a single element from your array before performing this operation. (Deprecated NumPy 1.25.)\n",
            "  pred = float(D @ self.rls[l].w)\n",
            "/tmp/ipython-input-4-455621206.py:139: DeprecationWarning: Conversion of an array with ndim > 0 to a scalar is deprecated, and will error in future. Ensure you extract a single element from your array before performing this operation. (Deprecated NumPy 1.25.)\n",
            "  pred = float(D @ self.rls[l].w)\n",
            "/tmp/ipython-input-4-455621206.py:139: DeprecationWarning: Conversion of an array with ndim > 0 to a scalar is deprecated, and will error in future. Ensure you extract a single element from your array before performing this operation. (Deprecated NumPy 1.25.)\n",
            "  pred = float(D @ self.rls[l].w)\n"
          ]
        },
        {
          "name": "stdout",
          "output_type": "stream",
          "text": [
            "s=0.3, L=7, N_hidden=40 -> RMSE: 4.4987, MASE: 0.3496\n"
          ]
        },
        {
          "name": "stderr",
          "output_type": "stream",
          "text": [
            "/tmp/ipython-input-4-455621206.py:139: DeprecationWarning: Conversion of an array with ndim > 0 to a scalar is deprecated, and will error in future. Ensure you extract a single element from your array before performing this operation. (Deprecated NumPy 1.25.)\n",
            "  pred = float(D @ self.rls[l].w)\n",
            "/tmp/ipython-input-4-455621206.py:139: DeprecationWarning: Conversion of an array with ndim > 0 to a scalar is deprecated, and will error in future. Ensure you extract a single element from your array before performing this operation. (Deprecated NumPy 1.25.)\n",
            "  pred = float(D @ self.rls[l].w)\n",
            "/tmp/ipython-input-4-455621206.py:139: DeprecationWarning: Conversion of an array with ndim > 0 to a scalar is deprecated, and will error in future. Ensure you extract a single element from your array before performing this operation. (Deprecated NumPy 1.25.)\n",
            "  pred = float(D @ self.rls[l].w)\n"
          ]
        },
        {
          "name": "stdout",
          "output_type": "stream",
          "text": [
            "s=0.3, L=8, N_hidden=20 -> RMSE: 4.8794, MASE: 0.4105\n"
          ]
        },
        {
          "name": "stderr",
          "output_type": "stream",
          "text": [
            "/tmp/ipython-input-4-455621206.py:139: DeprecationWarning: Conversion of an array with ndim > 0 to a scalar is deprecated, and will error in future. Ensure you extract a single element from your array before performing this operation. (Deprecated NumPy 1.25.)\n",
            "  pred = float(D @ self.rls[l].w)\n",
            "/tmp/ipython-input-4-455621206.py:139: DeprecationWarning: Conversion of an array with ndim > 0 to a scalar is deprecated, and will error in future. Ensure you extract a single element from your array before performing this operation. (Deprecated NumPy 1.25.)\n",
            "  pred = float(D @ self.rls[l].w)\n",
            "/tmp/ipython-input-4-455621206.py:139: DeprecationWarning: Conversion of an array with ndim > 0 to a scalar is deprecated, and will error in future. Ensure you extract a single element from your array before performing this operation. (Deprecated NumPy 1.25.)\n",
            "  pred = float(D @ self.rls[l].w)\n",
            "/tmp/ipython-input-4-455621206.py:139: DeprecationWarning: Conversion of an array with ndim > 0 to a scalar is deprecated, and will error in future. Ensure you extract a single element from your array before performing this operation. (Deprecated NumPy 1.25.)\n",
            "  pred = float(D @ self.rls[l].w)\n"
          ]
        },
        {
          "name": "stdout",
          "output_type": "stream",
          "text": [
            "s=0.3, L=8, N_hidden=30 -> RMSE: 4.1625, MASE: 0.3315\n"
          ]
        },
        {
          "name": "stderr",
          "output_type": "stream",
          "text": [
            "/tmp/ipython-input-4-455621206.py:139: DeprecationWarning: Conversion of an array with ndim > 0 to a scalar is deprecated, and will error in future. Ensure you extract a single element from your array before performing this operation. (Deprecated NumPy 1.25.)\n",
            "  pred = float(D @ self.rls[l].w)\n",
            "/tmp/ipython-input-4-455621206.py:139: DeprecationWarning: Conversion of an array with ndim > 0 to a scalar is deprecated, and will error in future. Ensure you extract a single element from your array before performing this operation. (Deprecated NumPy 1.25.)\n",
            "  pred = float(D @ self.rls[l].w)\n",
            "/tmp/ipython-input-4-455621206.py:139: DeprecationWarning: Conversion of an array with ndim > 0 to a scalar is deprecated, and will error in future. Ensure you extract a single element from your array before performing this operation. (Deprecated NumPy 1.25.)\n",
            "  pred = float(D @ self.rls[l].w)\n",
            "/tmp/ipython-input-4-455621206.py:139: DeprecationWarning: Conversion of an array with ndim > 0 to a scalar is deprecated, and will error in future. Ensure you extract a single element from your array before performing this operation. (Deprecated NumPy 1.25.)\n",
            "  pred = float(D @ self.rls[l].w)\n",
            "/tmp/ipython-input-4-455621206.py:139: DeprecationWarning: Conversion of an array with ndim > 0 to a scalar is deprecated, and will error in future. Ensure you extract a single element from your array before performing this operation. (Deprecated NumPy 1.25.)\n",
            "  pred = float(D @ self.rls[l].w)\n",
            "/tmp/ipython-input-4-455621206.py:139: DeprecationWarning: Conversion of an array with ndim > 0 to a scalar is deprecated, and will error in future. Ensure you extract a single element from your array before performing this operation. (Deprecated NumPy 1.25.)\n",
            "  pred = float(D @ self.rls[l].w)\n",
            "/tmp/ipython-input-4-455621206.py:139: DeprecationWarning: Conversion of an array with ndim > 0 to a scalar is deprecated, and will error in future. Ensure you extract a single element from your array before performing this operation. (Deprecated NumPy 1.25.)\n",
            "  pred = float(D @ self.rls[l].w)\n",
            "/tmp/ipython-input-4-455621206.py:139: DeprecationWarning: Conversion of an array with ndim > 0 to a scalar is deprecated, and will error in future. Ensure you extract a single element from your array before performing this operation. (Deprecated NumPy 1.25.)\n",
            "  pred = float(D @ self.rls[l].w)\n",
            "/tmp/ipython-input-4-455621206.py:139: DeprecationWarning: Conversion of an array with ndim > 0 to a scalar is deprecated, and will error in future. Ensure you extract a single element from your array before performing this operation. (Deprecated NumPy 1.25.)\n",
            "  pred = float(D @ self.rls[l].w)\n",
            "/tmp/ipython-input-4-455621206.py:139: DeprecationWarning: Conversion of an array with ndim > 0 to a scalar is deprecated, and will error in future. Ensure you extract a single element from your array before performing this operation. (Deprecated NumPy 1.25.)\n",
            "  pred = float(D @ self.rls[l].w)\n"
          ]
        },
        {
          "name": "stdout",
          "output_type": "stream",
          "text": [
            "s=0.3, L=8, N_hidden=40 -> RMSE: 5.2629, MASE: 0.4039\n"
          ]
        },
        {
          "name": "stderr",
          "output_type": "stream",
          "text": [
            "/tmp/ipython-input-4-455621206.py:139: DeprecationWarning: Conversion of an array with ndim > 0 to a scalar is deprecated, and will error in future. Ensure you extract a single element from your array before performing this operation. (Deprecated NumPy 1.25.)\n",
            "  pred = float(D @ self.rls[l].w)\n",
            "/tmp/ipython-input-4-455621206.py:139: DeprecationWarning: Conversion of an array with ndim > 0 to a scalar is deprecated, and will error in future. Ensure you extract a single element from your array before performing this operation. (Deprecated NumPy 1.25.)\n",
            "  pred = float(D @ self.rls[l].w)\n",
            "/tmp/ipython-input-4-455621206.py:139: DeprecationWarning: Conversion of an array with ndim > 0 to a scalar is deprecated, and will error in future. Ensure you extract a single element from your array before performing this operation. (Deprecated NumPy 1.25.)\n",
            "  pred = float(D @ self.rls[l].w)\n"
          ]
        },
        {
          "name": "stdout",
          "output_type": "stream",
          "text": [
            "s=0.3, L=9, N_hidden=20 -> RMSE: 4.7664, MASE: 0.3726\n"
          ]
        },
        {
          "name": "stderr",
          "output_type": "stream",
          "text": [
            "/tmp/ipython-input-4-455621206.py:139: DeprecationWarning: Conversion of an array with ndim > 0 to a scalar is deprecated, and will error in future. Ensure you extract a single element from your array before performing this operation. (Deprecated NumPy 1.25.)\n",
            "  pred = float(D @ self.rls[l].w)\n",
            "/tmp/ipython-input-4-455621206.py:139: DeprecationWarning: Conversion of an array with ndim > 0 to a scalar is deprecated, and will error in future. Ensure you extract a single element from your array before performing this operation. (Deprecated NumPy 1.25.)\n",
            "  pred = float(D @ self.rls[l].w)\n",
            "/tmp/ipython-input-4-455621206.py:139: DeprecationWarning: Conversion of an array with ndim > 0 to a scalar is deprecated, and will error in future. Ensure you extract a single element from your array before performing this operation. (Deprecated NumPy 1.25.)\n",
            "  pred = float(D @ self.rls[l].w)\n",
            "/tmp/ipython-input-4-455621206.py:139: DeprecationWarning: Conversion of an array with ndim > 0 to a scalar is deprecated, and will error in future. Ensure you extract a single element from your array before performing this operation. (Deprecated NumPy 1.25.)\n",
            "  pred = float(D @ self.rls[l].w)\n",
            "/tmp/ipython-input-4-455621206.py:139: DeprecationWarning: Conversion of an array with ndim > 0 to a scalar is deprecated, and will error in future. Ensure you extract a single element from your array before performing this operation. (Deprecated NumPy 1.25.)\n",
            "  pred = float(D @ self.rls[l].w)\n"
          ]
        },
        {
          "name": "stdout",
          "output_type": "stream",
          "text": [
            "s=0.3, L=9, N_hidden=30 -> RMSE: 3.8004, MASE: 0.3025\n"
          ]
        },
        {
          "name": "stderr",
          "output_type": "stream",
          "text": [
            "/tmp/ipython-input-4-455621206.py:139: DeprecationWarning: Conversion of an array with ndim > 0 to a scalar is deprecated, and will error in future. Ensure you extract a single element from your array before performing this operation. (Deprecated NumPy 1.25.)\n",
            "  pred = float(D @ self.rls[l].w)\n",
            "/tmp/ipython-input-4-455621206.py:139: DeprecationWarning: Conversion of an array with ndim > 0 to a scalar is deprecated, and will error in future. Ensure you extract a single element from your array before performing this operation. (Deprecated NumPy 1.25.)\n",
            "  pred = float(D @ self.rls[l].w)\n",
            "/tmp/ipython-input-4-455621206.py:139: DeprecationWarning: Conversion of an array with ndim > 0 to a scalar is deprecated, and will error in future. Ensure you extract a single element from your array before performing this operation. (Deprecated NumPy 1.25.)\n",
            "  pred = float(D @ self.rls[l].w)\n",
            "/tmp/ipython-input-4-455621206.py:139: DeprecationWarning: Conversion of an array with ndim > 0 to a scalar is deprecated, and will error in future. Ensure you extract a single element from your array before performing this operation. (Deprecated NumPy 1.25.)\n",
            "  pred = float(D @ self.rls[l].w)\n",
            "/tmp/ipython-input-4-455621206.py:139: DeprecationWarning: Conversion of an array with ndim > 0 to a scalar is deprecated, and will error in future. Ensure you extract a single element from your array before performing this operation. (Deprecated NumPy 1.25.)\n",
            "  pred = float(D @ self.rls[l].w)\n",
            "/tmp/ipython-input-4-455621206.py:139: DeprecationWarning: Conversion of an array with ndim > 0 to a scalar is deprecated, and will error in future. Ensure you extract a single element from your array before performing this operation. (Deprecated NumPy 1.25.)\n",
            "  pred = float(D @ self.rls[l].w)\n",
            "/tmp/ipython-input-4-455621206.py:139: DeprecationWarning: Conversion of an array with ndim > 0 to a scalar is deprecated, and will error in future. Ensure you extract a single element from your array before performing this operation. (Deprecated NumPy 1.25.)\n",
            "  pred = float(D @ self.rls[l].w)\n",
            "/tmp/ipython-input-4-455621206.py:139: DeprecationWarning: Conversion of an array with ndim > 0 to a scalar is deprecated, and will error in future. Ensure you extract a single element from your array before performing this operation. (Deprecated NumPy 1.25.)\n",
            "  pred = float(D @ self.rls[l].w)\n",
            "/tmp/ipython-input-4-455621206.py:139: DeprecationWarning: Conversion of an array with ndim > 0 to a scalar is deprecated, and will error in future. Ensure you extract a single element from your array before performing this operation. (Deprecated NumPy 1.25.)\n",
            "  pred = float(D @ self.rls[l].w)\n",
            "/tmp/ipython-input-4-455621206.py:139: DeprecationWarning: Conversion of an array with ndim > 0 to a scalar is deprecated, and will error in future. Ensure you extract a single element from your array before performing this operation. (Deprecated NumPy 1.25.)\n",
            "  pred = float(D @ self.rls[l].w)\n",
            "/tmp/ipython-input-4-455621206.py:139: DeprecationWarning: Conversion of an array with ndim > 0 to a scalar is deprecated, and will error in future. Ensure you extract a single element from your array before performing this operation. (Deprecated NumPy 1.25.)\n",
            "  pred = float(D @ self.rls[l].w)\n"
          ]
        },
        {
          "name": "stdout",
          "output_type": "stream",
          "text": [
            "s=0.3, L=9, N_hidden=40 -> RMSE: 4.9107, MASE: 0.3471\n",
            "s=0.4, L=2, N_hidden=20 -> RMSE: 5.1229, MASE: 0.4818\n"
          ]
        },
        {
          "name": "stderr",
          "output_type": "stream",
          "text": [
            "/tmp/ipython-input-4-455621206.py:139: DeprecationWarning: Conversion of an array with ndim > 0 to a scalar is deprecated, and will error in future. Ensure you extract a single element from your array before performing this operation. (Deprecated NumPy 1.25.)\n",
            "  pred = float(D @ self.rls[l].w)\n",
            "/tmp/ipython-input-4-455621206.py:139: DeprecationWarning: Conversion of an array with ndim > 0 to a scalar is deprecated, and will error in future. Ensure you extract a single element from your array before performing this operation. (Deprecated NumPy 1.25.)\n",
            "  pred = float(D @ self.rls[l].w)\n"
          ]
        },
        {
          "name": "stdout",
          "output_type": "stream",
          "text": [
            "s=0.4, L=2, N_hidden=30 -> RMSE: 5.4448, MASE: 0.4906\n"
          ]
        },
        {
          "name": "stderr",
          "output_type": "stream",
          "text": [
            "/tmp/ipython-input-4-455621206.py:139: DeprecationWarning: Conversion of an array with ndim > 0 to a scalar is deprecated, and will error in future. Ensure you extract a single element from your array before performing this operation. (Deprecated NumPy 1.25.)\n",
            "  pred = float(D @ self.rls[l].w)\n"
          ]
        },
        {
          "name": "stdout",
          "output_type": "stream",
          "text": [
            "s=0.4, L=2, N_hidden=40 -> RMSE: 5.1106, MASE: 0.4526\n"
          ]
        },
        {
          "name": "stderr",
          "output_type": "stream",
          "text": [
            "/tmp/ipython-input-4-455621206.py:139: DeprecationWarning: Conversion of an array with ndim > 0 to a scalar is deprecated, and will error in future. Ensure you extract a single element from your array before performing this operation. (Deprecated NumPy 1.25.)\n",
            "  pred = float(D @ self.rls[l].w)\n"
          ]
        },
        {
          "name": "stdout",
          "output_type": "stream",
          "text": [
            "s=0.4, L=3, N_hidden=20 -> RMSE: 4.8612, MASE: 0.4261\n"
          ]
        },
        {
          "name": "stderr",
          "output_type": "stream",
          "text": [
            "/tmp/ipython-input-4-455621206.py:139: DeprecationWarning: Conversion of an array with ndim > 0 to a scalar is deprecated, and will error in future. Ensure you extract a single element from your array before performing this operation. (Deprecated NumPy 1.25.)\n",
            "  pred = float(D @ self.rls[l].w)\n",
            "/tmp/ipython-input-4-455621206.py:139: DeprecationWarning: Conversion of an array with ndim > 0 to a scalar is deprecated, and will error in future. Ensure you extract a single element from your array before performing this operation. (Deprecated NumPy 1.25.)\n",
            "  pred = float(D @ self.rls[l].w)\n"
          ]
        },
        {
          "name": "stdout",
          "output_type": "stream",
          "text": [
            "s=0.4, L=3, N_hidden=30 -> RMSE: 5.1730, MASE: 0.4660\n"
          ]
        },
        {
          "name": "stderr",
          "output_type": "stream",
          "text": [
            "/tmp/ipython-input-4-455621206.py:139: DeprecationWarning: Conversion of an array with ndim > 0 to a scalar is deprecated, and will error in future. Ensure you extract a single element from your array before performing this operation. (Deprecated NumPy 1.25.)\n",
            "  pred = float(D @ self.rls[l].w)\n"
          ]
        },
        {
          "name": "stdout",
          "output_type": "stream",
          "text": [
            "s=0.4, L=3, N_hidden=40 -> RMSE: 5.0399, MASE: 0.4194\n"
          ]
        },
        {
          "name": "stderr",
          "output_type": "stream",
          "text": [
            "/tmp/ipython-input-4-455621206.py:139: DeprecationWarning: Conversion of an array with ndim > 0 to a scalar is deprecated, and will error in future. Ensure you extract a single element from your array before performing this operation. (Deprecated NumPy 1.25.)\n",
            "  pred = float(D @ self.rls[l].w)\n",
            "/tmp/ipython-input-4-455621206.py:139: DeprecationWarning: Conversion of an array with ndim > 0 to a scalar is deprecated, and will error in future. Ensure you extract a single element from your array before performing this operation. (Deprecated NumPy 1.25.)\n",
            "  pred = float(D @ self.rls[l].w)\n",
            "/tmp/ipython-input-4-455621206.py:139: DeprecationWarning: Conversion of an array with ndim > 0 to a scalar is deprecated, and will error in future. Ensure you extract a single element from your array before performing this operation. (Deprecated NumPy 1.25.)\n",
            "  pred = float(D @ self.rls[l].w)\n"
          ]
        },
        {
          "name": "stdout",
          "output_type": "stream",
          "text": [
            "s=0.4, L=4, N_hidden=20 -> RMSE: 5.2162, MASE: 0.4765\n"
          ]
        },
        {
          "name": "stderr",
          "output_type": "stream",
          "text": [
            "/tmp/ipython-input-4-455621206.py:139: DeprecationWarning: Conversion of an array with ndim > 0 to a scalar is deprecated, and will error in future. Ensure you extract a single element from your array before performing this operation. (Deprecated NumPy 1.25.)\n",
            "  pred = float(D @ self.rls[l].w)\n"
          ]
        },
        {
          "name": "stdout",
          "output_type": "stream",
          "text": [
            "s=0.4, L=4, N_hidden=30 -> RMSE: 5.0127, MASE: 0.4241\n"
          ]
        },
        {
          "name": "stderr",
          "output_type": "stream",
          "text": [
            "/tmp/ipython-input-4-455621206.py:139: DeprecationWarning: Conversion of an array with ndim > 0 to a scalar is deprecated, and will error in future. Ensure you extract a single element from your array before performing this operation. (Deprecated NumPy 1.25.)\n",
            "  pred = float(D @ self.rls[l].w)\n"
          ]
        },
        {
          "name": "stdout",
          "output_type": "stream",
          "text": [
            "s=0.4, L=4, N_hidden=40 -> RMSE: 4.2617, MASE: 0.3411\n"
          ]
        },
        {
          "name": "stderr",
          "output_type": "stream",
          "text": [
            "/tmp/ipython-input-4-455621206.py:139: DeprecationWarning: Conversion of an array with ndim > 0 to a scalar is deprecated, and will error in future. Ensure you extract a single element from your array before performing this operation. (Deprecated NumPy 1.25.)\n",
            "  pred = float(D @ self.rls[l].w)\n"
          ]
        },
        {
          "name": "stdout",
          "output_type": "stream",
          "text": [
            "s=0.4, L=5, N_hidden=20 -> RMSE: 5.0117, MASE: 0.4377\n"
          ]
        },
        {
          "name": "stderr",
          "output_type": "stream",
          "text": [
            "/tmp/ipython-input-4-455621206.py:139: DeprecationWarning: Conversion of an array with ndim > 0 to a scalar is deprecated, and will error in future. Ensure you extract a single element from your array before performing this operation. (Deprecated NumPy 1.25.)\n",
            "  pred = float(D @ self.rls[l].w)\n",
            "/tmp/ipython-input-4-455621206.py:139: DeprecationWarning: Conversion of an array with ndim > 0 to a scalar is deprecated, and will error in future. Ensure you extract a single element from your array before performing this operation. (Deprecated NumPy 1.25.)\n",
            "  pred = float(D @ self.rls[l].w)\n"
          ]
        },
        {
          "name": "stdout",
          "output_type": "stream",
          "text": [
            "s=0.4, L=5, N_hidden=30 -> RMSE: 5.1433, MASE: 0.4485\n"
          ]
        },
        {
          "name": "stderr",
          "output_type": "stream",
          "text": [
            "/tmp/ipython-input-4-455621206.py:139: DeprecationWarning: Conversion of an array with ndim > 0 to a scalar is deprecated, and will error in future. Ensure you extract a single element from your array before performing this operation. (Deprecated NumPy 1.25.)\n",
            "  pred = float(D @ self.rls[l].w)\n",
            "/tmp/ipython-input-4-455621206.py:139: DeprecationWarning: Conversion of an array with ndim > 0 to a scalar is deprecated, and will error in future. Ensure you extract a single element from your array before performing this operation. (Deprecated NumPy 1.25.)\n",
            "  pred = float(D @ self.rls[l].w)\n",
            "/tmp/ipython-input-4-455621206.py:139: DeprecationWarning: Conversion of an array with ndim > 0 to a scalar is deprecated, and will error in future. Ensure you extract a single element from your array before performing this operation. (Deprecated NumPy 1.25.)\n",
            "  pred = float(D @ self.rls[l].w)\n",
            "/tmp/ipython-input-4-455621206.py:139: DeprecationWarning: Conversion of an array with ndim > 0 to a scalar is deprecated, and will error in future. Ensure you extract a single element from your array before performing this operation. (Deprecated NumPy 1.25.)\n",
            "  pred = float(D @ self.rls[l].w)\n",
            "/tmp/ipython-input-4-455621206.py:139: DeprecationWarning: Conversion of an array with ndim > 0 to a scalar is deprecated, and will error in future. Ensure you extract a single element from your array before performing this operation. (Deprecated NumPy 1.25.)\n",
            "  pred = float(D @ self.rls[l].w)\n"
          ]
        },
        {
          "name": "stdout",
          "output_type": "stream",
          "text": [
            "s=0.4, L=5, N_hidden=40 -> RMSE: 5.0382, MASE: 0.4159\n"
          ]
        },
        {
          "name": "stderr",
          "output_type": "stream",
          "text": [
            "/tmp/ipython-input-4-455621206.py:139: DeprecationWarning: Conversion of an array with ndim > 0 to a scalar is deprecated, and will error in future. Ensure you extract a single element from your array before performing this operation. (Deprecated NumPy 1.25.)\n",
            "  pred = float(D @ self.rls[l].w)\n",
            "/tmp/ipython-input-4-455621206.py:139: DeprecationWarning: Conversion of an array with ndim > 0 to a scalar is deprecated, and will error in future. Ensure you extract a single element from your array before performing this operation. (Deprecated NumPy 1.25.)\n",
            "  pred = float(D @ self.rls[l].w)\n"
          ]
        },
        {
          "name": "stdout",
          "output_type": "stream",
          "text": [
            "s=0.4, L=6, N_hidden=20 -> RMSE: 4.5963, MASE: 0.4121\n"
          ]
        },
        {
          "name": "stderr",
          "output_type": "stream",
          "text": [
            "/tmp/ipython-input-4-455621206.py:139: DeprecationWarning: Conversion of an array with ndim > 0 to a scalar is deprecated, and will error in future. Ensure you extract a single element from your array before performing this operation. (Deprecated NumPy 1.25.)\n",
            "  pred = float(D @ self.rls[l].w)\n",
            "/tmp/ipython-input-4-455621206.py:139: DeprecationWarning: Conversion of an array with ndim > 0 to a scalar is deprecated, and will error in future. Ensure you extract a single element from your array before performing this operation. (Deprecated NumPy 1.25.)\n",
            "  pred = float(D @ self.rls[l].w)\n",
            "/tmp/ipython-input-4-455621206.py:139: DeprecationWarning: Conversion of an array with ndim > 0 to a scalar is deprecated, and will error in future. Ensure you extract a single element from your array before performing this operation. (Deprecated NumPy 1.25.)\n",
            "  pred = float(D @ self.rls[l].w)\n"
          ]
        },
        {
          "name": "stdout",
          "output_type": "stream",
          "text": [
            "s=0.4, L=6, N_hidden=30 -> RMSE: 5.0827, MASE: 0.4172\n"
          ]
        },
        {
          "name": "stderr",
          "output_type": "stream",
          "text": [
            "/tmp/ipython-input-4-455621206.py:139: DeprecationWarning: Conversion of an array with ndim > 0 to a scalar is deprecated, and will error in future. Ensure you extract a single element from your array before performing this operation. (Deprecated NumPy 1.25.)\n",
            "  pred = float(D @ self.rls[l].w)\n",
            "/tmp/ipython-input-4-455621206.py:139: DeprecationWarning: Conversion of an array with ndim > 0 to a scalar is deprecated, and will error in future. Ensure you extract a single element from your array before performing this operation. (Deprecated NumPy 1.25.)\n",
            "  pred = float(D @ self.rls[l].w)\n",
            "/tmp/ipython-input-4-455621206.py:139: DeprecationWarning: Conversion of an array with ndim > 0 to a scalar is deprecated, and will error in future. Ensure you extract a single element from your array before performing this operation. (Deprecated NumPy 1.25.)\n",
            "  pred = float(D @ self.rls[l].w)\n"
          ]
        },
        {
          "name": "stdout",
          "output_type": "stream",
          "text": [
            "s=0.4, L=6, N_hidden=40 -> RMSE: 4.9433, MASE: 0.3806\n"
          ]
        },
        {
          "name": "stderr",
          "output_type": "stream",
          "text": [
            "/tmp/ipython-input-4-455621206.py:139: DeprecationWarning: Conversion of an array with ndim > 0 to a scalar is deprecated, and will error in future. Ensure you extract a single element from your array before performing this operation. (Deprecated NumPy 1.25.)\n",
            "  pred = float(D @ self.rls[l].w)\n",
            "/tmp/ipython-input-4-455621206.py:139: DeprecationWarning: Conversion of an array with ndim > 0 to a scalar is deprecated, and will error in future. Ensure you extract a single element from your array before performing this operation. (Deprecated NumPy 1.25.)\n",
            "  pred = float(D @ self.rls[l].w)\n"
          ]
        },
        {
          "name": "stdout",
          "output_type": "stream",
          "text": [
            "s=0.4, L=7, N_hidden=20 -> RMSE: 4.3777, MASE: 0.3604\n"
          ]
        },
        {
          "name": "stderr",
          "output_type": "stream",
          "text": [
            "/tmp/ipython-input-4-455621206.py:139: DeprecationWarning: Conversion of an array with ndim > 0 to a scalar is deprecated, and will error in future. Ensure you extract a single element from your array before performing this operation. (Deprecated NumPy 1.25.)\n",
            "  pred = float(D @ self.rls[l].w)\n",
            "/tmp/ipython-input-4-455621206.py:139: DeprecationWarning: Conversion of an array with ndim > 0 to a scalar is deprecated, and will error in future. Ensure you extract a single element from your array before performing this operation. (Deprecated NumPy 1.25.)\n",
            "  pred = float(D @ self.rls[l].w)\n",
            "/tmp/ipython-input-4-455621206.py:139: DeprecationWarning: Conversion of an array with ndim > 0 to a scalar is deprecated, and will error in future. Ensure you extract a single element from your array before performing this operation. (Deprecated NumPy 1.25.)\n",
            "  pred = float(D @ self.rls[l].w)\n"
          ]
        },
        {
          "name": "stdout",
          "output_type": "stream",
          "text": [
            "s=0.4, L=7, N_hidden=30 -> RMSE: 4.8346, MASE: 0.3801\n"
          ]
        },
        {
          "name": "stderr",
          "output_type": "stream",
          "text": [
            "/tmp/ipython-input-4-455621206.py:139: DeprecationWarning: Conversion of an array with ndim > 0 to a scalar is deprecated, and will error in future. Ensure you extract a single element from your array before performing this operation. (Deprecated NumPy 1.25.)\n",
            "  pred = float(D @ self.rls[l].w)\n",
            "/tmp/ipython-input-4-455621206.py:139: DeprecationWarning: Conversion of an array with ndim > 0 to a scalar is deprecated, and will error in future. Ensure you extract a single element from your array before performing this operation. (Deprecated NumPy 1.25.)\n",
            "  pred = float(D @ self.rls[l].w)\n",
            "/tmp/ipython-input-4-455621206.py:139: DeprecationWarning: Conversion of an array with ndim > 0 to a scalar is deprecated, and will error in future. Ensure you extract a single element from your array before performing this operation. (Deprecated NumPy 1.25.)\n",
            "  pred = float(D @ self.rls[l].w)\n",
            "/tmp/ipython-input-4-455621206.py:139: DeprecationWarning: Conversion of an array with ndim > 0 to a scalar is deprecated, and will error in future. Ensure you extract a single element from your array before performing this operation. (Deprecated NumPy 1.25.)\n",
            "  pred = float(D @ self.rls[l].w)\n",
            "/tmp/ipython-input-4-455621206.py:139: DeprecationWarning: Conversion of an array with ndim > 0 to a scalar is deprecated, and will error in future. Ensure you extract a single element from your array before performing this operation. (Deprecated NumPy 1.25.)\n",
            "  pred = float(D @ self.rls[l].w)\n",
            "/tmp/ipython-input-4-455621206.py:139: DeprecationWarning: Conversion of an array with ndim > 0 to a scalar is deprecated, and will error in future. Ensure you extract a single element from your array before performing this operation. (Deprecated NumPy 1.25.)\n",
            "  pred = float(D @ self.rls[l].w)\n",
            "/tmp/ipython-input-4-455621206.py:139: DeprecationWarning: Conversion of an array with ndim > 0 to a scalar is deprecated, and will error in future. Ensure you extract a single element from your array before performing this operation. (Deprecated NumPy 1.25.)\n",
            "  pred = float(D @ self.rls[l].w)\n",
            "/tmp/ipython-input-4-455621206.py:139: DeprecationWarning: Conversion of an array with ndim > 0 to a scalar is deprecated, and will error in future. Ensure you extract a single element from your array before performing this operation. (Deprecated NumPy 1.25.)\n",
            "  pred = float(D @ self.rls[l].w)\n",
            "/tmp/ipython-input-4-455621206.py:139: DeprecationWarning: Conversion of an array with ndim > 0 to a scalar is deprecated, and will error in future. Ensure you extract a single element from your array before performing this operation. (Deprecated NumPy 1.25.)\n",
            "  pred = float(D @ self.rls[l].w)\n"
          ]
        },
        {
          "name": "stdout",
          "output_type": "stream",
          "text": [
            "s=0.4, L=7, N_hidden=40 -> RMSE: 4.2241, MASE: 0.3410\n"
          ]
        },
        {
          "name": "stderr",
          "output_type": "stream",
          "text": [
            "/tmp/ipython-input-4-455621206.py:139: DeprecationWarning: Conversion of an array with ndim > 0 to a scalar is deprecated, and will error in future. Ensure you extract a single element from your array before performing this operation. (Deprecated NumPy 1.25.)\n",
            "  pred = float(D @ self.rls[l].w)\n"
          ]
        },
        {
          "name": "stdout",
          "output_type": "stream",
          "text": [
            "s=0.4, L=8, N_hidden=20 -> RMSE: 4.6264, MASE: 0.3922\n"
          ]
        },
        {
          "name": "stderr",
          "output_type": "stream",
          "text": [
            "/tmp/ipython-input-4-455621206.py:139: DeprecationWarning: Conversion of an array with ndim > 0 to a scalar is deprecated, and will error in future. Ensure you extract a single element from your array before performing this operation. (Deprecated NumPy 1.25.)\n",
            "  pred = float(D @ self.rls[l].w)\n",
            "/tmp/ipython-input-4-455621206.py:139: DeprecationWarning: Conversion of an array with ndim > 0 to a scalar is deprecated, and will error in future. Ensure you extract a single element from your array before performing this operation. (Deprecated NumPy 1.25.)\n",
            "  pred = float(D @ self.rls[l].w)\n",
            "/tmp/ipython-input-4-455621206.py:139: DeprecationWarning: Conversion of an array with ndim > 0 to a scalar is deprecated, and will error in future. Ensure you extract a single element from your array before performing this operation. (Deprecated NumPy 1.25.)\n",
            "  pred = float(D @ self.rls[l].w)\n",
            "/tmp/ipython-input-4-455621206.py:139: DeprecationWarning: Conversion of an array with ndim > 0 to a scalar is deprecated, and will error in future. Ensure you extract a single element from your array before performing this operation. (Deprecated NumPy 1.25.)\n",
            "  pred = float(D @ self.rls[l].w)\n"
          ]
        },
        {
          "name": "stdout",
          "output_type": "stream",
          "text": [
            "s=0.4, L=8, N_hidden=30 -> RMSE: 4.4752, MASE: 0.3492\n"
          ]
        },
        {
          "name": "stderr",
          "output_type": "stream",
          "text": [
            "/tmp/ipython-input-4-455621206.py:139: DeprecationWarning: Conversion of an array with ndim > 0 to a scalar is deprecated, and will error in future. Ensure you extract a single element from your array before performing this operation. (Deprecated NumPy 1.25.)\n",
            "  pred = float(D @ self.rls[l].w)\n",
            "/tmp/ipython-input-4-455621206.py:139: DeprecationWarning: Conversion of an array with ndim > 0 to a scalar is deprecated, and will error in future. Ensure you extract a single element from your array before performing this operation. (Deprecated NumPy 1.25.)\n",
            "  pred = float(D @ self.rls[l].w)\n",
            "/tmp/ipython-input-4-455621206.py:139: DeprecationWarning: Conversion of an array with ndim > 0 to a scalar is deprecated, and will error in future. Ensure you extract a single element from your array before performing this operation. (Deprecated NumPy 1.25.)\n",
            "  pred = float(D @ self.rls[l].w)\n",
            "/tmp/ipython-input-4-455621206.py:139: DeprecationWarning: Conversion of an array with ndim > 0 to a scalar is deprecated, and will error in future. Ensure you extract a single element from your array before performing this operation. (Deprecated NumPy 1.25.)\n",
            "  pred = float(D @ self.rls[l].w)\n",
            "/tmp/ipython-input-4-455621206.py:139: DeprecationWarning: Conversion of an array with ndim > 0 to a scalar is deprecated, and will error in future. Ensure you extract a single element from your array before performing this operation. (Deprecated NumPy 1.25.)\n",
            "  pred = float(D @ self.rls[l].w)\n",
            "/tmp/ipython-input-4-455621206.py:139: DeprecationWarning: Conversion of an array with ndim > 0 to a scalar is deprecated, and will error in future. Ensure you extract a single element from your array before performing this operation. (Deprecated NumPy 1.25.)\n",
            "  pred = float(D @ self.rls[l].w)\n",
            "/tmp/ipython-input-4-455621206.py:139: DeprecationWarning: Conversion of an array with ndim > 0 to a scalar is deprecated, and will error in future. Ensure you extract a single element from your array before performing this operation. (Deprecated NumPy 1.25.)\n",
            "  pred = float(D @ self.rls[l].w)\n",
            "/tmp/ipython-input-4-455621206.py:139: DeprecationWarning: Conversion of an array with ndim > 0 to a scalar is deprecated, and will error in future. Ensure you extract a single element from your array before performing this operation. (Deprecated NumPy 1.25.)\n",
            "  pred = float(D @ self.rls[l].w)\n",
            "/tmp/ipython-input-4-455621206.py:139: DeprecationWarning: Conversion of an array with ndim > 0 to a scalar is deprecated, and will error in future. Ensure you extract a single element from your array before performing this operation. (Deprecated NumPy 1.25.)\n",
            "  pred = float(D @ self.rls[l].w)\n",
            "/tmp/ipython-input-4-455621206.py:139: DeprecationWarning: Conversion of an array with ndim > 0 to a scalar is deprecated, and will error in future. Ensure you extract a single element from your array before performing this operation. (Deprecated NumPy 1.25.)\n",
            "  pred = float(D @ self.rls[l].w)\n",
            "/tmp/ipython-input-4-455621206.py:139: DeprecationWarning: Conversion of an array with ndim > 0 to a scalar is deprecated, and will error in future. Ensure you extract a single element from your array before performing this operation. (Deprecated NumPy 1.25.)\n",
            "  pred = float(D @ self.rls[l].w)\n"
          ]
        },
        {
          "name": "stdout",
          "output_type": "stream",
          "text": [
            "s=0.4, L=8, N_hidden=40 -> RMSE: 4.3317, MASE: 0.3325\n"
          ]
        },
        {
          "name": "stderr",
          "output_type": "stream",
          "text": [
            "/tmp/ipython-input-4-455621206.py:139: DeprecationWarning: Conversion of an array with ndim > 0 to a scalar is deprecated, and will error in future. Ensure you extract a single element from your array before performing this operation. (Deprecated NumPy 1.25.)\n",
            "  pred = float(D @ self.rls[l].w)\n",
            "/tmp/ipython-input-4-455621206.py:139: DeprecationWarning: Conversion of an array with ndim > 0 to a scalar is deprecated, and will error in future. Ensure you extract a single element from your array before performing this operation. (Deprecated NumPy 1.25.)\n",
            "  pred = float(D @ self.rls[l].w)\n"
          ]
        },
        {
          "name": "stdout",
          "output_type": "stream",
          "text": [
            "s=0.4, L=9, N_hidden=20 -> RMSE: 4.2178, MASE: 0.3433\n"
          ]
        },
        {
          "name": "stderr",
          "output_type": "stream",
          "text": [
            "/tmp/ipython-input-4-455621206.py:139: DeprecationWarning: Conversion of an array with ndim > 0 to a scalar is deprecated, and will error in future. Ensure you extract a single element from your array before performing this operation. (Deprecated NumPy 1.25.)\n",
            "  pred = float(D @ self.rls[l].w)\n",
            "/tmp/ipython-input-4-455621206.py:139: DeprecationWarning: Conversion of an array with ndim > 0 to a scalar is deprecated, and will error in future. Ensure you extract a single element from your array before performing this operation. (Deprecated NumPy 1.25.)\n",
            "  pred = float(D @ self.rls[l].w)\n",
            "/tmp/ipython-input-4-455621206.py:139: DeprecationWarning: Conversion of an array with ndim > 0 to a scalar is deprecated, and will error in future. Ensure you extract a single element from your array before performing this operation. (Deprecated NumPy 1.25.)\n",
            "  pred = float(D @ self.rls[l].w)\n",
            "/tmp/ipython-input-4-455621206.py:139: DeprecationWarning: Conversion of an array with ndim > 0 to a scalar is deprecated, and will error in future. Ensure you extract a single element from your array before performing this operation. (Deprecated NumPy 1.25.)\n",
            "  pred = float(D @ self.rls[l].w)\n",
            "/tmp/ipython-input-4-455621206.py:139: DeprecationWarning: Conversion of an array with ndim > 0 to a scalar is deprecated, and will error in future. Ensure you extract a single element from your array before performing this operation. (Deprecated NumPy 1.25.)\n",
            "  pred = float(D @ self.rls[l].w)\n",
            "/tmp/ipython-input-4-455621206.py:139: DeprecationWarning: Conversion of an array with ndim > 0 to a scalar is deprecated, and will error in future. Ensure you extract a single element from your array before performing this operation. (Deprecated NumPy 1.25.)\n",
            "  pred = float(D @ self.rls[l].w)\n"
          ]
        },
        {
          "name": "stdout",
          "output_type": "stream",
          "text": [
            "s=0.4, L=9, N_hidden=30 -> RMSE: 5.1024, MASE: 0.3818\n"
          ]
        },
        {
          "name": "stderr",
          "output_type": "stream",
          "text": [
            "/tmp/ipython-input-4-455621206.py:139: DeprecationWarning: Conversion of an array with ndim > 0 to a scalar is deprecated, and will error in future. Ensure you extract a single element from your array before performing this operation. (Deprecated NumPy 1.25.)\n",
            "  pred = float(D @ self.rls[l].w)\n",
            "/tmp/ipython-input-4-455621206.py:139: DeprecationWarning: Conversion of an array with ndim > 0 to a scalar is deprecated, and will error in future. Ensure you extract a single element from your array before performing this operation. (Deprecated NumPy 1.25.)\n",
            "  pred = float(D @ self.rls[l].w)\n",
            "/tmp/ipython-input-4-455621206.py:139: DeprecationWarning: Conversion of an array with ndim > 0 to a scalar is deprecated, and will error in future. Ensure you extract a single element from your array before performing this operation. (Deprecated NumPy 1.25.)\n",
            "  pred = float(D @ self.rls[l].w)\n",
            "/tmp/ipython-input-4-455621206.py:139: DeprecationWarning: Conversion of an array with ndim > 0 to a scalar is deprecated, and will error in future. Ensure you extract a single element from your array before performing this operation. (Deprecated NumPy 1.25.)\n",
            "  pred = float(D @ self.rls[l].w)\n",
            "/tmp/ipython-input-4-455621206.py:139: DeprecationWarning: Conversion of an array with ndim > 0 to a scalar is deprecated, and will error in future. Ensure you extract a single element from your array before performing this operation. (Deprecated NumPy 1.25.)\n",
            "  pred = float(D @ self.rls[l].w)\n",
            "/tmp/ipython-input-4-455621206.py:139: DeprecationWarning: Conversion of an array with ndim > 0 to a scalar is deprecated, and will error in future. Ensure you extract a single element from your array before performing this operation. (Deprecated NumPy 1.25.)\n",
            "  pred = float(D @ self.rls[l].w)\n",
            "/tmp/ipython-input-4-455621206.py:139: DeprecationWarning: Conversion of an array with ndim > 0 to a scalar is deprecated, and will error in future. Ensure you extract a single element from your array before performing this operation. (Deprecated NumPy 1.25.)\n",
            "  pred = float(D @ self.rls[l].w)\n",
            "/tmp/ipython-input-4-455621206.py:139: DeprecationWarning: Conversion of an array with ndim > 0 to a scalar is deprecated, and will error in future. Ensure you extract a single element from your array before performing this operation. (Deprecated NumPy 1.25.)\n",
            "  pred = float(D @ self.rls[l].w)\n",
            "/tmp/ipython-input-4-455621206.py:139: DeprecationWarning: Conversion of an array with ndim > 0 to a scalar is deprecated, and will error in future. Ensure you extract a single element from your array before performing this operation. (Deprecated NumPy 1.25.)\n",
            "  pred = float(D @ self.rls[l].w)\n",
            "/tmp/ipython-input-4-455621206.py:139: DeprecationWarning: Conversion of an array with ndim > 0 to a scalar is deprecated, and will error in future. Ensure you extract a single element from your array before performing this operation. (Deprecated NumPy 1.25.)\n",
            "  pred = float(D @ self.rls[l].w)\n",
            "/tmp/ipython-input-4-455621206.py:139: DeprecationWarning: Conversion of an array with ndim > 0 to a scalar is deprecated, and will error in future. Ensure you extract a single element from your array before performing this operation. (Deprecated NumPy 1.25.)\n",
            "  pred = float(D @ self.rls[l].w)\n",
            "/tmp/ipython-input-4-455621206.py:139: DeprecationWarning: Conversion of an array with ndim > 0 to a scalar is deprecated, and will error in future. Ensure you extract a single element from your array before performing this operation. (Deprecated NumPy 1.25.)\n",
            "  pred = float(D @ self.rls[l].w)\n",
            "/tmp/ipython-input-4-455621206.py:139: DeprecationWarning: Conversion of an array with ndim > 0 to a scalar is deprecated, and will error in future. Ensure you extract a single element from your array before performing this operation. (Deprecated NumPy 1.25.)\n",
            "  pred = float(D @ self.rls[l].w)\n",
            "/tmp/ipython-input-4-455621206.py:139: DeprecationWarning: Conversion of an array with ndim > 0 to a scalar is deprecated, and will error in future. Ensure you extract a single element from your array before performing this operation. (Deprecated NumPy 1.25.)\n",
            "  pred = float(D @ self.rls[l].w)\n"
          ]
        },
        {
          "name": "stdout",
          "output_type": "stream",
          "text": [
            "s=0.4, L=9, N_hidden=40 -> RMSE: 4.9390, MASE: 0.3771\n",
            "s=0.5, L=2, N_hidden=20 -> RMSE: 5.1415, MASE: 0.4806\n",
            "s=0.5, L=2, N_hidden=30 -> RMSE: 5.4494, MASE: 0.5024\n"
          ]
        },
        {
          "name": "stderr",
          "output_type": "stream",
          "text": [
            "/tmp/ipython-input-4-455621206.py:139: DeprecationWarning: Conversion of an array with ndim > 0 to a scalar is deprecated, and will error in future. Ensure you extract a single element from your array before performing this operation. (Deprecated NumPy 1.25.)\n",
            "  pred = float(D @ self.rls[l].w)\n"
          ]
        },
        {
          "name": "stdout",
          "output_type": "stream",
          "text": [
            "s=0.5, L=2, N_hidden=40 -> RMSE: 5.7316, MASE: 0.5177\n"
          ]
        },
        {
          "name": "stderr",
          "output_type": "stream",
          "text": [
            "/tmp/ipython-input-4-455621206.py:139: DeprecationWarning: Conversion of an array with ndim > 0 to a scalar is deprecated, and will error in future. Ensure you extract a single element from your array before performing this operation. (Deprecated NumPy 1.25.)\n",
            "  pred = float(D @ self.rls[l].w)\n"
          ]
        },
        {
          "name": "stdout",
          "output_type": "stream",
          "text": [
            "s=0.5, L=3, N_hidden=20 -> RMSE: 5.2038, MASE: 0.4783\n"
          ]
        },
        {
          "name": "stderr",
          "output_type": "stream",
          "text": [
            "/tmp/ipython-input-4-455621206.py:139: DeprecationWarning: Conversion of an array with ndim > 0 to a scalar is deprecated, and will error in future. Ensure you extract a single element from your array before performing this operation. (Deprecated NumPy 1.25.)\n",
            "  pred = float(D @ self.rls[l].w)\n",
            "/tmp/ipython-input-4-455621206.py:139: DeprecationWarning: Conversion of an array with ndim > 0 to a scalar is deprecated, and will error in future. Ensure you extract a single element from your array before performing this operation. (Deprecated NumPy 1.25.)\n",
            "  pred = float(D @ self.rls[l].w)\n",
            "/tmp/ipython-input-4-455621206.py:139: DeprecationWarning: Conversion of an array with ndim > 0 to a scalar is deprecated, and will error in future. Ensure you extract a single element from your array before performing this operation. (Deprecated NumPy 1.25.)\n",
            "  pred = float(D @ self.rls[l].w)\n"
          ]
        },
        {
          "name": "stdout",
          "output_type": "stream",
          "text": [
            "s=0.5, L=3, N_hidden=30 -> RMSE: 4.7990, MASE: 0.4347\n",
            "s=0.5, L=3, N_hidden=40 -> RMSE: 4.9978, MASE: 0.4351\n"
          ]
        },
        {
          "name": "stderr",
          "output_type": "stream",
          "text": [
            "/tmp/ipython-input-4-455621206.py:139: DeprecationWarning: Conversion of an array with ndim > 0 to a scalar is deprecated, and will error in future. Ensure you extract a single element from your array before performing this operation. (Deprecated NumPy 1.25.)\n",
            "  pred = float(D @ self.rls[l].w)\n"
          ]
        },
        {
          "name": "stdout",
          "output_type": "stream",
          "text": [
            "s=0.5, L=4, N_hidden=20 -> RMSE: 4.7690, MASE: 0.4276\n"
          ]
        },
        {
          "name": "stderr",
          "output_type": "stream",
          "text": [
            "/tmp/ipython-input-4-455621206.py:139: DeprecationWarning: Conversion of an array with ndim > 0 to a scalar is deprecated, and will error in future. Ensure you extract a single element from your array before performing this operation. (Deprecated NumPy 1.25.)\n",
            "  pred = float(D @ self.rls[l].w)\n"
          ]
        },
        {
          "name": "stdout",
          "output_type": "stream",
          "text": [
            "s=0.5, L=4, N_hidden=30 -> RMSE: 5.0657, MASE: 0.4275\n"
          ]
        },
        {
          "name": "stderr",
          "output_type": "stream",
          "text": [
            "/tmp/ipython-input-4-455621206.py:139: DeprecationWarning: Conversion of an array with ndim > 0 to a scalar is deprecated, and will error in future. Ensure you extract a single element from your array before performing this operation. (Deprecated NumPy 1.25.)\n",
            "  pred = float(D @ self.rls[l].w)\n",
            "/tmp/ipython-input-4-455621206.py:139: DeprecationWarning: Conversion of an array with ndim > 0 to a scalar is deprecated, and will error in future. Ensure you extract a single element from your array before performing this operation. (Deprecated NumPy 1.25.)\n",
            "  pred = float(D @ self.rls[l].w)\n"
          ]
        },
        {
          "name": "stdout",
          "output_type": "stream",
          "text": [
            "s=0.5, L=4, N_hidden=40 -> RMSE: 4.9263, MASE: 0.4080\n"
          ]
        },
        {
          "name": "stderr",
          "output_type": "stream",
          "text": [
            "/tmp/ipython-input-4-455621206.py:139: DeprecationWarning: Conversion of an array with ndim > 0 to a scalar is deprecated, and will error in future. Ensure you extract a single element from your array before performing this operation. (Deprecated NumPy 1.25.)\n",
            "  pred = float(D @ self.rls[l].w)\n"
          ]
        },
        {
          "name": "stdout",
          "output_type": "stream",
          "text": [
            "s=0.5, L=5, N_hidden=20 -> RMSE: 4.7616, MASE: 0.4221\n"
          ]
        },
        {
          "name": "stderr",
          "output_type": "stream",
          "text": [
            "/tmp/ipython-input-4-455621206.py:139: DeprecationWarning: Conversion of an array with ndim > 0 to a scalar is deprecated, and will error in future. Ensure you extract a single element from your array before performing this operation. (Deprecated NumPy 1.25.)\n",
            "  pred = float(D @ self.rls[l].w)\n",
            "/tmp/ipython-input-4-455621206.py:139: DeprecationWarning: Conversion of an array with ndim > 0 to a scalar is deprecated, and will error in future. Ensure you extract a single element from your array before performing this operation. (Deprecated NumPy 1.25.)\n",
            "  pred = float(D @ self.rls[l].w)\n"
          ]
        },
        {
          "name": "stdout",
          "output_type": "stream",
          "text": [
            "s=0.5, L=5, N_hidden=30 -> RMSE: 5.2467, MASE: 0.4184\n"
          ]
        },
        {
          "name": "stderr",
          "output_type": "stream",
          "text": [
            "/tmp/ipython-input-4-455621206.py:139: DeprecationWarning: Conversion of an array with ndim > 0 to a scalar is deprecated, and will error in future. Ensure you extract a single element from your array before performing this operation. (Deprecated NumPy 1.25.)\n",
            "  pred = float(D @ self.rls[l].w)\n",
            "/tmp/ipython-input-4-455621206.py:139: DeprecationWarning: Conversion of an array with ndim > 0 to a scalar is deprecated, and will error in future. Ensure you extract a single element from your array before performing this operation. (Deprecated NumPy 1.25.)\n",
            "  pred = float(D @ self.rls[l].w)\n",
            "/tmp/ipython-input-4-455621206.py:139: DeprecationWarning: Conversion of an array with ndim > 0 to a scalar is deprecated, and will error in future. Ensure you extract a single element from your array before performing this operation. (Deprecated NumPy 1.25.)\n",
            "  pred = float(D @ self.rls[l].w)\n",
            "/tmp/ipython-input-4-455621206.py:139: DeprecationWarning: Conversion of an array with ndim > 0 to a scalar is deprecated, and will error in future. Ensure you extract a single element from your array before performing this operation. (Deprecated NumPy 1.25.)\n",
            "  pred = float(D @ self.rls[l].w)\n",
            "/tmp/ipython-input-4-455621206.py:139: DeprecationWarning: Conversion of an array with ndim > 0 to a scalar is deprecated, and will error in future. Ensure you extract a single element from your array before performing this operation. (Deprecated NumPy 1.25.)\n",
            "  pred = float(D @ self.rls[l].w)\n"
          ]
        },
        {
          "name": "stdout",
          "output_type": "stream",
          "text": [
            "s=0.5, L=5, N_hidden=40 -> RMSE: 5.2621, MASE: 0.4301\n"
          ]
        },
        {
          "name": "stderr",
          "output_type": "stream",
          "text": [
            "/tmp/ipython-input-4-455621206.py:139: DeprecationWarning: Conversion of an array with ndim > 0 to a scalar is deprecated, and will error in future. Ensure you extract a single element from your array before performing this operation. (Deprecated NumPy 1.25.)\n",
            "  pred = float(D @ self.rls[l].w)\n",
            "/tmp/ipython-input-4-455621206.py:139: DeprecationWarning: Conversion of an array with ndim > 0 to a scalar is deprecated, and will error in future. Ensure you extract a single element from your array before performing this operation. (Deprecated NumPy 1.25.)\n",
            "  pred = float(D @ self.rls[l].w)\n"
          ]
        },
        {
          "name": "stdout",
          "output_type": "stream",
          "text": [
            "s=0.5, L=6, N_hidden=20 -> RMSE: 4.7753, MASE: 0.4080\n"
          ]
        },
        {
          "name": "stderr",
          "output_type": "stream",
          "text": [
            "/tmp/ipython-input-4-455621206.py:139: DeprecationWarning: Conversion of an array with ndim > 0 to a scalar is deprecated, and will error in future. Ensure you extract a single element from your array before performing this operation. (Deprecated NumPy 1.25.)\n",
            "  pred = float(D @ self.rls[l].w)\n",
            "/tmp/ipython-input-4-455621206.py:139: DeprecationWarning: Conversion of an array with ndim > 0 to a scalar is deprecated, and will error in future. Ensure you extract a single element from your array before performing this operation. (Deprecated NumPy 1.25.)\n",
            "  pred = float(D @ self.rls[l].w)\n",
            "/tmp/ipython-input-4-455621206.py:139: DeprecationWarning: Conversion of an array with ndim > 0 to a scalar is deprecated, and will error in future. Ensure you extract a single element from your array before performing this operation. (Deprecated NumPy 1.25.)\n",
            "  pred = float(D @ self.rls[l].w)\n"
          ]
        },
        {
          "name": "stdout",
          "output_type": "stream",
          "text": [
            "s=0.5, L=6, N_hidden=30 -> RMSE: 4.0540, MASE: 0.3267\n"
          ]
        },
        {
          "name": "stderr",
          "output_type": "stream",
          "text": [
            "/tmp/ipython-input-4-455621206.py:139: DeprecationWarning: Conversion of an array with ndim > 0 to a scalar is deprecated, and will error in future. Ensure you extract a single element from your array before performing this operation. (Deprecated NumPy 1.25.)\n",
            "  pred = float(D @ self.rls[l].w)\n",
            "/tmp/ipython-input-4-455621206.py:139: DeprecationWarning: Conversion of an array with ndim > 0 to a scalar is deprecated, and will error in future. Ensure you extract a single element from your array before performing this operation. (Deprecated NumPy 1.25.)\n",
            "  pred = float(D @ self.rls[l].w)\n",
            "/tmp/ipython-input-4-455621206.py:139: DeprecationWarning: Conversion of an array with ndim > 0 to a scalar is deprecated, and will error in future. Ensure you extract a single element from your array before performing this operation. (Deprecated NumPy 1.25.)\n",
            "  pred = float(D @ self.rls[l].w)\n",
            "/tmp/ipython-input-4-455621206.py:139: DeprecationWarning: Conversion of an array with ndim > 0 to a scalar is deprecated, and will error in future. Ensure you extract a single element from your array before performing this operation. (Deprecated NumPy 1.25.)\n",
            "  pred = float(D @ self.rls[l].w)\n",
            "/tmp/ipython-input-4-455621206.py:139: DeprecationWarning: Conversion of an array with ndim > 0 to a scalar is deprecated, and will error in future. Ensure you extract a single element from your array before performing this operation. (Deprecated NumPy 1.25.)\n",
            "  pred = float(D @ self.rls[l].w)\n"
          ]
        },
        {
          "name": "stdout",
          "output_type": "stream",
          "text": [
            "s=0.5, L=6, N_hidden=40 -> RMSE: 4.3463, MASE: 0.3595\n"
          ]
        },
        {
          "name": "stderr",
          "output_type": "stream",
          "text": [
            "/tmp/ipython-input-4-455621206.py:139: DeprecationWarning: Conversion of an array with ndim > 0 to a scalar is deprecated, and will error in future. Ensure you extract a single element from your array before performing this operation. (Deprecated NumPy 1.25.)\n",
            "  pred = float(D @ self.rls[l].w)\n",
            "/tmp/ipython-input-4-455621206.py:139: DeprecationWarning: Conversion of an array with ndim > 0 to a scalar is deprecated, and will error in future. Ensure you extract a single element from your array before performing this operation. (Deprecated NumPy 1.25.)\n",
            "  pred = float(D @ self.rls[l].w)\n"
          ]
        },
        {
          "name": "stdout",
          "output_type": "stream",
          "text": [
            "s=0.5, L=7, N_hidden=20 -> RMSE: 4.8303, MASE: 0.3923\n"
          ]
        },
        {
          "name": "stderr",
          "output_type": "stream",
          "text": [
            "/tmp/ipython-input-4-455621206.py:139: DeprecationWarning: Conversion of an array with ndim > 0 to a scalar is deprecated, and will error in future. Ensure you extract a single element from your array before performing this operation. (Deprecated NumPy 1.25.)\n",
            "  pred = float(D @ self.rls[l].w)\n",
            "/tmp/ipython-input-4-455621206.py:139: DeprecationWarning: Conversion of an array with ndim > 0 to a scalar is deprecated, and will error in future. Ensure you extract a single element from your array before performing this operation. (Deprecated NumPy 1.25.)\n",
            "  pred = float(D @ self.rls[l].w)\n",
            "/tmp/ipython-input-4-455621206.py:139: DeprecationWarning: Conversion of an array with ndim > 0 to a scalar is deprecated, and will error in future. Ensure you extract a single element from your array before performing this operation. (Deprecated NumPy 1.25.)\n",
            "  pred = float(D @ self.rls[l].w)\n"
          ]
        },
        {
          "name": "stdout",
          "output_type": "stream",
          "text": [
            "s=0.5, L=7, N_hidden=30 -> RMSE: 4.4558, MASE: 0.3747\n"
          ]
        },
        {
          "name": "stderr",
          "output_type": "stream",
          "text": [
            "/tmp/ipython-input-4-455621206.py:139: DeprecationWarning: Conversion of an array with ndim > 0 to a scalar is deprecated, and will error in future. Ensure you extract a single element from your array before performing this operation. (Deprecated NumPy 1.25.)\n",
            "  pred = float(D @ self.rls[l].w)\n",
            "/tmp/ipython-input-4-455621206.py:139: DeprecationWarning: Conversion of an array with ndim > 0 to a scalar is deprecated, and will error in future. Ensure you extract a single element from your array before performing this operation. (Deprecated NumPy 1.25.)\n",
            "  pred = float(D @ self.rls[l].w)\n",
            "/tmp/ipython-input-4-455621206.py:139: DeprecationWarning: Conversion of an array with ndim > 0 to a scalar is deprecated, and will error in future. Ensure you extract a single element from your array before performing this operation. (Deprecated NumPy 1.25.)\n",
            "  pred = float(D @ self.rls[l].w)\n",
            "/tmp/ipython-input-4-455621206.py:139: DeprecationWarning: Conversion of an array with ndim > 0 to a scalar is deprecated, and will error in future. Ensure you extract a single element from your array before performing this operation. (Deprecated NumPy 1.25.)\n",
            "  pred = float(D @ self.rls[l].w)\n",
            "/tmp/ipython-input-4-455621206.py:139: DeprecationWarning: Conversion of an array with ndim > 0 to a scalar is deprecated, and will error in future. Ensure you extract a single element from your array before performing this operation. (Deprecated NumPy 1.25.)\n",
            "  pred = float(D @ self.rls[l].w)\n"
          ]
        },
        {
          "name": "stdout",
          "output_type": "stream",
          "text": [
            "s=0.5, L=7, N_hidden=40 -> RMSE: 4.1682, MASE: 0.3243\n"
          ]
        },
        {
          "name": "stderr",
          "output_type": "stream",
          "text": [
            "/tmp/ipython-input-4-455621206.py:139: DeprecationWarning: Conversion of an array with ndim > 0 to a scalar is deprecated, and will error in future. Ensure you extract a single element from your array before performing this operation. (Deprecated NumPy 1.25.)\n",
            "  pred = float(D @ self.rls[l].w)\n",
            "/tmp/ipython-input-4-455621206.py:139: DeprecationWarning: Conversion of an array with ndim > 0 to a scalar is deprecated, and will error in future. Ensure you extract a single element from your array before performing this operation. (Deprecated NumPy 1.25.)\n",
            "  pred = float(D @ self.rls[l].w)\n"
          ]
        },
        {
          "name": "stdout",
          "output_type": "stream",
          "text": [
            "s=0.5, L=8, N_hidden=20 -> RMSE: 4.5402, MASE: 0.3507\n"
          ]
        },
        {
          "name": "stderr",
          "output_type": "stream",
          "text": [
            "/tmp/ipython-input-4-455621206.py:139: DeprecationWarning: Conversion of an array with ndim > 0 to a scalar is deprecated, and will error in future. Ensure you extract a single element from your array before performing this operation. (Deprecated NumPy 1.25.)\n",
            "  pred = float(D @ self.rls[l].w)\n",
            "/tmp/ipython-input-4-455621206.py:139: DeprecationWarning: Conversion of an array with ndim > 0 to a scalar is deprecated, and will error in future. Ensure you extract a single element from your array before performing this operation. (Deprecated NumPy 1.25.)\n",
            "  pred = float(D @ self.rls[l].w)\n",
            "/tmp/ipython-input-4-455621206.py:139: DeprecationWarning: Conversion of an array with ndim > 0 to a scalar is deprecated, and will error in future. Ensure you extract a single element from your array before performing this operation. (Deprecated NumPy 1.25.)\n",
            "  pred = float(D @ self.rls[l].w)\n",
            "/tmp/ipython-input-4-455621206.py:139: DeprecationWarning: Conversion of an array with ndim > 0 to a scalar is deprecated, and will error in future. Ensure you extract a single element from your array before performing this operation. (Deprecated NumPy 1.25.)\n",
            "  pred = float(D @ self.rls[l].w)\n"
          ]
        },
        {
          "name": "stdout",
          "output_type": "stream",
          "text": [
            "s=0.5, L=8, N_hidden=30 -> RMSE: 4.4210, MASE: 0.3369\n"
          ]
        },
        {
          "name": "stderr",
          "output_type": "stream",
          "text": [
            "/tmp/ipython-input-4-455621206.py:139: DeprecationWarning: Conversion of an array with ndim > 0 to a scalar is deprecated, and will error in future. Ensure you extract a single element from your array before performing this operation. (Deprecated NumPy 1.25.)\n",
            "  pred = float(D @ self.rls[l].w)\n",
            "/tmp/ipython-input-4-455621206.py:139: DeprecationWarning: Conversion of an array with ndim > 0 to a scalar is deprecated, and will error in future. Ensure you extract a single element from your array before performing this operation. (Deprecated NumPy 1.25.)\n",
            "  pred = float(D @ self.rls[l].w)\n",
            "/tmp/ipython-input-4-455621206.py:139: DeprecationWarning: Conversion of an array with ndim > 0 to a scalar is deprecated, and will error in future. Ensure you extract a single element from your array before performing this operation. (Deprecated NumPy 1.25.)\n",
            "  pred = float(D @ self.rls[l].w)\n",
            "/tmp/ipython-input-4-455621206.py:139: DeprecationWarning: Conversion of an array with ndim > 0 to a scalar is deprecated, and will error in future. Ensure you extract a single element from your array before performing this operation. (Deprecated NumPy 1.25.)\n",
            "  pred = float(D @ self.rls[l].w)\n",
            "/tmp/ipython-input-4-455621206.py:139: DeprecationWarning: Conversion of an array with ndim > 0 to a scalar is deprecated, and will error in future. Ensure you extract a single element from your array before performing this operation. (Deprecated NumPy 1.25.)\n",
            "  pred = float(D @ self.rls[l].w)\n",
            "/tmp/ipython-input-4-455621206.py:139: DeprecationWarning: Conversion of an array with ndim > 0 to a scalar is deprecated, and will error in future. Ensure you extract a single element from your array before performing this operation. (Deprecated NumPy 1.25.)\n",
            "  pred = float(D @ self.rls[l].w)\n",
            "/tmp/ipython-input-4-455621206.py:139: DeprecationWarning: Conversion of an array with ndim > 0 to a scalar is deprecated, and will error in future. Ensure you extract a single element from your array before performing this operation. (Deprecated NumPy 1.25.)\n",
            "  pred = float(D @ self.rls[l].w)\n",
            "/tmp/ipython-input-4-455621206.py:139: DeprecationWarning: Conversion of an array with ndim > 0 to a scalar is deprecated, and will error in future. Ensure you extract a single element from your array before performing this operation. (Deprecated NumPy 1.25.)\n",
            "  pred = float(D @ self.rls[l].w)\n",
            "/tmp/ipython-input-4-455621206.py:139: DeprecationWarning: Conversion of an array with ndim > 0 to a scalar is deprecated, and will error in future. Ensure you extract a single element from your array before performing this operation. (Deprecated NumPy 1.25.)\n",
            "  pred = float(D @ self.rls[l].w)\n",
            "/tmp/ipython-input-4-455621206.py:139: DeprecationWarning: Conversion of an array with ndim > 0 to a scalar is deprecated, and will error in future. Ensure you extract a single element from your array before performing this operation. (Deprecated NumPy 1.25.)\n",
            "  pred = float(D @ self.rls[l].w)\n",
            "/tmp/ipython-input-4-455621206.py:139: DeprecationWarning: Conversion of an array with ndim > 0 to a scalar is deprecated, and will error in future. Ensure you extract a single element from your array before performing this operation. (Deprecated NumPy 1.25.)\n",
            "  pred = float(D @ self.rls[l].w)\n"
          ]
        },
        {
          "name": "stdout",
          "output_type": "stream",
          "text": [
            "s=0.5, L=8, N_hidden=40 -> RMSE: 4.7642, MASE: 0.3427\n"
          ]
        },
        {
          "name": "stderr",
          "output_type": "stream",
          "text": [
            "/tmp/ipython-input-4-455621206.py:139: DeprecationWarning: Conversion of an array with ndim > 0 to a scalar is deprecated, and will error in future. Ensure you extract a single element from your array before performing this operation. (Deprecated NumPy 1.25.)\n",
            "  pred = float(D @ self.rls[l].w)\n",
            "/tmp/ipython-input-4-455621206.py:139: DeprecationWarning: Conversion of an array with ndim > 0 to a scalar is deprecated, and will error in future. Ensure you extract a single element from your array before performing this operation. (Deprecated NumPy 1.25.)\n",
            "  pred = float(D @ self.rls[l].w)\n",
            "/tmp/ipython-input-4-455621206.py:139: DeprecationWarning: Conversion of an array with ndim > 0 to a scalar is deprecated, and will error in future. Ensure you extract a single element from your array before performing this operation. (Deprecated NumPy 1.25.)\n",
            "  pred = float(D @ self.rls[l].w)\n",
            "/tmp/ipython-input-4-455621206.py:139: DeprecationWarning: Conversion of an array with ndim > 0 to a scalar is deprecated, and will error in future. Ensure you extract a single element from your array before performing this operation. (Deprecated NumPy 1.25.)\n",
            "  pred = float(D @ self.rls[l].w)\n"
          ]
        },
        {
          "name": "stdout",
          "output_type": "stream",
          "text": [
            "s=0.5, L=9, N_hidden=20 -> RMSE: 5.0294, MASE: 0.4043\n"
          ]
        },
        {
          "name": "stderr",
          "output_type": "stream",
          "text": [
            "/tmp/ipython-input-4-455621206.py:139: DeprecationWarning: Conversion of an array with ndim > 0 to a scalar is deprecated, and will error in future. Ensure you extract a single element from your array before performing this operation. (Deprecated NumPy 1.25.)\n",
            "  pred = float(D @ self.rls[l].w)\n",
            "/tmp/ipython-input-4-455621206.py:139: DeprecationWarning: Conversion of an array with ndim > 0 to a scalar is deprecated, and will error in future. Ensure you extract a single element from your array before performing this operation. (Deprecated NumPy 1.25.)\n",
            "  pred = float(D @ self.rls[l].w)\n",
            "/tmp/ipython-input-4-455621206.py:139: DeprecationWarning: Conversion of an array with ndim > 0 to a scalar is deprecated, and will error in future. Ensure you extract a single element from your array before performing this operation. (Deprecated NumPy 1.25.)\n",
            "  pred = float(D @ self.rls[l].w)\n",
            "/tmp/ipython-input-4-455621206.py:139: DeprecationWarning: Conversion of an array with ndim > 0 to a scalar is deprecated, and will error in future. Ensure you extract a single element from your array before performing this operation. (Deprecated NumPy 1.25.)\n",
            "  pred = float(D @ self.rls[l].w)\n"
          ]
        },
        {
          "name": "stdout",
          "output_type": "stream",
          "text": [
            "s=0.5, L=9, N_hidden=30 -> RMSE: 5.1711, MASE: 0.3864\n"
          ]
        },
        {
          "name": "stderr",
          "output_type": "stream",
          "text": [
            "/tmp/ipython-input-4-455621206.py:139: DeprecationWarning: Conversion of an array with ndim > 0 to a scalar is deprecated, and will error in future. Ensure you extract a single element from your array before performing this operation. (Deprecated NumPy 1.25.)\n",
            "  pred = float(D @ self.rls[l].w)\n",
            "/tmp/ipython-input-4-455621206.py:139: DeprecationWarning: Conversion of an array with ndim > 0 to a scalar is deprecated, and will error in future. Ensure you extract a single element from your array before performing this operation. (Deprecated NumPy 1.25.)\n",
            "  pred = float(D @ self.rls[l].w)\n",
            "/tmp/ipython-input-4-455621206.py:139: DeprecationWarning: Conversion of an array with ndim > 0 to a scalar is deprecated, and will error in future. Ensure you extract a single element from your array before performing this operation. (Deprecated NumPy 1.25.)\n",
            "  pred = float(D @ self.rls[l].w)\n",
            "/tmp/ipython-input-4-455621206.py:139: DeprecationWarning: Conversion of an array with ndim > 0 to a scalar is deprecated, and will error in future. Ensure you extract a single element from your array before performing this operation. (Deprecated NumPy 1.25.)\n",
            "  pred = float(D @ self.rls[l].w)\n",
            "/tmp/ipython-input-4-455621206.py:139: DeprecationWarning: Conversion of an array with ndim > 0 to a scalar is deprecated, and will error in future. Ensure you extract a single element from your array before performing this operation. (Deprecated NumPy 1.25.)\n",
            "  pred = float(D @ self.rls[l].w)\n",
            "/tmp/ipython-input-4-455621206.py:139: DeprecationWarning: Conversion of an array with ndim > 0 to a scalar is deprecated, and will error in future. Ensure you extract a single element from your array before performing this operation. (Deprecated NumPy 1.25.)\n",
            "  pred = float(D @ self.rls[l].w)\n",
            "/tmp/ipython-input-4-455621206.py:139: DeprecationWarning: Conversion of an array with ndim > 0 to a scalar is deprecated, and will error in future. Ensure you extract a single element from your array before performing this operation. (Deprecated NumPy 1.25.)\n",
            "  pred = float(D @ self.rls[l].w)\n",
            "/tmp/ipython-input-4-455621206.py:139: DeprecationWarning: Conversion of an array with ndim > 0 to a scalar is deprecated, and will error in future. Ensure you extract a single element from your array before performing this operation. (Deprecated NumPy 1.25.)\n",
            "  pred = float(D @ self.rls[l].w)\n",
            "/tmp/ipython-input-4-455621206.py:139: DeprecationWarning: Conversion of an array with ndim > 0 to a scalar is deprecated, and will error in future. Ensure you extract a single element from your array before performing this operation. (Deprecated NumPy 1.25.)\n",
            "  pred = float(D @ self.rls[l].w)\n",
            "/tmp/ipython-input-4-455621206.py:139: DeprecationWarning: Conversion of an array with ndim > 0 to a scalar is deprecated, and will error in future. Ensure you extract a single element from your array before performing this operation. (Deprecated NumPy 1.25.)\n",
            "  pred = float(D @ self.rls[l].w)\n",
            "/tmp/ipython-input-4-455621206.py:139: DeprecationWarning: Conversion of an array with ndim > 0 to a scalar is deprecated, and will error in future. Ensure you extract a single element from your array before performing this operation. (Deprecated NumPy 1.25.)\n",
            "  pred = float(D @ self.rls[l].w)\n",
            "/tmp/ipython-input-4-455621206.py:139: DeprecationWarning: Conversion of an array with ndim > 0 to a scalar is deprecated, and will error in future. Ensure you extract a single element from your array before performing this operation. (Deprecated NumPy 1.25.)\n",
            "  pred = float(D @ self.rls[l].w)\n"
          ]
        },
        {
          "name": "stdout",
          "output_type": "stream",
          "text": [
            "s=0.5, L=9, N_hidden=40 -> RMSE: 5.1330, MASE: 0.3875\n",
            "s=0.6, L=2, N_hidden=20 -> RMSE: 5.0556, MASE: 0.4791\n"
          ]
        },
        {
          "name": "stderr",
          "output_type": "stream",
          "text": [
            "/tmp/ipython-input-4-455621206.py:139: DeprecationWarning: Conversion of an array with ndim > 0 to a scalar is deprecated, and will error in future. Ensure you extract a single element from your array before performing this operation. (Deprecated NumPy 1.25.)\n",
            "  pred = float(D @ self.rls[l].w)\n",
            "/tmp/ipython-input-4-455621206.py:139: DeprecationWarning: Conversion of an array with ndim > 0 to a scalar is deprecated, and will error in future. Ensure you extract a single element from your array before performing this operation. (Deprecated NumPy 1.25.)\n",
            "  pred = float(D @ self.rls[l].w)\n"
          ]
        },
        {
          "name": "stdout",
          "output_type": "stream",
          "text": [
            "s=0.6, L=2, N_hidden=30 -> RMSE: 5.0111, MASE: 0.4463\n",
            "s=0.6, L=2, N_hidden=40 -> RMSE: 4.9804, MASE: 0.4397\n"
          ]
        },
        {
          "name": "stderr",
          "output_type": "stream",
          "text": [
            "/tmp/ipython-input-4-455621206.py:139: DeprecationWarning: Conversion of an array with ndim > 0 to a scalar is deprecated, and will error in future. Ensure you extract a single element from your array before performing this operation. (Deprecated NumPy 1.25.)\n",
            "  pred = float(D @ self.rls[l].w)\n",
            "/tmp/ipython-input-4-455621206.py:139: DeprecationWarning: Conversion of an array with ndim > 0 to a scalar is deprecated, and will error in future. Ensure you extract a single element from your array before performing this operation. (Deprecated NumPy 1.25.)\n",
            "  pred = float(D @ self.rls[l].w)\n",
            "/tmp/ipython-input-4-455621206.py:139: DeprecationWarning: Conversion of an array with ndim > 0 to a scalar is deprecated, and will error in future. Ensure you extract a single element from your array before performing this operation. (Deprecated NumPy 1.25.)\n",
            "  pred = float(D @ self.rls[l].w)\n",
            "/tmp/ipython-input-4-455621206.py:139: DeprecationWarning: Conversion of an array with ndim > 0 to a scalar is deprecated, and will error in future. Ensure you extract a single element from your array before performing this operation. (Deprecated NumPy 1.25.)\n",
            "  pred = float(D @ self.rls[l].w)\n"
          ]
        },
        {
          "name": "stdout",
          "output_type": "stream",
          "text": [
            "s=0.6, L=3, N_hidden=20 -> RMSE: 5.1220, MASE: 0.4771\n"
          ]
        },
        {
          "name": "stderr",
          "output_type": "stream",
          "text": [
            "/tmp/ipython-input-4-455621206.py:139: DeprecationWarning: Conversion of an array with ndim > 0 to a scalar is deprecated, and will error in future. Ensure you extract a single element from your array before performing this operation. (Deprecated NumPy 1.25.)\n",
            "  pred = float(D @ self.rls[l].w)\n"
          ]
        },
        {
          "name": "stdout",
          "output_type": "stream",
          "text": [
            "s=0.6, L=3, N_hidden=30 -> RMSE: 5.3832, MASE: 0.4566\n"
          ]
        },
        {
          "name": "stderr",
          "output_type": "stream",
          "text": [
            "/tmp/ipython-input-4-455621206.py:139: DeprecationWarning: Conversion of an array with ndim > 0 to a scalar is deprecated, and will error in future. Ensure you extract a single element from your array before performing this operation. (Deprecated NumPy 1.25.)\n",
            "  pred = float(D @ self.rls[l].w)\n"
          ]
        },
        {
          "name": "stdout",
          "output_type": "stream",
          "text": [
            "s=0.6, L=3, N_hidden=40 -> RMSE: 5.2347, MASE: 0.4699\n"
          ]
        },
        {
          "name": "stderr",
          "output_type": "stream",
          "text": [
            "/tmp/ipython-input-4-455621206.py:139: DeprecationWarning: Conversion of an array with ndim > 0 to a scalar is deprecated, and will error in future. Ensure you extract a single element from your array before performing this operation. (Deprecated NumPy 1.25.)\n",
            "  pred = float(D @ self.rls[l].w)\n"
          ]
        },
        {
          "name": "stdout",
          "output_type": "stream",
          "text": [
            "s=0.6, L=4, N_hidden=20 -> RMSE: 4.7397, MASE: 0.4169\n"
          ]
        },
        {
          "name": "stderr",
          "output_type": "stream",
          "text": [
            "/tmp/ipython-input-4-455621206.py:139: DeprecationWarning: Conversion of an array with ndim > 0 to a scalar is deprecated, and will error in future. Ensure you extract a single element from your array before performing this operation. (Deprecated NumPy 1.25.)\n",
            "  pred = float(D @ self.rls[l].w)\n"
          ]
        },
        {
          "name": "stdout",
          "output_type": "stream",
          "text": [
            "s=0.6, L=4, N_hidden=30 -> RMSE: 4.8663, MASE: 0.4230\n"
          ]
        },
        {
          "name": "stderr",
          "output_type": "stream",
          "text": [
            "/tmp/ipython-input-4-455621206.py:139: DeprecationWarning: Conversion of an array with ndim > 0 to a scalar is deprecated, and will error in future. Ensure you extract a single element from your array before performing this operation. (Deprecated NumPy 1.25.)\n",
            "  pred = float(D @ self.rls[l].w)\n",
            "/tmp/ipython-input-4-455621206.py:139: DeprecationWarning: Conversion of an array with ndim > 0 to a scalar is deprecated, and will error in future. Ensure you extract a single element from your array before performing this operation. (Deprecated NumPy 1.25.)\n",
            "  pred = float(D @ self.rls[l].w)\n"
          ]
        },
        {
          "name": "stdout",
          "output_type": "stream",
          "text": [
            "s=0.6, L=4, N_hidden=40 -> RMSE: 4.9447, MASE: 0.4056\n"
          ]
        },
        {
          "name": "stderr",
          "output_type": "stream",
          "text": [
            "/tmp/ipython-input-4-455621206.py:139: DeprecationWarning: Conversion of an array with ndim > 0 to a scalar is deprecated, and will error in future. Ensure you extract a single element from your array before performing this operation. (Deprecated NumPy 1.25.)\n",
            "  pred = float(D @ self.rls[l].w)\n",
            "/tmp/ipython-input-4-455621206.py:139: DeprecationWarning: Conversion of an array with ndim > 0 to a scalar is deprecated, and will error in future. Ensure you extract a single element from your array before performing this operation. (Deprecated NumPy 1.25.)\n",
            "  pred = float(D @ self.rls[l].w)\n",
            "/tmp/ipython-input-4-455621206.py:139: DeprecationWarning: Conversion of an array with ndim > 0 to a scalar is deprecated, and will error in future. Ensure you extract a single element from your array before performing this operation. (Deprecated NumPy 1.25.)\n",
            "  pred = float(D @ self.rls[l].w)\n"
          ]
        },
        {
          "name": "stdout",
          "output_type": "stream",
          "text": [
            "s=0.6, L=5, N_hidden=20 -> RMSE: 4.6616, MASE: 0.3991\n"
          ]
        },
        {
          "name": "stderr",
          "output_type": "stream",
          "text": [
            "/tmp/ipython-input-4-455621206.py:139: DeprecationWarning: Conversion of an array with ndim > 0 to a scalar is deprecated, and will error in future. Ensure you extract a single element from your array before performing this operation. (Deprecated NumPy 1.25.)\n",
            "  pred = float(D @ self.rls[l].w)\n",
            "/tmp/ipython-input-4-455621206.py:139: DeprecationWarning: Conversion of an array with ndim > 0 to a scalar is deprecated, and will error in future. Ensure you extract a single element from your array before performing this operation. (Deprecated NumPy 1.25.)\n",
            "  pred = float(D @ self.rls[l].w)\n"
          ]
        },
        {
          "name": "stdout",
          "output_type": "stream",
          "text": [
            "s=0.6, L=5, N_hidden=30 -> RMSE: 4.8378, MASE: 0.4056\n"
          ]
        },
        {
          "name": "stderr",
          "output_type": "stream",
          "text": [
            "/tmp/ipython-input-4-455621206.py:139: DeprecationWarning: Conversion of an array with ndim > 0 to a scalar is deprecated, and will error in future. Ensure you extract a single element from your array before performing this operation. (Deprecated NumPy 1.25.)\n",
            "  pred = float(D @ self.rls[l].w)\n",
            "/tmp/ipython-input-4-455621206.py:139: DeprecationWarning: Conversion of an array with ndim > 0 to a scalar is deprecated, and will error in future. Ensure you extract a single element from your array before performing this operation. (Deprecated NumPy 1.25.)\n",
            "  pred = float(D @ self.rls[l].w)\n",
            "/tmp/ipython-input-4-455621206.py:139: DeprecationWarning: Conversion of an array with ndim > 0 to a scalar is deprecated, and will error in future. Ensure you extract a single element from your array before performing this operation. (Deprecated NumPy 1.25.)\n",
            "  pred = float(D @ self.rls[l].w)\n",
            "/tmp/ipython-input-4-455621206.py:139: DeprecationWarning: Conversion of an array with ndim > 0 to a scalar is deprecated, and will error in future. Ensure you extract a single element from your array before performing this operation. (Deprecated NumPy 1.25.)\n",
            "  pred = float(D @ self.rls[l].w)\n"
          ]
        },
        {
          "name": "stdout",
          "output_type": "stream",
          "text": [
            "s=0.6, L=5, N_hidden=40 -> RMSE: 4.8589, MASE: 0.3932\n"
          ]
        },
        {
          "name": "stderr",
          "output_type": "stream",
          "text": [
            "/tmp/ipython-input-4-455621206.py:139: DeprecationWarning: Conversion of an array with ndim > 0 to a scalar is deprecated, and will error in future. Ensure you extract a single element from your array before performing this operation. (Deprecated NumPy 1.25.)\n",
            "  pred = float(D @ self.rls[l].w)\n",
            "/tmp/ipython-input-4-455621206.py:139: DeprecationWarning: Conversion of an array with ndim > 0 to a scalar is deprecated, and will error in future. Ensure you extract a single element from your array before performing this operation. (Deprecated NumPy 1.25.)\n",
            "  pred = float(D @ self.rls[l].w)\n",
            "/tmp/ipython-input-4-455621206.py:139: DeprecationWarning: Conversion of an array with ndim > 0 to a scalar is deprecated, and will error in future. Ensure you extract a single element from your array before performing this operation. (Deprecated NumPy 1.25.)\n",
            "  pred = float(D @ self.rls[l].w)\n",
            "/tmp/ipython-input-4-455621206.py:139: DeprecationWarning: Conversion of an array with ndim > 0 to a scalar is deprecated, and will error in future. Ensure you extract a single element from your array before performing this operation. (Deprecated NumPy 1.25.)\n",
            "  pred = float(D @ self.rls[l].w)\n"
          ]
        },
        {
          "name": "stdout",
          "output_type": "stream",
          "text": [
            "s=0.6, L=6, N_hidden=20 -> RMSE: 4.7376, MASE: 0.4055\n"
          ]
        },
        {
          "name": "stderr",
          "output_type": "stream",
          "text": [
            "/tmp/ipython-input-4-455621206.py:139: DeprecationWarning: Conversion of an array with ndim > 0 to a scalar is deprecated, and will error in future. Ensure you extract a single element from your array before performing this operation. (Deprecated NumPy 1.25.)\n",
            "  pred = float(D @ self.rls[l].w)\n",
            "/tmp/ipython-input-4-455621206.py:139: DeprecationWarning: Conversion of an array with ndim > 0 to a scalar is deprecated, and will error in future. Ensure you extract a single element from your array before performing this operation. (Deprecated NumPy 1.25.)\n",
            "  pred = float(D @ self.rls[l].w)\n",
            "/tmp/ipython-input-4-455621206.py:139: DeprecationWarning: Conversion of an array with ndim > 0 to a scalar is deprecated, and will error in future. Ensure you extract a single element from your array before performing this operation. (Deprecated NumPy 1.25.)\n",
            "  pred = float(D @ self.rls[l].w)\n"
          ]
        },
        {
          "name": "stdout",
          "output_type": "stream",
          "text": [
            "s=0.6, L=6, N_hidden=30 -> RMSE: 4.5375, MASE: 0.3981\n"
          ]
        },
        {
          "name": "stderr",
          "output_type": "stream",
          "text": [
            "/tmp/ipython-input-4-455621206.py:139: DeprecationWarning: Conversion of an array with ndim > 0 to a scalar is deprecated, and will error in future. Ensure you extract a single element from your array before performing this operation. (Deprecated NumPy 1.25.)\n",
            "  pred = float(D @ self.rls[l].w)\n",
            "/tmp/ipython-input-4-455621206.py:139: DeprecationWarning: Conversion of an array with ndim > 0 to a scalar is deprecated, and will error in future. Ensure you extract a single element from your array before performing this operation. (Deprecated NumPy 1.25.)\n",
            "  pred = float(D @ self.rls[l].w)\n",
            "/tmp/ipython-input-4-455621206.py:139: DeprecationWarning: Conversion of an array with ndim > 0 to a scalar is deprecated, and will error in future. Ensure you extract a single element from your array before performing this operation. (Deprecated NumPy 1.25.)\n",
            "  pred = float(D @ self.rls[l].w)\n",
            "/tmp/ipython-input-4-455621206.py:139: DeprecationWarning: Conversion of an array with ndim > 0 to a scalar is deprecated, and will error in future. Ensure you extract a single element from your array before performing this operation. (Deprecated NumPy 1.25.)\n",
            "  pred = float(D @ self.rls[l].w)\n",
            "/tmp/ipython-input-4-455621206.py:139: DeprecationWarning: Conversion of an array with ndim > 0 to a scalar is deprecated, and will error in future. Ensure you extract a single element from your array before performing this operation. (Deprecated NumPy 1.25.)\n",
            "  pred = float(D @ self.rls[l].w)\n"
          ]
        },
        {
          "name": "stdout",
          "output_type": "stream",
          "text": [
            "s=0.6, L=6, N_hidden=40 -> RMSE: 4.8270, MASE: 0.3610\n",
            "s=0.6, L=7, N_hidden=20 -> RMSE: 4.5914, MASE: 0.3809\n"
          ]
        },
        {
          "name": "stderr",
          "output_type": "stream",
          "text": [
            "/tmp/ipython-input-4-455621206.py:139: DeprecationWarning: Conversion of an array with ndim > 0 to a scalar is deprecated, and will error in future. Ensure you extract a single element from your array before performing this operation. (Deprecated NumPy 1.25.)\n",
            "  pred = float(D @ self.rls[l].w)\n",
            "/tmp/ipython-input-4-455621206.py:139: DeprecationWarning: Conversion of an array with ndim > 0 to a scalar is deprecated, and will error in future. Ensure you extract a single element from your array before performing this operation. (Deprecated NumPy 1.25.)\n",
            "  pred = float(D @ self.rls[l].w)\n",
            "/tmp/ipython-input-4-455621206.py:139: DeprecationWarning: Conversion of an array with ndim > 0 to a scalar is deprecated, and will error in future. Ensure you extract a single element from your array before performing this operation. (Deprecated NumPy 1.25.)\n",
            "  pred = float(D @ self.rls[l].w)\n",
            "/tmp/ipython-input-4-455621206.py:139: DeprecationWarning: Conversion of an array with ndim > 0 to a scalar is deprecated, and will error in future. Ensure you extract a single element from your array before performing this operation. (Deprecated NumPy 1.25.)\n",
            "  pred = float(D @ self.rls[l].w)\n",
            "/tmp/ipython-input-4-455621206.py:139: DeprecationWarning: Conversion of an array with ndim > 0 to a scalar is deprecated, and will error in future. Ensure you extract a single element from your array before performing this operation. (Deprecated NumPy 1.25.)\n",
            "  pred = float(D @ self.rls[l].w)\n",
            "/tmp/ipython-input-4-455621206.py:139: DeprecationWarning: Conversion of an array with ndim > 0 to a scalar is deprecated, and will error in future. Ensure you extract a single element from your array before performing this operation. (Deprecated NumPy 1.25.)\n",
            "  pred = float(D @ self.rls[l].w)\n"
          ]
        },
        {
          "name": "stdout",
          "output_type": "stream",
          "text": [
            "s=0.6, L=7, N_hidden=30 -> RMSE: 4.7052, MASE: 0.3763\n"
          ]
        },
        {
          "name": "stderr",
          "output_type": "stream",
          "text": [
            "/tmp/ipython-input-4-455621206.py:139: DeprecationWarning: Conversion of an array with ndim > 0 to a scalar is deprecated, and will error in future. Ensure you extract a single element from your array before performing this operation. (Deprecated NumPy 1.25.)\n",
            "  pred = float(D @ self.rls[l].w)\n",
            "/tmp/ipython-input-4-455621206.py:139: DeprecationWarning: Conversion of an array with ndim > 0 to a scalar is deprecated, and will error in future. Ensure you extract a single element from your array before performing this operation. (Deprecated NumPy 1.25.)\n",
            "  pred = float(D @ self.rls[l].w)\n",
            "/tmp/ipython-input-4-455621206.py:139: DeprecationWarning: Conversion of an array with ndim > 0 to a scalar is deprecated, and will error in future. Ensure you extract a single element from your array before performing this operation. (Deprecated NumPy 1.25.)\n",
            "  pred = float(D @ self.rls[l].w)\n",
            "/tmp/ipython-input-4-455621206.py:139: DeprecationWarning: Conversion of an array with ndim > 0 to a scalar is deprecated, and will error in future. Ensure you extract a single element from your array before performing this operation. (Deprecated NumPy 1.25.)\n",
            "  pred = float(D @ self.rls[l].w)\n",
            "/tmp/ipython-input-4-455621206.py:139: DeprecationWarning: Conversion of an array with ndim > 0 to a scalar is deprecated, and will error in future. Ensure you extract a single element from your array before performing this operation. (Deprecated NumPy 1.25.)\n",
            "  pred = float(D @ self.rls[l].w)\n"
          ]
        },
        {
          "name": "stdout",
          "output_type": "stream",
          "text": [
            "s=0.6, L=7, N_hidden=40 -> RMSE: 4.5674, MASE: 0.3427\n"
          ]
        },
        {
          "name": "stderr",
          "output_type": "stream",
          "text": [
            "/tmp/ipython-input-4-455621206.py:139: DeprecationWarning: Conversion of an array with ndim > 0 to a scalar is deprecated, and will error in future. Ensure you extract a single element from your array before performing this operation. (Deprecated NumPy 1.25.)\n",
            "  pred = float(D @ self.rls[l].w)\n",
            "/tmp/ipython-input-4-455621206.py:139: DeprecationWarning: Conversion of an array with ndim > 0 to a scalar is deprecated, and will error in future. Ensure you extract a single element from your array before performing this operation. (Deprecated NumPy 1.25.)\n",
            "  pred = float(D @ self.rls[l].w)\n",
            "/tmp/ipython-input-4-455621206.py:139: DeprecationWarning: Conversion of an array with ndim > 0 to a scalar is deprecated, and will error in future. Ensure you extract a single element from your array before performing this operation. (Deprecated NumPy 1.25.)\n",
            "  pred = float(D @ self.rls[l].w)\n"
          ]
        },
        {
          "name": "stdout",
          "output_type": "stream",
          "text": [
            "s=0.6, L=8, N_hidden=20 -> RMSE: 4.6119, MASE: 0.3733\n"
          ]
        },
        {
          "name": "stderr",
          "output_type": "stream",
          "text": [
            "/tmp/ipython-input-4-455621206.py:139: DeprecationWarning: Conversion of an array with ndim > 0 to a scalar is deprecated, and will error in future. Ensure you extract a single element from your array before performing this operation. (Deprecated NumPy 1.25.)\n",
            "  pred = float(D @ self.rls[l].w)\n",
            "/tmp/ipython-input-4-455621206.py:139: DeprecationWarning: Conversion of an array with ndim > 0 to a scalar is deprecated, and will error in future. Ensure you extract a single element from your array before performing this operation. (Deprecated NumPy 1.25.)\n",
            "  pred = float(D @ self.rls[l].w)\n"
          ]
        },
        {
          "name": "stdout",
          "output_type": "stream",
          "text": [
            "s=0.6, L=8, N_hidden=30 -> RMSE: 4.5115, MASE: 0.3601\n"
          ]
        },
        {
          "name": "stderr",
          "output_type": "stream",
          "text": [
            "/tmp/ipython-input-4-455621206.py:139: DeprecationWarning: Conversion of an array with ndim > 0 to a scalar is deprecated, and will error in future. Ensure you extract a single element from your array before performing this operation. (Deprecated NumPy 1.25.)\n",
            "  pred = float(D @ self.rls[l].w)\n",
            "/tmp/ipython-input-4-455621206.py:139: DeprecationWarning: Conversion of an array with ndim > 0 to a scalar is deprecated, and will error in future. Ensure you extract a single element from your array before performing this operation. (Deprecated NumPy 1.25.)\n",
            "  pred = float(D @ self.rls[l].w)\n",
            "/tmp/ipython-input-4-455621206.py:139: DeprecationWarning: Conversion of an array with ndim > 0 to a scalar is deprecated, and will error in future. Ensure you extract a single element from your array before performing this operation. (Deprecated NumPy 1.25.)\n",
            "  pred = float(D @ self.rls[l].w)\n",
            "/tmp/ipython-input-4-455621206.py:139: DeprecationWarning: Conversion of an array with ndim > 0 to a scalar is deprecated, and will error in future. Ensure you extract a single element from your array before performing this operation. (Deprecated NumPy 1.25.)\n",
            "  pred = float(D @ self.rls[l].w)\n",
            "/tmp/ipython-input-4-455621206.py:139: DeprecationWarning: Conversion of an array with ndim > 0 to a scalar is deprecated, and will error in future. Ensure you extract a single element from your array before performing this operation. (Deprecated NumPy 1.25.)\n",
            "  pred = float(D @ self.rls[l].w)\n",
            "/tmp/ipython-input-4-455621206.py:139: DeprecationWarning: Conversion of an array with ndim > 0 to a scalar is deprecated, and will error in future. Ensure you extract a single element from your array before performing this operation. (Deprecated NumPy 1.25.)\n",
            "  pred = float(D @ self.rls[l].w)\n",
            "/tmp/ipython-input-4-455621206.py:139: DeprecationWarning: Conversion of an array with ndim > 0 to a scalar is deprecated, and will error in future. Ensure you extract a single element from your array before performing this operation. (Deprecated NumPy 1.25.)\n",
            "  pred = float(D @ self.rls[l].w)\n",
            "/tmp/ipython-input-4-455621206.py:139: DeprecationWarning: Conversion of an array with ndim > 0 to a scalar is deprecated, and will error in future. Ensure you extract a single element from your array before performing this operation. (Deprecated NumPy 1.25.)\n",
            "  pred = float(D @ self.rls[l].w)\n",
            "/tmp/ipython-input-4-455621206.py:139: DeprecationWarning: Conversion of an array with ndim > 0 to a scalar is deprecated, and will error in future. Ensure you extract a single element from your array before performing this operation. (Deprecated NumPy 1.25.)\n",
            "  pred = float(D @ self.rls[l].w)\n",
            "/tmp/ipython-input-4-455621206.py:139: DeprecationWarning: Conversion of an array with ndim > 0 to a scalar is deprecated, and will error in future. Ensure you extract a single element from your array before performing this operation. (Deprecated NumPy 1.25.)\n",
            "  pred = float(D @ self.rls[l].w)\n"
          ]
        },
        {
          "name": "stdout",
          "output_type": "stream",
          "text": [
            "s=0.6, L=8, N_hidden=40 -> RMSE: 5.2861, MASE: 0.3872\n"
          ]
        },
        {
          "name": "stderr",
          "output_type": "stream",
          "text": [
            "/tmp/ipython-input-4-455621206.py:139: DeprecationWarning: Conversion of an array with ndim > 0 to a scalar is deprecated, and will error in future. Ensure you extract a single element from your array before performing this operation. (Deprecated NumPy 1.25.)\n",
            "  pred = float(D @ self.rls[l].w)\n",
            "/tmp/ipython-input-4-455621206.py:139: DeprecationWarning: Conversion of an array with ndim > 0 to a scalar is deprecated, and will error in future. Ensure you extract a single element from your array before performing this operation. (Deprecated NumPy 1.25.)\n",
            "  pred = float(D @ self.rls[l].w)\n",
            "/tmp/ipython-input-4-455621206.py:139: DeprecationWarning: Conversion of an array with ndim > 0 to a scalar is deprecated, and will error in future. Ensure you extract a single element from your array before performing this operation. (Deprecated NumPy 1.25.)\n",
            "  pred = float(D @ self.rls[l].w)\n",
            "/tmp/ipython-input-4-455621206.py:139: DeprecationWarning: Conversion of an array with ndim > 0 to a scalar is deprecated, and will error in future. Ensure you extract a single element from your array before performing this operation. (Deprecated NumPy 1.25.)\n",
            "  pred = float(D @ self.rls[l].w)\n"
          ]
        },
        {
          "name": "stdout",
          "output_type": "stream",
          "text": [
            "s=0.6, L=9, N_hidden=20 -> RMSE: 3.9118, MASE: 0.3105\n"
          ]
        },
        {
          "name": "stderr",
          "output_type": "stream",
          "text": [
            "/tmp/ipython-input-4-455621206.py:139: DeprecationWarning: Conversion of an array with ndim > 0 to a scalar is deprecated, and will error in future. Ensure you extract a single element from your array before performing this operation. (Deprecated NumPy 1.25.)\n",
            "  pred = float(D @ self.rls[l].w)\n",
            "/tmp/ipython-input-4-455621206.py:139: DeprecationWarning: Conversion of an array with ndim > 0 to a scalar is deprecated, and will error in future. Ensure you extract a single element from your array before performing this operation. (Deprecated NumPy 1.25.)\n",
            "  pred = float(D @ self.rls[l].w)\n",
            "/tmp/ipython-input-4-455621206.py:139: DeprecationWarning: Conversion of an array with ndim > 0 to a scalar is deprecated, and will error in future. Ensure you extract a single element from your array before performing this operation. (Deprecated NumPy 1.25.)\n",
            "  pred = float(D @ self.rls[l].w)\n",
            "/tmp/ipython-input-4-455621206.py:139: DeprecationWarning: Conversion of an array with ndim > 0 to a scalar is deprecated, and will error in future. Ensure you extract a single element from your array before performing this operation. (Deprecated NumPy 1.25.)\n",
            "  pred = float(D @ self.rls[l].w)\n"
          ]
        },
        {
          "name": "stdout",
          "output_type": "stream",
          "text": [
            "s=0.6, L=9, N_hidden=30 -> RMSE: 3.4214, MASE: 0.2837\n"
          ]
        },
        {
          "name": "stderr",
          "output_type": "stream",
          "text": [
            "/tmp/ipython-input-4-455621206.py:139: DeprecationWarning: Conversion of an array with ndim > 0 to a scalar is deprecated, and will error in future. Ensure you extract a single element from your array before performing this operation. (Deprecated NumPy 1.25.)\n",
            "  pred = float(D @ self.rls[l].w)\n",
            "/tmp/ipython-input-4-455621206.py:139: DeprecationWarning: Conversion of an array with ndim > 0 to a scalar is deprecated, and will error in future. Ensure you extract a single element from your array before performing this operation. (Deprecated NumPy 1.25.)\n",
            "  pred = float(D @ self.rls[l].w)\n",
            "/tmp/ipython-input-4-455621206.py:139: DeprecationWarning: Conversion of an array with ndim > 0 to a scalar is deprecated, and will error in future. Ensure you extract a single element from your array before performing this operation. (Deprecated NumPy 1.25.)\n",
            "  pred = float(D @ self.rls[l].w)\n",
            "/tmp/ipython-input-4-455621206.py:139: DeprecationWarning: Conversion of an array with ndim > 0 to a scalar is deprecated, and will error in future. Ensure you extract a single element from your array before performing this operation. (Deprecated NumPy 1.25.)\n",
            "  pred = float(D @ self.rls[l].w)\n",
            "/tmp/ipython-input-4-455621206.py:139: DeprecationWarning: Conversion of an array with ndim > 0 to a scalar is deprecated, and will error in future. Ensure you extract a single element from your array before performing this operation. (Deprecated NumPy 1.25.)\n",
            "  pred = float(D @ self.rls[l].w)\n",
            "/tmp/ipython-input-4-455621206.py:139: DeprecationWarning: Conversion of an array with ndim > 0 to a scalar is deprecated, and will error in future. Ensure you extract a single element from your array before performing this operation. (Deprecated NumPy 1.25.)\n",
            "  pred = float(D @ self.rls[l].w)\n",
            "/tmp/ipython-input-4-455621206.py:139: DeprecationWarning: Conversion of an array with ndim > 0 to a scalar is deprecated, and will error in future. Ensure you extract a single element from your array before performing this operation. (Deprecated NumPy 1.25.)\n",
            "  pred = float(D @ self.rls[l].w)\n",
            "/tmp/ipython-input-4-455621206.py:139: DeprecationWarning: Conversion of an array with ndim > 0 to a scalar is deprecated, and will error in future. Ensure you extract a single element from your array before performing this operation. (Deprecated NumPy 1.25.)\n",
            "  pred = float(D @ self.rls[l].w)\n",
            "/tmp/ipython-input-4-455621206.py:139: DeprecationWarning: Conversion of an array with ndim > 0 to a scalar is deprecated, and will error in future. Ensure you extract a single element from your array before performing this operation. (Deprecated NumPy 1.25.)\n",
            "  pred = float(D @ self.rls[l].w)\n",
            "/tmp/ipython-input-4-455621206.py:139: DeprecationWarning: Conversion of an array with ndim > 0 to a scalar is deprecated, and will error in future. Ensure you extract a single element from your array before performing this operation. (Deprecated NumPy 1.25.)\n",
            "  pred = float(D @ self.rls[l].w)\n",
            "/tmp/ipython-input-4-455621206.py:139: DeprecationWarning: Conversion of an array with ndim > 0 to a scalar is deprecated, and will error in future. Ensure you extract a single element from your array before performing this operation. (Deprecated NumPy 1.25.)\n",
            "  pred = float(D @ self.rls[l].w)\n",
            "/tmp/ipython-input-4-455621206.py:139: DeprecationWarning: Conversion of an array with ndim > 0 to a scalar is deprecated, and will error in future. Ensure you extract a single element from your array before performing this operation. (Deprecated NumPy 1.25.)\n",
            "  pred = float(D @ self.rls[l].w)\n"
          ]
        },
        {
          "name": "stdout",
          "output_type": "stream",
          "text": [
            "s=0.6, L=9, N_hidden=40 -> RMSE: 5.1581, MASE: 0.4134\n",
            "s=0.7, L=2, N_hidden=20 -> RMSE: 4.9967, MASE: 0.4543\n"
          ]
        },
        {
          "name": "stderr",
          "output_type": "stream",
          "text": [
            "/tmp/ipython-input-4-455621206.py:139: DeprecationWarning: Conversion of an array with ndim > 0 to a scalar is deprecated, and will error in future. Ensure you extract a single element from your array before performing this operation. (Deprecated NumPy 1.25.)\n",
            "  pred = float(D @ self.rls[l].w)\n",
            "/tmp/ipython-input-4-455621206.py:139: DeprecationWarning: Conversion of an array with ndim > 0 to a scalar is deprecated, and will error in future. Ensure you extract a single element from your array before performing this operation. (Deprecated NumPy 1.25.)\n",
            "  pred = float(D @ self.rls[l].w)\n",
            "/tmp/ipython-input-4-455621206.py:139: DeprecationWarning: Conversion of an array with ndim > 0 to a scalar is deprecated, and will error in future. Ensure you extract a single element from your array before performing this operation. (Deprecated NumPy 1.25.)\n",
            "  pred = float(D @ self.rls[l].w)\n",
            "/tmp/ipython-input-4-455621206.py:139: DeprecationWarning: Conversion of an array with ndim > 0 to a scalar is deprecated, and will error in future. Ensure you extract a single element from your array before performing this operation. (Deprecated NumPy 1.25.)\n",
            "  pred = float(D @ self.rls[l].w)\n"
          ]
        },
        {
          "name": "stdout",
          "output_type": "stream",
          "text": [
            "s=0.7, L=2, N_hidden=30 -> RMSE: 5.1289, MASE: 0.4617\n",
            "s=0.7, L=2, N_hidden=40 -> RMSE: 4.8922, MASE: 0.4431\n"
          ]
        },
        {
          "name": "stderr",
          "output_type": "stream",
          "text": [
            "/tmp/ipython-input-4-455621206.py:139: DeprecationWarning: Conversion of an array with ndim > 0 to a scalar is deprecated, and will error in future. Ensure you extract a single element from your array before performing this operation. (Deprecated NumPy 1.25.)\n",
            "  pred = float(D @ self.rls[l].w)\n"
          ]
        },
        {
          "name": "stdout",
          "output_type": "stream",
          "text": [
            "s=0.7, L=3, N_hidden=20 -> RMSE: 4.8470, MASE: 0.4511\n"
          ]
        },
        {
          "name": "stderr",
          "output_type": "stream",
          "text": [
            "/tmp/ipython-input-4-455621206.py:139: DeprecationWarning: Conversion of an array with ndim > 0 to a scalar is deprecated, and will error in future. Ensure you extract a single element from your array before performing this operation. (Deprecated NumPy 1.25.)\n",
            "  pred = float(D @ self.rls[l].w)\n"
          ]
        },
        {
          "name": "stdout",
          "output_type": "stream",
          "text": [
            "s=0.7, L=3, N_hidden=30 -> RMSE: 5.1011, MASE: 0.4510\n"
          ]
        },
        {
          "name": "stderr",
          "output_type": "stream",
          "text": [
            "/tmp/ipython-input-4-455621206.py:139: DeprecationWarning: Conversion of an array with ndim > 0 to a scalar is deprecated, and will error in future. Ensure you extract a single element from your array before performing this operation. (Deprecated NumPy 1.25.)\n",
            "  pred = float(D @ self.rls[l].w)\n",
            "/tmp/ipython-input-4-455621206.py:139: DeprecationWarning: Conversion of an array with ndim > 0 to a scalar is deprecated, and will error in future. Ensure you extract a single element from your array before performing this operation. (Deprecated NumPy 1.25.)\n",
            "  pred = float(D @ self.rls[l].w)\n",
            "/tmp/ipython-input-4-455621206.py:139: DeprecationWarning: Conversion of an array with ndim > 0 to a scalar is deprecated, and will error in future. Ensure you extract a single element from your array before performing this operation. (Deprecated NumPy 1.25.)\n",
            "  pred = float(D @ self.rls[l].w)\n"
          ]
        },
        {
          "name": "stdout",
          "output_type": "stream",
          "text": [
            "s=0.7, L=3, N_hidden=40 -> RMSE: 5.7977, MASE: 0.5114\n",
            "s=0.7, L=4, N_hidden=20 -> RMSE: 4.5391, MASE: 0.4067\n"
          ]
        },
        {
          "name": "stderr",
          "output_type": "stream",
          "text": [
            "/tmp/ipython-input-4-455621206.py:139: DeprecationWarning: Conversion of an array with ndim > 0 to a scalar is deprecated, and will error in future. Ensure you extract a single element from your array before performing this operation. (Deprecated NumPy 1.25.)\n",
            "  pred = float(D @ self.rls[l].w)\n",
            "/tmp/ipython-input-4-455621206.py:139: DeprecationWarning: Conversion of an array with ndim > 0 to a scalar is deprecated, and will error in future. Ensure you extract a single element from your array before performing this operation. (Deprecated NumPy 1.25.)\n",
            "  pred = float(D @ self.rls[l].w)\n",
            "/tmp/ipython-input-4-455621206.py:139: DeprecationWarning: Conversion of an array with ndim > 0 to a scalar is deprecated, and will error in future. Ensure you extract a single element from your array before performing this operation. (Deprecated NumPy 1.25.)\n",
            "  pred = float(D @ self.rls[l].w)\n"
          ]
        },
        {
          "name": "stdout",
          "output_type": "stream",
          "text": [
            "s=0.7, L=4, N_hidden=30 -> RMSE: 4.4859, MASE: 0.3851\n"
          ]
        },
        {
          "name": "stderr",
          "output_type": "stream",
          "text": [
            "/tmp/ipython-input-4-455621206.py:139: DeprecationWarning: Conversion of an array with ndim > 0 to a scalar is deprecated, and will error in future. Ensure you extract a single element from your array before performing this operation. (Deprecated NumPy 1.25.)\n",
            "  pred = float(D @ self.rls[l].w)\n",
            "/tmp/ipython-input-4-455621206.py:139: DeprecationWarning: Conversion of an array with ndim > 0 to a scalar is deprecated, and will error in future. Ensure you extract a single element from your array before performing this operation. (Deprecated NumPy 1.25.)\n",
            "  pred = float(D @ self.rls[l].w)\n"
          ]
        },
        {
          "name": "stdout",
          "output_type": "stream",
          "text": [
            "s=0.7, L=4, N_hidden=40 -> RMSE: 5.3059, MASE: 0.4503\n"
          ]
        },
        {
          "name": "stderr",
          "output_type": "stream",
          "text": [
            "/tmp/ipython-input-4-455621206.py:139: DeprecationWarning: Conversion of an array with ndim > 0 to a scalar is deprecated, and will error in future. Ensure you extract a single element from your array before performing this operation. (Deprecated NumPy 1.25.)\n",
            "  pred = float(D @ self.rls[l].w)\n",
            "/tmp/ipython-input-4-455621206.py:139: DeprecationWarning: Conversion of an array with ndim > 0 to a scalar is deprecated, and will error in future. Ensure you extract a single element from your array before performing this operation. (Deprecated NumPy 1.25.)\n",
            "  pred = float(D @ self.rls[l].w)\n",
            "/tmp/ipython-input-4-455621206.py:139: DeprecationWarning: Conversion of an array with ndim > 0 to a scalar is deprecated, and will error in future. Ensure you extract a single element from your array before performing this operation. (Deprecated NumPy 1.25.)\n",
            "  pred = float(D @ self.rls[l].w)\n",
            "/tmp/ipython-input-4-455621206.py:139: DeprecationWarning: Conversion of an array with ndim > 0 to a scalar is deprecated, and will error in future. Ensure you extract a single element from your array before performing this operation. (Deprecated NumPy 1.25.)\n",
            "  pred = float(D @ self.rls[l].w)\n"
          ]
        },
        {
          "name": "stdout",
          "output_type": "stream",
          "text": [
            "s=0.7, L=5, N_hidden=20 -> RMSE: 4.8260, MASE: 0.4359\n",
            "s=0.7, L=5, N_hidden=30 -> RMSE: 4.9939, MASE: 0.4094\n"
          ]
        },
        {
          "name": "stderr",
          "output_type": "stream",
          "text": [
            "/tmp/ipython-input-4-455621206.py:139: DeprecationWarning: Conversion of an array with ndim > 0 to a scalar is deprecated, and will error in future. Ensure you extract a single element from your array before performing this operation. (Deprecated NumPy 1.25.)\n",
            "  pred = float(D @ self.rls[l].w)\n",
            "/tmp/ipython-input-4-455621206.py:139: DeprecationWarning: Conversion of an array with ndim > 0 to a scalar is deprecated, and will error in future. Ensure you extract a single element from your array before performing this operation. (Deprecated NumPy 1.25.)\n",
            "  pred = float(D @ self.rls[l].w)\n",
            "/tmp/ipython-input-4-455621206.py:139: DeprecationWarning: Conversion of an array with ndim > 0 to a scalar is deprecated, and will error in future. Ensure you extract a single element from your array before performing this operation. (Deprecated NumPy 1.25.)\n",
            "  pred = float(D @ self.rls[l].w)\n"
          ]
        },
        {
          "name": "stdout",
          "output_type": "stream",
          "text": [
            "s=0.7, L=5, N_hidden=40 -> RMSE: 5.1017, MASE: 0.4198\n"
          ]
        },
        {
          "name": "stderr",
          "output_type": "stream",
          "text": [
            "/tmp/ipython-input-4-455621206.py:139: DeprecationWarning: Conversion of an array with ndim > 0 to a scalar is deprecated, and will error in future. Ensure you extract a single element from your array before performing this operation. (Deprecated NumPy 1.25.)\n",
            "  pred = float(D @ self.rls[l].w)\n",
            "/tmp/ipython-input-4-455621206.py:139: DeprecationWarning: Conversion of an array with ndim > 0 to a scalar is deprecated, and will error in future. Ensure you extract a single element from your array before performing this operation. (Deprecated NumPy 1.25.)\n",
            "  pred = float(D @ self.rls[l].w)\n",
            "/tmp/ipython-input-4-455621206.py:139: DeprecationWarning: Conversion of an array with ndim > 0 to a scalar is deprecated, and will error in future. Ensure you extract a single element from your array before performing this operation. (Deprecated NumPy 1.25.)\n",
            "  pred = float(D @ self.rls[l].w)\n"
          ]
        },
        {
          "name": "stdout",
          "output_type": "stream",
          "text": [
            "s=0.7, L=6, N_hidden=20 -> RMSE: 4.8304, MASE: 0.4145\n"
          ]
        },
        {
          "name": "stderr",
          "output_type": "stream",
          "text": [
            "/tmp/ipython-input-4-455621206.py:139: DeprecationWarning: Conversion of an array with ndim > 0 to a scalar is deprecated, and will error in future. Ensure you extract a single element from your array before performing this operation. (Deprecated NumPy 1.25.)\n",
            "  pred = float(D @ self.rls[l].w)\n"
          ]
        },
        {
          "name": "stdout",
          "output_type": "stream",
          "text": [
            "s=0.7, L=6, N_hidden=30 -> RMSE: 5.0024, MASE: 0.4132\n"
          ]
        },
        {
          "name": "stderr",
          "output_type": "stream",
          "text": [
            "/tmp/ipython-input-4-455621206.py:139: DeprecationWarning: Conversion of an array with ndim > 0 to a scalar is deprecated, and will error in future. Ensure you extract a single element from your array before performing this operation. (Deprecated NumPy 1.25.)\n",
            "  pred = float(D @ self.rls[l].w)\n",
            "/tmp/ipython-input-4-455621206.py:139: DeprecationWarning: Conversion of an array with ndim > 0 to a scalar is deprecated, and will error in future. Ensure you extract a single element from your array before performing this operation. (Deprecated NumPy 1.25.)\n",
            "  pred = float(D @ self.rls[l].w)\n",
            "/tmp/ipython-input-4-455621206.py:139: DeprecationWarning: Conversion of an array with ndim > 0 to a scalar is deprecated, and will error in future. Ensure you extract a single element from your array before performing this operation. (Deprecated NumPy 1.25.)\n",
            "  pred = float(D @ self.rls[l].w)\n"
          ]
        },
        {
          "name": "stdout",
          "output_type": "stream",
          "text": [
            "s=0.7, L=6, N_hidden=40 -> RMSE: 5.2730, MASE: 0.4111\n"
          ]
        },
        {
          "name": "stderr",
          "output_type": "stream",
          "text": [
            "/tmp/ipython-input-4-455621206.py:139: DeprecationWarning: Conversion of an array with ndim > 0 to a scalar is deprecated, and will error in future. Ensure you extract a single element from your array before performing this operation. (Deprecated NumPy 1.25.)\n",
            "  pred = float(D @ self.rls[l].w)\n",
            "/tmp/ipython-input-4-455621206.py:139: DeprecationWarning: Conversion of an array with ndim > 0 to a scalar is deprecated, and will error in future. Ensure you extract a single element from your array before performing this operation. (Deprecated NumPy 1.25.)\n",
            "  pred = float(D @ self.rls[l].w)\n",
            "/tmp/ipython-input-4-455621206.py:139: DeprecationWarning: Conversion of an array with ndim > 0 to a scalar is deprecated, and will error in future. Ensure you extract a single element from your array before performing this operation. (Deprecated NumPy 1.25.)\n",
            "  pred = float(D @ self.rls[l].w)\n",
            "/tmp/ipython-input-4-455621206.py:139: DeprecationWarning: Conversion of an array with ndim > 0 to a scalar is deprecated, and will error in future. Ensure you extract a single element from your array before performing this operation. (Deprecated NumPy 1.25.)\n",
            "  pred = float(D @ self.rls[l].w)\n"
          ]
        },
        {
          "name": "stdout",
          "output_type": "stream",
          "text": [
            "s=0.7, L=7, N_hidden=20 -> RMSE: 4.7141, MASE: 0.3875\n"
          ]
        },
        {
          "name": "stderr",
          "output_type": "stream",
          "text": [
            "/tmp/ipython-input-4-455621206.py:139: DeprecationWarning: Conversion of an array with ndim > 0 to a scalar is deprecated, and will error in future. Ensure you extract a single element from your array before performing this operation. (Deprecated NumPy 1.25.)\n",
            "  pred = float(D @ self.rls[l].w)\n",
            "/tmp/ipython-input-4-455621206.py:139: DeprecationWarning: Conversion of an array with ndim > 0 to a scalar is deprecated, and will error in future. Ensure you extract a single element from your array before performing this operation. (Deprecated NumPy 1.25.)\n",
            "  pred = float(D @ self.rls[l].w)\n",
            "/tmp/ipython-input-4-455621206.py:139: DeprecationWarning: Conversion of an array with ndim > 0 to a scalar is deprecated, and will error in future. Ensure you extract a single element from your array before performing this operation. (Deprecated NumPy 1.25.)\n",
            "  pred = float(D @ self.rls[l].w)\n",
            "/tmp/ipython-input-4-455621206.py:139: DeprecationWarning: Conversion of an array with ndim > 0 to a scalar is deprecated, and will error in future. Ensure you extract a single element from your array before performing this operation. (Deprecated NumPy 1.25.)\n",
            "  pred = float(D @ self.rls[l].w)\n",
            "/tmp/ipython-input-4-455621206.py:139: DeprecationWarning: Conversion of an array with ndim > 0 to a scalar is deprecated, and will error in future. Ensure you extract a single element from your array before performing this operation. (Deprecated NumPy 1.25.)\n",
            "  pred = float(D @ self.rls[l].w)\n"
          ]
        },
        {
          "name": "stdout",
          "output_type": "stream",
          "text": [
            "s=0.7, L=7, N_hidden=30 -> RMSE: 4.3588, MASE: 0.3488\n"
          ]
        },
        {
          "name": "stderr",
          "output_type": "stream",
          "text": [
            "/tmp/ipython-input-4-455621206.py:139: DeprecationWarning: Conversion of an array with ndim > 0 to a scalar is deprecated, and will error in future. Ensure you extract a single element from your array before performing this operation. (Deprecated NumPy 1.25.)\n",
            "  pred = float(D @ self.rls[l].w)\n",
            "/tmp/ipython-input-4-455621206.py:139: DeprecationWarning: Conversion of an array with ndim > 0 to a scalar is deprecated, and will error in future. Ensure you extract a single element from your array before performing this operation. (Deprecated NumPy 1.25.)\n",
            "  pred = float(D @ self.rls[l].w)\n",
            "/tmp/ipython-input-4-455621206.py:139: DeprecationWarning: Conversion of an array with ndim > 0 to a scalar is deprecated, and will error in future. Ensure you extract a single element from your array before performing this operation. (Deprecated NumPy 1.25.)\n",
            "  pred = float(D @ self.rls[l].w)\n",
            "/tmp/ipython-input-4-455621206.py:139: DeprecationWarning: Conversion of an array with ndim > 0 to a scalar is deprecated, and will error in future. Ensure you extract a single element from your array before performing this operation. (Deprecated NumPy 1.25.)\n",
            "  pred = float(D @ self.rls[l].w)\n",
            "/tmp/ipython-input-4-455621206.py:139: DeprecationWarning: Conversion of an array with ndim > 0 to a scalar is deprecated, and will error in future. Ensure you extract a single element from your array before performing this operation. (Deprecated NumPy 1.25.)\n",
            "  pred = float(D @ self.rls[l].w)\n"
          ]
        },
        {
          "name": "stdout",
          "output_type": "stream",
          "text": [
            "s=0.7, L=7, N_hidden=40 -> RMSE: 4.4203, MASE: 0.3440\n"
          ]
        },
        {
          "name": "stderr",
          "output_type": "stream",
          "text": [
            "/tmp/ipython-input-4-455621206.py:139: DeprecationWarning: Conversion of an array with ndim > 0 to a scalar is deprecated, and will error in future. Ensure you extract a single element from your array before performing this operation. (Deprecated NumPy 1.25.)\n",
            "  pred = float(D @ self.rls[l].w)\n"
          ]
        },
        {
          "name": "stdout",
          "output_type": "stream",
          "text": [
            "s=0.7, L=8, N_hidden=20 -> RMSE: 4.7809, MASE: 0.3885\n"
          ]
        },
        {
          "name": "stderr",
          "output_type": "stream",
          "text": [
            "/tmp/ipython-input-4-455621206.py:139: DeprecationWarning: Conversion of an array with ndim > 0 to a scalar is deprecated, and will error in future. Ensure you extract a single element from your array before performing this operation. (Deprecated NumPy 1.25.)\n",
            "  pred = float(D @ self.rls[l].w)\n",
            "/tmp/ipython-input-4-455621206.py:139: DeprecationWarning: Conversion of an array with ndim > 0 to a scalar is deprecated, and will error in future. Ensure you extract a single element from your array before performing this operation. (Deprecated NumPy 1.25.)\n",
            "  pred = float(D @ self.rls[l].w)\n",
            "/tmp/ipython-input-4-455621206.py:139: DeprecationWarning: Conversion of an array with ndim > 0 to a scalar is deprecated, and will error in future. Ensure you extract a single element from your array before performing this operation. (Deprecated NumPy 1.25.)\n",
            "  pred = float(D @ self.rls[l].w)\n",
            "/tmp/ipython-input-4-455621206.py:139: DeprecationWarning: Conversion of an array with ndim > 0 to a scalar is deprecated, and will error in future. Ensure you extract a single element from your array before performing this operation. (Deprecated NumPy 1.25.)\n",
            "  pred = float(D @ self.rls[l].w)\n"
          ]
        },
        {
          "name": "stdout",
          "output_type": "stream",
          "text": [
            "s=0.7, L=8, N_hidden=30 -> RMSE: 4.1107, MASE: 0.3254\n"
          ]
        },
        {
          "name": "stderr",
          "output_type": "stream",
          "text": [
            "/tmp/ipython-input-4-455621206.py:139: DeprecationWarning: Conversion of an array with ndim > 0 to a scalar is deprecated, and will error in future. Ensure you extract a single element from your array before performing this operation. (Deprecated NumPy 1.25.)\n",
            "  pred = float(D @ self.rls[l].w)\n",
            "/tmp/ipython-input-4-455621206.py:139: DeprecationWarning: Conversion of an array with ndim > 0 to a scalar is deprecated, and will error in future. Ensure you extract a single element from your array before performing this operation. (Deprecated NumPy 1.25.)\n",
            "  pred = float(D @ self.rls[l].w)\n",
            "/tmp/ipython-input-4-455621206.py:139: DeprecationWarning: Conversion of an array with ndim > 0 to a scalar is deprecated, and will error in future. Ensure you extract a single element from your array before performing this operation. (Deprecated NumPy 1.25.)\n",
            "  pred = float(D @ self.rls[l].w)\n",
            "/tmp/ipython-input-4-455621206.py:139: DeprecationWarning: Conversion of an array with ndim > 0 to a scalar is deprecated, and will error in future. Ensure you extract a single element from your array before performing this operation. (Deprecated NumPy 1.25.)\n",
            "  pred = float(D @ self.rls[l].w)\n",
            "/tmp/ipython-input-4-455621206.py:139: DeprecationWarning: Conversion of an array with ndim > 0 to a scalar is deprecated, and will error in future. Ensure you extract a single element from your array before performing this operation. (Deprecated NumPy 1.25.)\n",
            "  pred = float(D @ self.rls[l].w)\n",
            "/tmp/ipython-input-4-455621206.py:139: DeprecationWarning: Conversion of an array with ndim > 0 to a scalar is deprecated, and will error in future. Ensure you extract a single element from your array before performing this operation. (Deprecated NumPy 1.25.)\n",
            "  pred = float(D @ self.rls[l].w)\n",
            "/tmp/ipython-input-4-455621206.py:139: DeprecationWarning: Conversion of an array with ndim > 0 to a scalar is deprecated, and will error in future. Ensure you extract a single element from your array before performing this operation. (Deprecated NumPy 1.25.)\n",
            "  pred = float(D @ self.rls[l].w)\n",
            "/tmp/ipython-input-4-455621206.py:139: DeprecationWarning: Conversion of an array with ndim > 0 to a scalar is deprecated, and will error in future. Ensure you extract a single element from your array before performing this operation. (Deprecated NumPy 1.25.)\n",
            "  pred = float(D @ self.rls[l].w)\n",
            "/tmp/ipython-input-4-455621206.py:139: DeprecationWarning: Conversion of an array with ndim > 0 to a scalar is deprecated, and will error in future. Ensure you extract a single element from your array before performing this operation. (Deprecated NumPy 1.25.)\n",
            "  pred = float(D @ self.rls[l].w)\n",
            "/tmp/ipython-input-4-455621206.py:139: DeprecationWarning: Conversion of an array with ndim > 0 to a scalar is deprecated, and will error in future. Ensure you extract a single element from your array before performing this operation. (Deprecated NumPy 1.25.)\n",
            "  pred = float(D @ self.rls[l].w)\n"
          ]
        },
        {
          "name": "stdout",
          "output_type": "stream",
          "text": [
            "s=0.7, L=8, N_hidden=40 -> RMSE: 4.1394, MASE: 0.3264\n"
          ]
        },
        {
          "name": "stderr",
          "output_type": "stream",
          "text": [
            "/tmp/ipython-input-4-455621206.py:139: DeprecationWarning: Conversion of an array with ndim > 0 to a scalar is deprecated, and will error in future. Ensure you extract a single element from your array before performing this operation. (Deprecated NumPy 1.25.)\n",
            "  pred = float(D @ self.rls[l].w)\n",
            "/tmp/ipython-input-4-455621206.py:139: DeprecationWarning: Conversion of an array with ndim > 0 to a scalar is deprecated, and will error in future. Ensure you extract a single element from your array before performing this operation. (Deprecated NumPy 1.25.)\n",
            "  pred = float(D @ self.rls[l].w)\n",
            "/tmp/ipython-input-4-455621206.py:139: DeprecationWarning: Conversion of an array with ndim > 0 to a scalar is deprecated, and will error in future. Ensure you extract a single element from your array before performing this operation. (Deprecated NumPy 1.25.)\n",
            "  pred = float(D @ self.rls[l].w)\n",
            "/tmp/ipython-input-4-455621206.py:139: DeprecationWarning: Conversion of an array with ndim > 0 to a scalar is deprecated, and will error in future. Ensure you extract a single element from your array before performing this operation. (Deprecated NumPy 1.25.)\n",
            "  pred = float(D @ self.rls[l].w)\n"
          ]
        },
        {
          "name": "stdout",
          "output_type": "stream",
          "text": [
            "s=0.7, L=9, N_hidden=20 -> RMSE: 4.1586, MASE: 0.3359\n"
          ]
        },
        {
          "name": "stderr",
          "output_type": "stream",
          "text": [
            "/tmp/ipython-input-4-455621206.py:139: DeprecationWarning: Conversion of an array with ndim > 0 to a scalar is deprecated, and will error in future. Ensure you extract a single element from your array before performing this operation. (Deprecated NumPy 1.25.)\n",
            "  pred = float(D @ self.rls[l].w)\n",
            "/tmp/ipython-input-4-455621206.py:139: DeprecationWarning: Conversion of an array with ndim > 0 to a scalar is deprecated, and will error in future. Ensure you extract a single element from your array before performing this operation. (Deprecated NumPy 1.25.)\n",
            "  pred = float(D @ self.rls[l].w)\n",
            "/tmp/ipython-input-4-455621206.py:139: DeprecationWarning: Conversion of an array with ndim > 0 to a scalar is deprecated, and will error in future. Ensure you extract a single element from your array before performing this operation. (Deprecated NumPy 1.25.)\n",
            "  pred = float(D @ self.rls[l].w)\n",
            "/tmp/ipython-input-4-455621206.py:139: DeprecationWarning: Conversion of an array with ndim > 0 to a scalar is deprecated, and will error in future. Ensure you extract a single element from your array before performing this operation. (Deprecated NumPy 1.25.)\n",
            "  pred = float(D @ self.rls[l].w)\n",
            "/tmp/ipython-input-4-455621206.py:139: DeprecationWarning: Conversion of an array with ndim > 0 to a scalar is deprecated, and will error in future. Ensure you extract a single element from your array before performing this operation. (Deprecated NumPy 1.25.)\n",
            "  pred = float(D @ self.rls[l].w)\n"
          ]
        },
        {
          "name": "stdout",
          "output_type": "stream",
          "text": [
            "s=0.7, L=9, N_hidden=30 -> RMSE: 3.6960, MASE: 0.2980\n"
          ]
        },
        {
          "name": "stderr",
          "output_type": "stream",
          "text": [
            "/tmp/ipython-input-4-455621206.py:139: DeprecationWarning: Conversion of an array with ndim > 0 to a scalar is deprecated, and will error in future. Ensure you extract a single element from your array before performing this operation. (Deprecated NumPy 1.25.)\n",
            "  pred = float(D @ self.rls[l].w)\n",
            "/tmp/ipython-input-4-455621206.py:139: DeprecationWarning: Conversion of an array with ndim > 0 to a scalar is deprecated, and will error in future. Ensure you extract a single element from your array before performing this operation. (Deprecated NumPy 1.25.)\n",
            "  pred = float(D @ self.rls[l].w)\n",
            "/tmp/ipython-input-4-455621206.py:139: DeprecationWarning: Conversion of an array with ndim > 0 to a scalar is deprecated, and will error in future. Ensure you extract a single element from your array before performing this operation. (Deprecated NumPy 1.25.)\n",
            "  pred = float(D @ self.rls[l].w)\n",
            "/tmp/ipython-input-4-455621206.py:139: DeprecationWarning: Conversion of an array with ndim > 0 to a scalar is deprecated, and will error in future. Ensure you extract a single element from your array before performing this operation. (Deprecated NumPy 1.25.)\n",
            "  pred = float(D @ self.rls[l].w)\n",
            "/tmp/ipython-input-4-455621206.py:139: DeprecationWarning: Conversion of an array with ndim > 0 to a scalar is deprecated, and will error in future. Ensure you extract a single element from your array before performing this operation. (Deprecated NumPy 1.25.)\n",
            "  pred = float(D @ self.rls[l].w)\n",
            "/tmp/ipython-input-4-455621206.py:139: DeprecationWarning: Conversion of an array with ndim > 0 to a scalar is deprecated, and will error in future. Ensure you extract a single element from your array before performing this operation. (Deprecated NumPy 1.25.)\n",
            "  pred = float(D @ self.rls[l].w)\n",
            "/tmp/ipython-input-4-455621206.py:139: DeprecationWarning: Conversion of an array with ndim > 0 to a scalar is deprecated, and will error in future. Ensure you extract a single element from your array before performing this operation. (Deprecated NumPy 1.25.)\n",
            "  pred = float(D @ self.rls[l].w)\n",
            "/tmp/ipython-input-4-455621206.py:139: DeprecationWarning: Conversion of an array with ndim > 0 to a scalar is deprecated, and will error in future. Ensure you extract a single element from your array before performing this operation. (Deprecated NumPy 1.25.)\n",
            "  pred = float(D @ self.rls[l].w)\n",
            "/tmp/ipython-input-4-455621206.py:139: DeprecationWarning: Conversion of an array with ndim > 0 to a scalar is deprecated, and will error in future. Ensure you extract a single element from your array before performing this operation. (Deprecated NumPy 1.25.)\n",
            "  pred = float(D @ self.rls[l].w)\n",
            "/tmp/ipython-input-4-455621206.py:139: DeprecationWarning: Conversion of an array with ndim > 0 to a scalar is deprecated, and will error in future. Ensure you extract a single element from your array before performing this operation. (Deprecated NumPy 1.25.)\n",
            "  pred = float(D @ self.rls[l].w)\n",
            "/tmp/ipython-input-4-455621206.py:139: DeprecationWarning: Conversion of an array with ndim > 0 to a scalar is deprecated, and will error in future. Ensure you extract a single element from your array before performing this operation. (Deprecated NumPy 1.25.)\n",
            "  pred = float(D @ self.rls[l].w)\n"
          ]
        },
        {
          "name": "stdout",
          "output_type": "stream",
          "text": [
            "s=0.7, L=9, N_hidden=40 -> RMSE: 5.2357, MASE: 0.3950\n",
            "s=0.8, L=2, N_hidden=20 -> RMSE: 4.7967, MASE: 0.4342\n"
          ]
        },
        {
          "name": "stderr",
          "output_type": "stream",
          "text": [
            "/tmp/ipython-input-4-455621206.py:139: DeprecationWarning: Conversion of an array with ndim > 0 to a scalar is deprecated, and will error in future. Ensure you extract a single element from your array before performing this operation. (Deprecated NumPy 1.25.)\n",
            "  pred = float(D @ self.rls[l].w)\n",
            "/tmp/ipython-input-4-455621206.py:139: DeprecationWarning: Conversion of an array with ndim > 0 to a scalar is deprecated, and will error in future. Ensure you extract a single element from your array before performing this operation. (Deprecated NumPy 1.25.)\n",
            "  pred = float(D @ self.rls[l].w)\n",
            "/tmp/ipython-input-4-455621206.py:139: DeprecationWarning: Conversion of an array with ndim > 0 to a scalar is deprecated, and will error in future. Ensure you extract a single element from your array before performing this operation. (Deprecated NumPy 1.25.)\n",
            "  pred = float(D @ self.rls[l].w)\n",
            "/tmp/ipython-input-4-455621206.py:139: DeprecationWarning: Conversion of an array with ndim > 0 to a scalar is deprecated, and will error in future. Ensure you extract a single element from your array before performing this operation. (Deprecated NumPy 1.25.)\n",
            "  pred = float(D @ self.rls[l].w)\n"
          ]
        },
        {
          "name": "stdout",
          "output_type": "stream",
          "text": [
            "s=0.8, L=2, N_hidden=30 -> RMSE: 5.1557, MASE: 0.4694\n",
            "s=0.8, L=2, N_hidden=40 -> RMSE: 5.0110, MASE: 0.4598\n",
            "s=0.8, L=3, N_hidden=20 -> RMSE: 4.7505, MASE: 0.4180\n"
          ]
        },
        {
          "name": "stderr",
          "output_type": "stream",
          "text": [
            "/tmp/ipython-input-4-455621206.py:139: DeprecationWarning: Conversion of an array with ndim > 0 to a scalar is deprecated, and will error in future. Ensure you extract a single element from your array before performing this operation. (Deprecated NumPy 1.25.)\n",
            "  pred = float(D @ self.rls[l].w)\n",
            "/tmp/ipython-input-4-455621206.py:139: DeprecationWarning: Conversion of an array with ndim > 0 to a scalar is deprecated, and will error in future. Ensure you extract a single element from your array before performing this operation. (Deprecated NumPy 1.25.)\n",
            "  pred = float(D @ self.rls[l].w)\n"
          ]
        },
        {
          "name": "stdout",
          "output_type": "stream",
          "text": [
            "s=0.8, L=3, N_hidden=30 -> RMSE: 5.1565, MASE: 0.4490\n"
          ]
        },
        {
          "name": "stderr",
          "output_type": "stream",
          "text": [
            "/tmp/ipython-input-4-455621206.py:139: DeprecationWarning: Conversion of an array with ndim > 0 to a scalar is deprecated, and will error in future. Ensure you extract a single element from your array before performing this operation. (Deprecated NumPy 1.25.)\n",
            "  pred = float(D @ self.rls[l].w)\n",
            "/tmp/ipython-input-4-455621206.py:139: DeprecationWarning: Conversion of an array with ndim > 0 to a scalar is deprecated, and will error in future. Ensure you extract a single element from your array before performing this operation. (Deprecated NumPy 1.25.)\n",
            "  pred = float(D @ self.rls[l].w)\n"
          ]
        },
        {
          "name": "stdout",
          "output_type": "stream",
          "text": [
            "s=0.8, L=3, N_hidden=40 -> RMSE: 5.0988, MASE: 0.4542\n"
          ]
        },
        {
          "name": "stderr",
          "output_type": "stream",
          "text": [
            "/tmp/ipython-input-4-455621206.py:139: DeprecationWarning: Conversion of an array with ndim > 0 to a scalar is deprecated, and will error in future. Ensure you extract a single element from your array before performing this operation. (Deprecated NumPy 1.25.)\n",
            "  pred = float(D @ self.rls[l].w)\n"
          ]
        },
        {
          "name": "stdout",
          "output_type": "stream",
          "text": [
            "s=0.8, L=4, N_hidden=20 -> RMSE: 4.8577, MASE: 0.4352\n"
          ]
        },
        {
          "name": "stderr",
          "output_type": "stream",
          "text": [
            "/tmp/ipython-input-4-455621206.py:139: DeprecationWarning: Conversion of an array with ndim > 0 to a scalar is deprecated, and will error in future. Ensure you extract a single element from your array before performing this operation. (Deprecated NumPy 1.25.)\n",
            "  pred = float(D @ self.rls[l].w)\n",
            "/tmp/ipython-input-4-455621206.py:139: DeprecationWarning: Conversion of an array with ndim > 0 to a scalar is deprecated, and will error in future. Ensure you extract a single element from your array before performing this operation. (Deprecated NumPy 1.25.)\n",
            "  pred = float(D @ self.rls[l].w)\n",
            "/tmp/ipython-input-4-455621206.py:139: DeprecationWarning: Conversion of an array with ndim > 0 to a scalar is deprecated, and will error in future. Ensure you extract a single element from your array before performing this operation. (Deprecated NumPy 1.25.)\n",
            "  pred = float(D @ self.rls[l].w)\n",
            "/tmp/ipython-input-4-455621206.py:139: DeprecationWarning: Conversion of an array with ndim > 0 to a scalar is deprecated, and will error in future. Ensure you extract a single element from your array before performing this operation. (Deprecated NumPy 1.25.)\n",
            "  pred = float(D @ self.rls[l].w)\n",
            "/tmp/ipython-input-4-455621206.py:139: DeprecationWarning: Conversion of an array with ndim > 0 to a scalar is deprecated, and will error in future. Ensure you extract a single element from your array before performing this operation. (Deprecated NumPy 1.25.)\n",
            "  pred = float(D @ self.rls[l].w)\n"
          ]
        },
        {
          "name": "stdout",
          "output_type": "stream",
          "text": [
            "s=0.8, L=4, N_hidden=30 -> RMSE: 4.9270, MASE: 0.4280\n"
          ]
        },
        {
          "name": "stderr",
          "output_type": "stream",
          "text": [
            "/tmp/ipython-input-4-455621206.py:139: DeprecationWarning: Conversion of an array with ndim > 0 to a scalar is deprecated, and will error in future. Ensure you extract a single element from your array before performing this operation. (Deprecated NumPy 1.25.)\n",
            "  pred = float(D @ self.rls[l].w)\n",
            "/tmp/ipython-input-4-455621206.py:139: DeprecationWarning: Conversion of an array with ndim > 0 to a scalar is deprecated, and will error in future. Ensure you extract a single element from your array before performing this operation. (Deprecated NumPy 1.25.)\n",
            "  pred = float(D @ self.rls[l].w)\n"
          ]
        },
        {
          "name": "stdout",
          "output_type": "stream",
          "text": [
            "s=0.8, L=4, N_hidden=40 -> RMSE: 4.5997, MASE: 0.3897\n"
          ]
        },
        {
          "name": "stderr",
          "output_type": "stream",
          "text": [
            "/tmp/ipython-input-4-455621206.py:139: DeprecationWarning: Conversion of an array with ndim > 0 to a scalar is deprecated, and will error in future. Ensure you extract a single element from your array before performing this operation. (Deprecated NumPy 1.25.)\n",
            "  pred = float(D @ self.rls[l].w)\n"
          ]
        },
        {
          "name": "stdout",
          "output_type": "stream",
          "text": [
            "s=0.8, L=5, N_hidden=20 -> RMSE: 4.5962, MASE: 0.4167\n"
          ]
        },
        {
          "name": "stderr",
          "output_type": "stream",
          "text": [
            "/tmp/ipython-input-4-455621206.py:139: DeprecationWarning: Conversion of an array with ndim > 0 to a scalar is deprecated, and will error in future. Ensure you extract a single element from your array before performing this operation. (Deprecated NumPy 1.25.)\n",
            "  pred = float(D @ self.rls[l].w)\n",
            "/tmp/ipython-input-4-455621206.py:139: DeprecationWarning: Conversion of an array with ndim > 0 to a scalar is deprecated, and will error in future. Ensure you extract a single element from your array before performing this operation. (Deprecated NumPy 1.25.)\n",
            "  pred = float(D @ self.rls[l].w)\n"
          ]
        },
        {
          "name": "stdout",
          "output_type": "stream",
          "text": [
            "s=0.8, L=5, N_hidden=30 -> RMSE: 5.2833, MASE: 0.4513\n"
          ]
        },
        {
          "name": "stderr",
          "output_type": "stream",
          "text": [
            "/tmp/ipython-input-4-455621206.py:139: DeprecationWarning: Conversion of an array with ndim > 0 to a scalar is deprecated, and will error in future. Ensure you extract a single element from your array before performing this operation. (Deprecated NumPy 1.25.)\n",
            "  pred = float(D @ self.rls[l].w)\n",
            "/tmp/ipython-input-4-455621206.py:139: DeprecationWarning: Conversion of an array with ndim > 0 to a scalar is deprecated, and will error in future. Ensure you extract a single element from your array before performing this operation. (Deprecated NumPy 1.25.)\n",
            "  pred = float(D @ self.rls[l].w)\n",
            "/tmp/ipython-input-4-455621206.py:139: DeprecationWarning: Conversion of an array with ndim > 0 to a scalar is deprecated, and will error in future. Ensure you extract a single element from your array before performing this operation. (Deprecated NumPy 1.25.)\n",
            "  pred = float(D @ self.rls[l].w)\n"
          ]
        },
        {
          "name": "stdout",
          "output_type": "stream",
          "text": [
            "s=0.8, L=5, N_hidden=40 -> RMSE: 4.1491, MASE: 0.3406\n"
          ]
        },
        {
          "name": "stderr",
          "output_type": "stream",
          "text": [
            "/tmp/ipython-input-4-455621206.py:139: DeprecationWarning: Conversion of an array with ndim > 0 to a scalar is deprecated, and will error in future. Ensure you extract a single element from your array before performing this operation. (Deprecated NumPy 1.25.)\n",
            "  pred = float(D @ self.rls[l].w)\n"
          ]
        },
        {
          "name": "stdout",
          "output_type": "stream",
          "text": [
            "s=0.8, L=6, N_hidden=20 -> RMSE: 5.3507, MASE: 0.4777\n"
          ]
        },
        {
          "name": "stderr",
          "output_type": "stream",
          "text": [
            "/tmp/ipython-input-4-455621206.py:139: DeprecationWarning: Conversion of an array with ndim > 0 to a scalar is deprecated, and will error in future. Ensure you extract a single element from your array before performing this operation. (Deprecated NumPy 1.25.)\n",
            "  pred = float(D @ self.rls[l].w)\n",
            "/tmp/ipython-input-4-455621206.py:139: DeprecationWarning: Conversion of an array with ndim > 0 to a scalar is deprecated, and will error in future. Ensure you extract a single element from your array before performing this operation. (Deprecated NumPy 1.25.)\n",
            "  pred = float(D @ self.rls[l].w)\n"
          ]
        },
        {
          "name": "stdout",
          "output_type": "stream",
          "text": [
            "s=0.8, L=6, N_hidden=30 -> RMSE: 4.4636, MASE: 0.3655\n"
          ]
        },
        {
          "name": "stderr",
          "output_type": "stream",
          "text": [
            "/tmp/ipython-input-4-455621206.py:139: DeprecationWarning: Conversion of an array with ndim > 0 to a scalar is deprecated, and will error in future. Ensure you extract a single element from your array before performing this operation. (Deprecated NumPy 1.25.)\n",
            "  pred = float(D @ self.rls[l].w)\n",
            "/tmp/ipython-input-4-455621206.py:139: DeprecationWarning: Conversion of an array with ndim > 0 to a scalar is deprecated, and will error in future. Ensure you extract a single element from your array before performing this operation. (Deprecated NumPy 1.25.)\n",
            "  pred = float(D @ self.rls[l].w)\n",
            "/tmp/ipython-input-4-455621206.py:139: DeprecationWarning: Conversion of an array with ndim > 0 to a scalar is deprecated, and will error in future. Ensure you extract a single element from your array before performing this operation. (Deprecated NumPy 1.25.)\n",
            "  pred = float(D @ self.rls[l].w)\n",
            "/tmp/ipython-input-4-455621206.py:139: DeprecationWarning: Conversion of an array with ndim > 0 to a scalar is deprecated, and will error in future. Ensure you extract a single element from your array before performing this operation. (Deprecated NumPy 1.25.)\n",
            "  pred = float(D @ self.rls[l].w)\n"
          ]
        },
        {
          "name": "stdout",
          "output_type": "stream",
          "text": [
            "s=0.8, L=6, N_hidden=40 -> RMSE: 4.3845, MASE: 0.3381\n"
          ]
        },
        {
          "name": "stderr",
          "output_type": "stream",
          "text": [
            "/tmp/ipython-input-4-455621206.py:139: DeprecationWarning: Conversion of an array with ndim > 0 to a scalar is deprecated, and will error in future. Ensure you extract a single element from your array before performing this operation. (Deprecated NumPy 1.25.)\n",
            "  pred = float(D @ self.rls[l].w)\n",
            "/tmp/ipython-input-4-455621206.py:139: DeprecationWarning: Conversion of an array with ndim > 0 to a scalar is deprecated, and will error in future. Ensure you extract a single element from your array before performing this operation. (Deprecated NumPy 1.25.)\n",
            "  pred = float(D @ self.rls[l].w)\n"
          ]
        },
        {
          "name": "stdout",
          "output_type": "stream",
          "text": [
            "s=0.8, L=7, N_hidden=20 -> RMSE: 5.1866, MASE: 0.4354\n"
          ]
        },
        {
          "name": "stderr",
          "output_type": "stream",
          "text": [
            "/tmp/ipython-input-4-455621206.py:139: DeprecationWarning: Conversion of an array with ndim > 0 to a scalar is deprecated, and will error in future. Ensure you extract a single element from your array before performing this operation. (Deprecated NumPy 1.25.)\n",
            "  pred = float(D @ self.rls[l].w)\n",
            "/tmp/ipython-input-4-455621206.py:139: DeprecationWarning: Conversion of an array with ndim > 0 to a scalar is deprecated, and will error in future. Ensure you extract a single element from your array before performing this operation. (Deprecated NumPy 1.25.)\n",
            "  pred = float(D @ self.rls[l].w)\n",
            "/tmp/ipython-input-4-455621206.py:139: DeprecationWarning: Conversion of an array with ndim > 0 to a scalar is deprecated, and will error in future. Ensure you extract a single element from your array before performing this operation. (Deprecated NumPy 1.25.)\n",
            "  pred = float(D @ self.rls[l].w)\n",
            "/tmp/ipython-input-4-455621206.py:139: DeprecationWarning: Conversion of an array with ndim > 0 to a scalar is deprecated, and will error in future. Ensure you extract a single element from your array before performing this operation. (Deprecated NumPy 1.25.)\n",
            "  pred = float(D @ self.rls[l].w)\n",
            "/tmp/ipython-input-4-455621206.py:139: DeprecationWarning: Conversion of an array with ndim > 0 to a scalar is deprecated, and will error in future. Ensure you extract a single element from your array before performing this operation. (Deprecated NumPy 1.25.)\n",
            "  pred = float(D @ self.rls[l].w)\n",
            "/tmp/ipython-input-4-455621206.py:139: DeprecationWarning: Conversion of an array with ndim > 0 to a scalar is deprecated, and will error in future. Ensure you extract a single element from your array before performing this operation. (Deprecated NumPy 1.25.)\n",
            "  pred = float(D @ self.rls[l].w)\n"
          ]
        },
        {
          "name": "stdout",
          "output_type": "stream",
          "text": [
            "s=0.8, L=7, N_hidden=30 -> RMSE: 4.6057, MASE: 0.3721\n"
          ]
        },
        {
          "name": "stderr",
          "output_type": "stream",
          "text": [
            "/tmp/ipython-input-4-455621206.py:139: DeprecationWarning: Conversion of an array with ndim > 0 to a scalar is deprecated, and will error in future. Ensure you extract a single element from your array before performing this operation. (Deprecated NumPy 1.25.)\n",
            "  pred = float(D @ self.rls[l].w)\n",
            "/tmp/ipython-input-4-455621206.py:139: DeprecationWarning: Conversion of an array with ndim > 0 to a scalar is deprecated, and will error in future. Ensure you extract a single element from your array before performing this operation. (Deprecated NumPy 1.25.)\n",
            "  pred = float(D @ self.rls[l].w)\n",
            "/tmp/ipython-input-4-455621206.py:139: DeprecationWarning: Conversion of an array with ndim > 0 to a scalar is deprecated, and will error in future. Ensure you extract a single element from your array before performing this operation. (Deprecated NumPy 1.25.)\n",
            "  pred = float(D @ self.rls[l].w)\n",
            "/tmp/ipython-input-4-455621206.py:139: DeprecationWarning: Conversion of an array with ndim > 0 to a scalar is deprecated, and will error in future. Ensure you extract a single element from your array before performing this operation. (Deprecated NumPy 1.25.)\n",
            "  pred = float(D @ self.rls[l].w)\n",
            "/tmp/ipython-input-4-455621206.py:139: DeprecationWarning: Conversion of an array with ndim > 0 to a scalar is deprecated, and will error in future. Ensure you extract a single element from your array before performing this operation. (Deprecated NumPy 1.25.)\n",
            "  pred = float(D @ self.rls[l].w)\n",
            "/tmp/ipython-input-4-455621206.py:139: DeprecationWarning: Conversion of an array with ndim > 0 to a scalar is deprecated, and will error in future. Ensure you extract a single element from your array before performing this operation. (Deprecated NumPy 1.25.)\n",
            "  pred = float(D @ self.rls[l].w)\n"
          ]
        },
        {
          "name": "stdout",
          "output_type": "stream",
          "text": [
            "s=0.8, L=7, N_hidden=40 -> RMSE: 4.0595, MASE: 0.3348\n"
          ]
        },
        {
          "name": "stderr",
          "output_type": "stream",
          "text": [
            "/tmp/ipython-input-4-455621206.py:139: DeprecationWarning: Conversion of an array with ndim > 0 to a scalar is deprecated, and will error in future. Ensure you extract a single element from your array before performing this operation. (Deprecated NumPy 1.25.)\n",
            "  pred = float(D @ self.rls[l].w)\n"
          ]
        },
        {
          "name": "stdout",
          "output_type": "stream",
          "text": [
            "s=0.8, L=8, N_hidden=20 -> RMSE: 4.6881, MASE: 0.3733\n"
          ]
        },
        {
          "name": "stderr",
          "output_type": "stream",
          "text": [
            "/tmp/ipython-input-4-455621206.py:139: DeprecationWarning: Conversion of an array with ndim > 0 to a scalar is deprecated, and will error in future. Ensure you extract a single element from your array before performing this operation. (Deprecated NumPy 1.25.)\n",
            "  pred = float(D @ self.rls[l].w)\n",
            "/tmp/ipython-input-4-455621206.py:139: DeprecationWarning: Conversion of an array with ndim > 0 to a scalar is deprecated, and will error in future. Ensure you extract a single element from your array before performing this operation. (Deprecated NumPy 1.25.)\n",
            "  pred = float(D @ self.rls[l].w)\n",
            "/tmp/ipython-input-4-455621206.py:139: DeprecationWarning: Conversion of an array with ndim > 0 to a scalar is deprecated, and will error in future. Ensure you extract a single element from your array before performing this operation. (Deprecated NumPy 1.25.)\n",
            "  pred = float(D @ self.rls[l].w)\n",
            "/tmp/ipython-input-4-455621206.py:139: DeprecationWarning: Conversion of an array with ndim > 0 to a scalar is deprecated, and will error in future. Ensure you extract a single element from your array before performing this operation. (Deprecated NumPy 1.25.)\n",
            "  pred = float(D @ self.rls[l].w)\n"
          ]
        },
        {
          "name": "stdout",
          "output_type": "stream",
          "text": [
            "s=0.8, L=8, N_hidden=30 -> RMSE: 4.3894, MASE: 0.3491\n"
          ]
        },
        {
          "name": "stderr",
          "output_type": "stream",
          "text": [
            "/tmp/ipython-input-4-455621206.py:139: DeprecationWarning: Conversion of an array with ndim > 0 to a scalar is deprecated, and will error in future. Ensure you extract a single element from your array before performing this operation. (Deprecated NumPy 1.25.)\n",
            "  pred = float(D @ self.rls[l].w)\n",
            "/tmp/ipython-input-4-455621206.py:139: DeprecationWarning: Conversion of an array with ndim > 0 to a scalar is deprecated, and will error in future. Ensure you extract a single element from your array before performing this operation. (Deprecated NumPy 1.25.)\n",
            "  pred = float(D @ self.rls[l].w)\n",
            "/tmp/ipython-input-4-455621206.py:139: DeprecationWarning: Conversion of an array with ndim > 0 to a scalar is deprecated, and will error in future. Ensure you extract a single element from your array before performing this operation. (Deprecated NumPy 1.25.)\n",
            "  pred = float(D @ self.rls[l].w)\n",
            "/tmp/ipython-input-4-455621206.py:139: DeprecationWarning: Conversion of an array with ndim > 0 to a scalar is deprecated, and will error in future. Ensure you extract a single element from your array before performing this operation. (Deprecated NumPy 1.25.)\n",
            "  pred = float(D @ self.rls[l].w)\n",
            "/tmp/ipython-input-4-455621206.py:139: DeprecationWarning: Conversion of an array with ndim > 0 to a scalar is deprecated, and will error in future. Ensure you extract a single element from your array before performing this operation. (Deprecated NumPy 1.25.)\n",
            "  pred = float(D @ self.rls[l].w)\n",
            "/tmp/ipython-input-4-455621206.py:139: DeprecationWarning: Conversion of an array with ndim > 0 to a scalar is deprecated, and will error in future. Ensure you extract a single element from your array before performing this operation. (Deprecated NumPy 1.25.)\n",
            "  pred = float(D @ self.rls[l].w)\n",
            "/tmp/ipython-input-4-455621206.py:139: DeprecationWarning: Conversion of an array with ndim > 0 to a scalar is deprecated, and will error in future. Ensure you extract a single element from your array before performing this operation. (Deprecated NumPy 1.25.)\n",
            "  pred = float(D @ self.rls[l].w)\n",
            "/tmp/ipython-input-4-455621206.py:139: DeprecationWarning: Conversion of an array with ndim > 0 to a scalar is deprecated, and will error in future. Ensure you extract a single element from your array before performing this operation. (Deprecated NumPy 1.25.)\n",
            "  pred = float(D @ self.rls[l].w)\n",
            "/tmp/ipython-input-4-455621206.py:139: DeprecationWarning: Conversion of an array with ndim > 0 to a scalar is deprecated, and will error in future. Ensure you extract a single element from your array before performing this operation. (Deprecated NumPy 1.25.)\n",
            "  pred = float(D @ self.rls[l].w)\n",
            "/tmp/ipython-input-4-455621206.py:139: DeprecationWarning: Conversion of an array with ndim > 0 to a scalar is deprecated, and will error in future. Ensure you extract a single element from your array before performing this operation. (Deprecated NumPy 1.25.)\n",
            "  pred = float(D @ self.rls[l].w)\n"
          ]
        },
        {
          "name": "stdout",
          "output_type": "stream",
          "text": [
            "s=0.8, L=8, N_hidden=40 -> RMSE: 4.5561, MASE: 0.3557\n"
          ]
        },
        {
          "name": "stderr",
          "output_type": "stream",
          "text": [
            "/tmp/ipython-input-4-455621206.py:139: DeprecationWarning: Conversion of an array with ndim > 0 to a scalar is deprecated, and will error in future. Ensure you extract a single element from your array before performing this operation. (Deprecated NumPy 1.25.)\n",
            "  pred = float(D @ self.rls[l].w)\n",
            "/tmp/ipython-input-4-455621206.py:139: DeprecationWarning: Conversion of an array with ndim > 0 to a scalar is deprecated, and will error in future. Ensure you extract a single element from your array before performing this operation. (Deprecated NumPy 1.25.)\n",
            "  pred = float(D @ self.rls[l].w)\n",
            "/tmp/ipython-input-4-455621206.py:139: DeprecationWarning: Conversion of an array with ndim > 0 to a scalar is deprecated, and will error in future. Ensure you extract a single element from your array before performing this operation. (Deprecated NumPy 1.25.)\n",
            "  pred = float(D @ self.rls[l].w)\n",
            "/tmp/ipython-input-4-455621206.py:139: DeprecationWarning: Conversion of an array with ndim > 0 to a scalar is deprecated, and will error in future. Ensure you extract a single element from your array before performing this operation. (Deprecated NumPy 1.25.)\n",
            "  pred = float(D @ self.rls[l].w)\n"
          ]
        },
        {
          "name": "stdout",
          "output_type": "stream",
          "text": [
            "s=0.8, L=9, N_hidden=20 -> RMSE: 4.5280, MASE: 0.3705\n"
          ]
        },
        {
          "name": "stderr",
          "output_type": "stream",
          "text": [
            "/tmp/ipython-input-4-455621206.py:139: DeprecationWarning: Conversion of an array with ndim > 0 to a scalar is deprecated, and will error in future. Ensure you extract a single element from your array before performing this operation. (Deprecated NumPy 1.25.)\n",
            "  pred = float(D @ self.rls[l].w)\n",
            "/tmp/ipython-input-4-455621206.py:139: DeprecationWarning: Conversion of an array with ndim > 0 to a scalar is deprecated, and will error in future. Ensure you extract a single element from your array before performing this operation. (Deprecated NumPy 1.25.)\n",
            "  pred = float(D @ self.rls[l].w)\n",
            "/tmp/ipython-input-4-455621206.py:139: DeprecationWarning: Conversion of an array with ndim > 0 to a scalar is deprecated, and will error in future. Ensure you extract a single element from your array before performing this operation. (Deprecated NumPy 1.25.)\n",
            "  pred = float(D @ self.rls[l].w)\n",
            "/tmp/ipython-input-4-455621206.py:139: DeprecationWarning: Conversion of an array with ndim > 0 to a scalar is deprecated, and will error in future. Ensure you extract a single element from your array before performing this operation. (Deprecated NumPy 1.25.)\n",
            "  pred = float(D @ self.rls[l].w)\n",
            "/tmp/ipython-input-4-455621206.py:139: DeprecationWarning: Conversion of an array with ndim > 0 to a scalar is deprecated, and will error in future. Ensure you extract a single element from your array before performing this operation. (Deprecated NumPy 1.25.)\n",
            "  pred = float(D @ self.rls[l].w)\n",
            "/tmp/ipython-input-4-455621206.py:139: DeprecationWarning: Conversion of an array with ndim > 0 to a scalar is deprecated, and will error in future. Ensure you extract a single element from your array before performing this operation. (Deprecated NumPy 1.25.)\n",
            "  pred = float(D @ self.rls[l].w)\n"
          ]
        },
        {
          "name": "stdout",
          "output_type": "stream",
          "text": [
            "s=0.8, L=9, N_hidden=30 -> RMSE: 4.2822, MASE: 0.3334\n"
          ]
        },
        {
          "name": "stderr",
          "output_type": "stream",
          "text": [
            "/tmp/ipython-input-4-455621206.py:139: DeprecationWarning: Conversion of an array with ndim > 0 to a scalar is deprecated, and will error in future. Ensure you extract a single element from your array before performing this operation. (Deprecated NumPy 1.25.)\n",
            "  pred = float(D @ self.rls[l].w)\n",
            "/tmp/ipython-input-4-455621206.py:139: DeprecationWarning: Conversion of an array with ndim > 0 to a scalar is deprecated, and will error in future. Ensure you extract a single element from your array before performing this operation. (Deprecated NumPy 1.25.)\n",
            "  pred = float(D @ self.rls[l].w)\n",
            "/tmp/ipython-input-4-455621206.py:139: DeprecationWarning: Conversion of an array with ndim > 0 to a scalar is deprecated, and will error in future. Ensure you extract a single element from your array before performing this operation. (Deprecated NumPy 1.25.)\n",
            "  pred = float(D @ self.rls[l].w)\n",
            "/tmp/ipython-input-4-455621206.py:139: DeprecationWarning: Conversion of an array with ndim > 0 to a scalar is deprecated, and will error in future. Ensure you extract a single element from your array before performing this operation. (Deprecated NumPy 1.25.)\n",
            "  pred = float(D @ self.rls[l].w)\n",
            "/tmp/ipython-input-4-455621206.py:139: DeprecationWarning: Conversion of an array with ndim > 0 to a scalar is deprecated, and will error in future. Ensure you extract a single element from your array before performing this operation. (Deprecated NumPy 1.25.)\n",
            "  pred = float(D @ self.rls[l].w)\n",
            "/tmp/ipython-input-4-455621206.py:139: DeprecationWarning: Conversion of an array with ndim > 0 to a scalar is deprecated, and will error in future. Ensure you extract a single element from your array before performing this operation. (Deprecated NumPy 1.25.)\n",
            "  pred = float(D @ self.rls[l].w)\n",
            "/tmp/ipython-input-4-455621206.py:139: DeprecationWarning: Conversion of an array with ndim > 0 to a scalar is deprecated, and will error in future. Ensure you extract a single element from your array before performing this operation. (Deprecated NumPy 1.25.)\n",
            "  pred = float(D @ self.rls[l].w)\n",
            "/tmp/ipython-input-4-455621206.py:139: DeprecationWarning: Conversion of an array with ndim > 0 to a scalar is deprecated, and will error in future. Ensure you extract a single element from your array before performing this operation. (Deprecated NumPy 1.25.)\n",
            "  pred = float(D @ self.rls[l].w)\n",
            "/tmp/ipython-input-4-455621206.py:139: DeprecationWarning: Conversion of an array with ndim > 0 to a scalar is deprecated, and will error in future. Ensure you extract a single element from your array before performing this operation. (Deprecated NumPy 1.25.)\n",
            "  pred = float(D @ self.rls[l].w)\n",
            "/tmp/ipython-input-4-455621206.py:139: DeprecationWarning: Conversion of an array with ndim > 0 to a scalar is deprecated, and will error in future. Ensure you extract a single element from your array before performing this operation. (Deprecated NumPy 1.25.)\n",
            "  pred = float(D @ self.rls[l].w)\n",
            "/tmp/ipython-input-4-455621206.py:139: DeprecationWarning: Conversion of an array with ndim > 0 to a scalar is deprecated, and will error in future. Ensure you extract a single element from your array before performing this operation. (Deprecated NumPy 1.25.)\n",
            "  pred = float(D @ self.rls[l].w)\n",
            "/tmp/ipython-input-4-455621206.py:139: DeprecationWarning: Conversion of an array with ndim > 0 to a scalar is deprecated, and will error in future. Ensure you extract a single element from your array before performing this operation. (Deprecated NumPy 1.25.)\n",
            "  pred = float(D @ self.rls[l].w)\n",
            "/tmp/ipython-input-4-455621206.py:139: DeprecationWarning: Conversion of an array with ndim > 0 to a scalar is deprecated, and will error in future. Ensure you extract a single element from your array before performing this operation. (Deprecated NumPy 1.25.)\n",
            "  pred = float(D @ self.rls[l].w)\n"
          ]
        },
        {
          "name": "stdout",
          "output_type": "stream",
          "text": [
            "s=0.8, L=9, N_hidden=40 -> RMSE: 4.7254, MASE: 0.3465\n",
            "s=0.9, L=2, N_hidden=20 -> RMSE: 5.3561, MASE: 0.5011\n",
            "s=0.9, L=2, N_hidden=30 -> RMSE: 4.7921, MASE: 0.4144\n"
          ]
        },
        {
          "name": "stderr",
          "output_type": "stream",
          "text": [
            "/tmp/ipython-input-4-455621206.py:139: DeprecationWarning: Conversion of an array with ndim > 0 to a scalar is deprecated, and will error in future. Ensure you extract a single element from your array before performing this operation. (Deprecated NumPy 1.25.)\n",
            "  pred = float(D @ self.rls[l].w)\n"
          ]
        },
        {
          "name": "stdout",
          "output_type": "stream",
          "text": [
            "s=0.9, L=2, N_hidden=40 -> RMSE: 5.6389, MASE: 0.5058\n"
          ]
        },
        {
          "name": "stderr",
          "output_type": "stream",
          "text": [
            "/tmp/ipython-input-4-455621206.py:139: DeprecationWarning: Conversion of an array with ndim > 0 to a scalar is deprecated, and will error in future. Ensure you extract a single element from your array before performing this operation. (Deprecated NumPy 1.25.)\n",
            "  pred = float(D @ self.rls[l].w)\n"
          ]
        },
        {
          "name": "stdout",
          "output_type": "stream",
          "text": [
            "s=0.9, L=3, N_hidden=20 -> RMSE: 5.1855, MASE: 0.4752\n"
          ]
        },
        {
          "name": "stderr",
          "output_type": "stream",
          "text": [
            "/tmp/ipython-input-4-455621206.py:139: DeprecationWarning: Conversion of an array with ndim > 0 to a scalar is deprecated, and will error in future. Ensure you extract a single element from your array before performing this operation. (Deprecated NumPy 1.25.)\n",
            "  pred = float(D @ self.rls[l].w)\n",
            "/tmp/ipython-input-4-455621206.py:139: DeprecationWarning: Conversion of an array with ndim > 0 to a scalar is deprecated, and will error in future. Ensure you extract a single element from your array before performing this operation. (Deprecated NumPy 1.25.)\n",
            "  pred = float(D @ self.rls[l].w)\n"
          ]
        },
        {
          "name": "stdout",
          "output_type": "stream",
          "text": [
            "s=0.9, L=3, N_hidden=30 -> RMSE: 4.9524, MASE: 0.4418\n"
          ]
        },
        {
          "name": "stderr",
          "output_type": "stream",
          "text": [
            "/tmp/ipython-input-4-455621206.py:139: DeprecationWarning: Conversion of an array with ndim > 0 to a scalar is deprecated, and will error in future. Ensure you extract a single element from your array before performing this operation. (Deprecated NumPy 1.25.)\n",
            "  pred = float(D @ self.rls[l].w)\n"
          ]
        },
        {
          "name": "stdout",
          "output_type": "stream",
          "text": [
            "s=0.9, L=3, N_hidden=40 -> RMSE: 5.2411, MASE: 0.4552\n"
          ]
        },
        {
          "name": "stderr",
          "output_type": "stream",
          "text": [
            "/tmp/ipython-input-4-455621206.py:139: DeprecationWarning: Conversion of an array with ndim > 0 to a scalar is deprecated, and will error in future. Ensure you extract a single element from your array before performing this operation. (Deprecated NumPy 1.25.)\n",
            "  pred = float(D @ self.rls[l].w)\n",
            "/tmp/ipython-input-4-455621206.py:139: DeprecationWarning: Conversion of an array with ndim > 0 to a scalar is deprecated, and will error in future. Ensure you extract a single element from your array before performing this operation. (Deprecated NumPy 1.25.)\n",
            "  pred = float(D @ self.rls[l].w)\n",
            "/tmp/ipython-input-4-455621206.py:139: DeprecationWarning: Conversion of an array with ndim > 0 to a scalar is deprecated, and will error in future. Ensure you extract a single element from your array before performing this operation. (Deprecated NumPy 1.25.)\n",
            "  pred = float(D @ self.rls[l].w)\n"
          ]
        },
        {
          "name": "stdout",
          "output_type": "stream",
          "text": [
            "s=0.9, L=4, N_hidden=20 -> RMSE: 5.1549, MASE: 0.4497\n"
          ]
        },
        {
          "name": "stderr",
          "output_type": "stream",
          "text": [
            "/tmp/ipython-input-4-455621206.py:139: DeprecationWarning: Conversion of an array with ndim > 0 to a scalar is deprecated, and will error in future. Ensure you extract a single element from your array before performing this operation. (Deprecated NumPy 1.25.)\n",
            "  pred = float(D @ self.rls[l].w)\n",
            "/tmp/ipython-input-4-455621206.py:139: DeprecationWarning: Conversion of an array with ndim > 0 to a scalar is deprecated, and will error in future. Ensure you extract a single element from your array before performing this operation. (Deprecated NumPy 1.25.)\n",
            "  pred = float(D @ self.rls[l].w)\n",
            "/tmp/ipython-input-4-455621206.py:139: DeprecationWarning: Conversion of an array with ndim > 0 to a scalar is deprecated, and will error in future. Ensure you extract a single element from your array before performing this operation. (Deprecated NumPy 1.25.)\n",
            "  pred = float(D @ self.rls[l].w)\n",
            "/tmp/ipython-input-4-455621206.py:139: DeprecationWarning: Conversion of an array with ndim > 0 to a scalar is deprecated, and will error in future. Ensure you extract a single element from your array before performing this operation. (Deprecated NumPy 1.25.)\n",
            "  pred = float(D @ self.rls[l].w)\n"
          ]
        },
        {
          "name": "stdout",
          "output_type": "stream",
          "text": [
            "s=0.9, L=4, N_hidden=30 -> RMSE: 4.5899, MASE: 0.3791\n",
            "s=0.9, L=4, N_hidden=40 -> RMSE: 4.7904, MASE: 0.3957\n"
          ]
        },
        {
          "name": "stderr",
          "output_type": "stream",
          "text": [
            "/tmp/ipython-input-4-455621206.py:139: DeprecationWarning: Conversion of an array with ndim > 0 to a scalar is deprecated, and will error in future. Ensure you extract a single element from your array before performing this operation. (Deprecated NumPy 1.25.)\n",
            "  pred = float(D @ self.rls[l].w)\n",
            "/tmp/ipython-input-4-455621206.py:139: DeprecationWarning: Conversion of an array with ndim > 0 to a scalar is deprecated, and will error in future. Ensure you extract a single element from your array before performing this operation. (Deprecated NumPy 1.25.)\n",
            "  pred = float(D @ self.rls[l].w)\n"
          ]
        },
        {
          "name": "stdout",
          "output_type": "stream",
          "text": [
            "s=0.9, L=5, N_hidden=20 -> RMSE: 4.8107, MASE: 0.4171\n"
          ]
        },
        {
          "name": "stderr",
          "output_type": "stream",
          "text": [
            "/tmp/ipython-input-4-455621206.py:139: DeprecationWarning: Conversion of an array with ndim > 0 to a scalar is deprecated, and will error in future. Ensure you extract a single element from your array before performing this operation. (Deprecated NumPy 1.25.)\n",
            "  pred = float(D @ self.rls[l].w)\n",
            "/tmp/ipython-input-4-455621206.py:139: DeprecationWarning: Conversion of an array with ndim > 0 to a scalar is deprecated, and will error in future. Ensure you extract a single element from your array before performing this operation. (Deprecated NumPy 1.25.)\n",
            "  pred = float(D @ self.rls[l].w)\n"
          ]
        },
        {
          "name": "stdout",
          "output_type": "stream",
          "text": [
            "s=0.9, L=5, N_hidden=30 -> RMSE: 4.8910, MASE: 0.3978\n"
          ]
        },
        {
          "name": "stderr",
          "output_type": "stream",
          "text": [
            "/tmp/ipython-input-4-455621206.py:139: DeprecationWarning: Conversion of an array with ndim > 0 to a scalar is deprecated, and will error in future. Ensure you extract a single element from your array before performing this operation. (Deprecated NumPy 1.25.)\n",
            "  pred = float(D @ self.rls[l].w)\n",
            "/tmp/ipython-input-4-455621206.py:139: DeprecationWarning: Conversion of an array with ndim > 0 to a scalar is deprecated, and will error in future. Ensure you extract a single element from your array before performing this operation. (Deprecated NumPy 1.25.)\n",
            "  pred = float(D @ self.rls[l].w)\n",
            "/tmp/ipython-input-4-455621206.py:139: DeprecationWarning: Conversion of an array with ndim > 0 to a scalar is deprecated, and will error in future. Ensure you extract a single element from your array before performing this operation. (Deprecated NumPy 1.25.)\n",
            "  pred = float(D @ self.rls[l].w)\n"
          ]
        },
        {
          "name": "stdout",
          "output_type": "stream",
          "text": [
            "s=0.9, L=5, N_hidden=40 -> RMSE: 4.7290, MASE: 0.3949\n"
          ]
        },
        {
          "name": "stderr",
          "output_type": "stream",
          "text": [
            "/tmp/ipython-input-4-455621206.py:139: DeprecationWarning: Conversion of an array with ndim > 0 to a scalar is deprecated, and will error in future. Ensure you extract a single element from your array before performing this operation. (Deprecated NumPy 1.25.)\n",
            "  pred = float(D @ self.rls[l].w)\n",
            "/tmp/ipython-input-4-455621206.py:139: DeprecationWarning: Conversion of an array with ndim > 0 to a scalar is deprecated, and will error in future. Ensure you extract a single element from your array before performing this operation. (Deprecated NumPy 1.25.)\n",
            "  pred = float(D @ self.rls[l].w)\n"
          ]
        },
        {
          "name": "stdout",
          "output_type": "stream",
          "text": [
            "s=0.9, L=6, N_hidden=20 -> RMSE: 4.7708, MASE: 0.4139\n"
          ]
        },
        {
          "name": "stderr",
          "output_type": "stream",
          "text": [
            "/tmp/ipython-input-4-455621206.py:139: DeprecationWarning: Conversion of an array with ndim > 0 to a scalar is deprecated, and will error in future. Ensure you extract a single element from your array before performing this operation. (Deprecated NumPy 1.25.)\n",
            "  pred = float(D @ self.rls[l].w)\n",
            "/tmp/ipython-input-4-455621206.py:139: DeprecationWarning: Conversion of an array with ndim > 0 to a scalar is deprecated, and will error in future. Ensure you extract a single element from your array before performing this operation. (Deprecated NumPy 1.25.)\n",
            "  pred = float(D @ self.rls[l].w)\n"
          ]
        },
        {
          "name": "stdout",
          "output_type": "stream",
          "text": [
            "s=0.9, L=6, N_hidden=30 -> RMSE: 4.3016, MASE: 0.3600\n"
          ]
        },
        {
          "name": "stderr",
          "output_type": "stream",
          "text": [
            "/tmp/ipython-input-4-455621206.py:139: DeprecationWarning: Conversion of an array with ndim > 0 to a scalar is deprecated, and will error in future. Ensure you extract a single element from your array before performing this operation. (Deprecated NumPy 1.25.)\n",
            "  pred = float(D @ self.rls[l].w)\n",
            "/tmp/ipython-input-4-455621206.py:139: DeprecationWarning: Conversion of an array with ndim > 0 to a scalar is deprecated, and will error in future. Ensure you extract a single element from your array before performing this operation. (Deprecated NumPy 1.25.)\n",
            "  pred = float(D @ self.rls[l].w)\n",
            "/tmp/ipython-input-4-455621206.py:139: DeprecationWarning: Conversion of an array with ndim > 0 to a scalar is deprecated, and will error in future. Ensure you extract a single element from your array before performing this operation. (Deprecated NumPy 1.25.)\n",
            "  pred = float(D @ self.rls[l].w)\n",
            "/tmp/ipython-input-4-455621206.py:139: DeprecationWarning: Conversion of an array with ndim > 0 to a scalar is deprecated, and will error in future. Ensure you extract a single element from your array before performing this operation. (Deprecated NumPy 1.25.)\n",
            "  pred = float(D @ self.rls[l].w)\n",
            "/tmp/ipython-input-4-455621206.py:139: DeprecationWarning: Conversion of an array with ndim > 0 to a scalar is deprecated, and will error in future. Ensure you extract a single element from your array before performing this operation. (Deprecated NumPy 1.25.)\n",
            "  pred = float(D @ self.rls[l].w)\n"
          ]
        },
        {
          "name": "stdout",
          "output_type": "stream",
          "text": [
            "s=0.9, L=6, N_hidden=40 -> RMSE: 4.9507, MASE: 0.3936\n",
            "s=0.9, L=7, N_hidden=20 -> RMSE: 5.0230, MASE: 0.4217\n"
          ]
        },
        {
          "name": "stderr",
          "output_type": "stream",
          "text": [
            "/tmp/ipython-input-4-455621206.py:139: DeprecationWarning: Conversion of an array with ndim > 0 to a scalar is deprecated, and will error in future. Ensure you extract a single element from your array before performing this operation. (Deprecated NumPy 1.25.)\n",
            "  pred = float(D @ self.rls[l].w)\n",
            "/tmp/ipython-input-4-455621206.py:139: DeprecationWarning: Conversion of an array with ndim > 0 to a scalar is deprecated, and will error in future. Ensure you extract a single element from your array before performing this operation. (Deprecated NumPy 1.25.)\n",
            "  pred = float(D @ self.rls[l].w)\n",
            "/tmp/ipython-input-4-455621206.py:139: DeprecationWarning: Conversion of an array with ndim > 0 to a scalar is deprecated, and will error in future. Ensure you extract a single element from your array before performing this operation. (Deprecated NumPy 1.25.)\n",
            "  pred = float(D @ self.rls[l].w)\n",
            "/tmp/ipython-input-4-455621206.py:139: DeprecationWarning: Conversion of an array with ndim > 0 to a scalar is deprecated, and will error in future. Ensure you extract a single element from your array before performing this operation. (Deprecated NumPy 1.25.)\n",
            "  pred = float(D @ self.rls[l].w)\n",
            "/tmp/ipython-input-4-455621206.py:139: DeprecationWarning: Conversion of an array with ndim > 0 to a scalar is deprecated, and will error in future. Ensure you extract a single element from your array before performing this operation. (Deprecated NumPy 1.25.)\n",
            "  pred = float(D @ self.rls[l].w)\n",
            "/tmp/ipython-input-4-455621206.py:139: DeprecationWarning: Conversion of an array with ndim > 0 to a scalar is deprecated, and will error in future. Ensure you extract a single element from your array before performing this operation. (Deprecated NumPy 1.25.)\n",
            "  pred = float(D @ self.rls[l].w)\n",
            "/tmp/ipython-input-4-455621206.py:139: DeprecationWarning: Conversion of an array with ndim > 0 to a scalar is deprecated, and will error in future. Ensure you extract a single element from your array before performing this operation. (Deprecated NumPy 1.25.)\n",
            "  pred = float(D @ self.rls[l].w)\n"
          ]
        },
        {
          "name": "stdout",
          "output_type": "stream",
          "text": [
            "s=0.9, L=7, N_hidden=30 -> RMSE: 4.2072, MASE: 0.3370\n"
          ]
        },
        {
          "name": "stderr",
          "output_type": "stream",
          "text": [
            "/tmp/ipython-input-4-455621206.py:139: DeprecationWarning: Conversion of an array with ndim > 0 to a scalar is deprecated, and will error in future. Ensure you extract a single element from your array before performing this operation. (Deprecated NumPy 1.25.)\n",
            "  pred = float(D @ self.rls[l].w)\n",
            "/tmp/ipython-input-4-455621206.py:139: DeprecationWarning: Conversion of an array with ndim > 0 to a scalar is deprecated, and will error in future. Ensure you extract a single element from your array before performing this operation. (Deprecated NumPy 1.25.)\n",
            "  pred = float(D @ self.rls[l].w)\n",
            "/tmp/ipython-input-4-455621206.py:139: DeprecationWarning: Conversion of an array with ndim > 0 to a scalar is deprecated, and will error in future. Ensure you extract a single element from your array before performing this operation. (Deprecated NumPy 1.25.)\n",
            "  pred = float(D @ self.rls[l].w)\n",
            "/tmp/ipython-input-4-455621206.py:139: DeprecationWarning: Conversion of an array with ndim > 0 to a scalar is deprecated, and will error in future. Ensure you extract a single element from your array before performing this operation. (Deprecated NumPy 1.25.)\n",
            "  pred = float(D @ self.rls[l].w)\n",
            "/tmp/ipython-input-4-455621206.py:139: DeprecationWarning: Conversion of an array with ndim > 0 to a scalar is deprecated, and will error in future. Ensure you extract a single element from your array before performing this operation. (Deprecated NumPy 1.25.)\n",
            "  pred = float(D @ self.rls[l].w)\n"
          ]
        },
        {
          "name": "stdout",
          "output_type": "stream",
          "text": [
            "s=0.9, L=7, N_hidden=40 -> RMSE: 4.7185, MASE: 0.3642\n"
          ]
        },
        {
          "name": "stderr",
          "output_type": "stream",
          "text": [
            "/tmp/ipython-input-4-455621206.py:139: DeprecationWarning: Conversion of an array with ndim > 0 to a scalar is deprecated, and will error in future. Ensure you extract a single element from your array before performing this operation. (Deprecated NumPy 1.25.)\n",
            "  pred = float(D @ self.rls[l].w)\n"
          ]
        },
        {
          "name": "stdout",
          "output_type": "stream",
          "text": [
            "s=0.9, L=8, N_hidden=20 -> RMSE: 4.4181, MASE: 0.3589\n"
          ]
        },
        {
          "name": "stderr",
          "output_type": "stream",
          "text": [
            "/tmp/ipython-input-4-455621206.py:139: DeprecationWarning: Conversion of an array with ndim > 0 to a scalar is deprecated, and will error in future. Ensure you extract a single element from your array before performing this operation. (Deprecated NumPy 1.25.)\n",
            "  pred = float(D @ self.rls[l].w)\n",
            "/tmp/ipython-input-4-455621206.py:139: DeprecationWarning: Conversion of an array with ndim > 0 to a scalar is deprecated, and will error in future. Ensure you extract a single element from your array before performing this operation. (Deprecated NumPy 1.25.)\n",
            "  pred = float(D @ self.rls[l].w)\n",
            "/tmp/ipython-input-4-455621206.py:139: DeprecationWarning: Conversion of an array with ndim > 0 to a scalar is deprecated, and will error in future. Ensure you extract a single element from your array before performing this operation. (Deprecated NumPy 1.25.)\n",
            "  pred = float(D @ self.rls[l].w)\n",
            "/tmp/ipython-input-4-455621206.py:139: DeprecationWarning: Conversion of an array with ndim > 0 to a scalar is deprecated, and will error in future. Ensure you extract a single element from your array before performing this operation. (Deprecated NumPy 1.25.)\n",
            "  pred = float(D @ self.rls[l].w)\n",
            "/tmp/ipython-input-4-455621206.py:139: DeprecationWarning: Conversion of an array with ndim > 0 to a scalar is deprecated, and will error in future. Ensure you extract a single element from your array before performing this operation. (Deprecated NumPy 1.25.)\n",
            "  pred = float(D @ self.rls[l].w)\n"
          ]
        },
        {
          "name": "stdout",
          "output_type": "stream",
          "text": [
            "s=0.9, L=8, N_hidden=30 -> RMSE: 4.7008, MASE: 0.3593\n"
          ]
        },
        {
          "name": "stderr",
          "output_type": "stream",
          "text": [
            "/tmp/ipython-input-4-455621206.py:139: DeprecationWarning: Conversion of an array with ndim > 0 to a scalar is deprecated, and will error in future. Ensure you extract a single element from your array before performing this operation. (Deprecated NumPy 1.25.)\n",
            "  pred = float(D @ self.rls[l].w)\n",
            "/tmp/ipython-input-4-455621206.py:139: DeprecationWarning: Conversion of an array with ndim > 0 to a scalar is deprecated, and will error in future. Ensure you extract a single element from your array before performing this operation. (Deprecated NumPy 1.25.)\n",
            "  pred = float(D @ self.rls[l].w)\n",
            "/tmp/ipython-input-4-455621206.py:139: DeprecationWarning: Conversion of an array with ndim > 0 to a scalar is deprecated, and will error in future. Ensure you extract a single element from your array before performing this operation. (Deprecated NumPy 1.25.)\n",
            "  pred = float(D @ self.rls[l].w)\n",
            "/tmp/ipython-input-4-455621206.py:139: DeprecationWarning: Conversion of an array with ndim > 0 to a scalar is deprecated, and will error in future. Ensure you extract a single element from your array before performing this operation. (Deprecated NumPy 1.25.)\n",
            "  pred = float(D @ self.rls[l].w)\n",
            "/tmp/ipython-input-4-455621206.py:139: DeprecationWarning: Conversion of an array with ndim > 0 to a scalar is deprecated, and will error in future. Ensure you extract a single element from your array before performing this operation. (Deprecated NumPy 1.25.)\n",
            "  pred = float(D @ self.rls[l].w)\n",
            "/tmp/ipython-input-4-455621206.py:139: DeprecationWarning: Conversion of an array with ndim > 0 to a scalar is deprecated, and will error in future. Ensure you extract a single element from your array before performing this operation. (Deprecated NumPy 1.25.)\n",
            "  pred = float(D @ self.rls[l].w)\n",
            "/tmp/ipython-input-4-455621206.py:139: DeprecationWarning: Conversion of an array with ndim > 0 to a scalar is deprecated, and will error in future. Ensure you extract a single element from your array before performing this operation. (Deprecated NumPy 1.25.)\n",
            "  pred = float(D @ self.rls[l].w)\n",
            "/tmp/ipython-input-4-455621206.py:139: DeprecationWarning: Conversion of an array with ndim > 0 to a scalar is deprecated, and will error in future. Ensure you extract a single element from your array before performing this operation. (Deprecated NumPy 1.25.)\n",
            "  pred = float(D @ self.rls[l].w)\n",
            "/tmp/ipython-input-4-455621206.py:139: DeprecationWarning: Conversion of an array with ndim > 0 to a scalar is deprecated, and will error in future. Ensure you extract a single element from your array before performing this operation. (Deprecated NumPy 1.25.)\n",
            "  pred = float(D @ self.rls[l].w)\n"
          ]
        },
        {
          "name": "stdout",
          "output_type": "stream",
          "text": [
            "s=0.9, L=8, N_hidden=40 -> RMSE: 4.4893, MASE: 0.3434\n"
          ]
        },
        {
          "name": "stderr",
          "output_type": "stream",
          "text": [
            "/tmp/ipython-input-4-455621206.py:139: DeprecationWarning: Conversion of an array with ndim > 0 to a scalar is deprecated, and will error in future. Ensure you extract a single element from your array before performing this operation. (Deprecated NumPy 1.25.)\n",
            "  pred = float(D @ self.rls[l].w)\n",
            "/tmp/ipython-input-4-455621206.py:139: DeprecationWarning: Conversion of an array with ndim > 0 to a scalar is deprecated, and will error in future. Ensure you extract a single element from your array before performing this operation. (Deprecated NumPy 1.25.)\n",
            "  pred = float(D @ self.rls[l].w)\n"
          ]
        },
        {
          "name": "stdout",
          "output_type": "stream",
          "text": [
            "s=0.9, L=9, N_hidden=20 -> RMSE: 4.6814, MASE: 0.3801\n"
          ]
        },
        {
          "name": "stderr",
          "output_type": "stream",
          "text": [
            "/tmp/ipython-input-4-455621206.py:139: DeprecationWarning: Conversion of an array with ndim > 0 to a scalar is deprecated, and will error in future. Ensure you extract a single element from your array before performing this operation. (Deprecated NumPy 1.25.)\n",
            "  pred = float(D @ self.rls[l].w)\n",
            "/tmp/ipython-input-4-455621206.py:139: DeprecationWarning: Conversion of an array with ndim > 0 to a scalar is deprecated, and will error in future. Ensure you extract a single element from your array before performing this operation. (Deprecated NumPy 1.25.)\n",
            "  pred = float(D @ self.rls[l].w)\n",
            "/tmp/ipython-input-4-455621206.py:139: DeprecationWarning: Conversion of an array with ndim > 0 to a scalar is deprecated, and will error in future. Ensure you extract a single element from your array before performing this operation. (Deprecated NumPy 1.25.)\n",
            "  pred = float(D @ self.rls[l].w)\n",
            "/tmp/ipython-input-4-455621206.py:139: DeprecationWarning: Conversion of an array with ndim > 0 to a scalar is deprecated, and will error in future. Ensure you extract a single element from your array before performing this operation. (Deprecated NumPy 1.25.)\n",
            "  pred = float(D @ self.rls[l].w)\n",
            "/tmp/ipython-input-4-455621206.py:139: DeprecationWarning: Conversion of an array with ndim > 0 to a scalar is deprecated, and will error in future. Ensure you extract a single element from your array before performing this operation. (Deprecated NumPy 1.25.)\n",
            "  pred = float(D @ self.rls[l].w)\n",
            "/tmp/ipython-input-4-455621206.py:139: DeprecationWarning: Conversion of an array with ndim > 0 to a scalar is deprecated, and will error in future. Ensure you extract a single element from your array before performing this operation. (Deprecated NumPy 1.25.)\n",
            "  pred = float(D @ self.rls[l].w)\n",
            "/tmp/ipython-input-4-455621206.py:139: DeprecationWarning: Conversion of an array with ndim > 0 to a scalar is deprecated, and will error in future. Ensure you extract a single element from your array before performing this operation. (Deprecated NumPy 1.25.)\n",
            "  pred = float(D @ self.rls[l].w)\n"
          ]
        },
        {
          "name": "stdout",
          "output_type": "stream",
          "text": [
            "s=0.9, L=9, N_hidden=30 -> RMSE: 4.6362, MASE: 0.3568\n"
          ]
        },
        {
          "name": "stderr",
          "output_type": "stream",
          "text": [
            "/tmp/ipython-input-4-455621206.py:139: DeprecationWarning: Conversion of an array with ndim > 0 to a scalar is deprecated, and will error in future. Ensure you extract a single element from your array before performing this operation. (Deprecated NumPy 1.25.)\n",
            "  pred = float(D @ self.rls[l].w)\n",
            "/tmp/ipython-input-4-455621206.py:139: DeprecationWarning: Conversion of an array with ndim > 0 to a scalar is deprecated, and will error in future. Ensure you extract a single element from your array before performing this operation. (Deprecated NumPy 1.25.)\n",
            "  pred = float(D @ self.rls[l].w)\n",
            "/tmp/ipython-input-4-455621206.py:139: DeprecationWarning: Conversion of an array with ndim > 0 to a scalar is deprecated, and will error in future. Ensure you extract a single element from your array before performing this operation. (Deprecated NumPy 1.25.)\n",
            "  pred = float(D @ self.rls[l].w)\n",
            "/tmp/ipython-input-4-455621206.py:139: DeprecationWarning: Conversion of an array with ndim > 0 to a scalar is deprecated, and will error in future. Ensure you extract a single element from your array before performing this operation. (Deprecated NumPy 1.25.)\n",
            "  pred = float(D @ self.rls[l].w)\n",
            "/tmp/ipython-input-4-455621206.py:139: DeprecationWarning: Conversion of an array with ndim > 0 to a scalar is deprecated, and will error in future. Ensure you extract a single element from your array before performing this operation. (Deprecated NumPy 1.25.)\n",
            "  pred = float(D @ self.rls[l].w)\n",
            "/tmp/ipython-input-4-455621206.py:139: DeprecationWarning: Conversion of an array with ndim > 0 to a scalar is deprecated, and will error in future. Ensure you extract a single element from your array before performing this operation. (Deprecated NumPy 1.25.)\n",
            "  pred = float(D @ self.rls[l].w)\n",
            "/tmp/ipython-input-4-455621206.py:139: DeprecationWarning: Conversion of an array with ndim > 0 to a scalar is deprecated, and will error in future. Ensure you extract a single element from your array before performing this operation. (Deprecated NumPy 1.25.)\n",
            "  pred = float(D @ self.rls[l].w)\n",
            "/tmp/ipython-input-4-455621206.py:139: DeprecationWarning: Conversion of an array with ndim > 0 to a scalar is deprecated, and will error in future. Ensure you extract a single element from your array before performing this operation. (Deprecated NumPy 1.25.)\n",
            "  pred = float(D @ self.rls[l].w)\n",
            "/tmp/ipython-input-4-455621206.py:139: DeprecationWarning: Conversion of an array with ndim > 0 to a scalar is deprecated, and will error in future. Ensure you extract a single element from your array before performing this operation. (Deprecated NumPy 1.25.)\n",
            "  pred = float(D @ self.rls[l].w)\n",
            "/tmp/ipython-input-4-455621206.py:139: DeprecationWarning: Conversion of an array with ndim > 0 to a scalar is deprecated, and will error in future. Ensure you extract a single element from your array before performing this operation. (Deprecated NumPy 1.25.)\n",
            "  pred = float(D @ self.rls[l].w)\n"
          ]
        },
        {
          "name": "stdout",
          "output_type": "stream",
          "text": [
            "s=0.9, L=9, N_hidden=40 -> RMSE: 4.7850, MASE: 0.3687\n",
            "\n",
            "Best Configuration:\n",
            "{'s': 0.6, 'L': 9, 'N_hidden': 30, 'RMSE': np.float64(3.4213889094108643), 'MASE': np.float64(0.2837007420801542)}\n"
          ]
        }
      ],
      "source": [
        "# ------------------------ Hyperparameter Tuning for Airfoil Noise Dataset ------------------------\n",
        "\n",
        "# Initialize variables to track best RMSE and corresponding configuration\n",
        "best_rmse = float('inf')  # Start with an infinitely high RMSE\n",
        "best_config = {}          # Store best hyperparameters\n",
        "results = []              # Store results of all combinations\n",
        "\n",
        "# Define hyperparameter search space\n",
        "s_values = [0.1, 0.2, 0.3, 0.4, 0.5, 0.6, 0.7, 0.8, 0.9]    # Smoothing factor\n",
        "L_values = [2, 3, 4, 5, 6, 7, 8, 9]                        # Number of layers\n",
        "hidden_values = [20, 30, 40]                              # Number of hidden units per layer\n",
        "\n",
        "# Loop over all combinations of (s, L, N_hidden)\n",
        "for s in s_values:\n",
        "    for L in L_values:\n",
        "        for N_hidden in hidden_values:\n",
        "            # Initialize model with current hyperparameters\n",
        "            model = OnlineEDRVFL(input_dim=X_train.shape[1], N_hidden=N_hidden, L=L, s=s)\n",
        "\n",
        "            # Offline initialization using first 200 samples\n",
        "            model.initialize_offline(X_train[:200], y_train[:200])\n",
        "\n",
        "            predictions = []                    # Store predictions\n",
        "            y_stream = y_test[:500]             # Stream first 500 test targets\n",
        "            X_stream = X_test[:500]             # Stream first 500 test inputs\n",
        "            batch_size = 10                     # Define batch size\n",
        "\n",
        "            # Process the test stream in batches\n",
        "            for i in range(0, len(X_stream), batch_size):\n",
        "                x_batch = X_stream[i:i + batch_size]\n",
        "                y_batch = y_stream[i:i + batch_size]\n",
        "\n",
        "                # Predict for each sample in the batch\n",
        "                for j in range(len(x_batch)):\n",
        "                    x_i = x_batch[j]\n",
        "                    y_i = float(y_batch[j])\n",
        "                    preds = model.predict(x_i)                  # Layer-wise predictions\n",
        "                    y_pred = model.ensemble_predict(preds, y_i) # Combine predictions\n",
        "                    predictions.append(y_pred)                  # Save prediction\n",
        "\n",
        "                # Update the model using the current batch\n",
        "                for j in range(len(x_batch)):\n",
        "                    x_i = x_batch[j]\n",
        "                    y_i = float(y_batch[j])\n",
        "                    model.update_online(x_i, y_i)               # Online update\n",
        "\n",
        "            # Convert predictions to array for evaluation\n",
        "            predictions = np.array(predictions)\n",
        "\n",
        "            # Compute RMSE\n",
        "            rmse = np.sqrt(mean_squared_error(y_stream, predictions))\n",
        "\n",
        "            # Compute MASE (Mean Absolute Scaled Error)\n",
        "            naive_mae = np.mean(np.abs(np.diff(y_train)))  # Baseline error\n",
        "            mase = np.mean(np.abs(y_stream - predictions)) / naive_mae\n",
        "\n",
        "            # Store results for this configuration\n",
        "            results.append((rmse, mase, s, L, N_hidden))\n",
        "\n",
        "            # Update best configuration if current RMSE is lower\n",
        "            if rmse < best_rmse:\n",
        "                best_rmse = rmse\n",
        "                best_config = {\n",
        "                    's': s,\n",
        "                    'L': L,\n",
        "                    'N_hidden': N_hidden,\n",
        "                    'RMSE': rmse,\n",
        "                    'MASE': mase\n",
        "                }\n",
        "\n",
        "            # Print current result\n",
        "            print(f\"s={s}, L={L}, N_hidden={N_hidden} -> RMSE: {rmse:.4f}, MASE: {mase:.4f}\")\n",
        "\n",
        "# Print final best configuration\n",
        "print(\"\\nBest Configuration:\")\n",
        "print(best_config)\n",
        "\n"
      ]
    },
    {
      "cell_type": "code",
      "source": [
        "# ======================= Wine Quality (Red) dataset with ODEWTedRVFL =======================\n",
        "# ------------------------ Imports and Setup ------------------------\n",
        "import numpy as np\n",
        "import pandas as pd\n",
        "from sklearn.model_selection import train_test_split\n",
        "from sklearn.preprocessing import StandardScaler\n",
        "from sklearn.metrics import mean_squared_error\n",
        "import ewtpy  # For Empirical Wavelet Transform\n",
        "import warnings\n",
        "warnings.filterwarnings(\"ignore\", category=RuntimeWarning)\n",
        "import requests\n",
        "from io import StringIO\n",
        "\n",
        "# ------------------------ Load Wine Quality (Red) Dataset ------------------------\n",
        "# Download dataset from UCI repository\n",
        "url = \"https://archive.ics.uci.edu/ml/machine-learning-databases/wine-quality/winequality-red.csv\"\n",
        "response = requests.get(url)\n",
        "csv_data = StringIO(response.text)\n",
        "\n",
        "# Read CSV with ; separator\n",
        "df = pd.read_csv(csv_data, sep=';')\n",
        "\n",
        "print(df.shape)     # Print dataset dimensions\n",
        "print(df.columns)   # Print column names\n",
        "\n",
        "# Split features and target ('quality')\n",
        "target_column_name = 'quality'\n",
        "X = df.drop(target_column_name, axis=1).values\n",
        "y = df[target_column_name].values.astype(np.float32)\n",
        "\n",
        "# ------------------------ Dynamic EWT Feature Extraction ------------------------\n",
        "def compute_dynamic_ewt_features(signal, window=128, modes=3, k=5):\n",
        "    features = []\n",
        "    for i in range(len(signal)):\n",
        "        # Extract local window around each point\n",
        "        start = max(0, i - window // 2)\n",
        "        end = min(len(signal), i + window // 2)\n",
        "        segment = signal[start:end]\n",
        "        mode_values = []\n",
        "\n",
        "        try:\n",
        "            # Perform Empirical Wavelet Transform\n",
        "            ewt_modes, _, _ = ewtpy.EWT1D(segment, N=modes)\n",
        "\n",
        "            # Extract last k values from each mode\n",
        "            if isinstance(ewt_modes, list):\n",
        "                for m in ewt_modes:\n",
        "                    values = m[-k:] if len(m) >= k else np.pad(m, (k - len(m), 0), mode='constant')\n",
        "                    mode_values.extend(values)\n",
        "            elif isinstance(ewt_modes, np.ndarray):\n",
        "                for j in range(min(modes, ewt_modes.shape[0])):\n",
        "                    m = ewt_modes[j, :]\n",
        "                    values = m[-k:] if len(m) >= k else np.pad(m, (k - len(m), 0), mode='constant')\n",
        "                    mode_values.extend(values)\n",
        "            else:\n",
        "                mode_values = [0.0] * (modes * k)\n",
        "\n",
        "        except Exception as e:\n",
        "            print(f\"Error at index {i}: {e}\")\n",
        "            mode_values = [0.0] * (modes * k)\n",
        "\n",
        "        features.append(mode_values)\n",
        "\n",
        "    return np.array(features)\n",
        "\n",
        "# Apply EWT feature extraction on target signal\n",
        "ewt_features = compute_dynamic_ewt_features(y, window=128, modes=3, k=5)\n",
        "\n",
        "# Concatenate original features with EWT features\n",
        "X_ewt = np.hstack([X, ewt_features])\n",
        "\n",
        "# ------------------------ Train/Test Split and Feature Scaling ------------------------\n",
        "X_train, X_test, y_train, y_test = train_test_split(X_ewt, y, test_size=0.3, random_state=42)\n",
        "\n",
        "# Standardize features\n",
        "scaler = StandardScaler()\n",
        "X_train = scaler.fit_transform(X_train)\n",
        "X_test = scaler.transform(X_test)\n",
        "\n",
        "# ------------------------ Recursive Least Squares (RLS) Class ------------------------\n",
        "class RLS:\n",
        "   def __init__(self, dim, mu=0.95, delta=1000):\n",
        "        self.mu = mu                            # Forgetting factor\n",
        "        self.R = np.eye(dim) * delta            # Inverse covariance matrix\n",
        "        self.W_l = np.zeros((dim, 1))           # Initial weights\n",
        "\n",
        "   def update(self, x_t, y_t):\n",
        "        x_t = x_t.reshape(-1, 1)\n",
        "        y_t = np.array([[y_t]])\n",
        "        denom = self.mu + x_t.T @ self.R @ x_t\n",
        "        if denom <= 1e-8 or np.isnan(denom):     # Avoid instability\n",
        "            return\n",
        "        self.R = (1 / self.mu) * (self.R - (self.R @ x_t @ x_t.T @ self.R) / denom)\n",
        "        e_t = y_t - x_t.T @ self.W_l\n",
        "        delta_W_l = self.R @ x_t @ e_t\n",
        "        self.W_l += delta_W_l\n",
        "\n",
        "# ------------------------ Online Deep edRVFL Class ------------------------\n",
        "class OnlineEDRVFL:\n",
        "    def __init__(self, input_dim, N_hidden=30, L=3, mu=0.7, s=0.7):\n",
        "        self.L = L                    # Number of layers\n",
        "        self.N_hidden = N_hidden      # Number of hidden units per layer\n",
        "        self.input_dim = input_dim\n",
        "        self.mu = mu\n",
        "        self.s = s                    # Smoothing factor\n",
        "        self.W = []                   # Weights per layer\n",
        "        self.rls = []                 # RLS objects\n",
        "        self.beta = []                # Initial offline weights\n",
        "\n",
        "        current_input_dim = input_dim\n",
        "        for l in range(L):\n",
        "            W_l = np.random.randn(N_hidden, current_input_dim + 1)\n",
        "            self.W.append(W_l)\n",
        "            D_dim = N_hidden + current_input_dim + 1\n",
        "            self.rls.append(RLS(dim=D_dim, mu=mu))\n",
        "            self.beta.append(np.zeros((D_dim, 1)))\n",
        "            current_input_dim += N_hidden\n",
        "\n",
        "    def _activation(self, x):\n",
        "        return np.tanh(x)\n",
        "\n",
        "    def _forward_layer(self, x, W):\n",
        "        x_bias = np.hstack([x, np.ones((x.shape[0], 1))])  # Add bias\n",
        "        return self._activation(x_bias @ W.T)\n",
        "\n",
        "    def initialize_offline(self, X, y, reg_lambda=1e-3):\n",
        "        current_X = X.copy()\n",
        "        for l in range(self.L):\n",
        "            h = self._forward_layer(current_X, self.W[l])\n",
        "            D = np.hstack([h, current_X, np.ones((current_X.shape[0], 1))])\n",
        "            beta_l = np.linalg.inv(D.T @ D + reg_lambda * np.eye(D.shape[1])) @ D.T @ y.reshape(-1, 1)\n",
        "            self.beta[l] = beta_l\n",
        "            self.rls[l].w = beta_l.copy()\n",
        "            current_X = np.hstack([current_X, h])\n",
        "\n",
        "    def predict(self, x):\n",
        "        x = x.reshape(1, -1)\n",
        "        layer_input = x\n",
        "        preds = []\n",
        "        for l in range(self.L):\n",
        "            h = self._forward_layer(layer_input, self.W[l])\n",
        "            D = np.hstack([h, layer_input, np.ones((layer_input.shape[0], 1))])\n",
        "            pred = float(D @ self.rls[l].w)\n",
        "            preds.append(pred)\n",
        "            layer_input = np.hstack([layer_input, h])\n",
        "        return preds\n",
        "\n",
        "    def update_online(self, x, y):\n",
        "        x = x.reshape(1, -1)\n",
        "        layer_input = x\n",
        "        for l in range(self.L):\n",
        "            h = self._forward_layer(layer_input, self.W[l])\n",
        "            D = np.hstack([h, layer_input, np.ones((layer_input.shape[0], 1))]).reshape(-1)\n",
        "            self.rls[l].update(D, y)\n",
        "            # Smooth weight update\n",
        "            if hasattr(self.rls[l], 'w') and self.rls[l].w is not None:\n",
        "                self.rls[l].w = self.s * self.rls[l].w + (1 - self.s) * self.beta[l]\n",
        "            layer_input = np.hstack([layer_input, h])\n",
        "\n",
        "    def ensemble_predict(self, preds, y_true):\n",
        "        # Weight inversely proportional to error\n",
        "        errors = np.abs(np.array(preds) - y_true)\n",
        "        weights = 1 / (errors + 1e-8)\n",
        "        weights /= np.sum(weights)\n",
        "        return float(np.dot(weights, preds))\n",
        "\n",
        "# ------------------------ Online Batch-wise Training and Prediction ------------------------\n",
        "model = OnlineEDRVFL(input_dim=X_train.shape[1], N_hidden=30, L=3)\n",
        "model.initialize_offline(X_train[:200], y_train[:200])  # Use first 200 points to initialize weights\n",
        "\n",
        "predictions = []\n",
        "y_stream = y_test[:500]\n",
        "X_stream = X_test[:500]\n",
        "batch_size = 10\n",
        "\n",
        "# Process stream in batches\n",
        "for i in range(0, len(X_stream), batch_size):\n",
        "    x_batch = X_stream[i:i + batch_size]\n",
        "    y_batch = y_stream[i:i + batch_size]\n",
        "\n",
        "    # Predict for each sample in the batch\n",
        "    for j in range(len(x_batch)):\n",
        "        x_i = x_batch[j]\n",
        "        y_i = float(y_batch[j])\n",
        "        preds = model.predict(x_i)\n",
        "        y_pred = model.ensemble_predict(preds, y_i)\n",
        "        predictions.append(y_pred)\n",
        "\n",
        "    # Update model with the batch\n",
        "    for j in range(len(x_batch)):\n",
        "        x_i = x_batch[j]\n",
        "        y_i = float(y_batch[j])\n",
        "        model.update_online(x_i, y_i)\n",
        "\n",
        "# ------------------------ Evaluation ------------------------\n",
        "predictions = np.array(predictions)\n",
        "rmse = np.sqrt(mean_squared_error(y_stream, predictions))        # Root Mean Squared Error\n",
        "naive_mae = np.mean(np.abs(np.diff(y_train)))                    # Naive baseline MAE for MASE\n",
        "mase = np.mean(np.abs(y_stream - predictions)) / naive_mae       # Mean Absolute Scaled Error\n",
        "\n",
        "print(f\"\\n RMSE: {rmse:.4f}\")\n",
        "print(f\" MASE: {mase:.4f}\")\n"
      ],
      "metadata": {
        "id": "FoNv1XB314sb",
        "outputId": "694eec8e-b818-45f9-9f11-b3d927f217c1",
        "colab": {
          "base_uri": "https://localhost:8080/"
        }
      },
      "execution_count": 14,
      "outputs": [
        {
          "output_type": "stream",
          "name": "stdout",
          "text": [
            "(1599, 12)\n",
            "Index(['fixed acidity', 'volatile acidity', 'citric acid', 'residual sugar',\n",
            "       'chlorides', 'free sulfur dioxide', 'total sulfur dioxide', 'density',\n",
            "       'pH', 'sulphates', 'alcohol', 'quality'],\n",
            "      dtype='object')\n"
          ]
        },
        {
          "output_type": "stream",
          "name": "stderr",
          "text": [
            "/tmp/ipython-input-14-3062527659.py:126: DeprecationWarning: Conversion of an array with ndim > 0 to a scalar is deprecated, and will error in future. Ensure you extract a single element from your array before performing this operation. (Deprecated NumPy 1.25.)\n",
            "  pred = float(D @ self.rls[l].w)\n"
          ]
        },
        {
          "output_type": "stream",
          "name": "stdout",
          "text": [
            "\n",
            " RMSE: 0.7173\n",
            " MASE: 0.5983\n"
          ]
        }
      ]
    },
    {
      "cell_type": "code",
      "execution_count": 15,
      "metadata": {
        "colab": {
          "base_uri": "https://localhost:8080/"
        },
        "outputId": "9ad79511-69e2-4b91-b4d8-1ae4d18ac349",
        "id": "4X_e6Au11-l_"
      },
      "outputs": [
        {
          "output_type": "stream",
          "name": "stderr",
          "text": [
            "/tmp/ipython-input-14-3062527659.py:126: DeprecationWarning: Conversion of an array with ndim > 0 to a scalar is deprecated, and will error in future. Ensure you extract a single element from your array before performing this operation. (Deprecated NumPy 1.25.)\n",
            "  pred = float(D @ self.rls[l].w)\n",
            "/tmp/ipython-input-14-3062527659.py:126: DeprecationWarning: Conversion of an array with ndim > 0 to a scalar is deprecated, and will error in future. Ensure you extract a single element from your array before performing this operation. (Deprecated NumPy 1.25.)\n",
            "  pred = float(D @ self.rls[l].w)\n"
          ]
        },
        {
          "output_type": "stream",
          "name": "stdout",
          "text": [
            "s=0.1, L=2, N_hidden=20 -> RMSE: 0.6943, MASE: 0.5959\n",
            "s=0.1, L=2, N_hidden=30 -> RMSE: 0.6857, MASE: 0.5798\n"
          ]
        },
        {
          "output_type": "stream",
          "name": "stderr",
          "text": [
            "/tmp/ipython-input-14-3062527659.py:126: DeprecationWarning: Conversion of an array with ndim > 0 to a scalar is deprecated, and will error in future. Ensure you extract a single element from your array before performing this operation. (Deprecated NumPy 1.25.)\n",
            "  pred = float(D @ self.rls[l].w)\n"
          ]
        },
        {
          "output_type": "stream",
          "name": "stdout",
          "text": [
            "s=0.1, L=2, N_hidden=40 -> RMSE: 0.7471, MASE: 0.6174\n"
          ]
        },
        {
          "output_type": "stream",
          "name": "stderr",
          "text": [
            "/tmp/ipython-input-14-3062527659.py:126: DeprecationWarning: Conversion of an array with ndim > 0 to a scalar is deprecated, and will error in future. Ensure you extract a single element from your array before performing this operation. (Deprecated NumPy 1.25.)\n",
            "  pred = float(D @ self.rls[l].w)\n"
          ]
        },
        {
          "output_type": "stream",
          "name": "stdout",
          "text": [
            "s=0.1, L=3, N_hidden=20 -> RMSE: 0.6944, MASE: 0.5986\n"
          ]
        },
        {
          "output_type": "stream",
          "name": "stderr",
          "text": [
            "/tmp/ipython-input-14-3062527659.py:126: DeprecationWarning: Conversion of an array with ndim > 0 to a scalar is deprecated, and will error in future. Ensure you extract a single element from your array before performing this operation. (Deprecated NumPy 1.25.)\n",
            "  pred = float(D @ self.rls[l].w)\n"
          ]
        },
        {
          "output_type": "stream",
          "name": "stdout",
          "text": [
            "s=0.1, L=3, N_hidden=30 -> RMSE: 0.7862, MASE: 0.6625\n"
          ]
        },
        {
          "output_type": "stream",
          "name": "stderr",
          "text": [
            "/tmp/ipython-input-14-3062527659.py:126: DeprecationWarning: Conversion of an array with ndim > 0 to a scalar is deprecated, and will error in future. Ensure you extract a single element from your array before performing this operation. (Deprecated NumPy 1.25.)\n",
            "  pred = float(D @ self.rls[l].w)\n"
          ]
        },
        {
          "output_type": "stream",
          "name": "stdout",
          "text": [
            "s=0.1, L=3, N_hidden=40 -> RMSE: 0.7697, MASE: 0.6177\n"
          ]
        },
        {
          "output_type": "stream",
          "name": "stderr",
          "text": [
            "/tmp/ipython-input-14-3062527659.py:126: DeprecationWarning: Conversion of an array with ndim > 0 to a scalar is deprecated, and will error in future. Ensure you extract a single element from your array before performing this operation. (Deprecated NumPy 1.25.)\n",
            "  pred = float(D @ self.rls[l].w)\n"
          ]
        },
        {
          "output_type": "stream",
          "name": "stdout",
          "text": [
            "s=0.1, L=4, N_hidden=20 -> RMSE: 0.6848, MASE: 0.5581\n"
          ]
        },
        {
          "output_type": "stream",
          "name": "stderr",
          "text": [
            "/tmp/ipython-input-14-3062527659.py:126: DeprecationWarning: Conversion of an array with ndim > 0 to a scalar is deprecated, and will error in future. Ensure you extract a single element from your array before performing this operation. (Deprecated NumPy 1.25.)\n",
            "  pred = float(D @ self.rls[l].w)\n"
          ]
        },
        {
          "output_type": "stream",
          "name": "stdout",
          "text": [
            "s=0.1, L=4, N_hidden=30 -> RMSE: 0.6557, MASE: 0.5261\n"
          ]
        },
        {
          "output_type": "stream",
          "name": "stderr",
          "text": [
            "/tmp/ipython-input-14-3062527659.py:126: DeprecationWarning: Conversion of an array with ndim > 0 to a scalar is deprecated, and will error in future. Ensure you extract a single element from your array before performing this operation. (Deprecated NumPy 1.25.)\n",
            "  pred = float(D @ self.rls[l].w)\n"
          ]
        },
        {
          "output_type": "stream",
          "name": "stdout",
          "text": [
            "s=0.1, L=4, N_hidden=40 -> RMSE: 0.7292, MASE: 0.5481\n"
          ]
        },
        {
          "output_type": "stream",
          "name": "stderr",
          "text": [
            "/tmp/ipython-input-14-3062527659.py:126: DeprecationWarning: Conversion of an array with ndim > 0 to a scalar is deprecated, and will error in future. Ensure you extract a single element from your array before performing this operation. (Deprecated NumPy 1.25.)\n",
            "  pred = float(D @ self.rls[l].w)\n",
            "/tmp/ipython-input-14-3062527659.py:126: DeprecationWarning: Conversion of an array with ndim > 0 to a scalar is deprecated, and will error in future. Ensure you extract a single element from your array before performing this operation. (Deprecated NumPy 1.25.)\n",
            "  pred = float(D @ self.rls[l].w)\n"
          ]
        },
        {
          "output_type": "stream",
          "name": "stdout",
          "text": [
            "s=0.1, L=5, N_hidden=20 -> RMSE: 0.7229, MASE: 0.5909\n"
          ]
        },
        {
          "output_type": "stream",
          "name": "stderr",
          "text": [
            "/tmp/ipython-input-14-3062527659.py:126: DeprecationWarning: Conversion of an array with ndim > 0 to a scalar is deprecated, and will error in future. Ensure you extract a single element from your array before performing this operation. (Deprecated NumPy 1.25.)\n",
            "  pred = float(D @ self.rls[l].w)\n"
          ]
        },
        {
          "output_type": "stream",
          "name": "stdout",
          "text": [
            "s=0.1, L=5, N_hidden=30 -> RMSE: 0.7600, MASE: 0.5985\n"
          ]
        },
        {
          "output_type": "stream",
          "name": "stderr",
          "text": [
            "/tmp/ipython-input-14-3062527659.py:126: DeprecationWarning: Conversion of an array with ndim > 0 to a scalar is deprecated, and will error in future. Ensure you extract a single element from your array before performing this operation. (Deprecated NumPy 1.25.)\n",
            "  pred = float(D @ self.rls[l].w)\n"
          ]
        },
        {
          "output_type": "stream",
          "name": "stdout",
          "text": [
            "s=0.1, L=5, N_hidden=40 -> RMSE: 0.7149, MASE: 0.5355\n"
          ]
        },
        {
          "output_type": "stream",
          "name": "stderr",
          "text": [
            "/tmp/ipython-input-14-3062527659.py:126: DeprecationWarning: Conversion of an array with ndim > 0 to a scalar is deprecated, and will error in future. Ensure you extract a single element from your array before performing this operation. (Deprecated NumPy 1.25.)\n",
            "  pred = float(D @ self.rls[l].w)\n",
            "/tmp/ipython-input-14-3062527659.py:126: DeprecationWarning: Conversion of an array with ndim > 0 to a scalar is deprecated, and will error in future. Ensure you extract a single element from your array before performing this operation. (Deprecated NumPy 1.25.)\n",
            "  pred = float(D @ self.rls[l].w)\n",
            "/tmp/ipython-input-14-3062527659.py:126: DeprecationWarning: Conversion of an array with ndim > 0 to a scalar is deprecated, and will error in future. Ensure you extract a single element from your array before performing this operation. (Deprecated NumPy 1.25.)\n",
            "  pred = float(D @ self.rls[l].w)\n"
          ]
        },
        {
          "output_type": "stream",
          "name": "stdout",
          "text": [
            "s=0.1, L=6, N_hidden=20 -> RMSE: 0.7200, MASE: 0.5655\n"
          ]
        },
        {
          "output_type": "stream",
          "name": "stderr",
          "text": [
            "/tmp/ipython-input-14-3062527659.py:126: DeprecationWarning: Conversion of an array with ndim > 0 to a scalar is deprecated, and will error in future. Ensure you extract a single element from your array before performing this operation. (Deprecated NumPy 1.25.)\n",
            "  pred = float(D @ self.rls[l].w)\n",
            "/tmp/ipython-input-14-3062527659.py:126: DeprecationWarning: Conversion of an array with ndim > 0 to a scalar is deprecated, and will error in future. Ensure you extract a single element from your array before performing this operation. (Deprecated NumPy 1.25.)\n",
            "  pred = float(D @ self.rls[l].w)\n"
          ]
        },
        {
          "output_type": "stream",
          "name": "stdout",
          "text": [
            "s=0.1, L=6, N_hidden=30 -> RMSE: 0.6492, MASE: 0.5022\n",
            "s=0.1, L=6, N_hidden=40 -> RMSE: 0.6141, MASE: 0.4447\n"
          ]
        },
        {
          "output_type": "stream",
          "name": "stderr",
          "text": [
            "/tmp/ipython-input-14-3062527659.py:126: DeprecationWarning: Conversion of an array with ndim > 0 to a scalar is deprecated, and will error in future. Ensure you extract a single element from your array before performing this operation. (Deprecated NumPy 1.25.)\n",
            "  pred = float(D @ self.rls[l].w)\n",
            "/tmp/ipython-input-14-3062527659.py:126: DeprecationWarning: Conversion of an array with ndim > 0 to a scalar is deprecated, and will error in future. Ensure you extract a single element from your array before performing this operation. (Deprecated NumPy 1.25.)\n",
            "  pred = float(D @ self.rls[l].w)\n"
          ]
        },
        {
          "output_type": "stream",
          "name": "stdout",
          "text": [
            "s=0.1, L=7, N_hidden=20 -> RMSE: 0.6899, MASE: 0.5339\n"
          ]
        },
        {
          "output_type": "stream",
          "name": "stderr",
          "text": [
            "/tmp/ipython-input-14-3062527659.py:126: DeprecationWarning: Conversion of an array with ndim > 0 to a scalar is deprecated, and will error in future. Ensure you extract a single element from your array before performing this operation. (Deprecated NumPy 1.25.)\n",
            "  pred = float(D @ self.rls[l].w)\n",
            "/tmp/ipython-input-14-3062527659.py:126: DeprecationWarning: Conversion of an array with ndim > 0 to a scalar is deprecated, and will error in future. Ensure you extract a single element from your array before performing this operation. (Deprecated NumPy 1.25.)\n",
            "  pred = float(D @ self.rls[l].w)\n",
            "/tmp/ipython-input-14-3062527659.py:126: DeprecationWarning: Conversion of an array with ndim > 0 to a scalar is deprecated, and will error in future. Ensure you extract a single element from your array before performing this operation. (Deprecated NumPy 1.25.)\n",
            "  pred = float(D @ self.rls[l].w)\n"
          ]
        },
        {
          "output_type": "stream",
          "name": "stdout",
          "text": [
            "s=0.1, L=7, N_hidden=30 -> RMSE: 0.5940, MASE: 0.4510\n"
          ]
        },
        {
          "output_type": "stream",
          "name": "stderr",
          "text": [
            "/tmp/ipython-input-14-3062527659.py:126: DeprecationWarning: Conversion of an array with ndim > 0 to a scalar is deprecated, and will error in future. Ensure you extract a single element from your array before performing this operation. (Deprecated NumPy 1.25.)\n",
            "  pred = float(D @ self.rls[l].w)\n",
            "/tmp/ipython-input-14-3062527659.py:126: DeprecationWarning: Conversion of an array with ndim > 0 to a scalar is deprecated, and will error in future. Ensure you extract a single element from your array before performing this operation. (Deprecated NumPy 1.25.)\n",
            "  pred = float(D @ self.rls[l].w)\n"
          ]
        },
        {
          "output_type": "stream",
          "name": "stdout",
          "text": [
            "s=0.1, L=7, N_hidden=40 -> RMSE: 0.6835, MASE: 0.4895\n"
          ]
        },
        {
          "output_type": "stream",
          "name": "stderr",
          "text": [
            "/tmp/ipython-input-14-3062527659.py:126: DeprecationWarning: Conversion of an array with ndim > 0 to a scalar is deprecated, and will error in future. Ensure you extract a single element from your array before performing this operation. (Deprecated NumPy 1.25.)\n",
            "  pred = float(D @ self.rls[l].w)\n",
            "/tmp/ipython-input-14-3062527659.py:126: DeprecationWarning: Conversion of an array with ndim > 0 to a scalar is deprecated, and will error in future. Ensure you extract a single element from your array before performing this operation. (Deprecated NumPy 1.25.)\n",
            "  pred = float(D @ self.rls[l].w)\n",
            "/tmp/ipython-input-14-3062527659.py:126: DeprecationWarning: Conversion of an array with ndim > 0 to a scalar is deprecated, and will error in future. Ensure you extract a single element from your array before performing this operation. (Deprecated NumPy 1.25.)\n",
            "  pred = float(D @ self.rls[l].w)\n"
          ]
        },
        {
          "output_type": "stream",
          "name": "stdout",
          "text": [
            "s=0.1, L=8, N_hidden=20 -> RMSE: 0.6964, MASE: 0.5372\n"
          ]
        },
        {
          "output_type": "stream",
          "name": "stderr",
          "text": [
            "/tmp/ipython-input-14-3062527659.py:126: DeprecationWarning: Conversion of an array with ndim > 0 to a scalar is deprecated, and will error in future. Ensure you extract a single element from your array before performing this operation. (Deprecated NumPy 1.25.)\n",
            "  pred = float(D @ self.rls[l].w)\n",
            "/tmp/ipython-input-14-3062527659.py:126: DeprecationWarning: Conversion of an array with ndim > 0 to a scalar is deprecated, and will error in future. Ensure you extract a single element from your array before performing this operation. (Deprecated NumPy 1.25.)\n",
            "  pred = float(D @ self.rls[l].w)\n",
            "/tmp/ipython-input-14-3062527659.py:126: DeprecationWarning: Conversion of an array with ndim > 0 to a scalar is deprecated, and will error in future. Ensure you extract a single element from your array before performing this operation. (Deprecated NumPy 1.25.)\n",
            "  pred = float(D @ self.rls[l].w)\n"
          ]
        },
        {
          "output_type": "stream",
          "name": "stdout",
          "text": [
            "s=0.1, L=8, N_hidden=30 -> RMSE: 0.6759, MASE: 0.4980\n"
          ]
        },
        {
          "output_type": "stream",
          "name": "stderr",
          "text": [
            "/tmp/ipython-input-14-3062527659.py:126: DeprecationWarning: Conversion of an array with ndim > 0 to a scalar is deprecated, and will error in future. Ensure you extract a single element from your array before performing this operation. (Deprecated NumPy 1.25.)\n",
            "  pred = float(D @ self.rls[l].w)\n",
            "/tmp/ipython-input-14-3062527659.py:126: DeprecationWarning: Conversion of an array with ndim > 0 to a scalar is deprecated, and will error in future. Ensure you extract a single element from your array before performing this operation. (Deprecated NumPy 1.25.)\n",
            "  pred = float(D @ self.rls[l].w)\n",
            "/tmp/ipython-input-14-3062527659.py:126: DeprecationWarning: Conversion of an array with ndim > 0 to a scalar is deprecated, and will error in future. Ensure you extract a single element from your array before performing this operation. (Deprecated NumPy 1.25.)\n",
            "  pred = float(D @ self.rls[l].w)\n",
            "/tmp/ipython-input-14-3062527659.py:126: DeprecationWarning: Conversion of an array with ndim > 0 to a scalar is deprecated, and will error in future. Ensure you extract a single element from your array before performing this operation. (Deprecated NumPy 1.25.)\n",
            "  pred = float(D @ self.rls[l].w)\n",
            "/tmp/ipython-input-14-3062527659.py:126: DeprecationWarning: Conversion of an array with ndim > 0 to a scalar is deprecated, and will error in future. Ensure you extract a single element from your array before performing this operation. (Deprecated NumPy 1.25.)\n",
            "  pred = float(D @ self.rls[l].w)\n"
          ]
        },
        {
          "output_type": "stream",
          "name": "stdout",
          "text": [
            "s=0.1, L=8, N_hidden=40 -> RMSE: 0.6795, MASE: 0.4878\n"
          ]
        },
        {
          "output_type": "stream",
          "name": "stderr",
          "text": [
            "/tmp/ipython-input-14-3062527659.py:126: DeprecationWarning: Conversion of an array with ndim > 0 to a scalar is deprecated, and will error in future. Ensure you extract a single element from your array before performing this operation. (Deprecated NumPy 1.25.)\n",
            "  pred = float(D @ self.rls[l].w)\n",
            "/tmp/ipython-input-14-3062527659.py:126: DeprecationWarning: Conversion of an array with ndim > 0 to a scalar is deprecated, and will error in future. Ensure you extract a single element from your array before performing this operation. (Deprecated NumPy 1.25.)\n",
            "  pred = float(D @ self.rls[l].w)\n",
            "/tmp/ipython-input-14-3062527659.py:126: DeprecationWarning: Conversion of an array with ndim > 0 to a scalar is deprecated, and will error in future. Ensure you extract a single element from your array before performing this operation. (Deprecated NumPy 1.25.)\n",
            "  pred = float(D @ self.rls[l].w)\n",
            "/tmp/ipython-input-14-3062527659.py:126: DeprecationWarning: Conversion of an array with ndim > 0 to a scalar is deprecated, and will error in future. Ensure you extract a single element from your array before performing this operation. (Deprecated NumPy 1.25.)\n",
            "  pred = float(D @ self.rls[l].w)\n",
            "/tmp/ipython-input-14-3062527659.py:126: DeprecationWarning: Conversion of an array with ndim > 0 to a scalar is deprecated, and will error in future. Ensure you extract a single element from your array before performing this operation. (Deprecated NumPy 1.25.)\n",
            "  pred = float(D @ self.rls[l].w)\n"
          ]
        },
        {
          "output_type": "stream",
          "name": "stdout",
          "text": [
            "s=0.1, L=9, N_hidden=20 -> RMSE: 0.6586, MASE: 0.4983\n"
          ]
        },
        {
          "output_type": "stream",
          "name": "stderr",
          "text": [
            "/tmp/ipython-input-14-3062527659.py:126: DeprecationWarning: Conversion of an array with ndim > 0 to a scalar is deprecated, and will error in future. Ensure you extract a single element from your array before performing this operation. (Deprecated NumPy 1.25.)\n",
            "  pred = float(D @ self.rls[l].w)\n",
            "/tmp/ipython-input-14-3062527659.py:126: DeprecationWarning: Conversion of an array with ndim > 0 to a scalar is deprecated, and will error in future. Ensure you extract a single element from your array before performing this operation. (Deprecated NumPy 1.25.)\n",
            "  pred = float(D @ self.rls[l].w)\n"
          ]
        },
        {
          "output_type": "stream",
          "name": "stdout",
          "text": [
            "s=0.1, L=9, N_hidden=30 -> RMSE: 0.6383, MASE: 0.4785\n"
          ]
        },
        {
          "output_type": "stream",
          "name": "stderr",
          "text": [
            "/tmp/ipython-input-14-3062527659.py:126: DeprecationWarning: Conversion of an array with ndim > 0 to a scalar is deprecated, and will error in future. Ensure you extract a single element from your array before performing this operation. (Deprecated NumPy 1.25.)\n",
            "  pred = float(D @ self.rls[l].w)\n",
            "/tmp/ipython-input-14-3062527659.py:126: DeprecationWarning: Conversion of an array with ndim > 0 to a scalar is deprecated, and will error in future. Ensure you extract a single element from your array before performing this operation. (Deprecated NumPy 1.25.)\n",
            "  pred = float(D @ self.rls[l].w)\n",
            "/tmp/ipython-input-14-3062527659.py:126: DeprecationWarning: Conversion of an array with ndim > 0 to a scalar is deprecated, and will error in future. Ensure you extract a single element from your array before performing this operation. (Deprecated NumPy 1.25.)\n",
            "  pred = float(D @ self.rls[l].w)\n",
            "/tmp/ipython-input-14-3062527659.py:126: DeprecationWarning: Conversion of an array with ndim > 0 to a scalar is deprecated, and will error in future. Ensure you extract a single element from your array before performing this operation. (Deprecated NumPy 1.25.)\n",
            "  pred = float(D @ self.rls[l].w)\n",
            "/tmp/ipython-input-14-3062527659.py:126: DeprecationWarning: Conversion of an array with ndim > 0 to a scalar is deprecated, and will error in future. Ensure you extract a single element from your array before performing this operation. (Deprecated NumPy 1.25.)\n",
            "  pred = float(D @ self.rls[l].w)\n",
            "/tmp/ipython-input-14-3062527659.py:126: DeprecationWarning: Conversion of an array with ndim > 0 to a scalar is deprecated, and will error in future. Ensure you extract a single element from your array before performing this operation. (Deprecated NumPy 1.25.)\n",
            "  pred = float(D @ self.rls[l].w)\n",
            "/tmp/ipython-input-14-3062527659.py:126: DeprecationWarning: Conversion of an array with ndim > 0 to a scalar is deprecated, and will error in future. Ensure you extract a single element from your array before performing this operation. (Deprecated NumPy 1.25.)\n",
            "  pred = float(D @ self.rls[l].w)\n"
          ]
        },
        {
          "output_type": "stream",
          "name": "stdout",
          "text": [
            "s=0.1, L=9, N_hidden=40 -> RMSE: 0.6799, MASE: 0.4864\n",
            "s=0.2, L=2, N_hidden=20 -> RMSE: 0.6751, MASE: 0.5905\n"
          ]
        },
        {
          "output_type": "stream",
          "name": "stderr",
          "text": [
            "/tmp/ipython-input-14-3062527659.py:126: DeprecationWarning: Conversion of an array with ndim > 0 to a scalar is deprecated, and will error in future. Ensure you extract a single element from your array before performing this operation. (Deprecated NumPy 1.25.)\n",
            "  pred = float(D @ self.rls[l].w)\n",
            "/tmp/ipython-input-14-3062527659.py:126: DeprecationWarning: Conversion of an array with ndim > 0 to a scalar is deprecated, and will error in future. Ensure you extract a single element from your array before performing this operation. (Deprecated NumPy 1.25.)\n",
            "  pred = float(D @ self.rls[l].w)\n",
            "/tmp/ipython-input-14-3062527659.py:126: DeprecationWarning: Conversion of an array with ndim > 0 to a scalar is deprecated, and will error in future. Ensure you extract a single element from your array before performing this operation. (Deprecated NumPy 1.25.)\n",
            "  pred = float(D @ self.rls[l].w)\n"
          ]
        },
        {
          "output_type": "stream",
          "name": "stdout",
          "text": [
            "s=0.2, L=2, N_hidden=30 -> RMSE: 0.7078, MASE: 0.6029\n",
            "s=0.2, L=2, N_hidden=40 -> RMSE: 0.7285, MASE: 0.6098\n"
          ]
        },
        {
          "output_type": "stream",
          "name": "stderr",
          "text": [
            "/tmp/ipython-input-14-3062527659.py:126: DeprecationWarning: Conversion of an array with ndim > 0 to a scalar is deprecated, and will error in future. Ensure you extract a single element from your array before performing this operation. (Deprecated NumPy 1.25.)\n",
            "  pred = float(D @ self.rls[l].w)\n",
            "/tmp/ipython-input-14-3062527659.py:126: DeprecationWarning: Conversion of an array with ndim > 0 to a scalar is deprecated, and will error in future. Ensure you extract a single element from your array before performing this operation. (Deprecated NumPy 1.25.)\n",
            "  pred = float(D @ self.rls[l].w)\n"
          ]
        },
        {
          "output_type": "stream",
          "name": "stdout",
          "text": [
            "s=0.2, L=3, N_hidden=20 -> RMSE: 0.6880, MASE: 0.5779\n"
          ]
        },
        {
          "output_type": "stream",
          "name": "stderr",
          "text": [
            "/tmp/ipython-input-14-3062527659.py:126: DeprecationWarning: Conversion of an array with ndim > 0 to a scalar is deprecated, and will error in future. Ensure you extract a single element from your array before performing this operation. (Deprecated NumPy 1.25.)\n",
            "  pred = float(D @ self.rls[l].w)\n",
            "/tmp/ipython-input-14-3062527659.py:126: DeprecationWarning: Conversion of an array with ndim > 0 to a scalar is deprecated, and will error in future. Ensure you extract a single element from your array before performing this operation. (Deprecated NumPy 1.25.)\n",
            "  pred = float(D @ self.rls[l].w)\n"
          ]
        },
        {
          "output_type": "stream",
          "name": "stdout",
          "text": [
            "s=0.2, L=3, N_hidden=30 -> RMSE: 0.6946, MASE: 0.5712\n"
          ]
        },
        {
          "output_type": "stream",
          "name": "stderr",
          "text": [
            "/tmp/ipython-input-14-3062527659.py:126: DeprecationWarning: Conversion of an array with ndim > 0 to a scalar is deprecated, and will error in future. Ensure you extract a single element from your array before performing this operation. (Deprecated NumPy 1.25.)\n",
            "  pred = float(D @ self.rls[l].w)\n",
            "/tmp/ipython-input-14-3062527659.py:126: DeprecationWarning: Conversion of an array with ndim > 0 to a scalar is deprecated, and will error in future. Ensure you extract a single element from your array before performing this operation. (Deprecated NumPy 1.25.)\n",
            "  pred = float(D @ self.rls[l].w)\n",
            "/tmp/ipython-input-14-3062527659.py:126: DeprecationWarning: Conversion of an array with ndim > 0 to a scalar is deprecated, and will error in future. Ensure you extract a single element from your array before performing this operation. (Deprecated NumPy 1.25.)\n",
            "  pred = float(D @ self.rls[l].w)\n"
          ]
        },
        {
          "output_type": "stream",
          "name": "stdout",
          "text": [
            "s=0.2, L=3, N_hidden=40 -> RMSE: 0.8221, MASE: 0.6600\n",
            "s=0.2, L=4, N_hidden=20 -> RMSE: 0.7190, MASE: 0.6152\n"
          ]
        },
        {
          "output_type": "stream",
          "name": "stderr",
          "text": [
            "/tmp/ipython-input-14-3062527659.py:126: DeprecationWarning: Conversion of an array with ndim > 0 to a scalar is deprecated, and will error in future. Ensure you extract a single element from your array before performing this operation. (Deprecated NumPy 1.25.)\n",
            "  pred = float(D @ self.rls[l].w)\n"
          ]
        },
        {
          "output_type": "stream",
          "name": "stdout",
          "text": [
            "s=0.2, L=4, N_hidden=30 -> RMSE: 0.7170, MASE: 0.5542\n"
          ]
        },
        {
          "output_type": "stream",
          "name": "stderr",
          "text": [
            "/tmp/ipython-input-14-3062527659.py:126: DeprecationWarning: Conversion of an array with ndim > 0 to a scalar is deprecated, and will error in future. Ensure you extract a single element from your array before performing this operation. (Deprecated NumPy 1.25.)\n",
            "  pred = float(D @ self.rls[l].w)\n",
            "/tmp/ipython-input-14-3062527659.py:126: DeprecationWarning: Conversion of an array with ndim > 0 to a scalar is deprecated, and will error in future. Ensure you extract a single element from your array before performing this operation. (Deprecated NumPy 1.25.)\n",
            "  pred = float(D @ self.rls[l].w)\n"
          ]
        },
        {
          "output_type": "stream",
          "name": "stdout",
          "text": [
            "s=0.2, L=4, N_hidden=40 -> RMSE: 0.7028, MASE: 0.5407\n"
          ]
        },
        {
          "output_type": "stream",
          "name": "stderr",
          "text": [
            "/tmp/ipython-input-14-3062527659.py:126: DeprecationWarning: Conversion of an array with ndim > 0 to a scalar is deprecated, and will error in future. Ensure you extract a single element from your array before performing this operation. (Deprecated NumPy 1.25.)\n",
            "  pred = float(D @ self.rls[l].w)\n"
          ]
        },
        {
          "output_type": "stream",
          "name": "stdout",
          "text": [
            "s=0.2, L=5, N_hidden=20 -> RMSE: 0.7005, MASE: 0.5591\n"
          ]
        },
        {
          "output_type": "stream",
          "name": "stderr",
          "text": [
            "/tmp/ipython-input-14-3062527659.py:126: DeprecationWarning: Conversion of an array with ndim > 0 to a scalar is deprecated, and will error in future. Ensure you extract a single element from your array before performing this operation. (Deprecated NumPy 1.25.)\n",
            "  pred = float(D @ self.rls[l].w)\n",
            "/tmp/ipython-input-14-3062527659.py:126: DeprecationWarning: Conversion of an array with ndim > 0 to a scalar is deprecated, and will error in future. Ensure you extract a single element from your array before performing this operation. (Deprecated NumPy 1.25.)\n",
            "  pred = float(D @ self.rls[l].w)\n"
          ]
        },
        {
          "output_type": "stream",
          "name": "stdout",
          "text": [
            "s=0.2, L=5, N_hidden=30 -> RMSE: 0.6812, MASE: 0.5238\n"
          ]
        },
        {
          "output_type": "stream",
          "name": "stderr",
          "text": [
            "/tmp/ipython-input-14-3062527659.py:126: DeprecationWarning: Conversion of an array with ndim > 0 to a scalar is deprecated, and will error in future. Ensure you extract a single element from your array before performing this operation. (Deprecated NumPy 1.25.)\n",
            "  pred = float(D @ self.rls[l].w)\n",
            "/tmp/ipython-input-14-3062527659.py:126: DeprecationWarning: Conversion of an array with ndim > 0 to a scalar is deprecated, and will error in future. Ensure you extract a single element from your array before performing this operation. (Deprecated NumPy 1.25.)\n",
            "  pred = float(D @ self.rls[l].w)\n"
          ]
        },
        {
          "output_type": "stream",
          "name": "stdout",
          "text": [
            "s=0.2, L=5, N_hidden=40 -> RMSE: 0.7269, MASE: 0.5133\n"
          ]
        },
        {
          "output_type": "stream",
          "name": "stderr",
          "text": [
            "/tmp/ipython-input-14-3062527659.py:126: DeprecationWarning: Conversion of an array with ndim > 0 to a scalar is deprecated, and will error in future. Ensure you extract a single element from your array before performing this operation. (Deprecated NumPy 1.25.)\n",
            "  pred = float(D @ self.rls[l].w)\n"
          ]
        },
        {
          "output_type": "stream",
          "name": "stdout",
          "text": [
            "s=0.2, L=6, N_hidden=20 -> RMSE: 0.6374, MASE: 0.4901\n"
          ]
        },
        {
          "output_type": "stream",
          "name": "stderr",
          "text": [
            "/tmp/ipython-input-14-3062527659.py:126: DeprecationWarning: Conversion of an array with ndim > 0 to a scalar is deprecated, and will error in future. Ensure you extract a single element from your array before performing this operation. (Deprecated NumPy 1.25.)\n",
            "  pred = float(D @ self.rls[l].w)\n"
          ]
        },
        {
          "output_type": "stream",
          "name": "stdout",
          "text": [
            "s=0.2, L=6, N_hidden=30 -> RMSE: 0.6903, MASE: 0.5141\n"
          ]
        },
        {
          "output_type": "stream",
          "name": "stderr",
          "text": [
            "/tmp/ipython-input-14-3062527659.py:126: DeprecationWarning: Conversion of an array with ndim > 0 to a scalar is deprecated, and will error in future. Ensure you extract a single element from your array before performing this operation. (Deprecated NumPy 1.25.)\n",
            "  pred = float(D @ self.rls[l].w)\n",
            "/tmp/ipython-input-14-3062527659.py:126: DeprecationWarning: Conversion of an array with ndim > 0 to a scalar is deprecated, and will error in future. Ensure you extract a single element from your array before performing this operation. (Deprecated NumPy 1.25.)\n",
            "  pred = float(D @ self.rls[l].w)\n",
            "/tmp/ipython-input-14-3062527659.py:126: DeprecationWarning: Conversion of an array with ndim > 0 to a scalar is deprecated, and will error in future. Ensure you extract a single element from your array before performing this operation. (Deprecated NumPy 1.25.)\n",
            "  pred = float(D @ self.rls[l].w)\n",
            "/tmp/ipython-input-14-3062527659.py:126: DeprecationWarning: Conversion of an array with ndim > 0 to a scalar is deprecated, and will error in future. Ensure you extract a single element from your array before performing this operation. (Deprecated NumPy 1.25.)\n",
            "  pred = float(D @ self.rls[l].w)\n",
            "/tmp/ipython-input-14-3062527659.py:126: DeprecationWarning: Conversion of an array with ndim > 0 to a scalar is deprecated, and will error in future. Ensure you extract a single element from your array before performing this operation. (Deprecated NumPy 1.25.)\n",
            "  pred = float(D @ self.rls[l].w)\n"
          ]
        },
        {
          "output_type": "stream",
          "name": "stdout",
          "text": [
            "s=0.2, L=6, N_hidden=40 -> RMSE: 0.6555, MASE: 0.4815\n",
            "s=0.2, L=7, N_hidden=20 -> RMSE: 0.6744, MASE: 0.5130\n"
          ]
        },
        {
          "output_type": "stream",
          "name": "stderr",
          "text": [
            "/tmp/ipython-input-14-3062527659.py:126: DeprecationWarning: Conversion of an array with ndim > 0 to a scalar is deprecated, and will error in future. Ensure you extract a single element from your array before performing this operation. (Deprecated NumPy 1.25.)\n",
            "  pred = float(D @ self.rls[l].w)\n",
            "/tmp/ipython-input-14-3062527659.py:126: DeprecationWarning: Conversion of an array with ndim > 0 to a scalar is deprecated, and will error in future. Ensure you extract a single element from your array before performing this operation. (Deprecated NumPy 1.25.)\n",
            "  pred = float(D @ self.rls[l].w)\n",
            "/tmp/ipython-input-14-3062527659.py:126: DeprecationWarning: Conversion of an array with ndim > 0 to a scalar is deprecated, and will error in future. Ensure you extract a single element from your array before performing this operation. (Deprecated NumPy 1.25.)\n",
            "  pred = float(D @ self.rls[l].w)\n",
            "/tmp/ipython-input-14-3062527659.py:126: DeprecationWarning: Conversion of an array with ndim > 0 to a scalar is deprecated, and will error in future. Ensure you extract a single element from your array before performing this operation. (Deprecated NumPy 1.25.)\n",
            "  pred = float(D @ self.rls[l].w)\n"
          ]
        },
        {
          "output_type": "stream",
          "name": "stdout",
          "text": [
            "s=0.2, L=7, N_hidden=30 -> RMSE: 0.6216, MASE: 0.4700\n"
          ]
        },
        {
          "output_type": "stream",
          "name": "stderr",
          "text": [
            "/tmp/ipython-input-14-3062527659.py:126: DeprecationWarning: Conversion of an array with ndim > 0 to a scalar is deprecated, and will error in future. Ensure you extract a single element from your array before performing this operation. (Deprecated NumPy 1.25.)\n",
            "  pred = float(D @ self.rls[l].w)\n",
            "/tmp/ipython-input-14-3062527659.py:126: DeprecationWarning: Conversion of an array with ndim > 0 to a scalar is deprecated, and will error in future. Ensure you extract a single element from your array before performing this operation. (Deprecated NumPy 1.25.)\n",
            "  pred = float(D @ self.rls[l].w)\n"
          ]
        },
        {
          "output_type": "stream",
          "name": "stdout",
          "text": [
            "s=0.2, L=7, N_hidden=40 -> RMSE: 0.7190, MASE: 0.5408\n"
          ]
        },
        {
          "output_type": "stream",
          "name": "stderr",
          "text": [
            "/tmp/ipython-input-14-3062527659.py:126: DeprecationWarning: Conversion of an array with ndim > 0 to a scalar is deprecated, and will error in future. Ensure you extract a single element from your array before performing this operation. (Deprecated NumPy 1.25.)\n",
            "  pred = float(D @ self.rls[l].w)\n",
            "/tmp/ipython-input-14-3062527659.py:126: DeprecationWarning: Conversion of an array with ndim > 0 to a scalar is deprecated, and will error in future. Ensure you extract a single element from your array before performing this operation. (Deprecated NumPy 1.25.)\n",
            "  pred = float(D @ self.rls[l].w)\n",
            "/tmp/ipython-input-14-3062527659.py:126: DeprecationWarning: Conversion of an array with ndim > 0 to a scalar is deprecated, and will error in future. Ensure you extract a single element from your array before performing this operation. (Deprecated NumPy 1.25.)\n",
            "  pred = float(D @ self.rls[l].w)\n",
            "/tmp/ipython-input-14-3062527659.py:126: DeprecationWarning: Conversion of an array with ndim > 0 to a scalar is deprecated, and will error in future. Ensure you extract a single element from your array before performing this operation. (Deprecated NumPy 1.25.)\n",
            "  pred = float(D @ self.rls[l].w)\n"
          ]
        },
        {
          "output_type": "stream",
          "name": "stdout",
          "text": [
            "s=0.2, L=8, N_hidden=20 -> RMSE: 0.6622, MASE: 0.5336\n"
          ]
        },
        {
          "output_type": "stream",
          "name": "stderr",
          "text": [
            "/tmp/ipython-input-14-3062527659.py:126: DeprecationWarning: Conversion of an array with ndim > 0 to a scalar is deprecated, and will error in future. Ensure you extract a single element from your array before performing this operation. (Deprecated NumPy 1.25.)\n",
            "  pred = float(D @ self.rls[l].w)\n",
            "/tmp/ipython-input-14-3062527659.py:126: DeprecationWarning: Conversion of an array with ndim > 0 to a scalar is deprecated, and will error in future. Ensure you extract a single element from your array before performing this operation. (Deprecated NumPy 1.25.)\n",
            "  pred = float(D @ self.rls[l].w)\n"
          ]
        },
        {
          "output_type": "stream",
          "name": "stdout",
          "text": [
            "s=0.2, L=8, N_hidden=30 -> RMSE: 0.5715, MASE: 0.4131\n"
          ]
        },
        {
          "output_type": "stream",
          "name": "stderr",
          "text": [
            "/tmp/ipython-input-14-3062527659.py:126: DeprecationWarning: Conversion of an array with ndim > 0 to a scalar is deprecated, and will error in future. Ensure you extract a single element from your array before performing this operation. (Deprecated NumPy 1.25.)\n",
            "  pred = float(D @ self.rls[l].w)\n",
            "/tmp/ipython-input-14-3062527659.py:126: DeprecationWarning: Conversion of an array with ndim > 0 to a scalar is deprecated, and will error in future. Ensure you extract a single element from your array before performing this operation. (Deprecated NumPy 1.25.)\n",
            "  pred = float(D @ self.rls[l].w)\n",
            "/tmp/ipython-input-14-3062527659.py:126: DeprecationWarning: Conversion of an array with ndim > 0 to a scalar is deprecated, and will error in future. Ensure you extract a single element from your array before performing this operation. (Deprecated NumPy 1.25.)\n",
            "  pred = float(D @ self.rls[l].w)\n",
            "/tmp/ipython-input-14-3062527659.py:126: DeprecationWarning: Conversion of an array with ndim > 0 to a scalar is deprecated, and will error in future. Ensure you extract a single element from your array before performing this operation. (Deprecated NumPy 1.25.)\n",
            "  pred = float(D @ self.rls[l].w)\n",
            "/tmp/ipython-input-14-3062527659.py:126: DeprecationWarning: Conversion of an array with ndim > 0 to a scalar is deprecated, and will error in future. Ensure you extract a single element from your array before performing this operation. (Deprecated NumPy 1.25.)\n",
            "  pred = float(D @ self.rls[l].w)\n"
          ]
        },
        {
          "output_type": "stream",
          "name": "stdout",
          "text": [
            "s=0.2, L=8, N_hidden=40 -> RMSE: 0.6331, MASE: 0.4414\n"
          ]
        },
        {
          "output_type": "stream",
          "name": "stderr",
          "text": [
            "/tmp/ipython-input-14-3062527659.py:126: DeprecationWarning: Conversion of an array with ndim > 0 to a scalar is deprecated, and will error in future. Ensure you extract a single element from your array before performing this operation. (Deprecated NumPy 1.25.)\n",
            "  pred = float(D @ self.rls[l].w)\n",
            "/tmp/ipython-input-14-3062527659.py:126: DeprecationWarning: Conversion of an array with ndim > 0 to a scalar is deprecated, and will error in future. Ensure you extract a single element from your array before performing this operation. (Deprecated NumPy 1.25.)\n",
            "  pred = float(D @ self.rls[l].w)\n",
            "/tmp/ipython-input-14-3062527659.py:126: DeprecationWarning: Conversion of an array with ndim > 0 to a scalar is deprecated, and will error in future. Ensure you extract a single element from your array before performing this operation. (Deprecated NumPy 1.25.)\n",
            "  pred = float(D @ self.rls[l].w)\n"
          ]
        },
        {
          "output_type": "stream",
          "name": "stdout",
          "text": [
            "s=0.2, L=9, N_hidden=20 -> RMSE: 0.6404, MASE: 0.4789\n"
          ]
        },
        {
          "output_type": "stream",
          "name": "stderr",
          "text": [
            "/tmp/ipython-input-14-3062527659.py:126: DeprecationWarning: Conversion of an array with ndim > 0 to a scalar is deprecated, and will error in future. Ensure you extract a single element from your array before performing this operation. (Deprecated NumPy 1.25.)\n",
            "  pred = float(D @ self.rls[l].w)\n",
            "/tmp/ipython-input-14-3062527659.py:126: DeprecationWarning: Conversion of an array with ndim > 0 to a scalar is deprecated, and will error in future. Ensure you extract a single element from your array before performing this operation. (Deprecated NumPy 1.25.)\n",
            "  pred = float(D @ self.rls[l].w)\n",
            "/tmp/ipython-input-14-3062527659.py:126: DeprecationWarning: Conversion of an array with ndim > 0 to a scalar is deprecated, and will error in future. Ensure you extract a single element from your array before performing this operation. (Deprecated NumPy 1.25.)\n",
            "  pred = float(D @ self.rls[l].w)\n",
            "/tmp/ipython-input-14-3062527659.py:126: DeprecationWarning: Conversion of an array with ndim > 0 to a scalar is deprecated, and will error in future. Ensure you extract a single element from your array before performing this operation. (Deprecated NumPy 1.25.)\n",
            "  pred = float(D @ self.rls[l].w)\n"
          ]
        },
        {
          "output_type": "stream",
          "name": "stdout",
          "text": [
            "s=0.2, L=9, N_hidden=30 -> RMSE: 0.6540, MASE: 0.4654\n"
          ]
        },
        {
          "output_type": "stream",
          "name": "stderr",
          "text": [
            "/tmp/ipython-input-14-3062527659.py:126: DeprecationWarning: Conversion of an array with ndim > 0 to a scalar is deprecated, and will error in future. Ensure you extract a single element from your array before performing this operation. (Deprecated NumPy 1.25.)\n",
            "  pred = float(D @ self.rls[l].w)\n",
            "/tmp/ipython-input-14-3062527659.py:126: DeprecationWarning: Conversion of an array with ndim > 0 to a scalar is deprecated, and will error in future. Ensure you extract a single element from your array before performing this operation. (Deprecated NumPy 1.25.)\n",
            "  pred = float(D @ self.rls[l].w)\n",
            "/tmp/ipython-input-14-3062527659.py:126: DeprecationWarning: Conversion of an array with ndim > 0 to a scalar is deprecated, and will error in future. Ensure you extract a single element from your array before performing this operation. (Deprecated NumPy 1.25.)\n",
            "  pred = float(D @ self.rls[l].w)\n",
            "/tmp/ipython-input-14-3062527659.py:126: DeprecationWarning: Conversion of an array with ndim > 0 to a scalar is deprecated, and will error in future. Ensure you extract a single element from your array before performing this operation. (Deprecated NumPy 1.25.)\n",
            "  pred = float(D @ self.rls[l].w)\n",
            "/tmp/ipython-input-14-3062527659.py:126: DeprecationWarning: Conversion of an array with ndim > 0 to a scalar is deprecated, and will error in future. Ensure you extract a single element from your array before performing this operation. (Deprecated NumPy 1.25.)\n",
            "  pred = float(D @ self.rls[l].w)\n",
            "/tmp/ipython-input-14-3062527659.py:126: DeprecationWarning: Conversion of an array with ndim > 0 to a scalar is deprecated, and will error in future. Ensure you extract a single element from your array before performing this operation. (Deprecated NumPy 1.25.)\n",
            "  pred = float(D @ self.rls[l].w)\n",
            "/tmp/ipython-input-14-3062527659.py:126: DeprecationWarning: Conversion of an array with ndim > 0 to a scalar is deprecated, and will error in future. Ensure you extract a single element from your array before performing this operation. (Deprecated NumPy 1.25.)\n",
            "  pred = float(D @ self.rls[l].w)\n"
          ]
        },
        {
          "output_type": "stream",
          "name": "stdout",
          "text": [
            "s=0.2, L=9, N_hidden=40 -> RMSE: 0.5961, MASE: 0.4172\n",
            "s=0.3, L=2, N_hidden=20 -> RMSE: 0.7113, MASE: 0.6258\n",
            "s=0.3, L=2, N_hidden=30 -> RMSE: 0.7218, MASE: 0.6184\n"
          ]
        },
        {
          "output_type": "stream",
          "name": "stderr",
          "text": [
            "/tmp/ipython-input-14-3062527659.py:126: DeprecationWarning: Conversion of an array with ndim > 0 to a scalar is deprecated, and will error in future. Ensure you extract a single element from your array before performing this operation. (Deprecated NumPy 1.25.)\n",
            "  pred = float(D @ self.rls[l].w)\n",
            "/tmp/ipython-input-14-3062527659.py:126: DeprecationWarning: Conversion of an array with ndim > 0 to a scalar is deprecated, and will error in future. Ensure you extract a single element from your array before performing this operation. (Deprecated NumPy 1.25.)\n",
            "  pred = float(D @ self.rls[l].w)\n",
            "/tmp/ipython-input-14-3062527659.py:126: DeprecationWarning: Conversion of an array with ndim > 0 to a scalar is deprecated, and will error in future. Ensure you extract a single element from your array before performing this operation. (Deprecated NumPy 1.25.)\n",
            "  pred = float(D @ self.rls[l].w)\n"
          ]
        },
        {
          "output_type": "stream",
          "name": "stdout",
          "text": [
            "s=0.3, L=2, N_hidden=40 -> RMSE: 0.7600, MASE: 0.6428\n",
            "s=0.3, L=3, N_hidden=20 -> RMSE: 0.7165, MASE: 0.6176\n"
          ]
        },
        {
          "output_type": "stream",
          "name": "stderr",
          "text": [
            "/tmp/ipython-input-14-3062527659.py:126: DeprecationWarning: Conversion of an array with ndim > 0 to a scalar is deprecated, and will error in future. Ensure you extract a single element from your array before performing this operation. (Deprecated NumPy 1.25.)\n",
            "  pred = float(D @ self.rls[l].w)\n",
            "/tmp/ipython-input-14-3062527659.py:126: DeprecationWarning: Conversion of an array with ndim > 0 to a scalar is deprecated, and will error in future. Ensure you extract a single element from your array before performing this operation. (Deprecated NumPy 1.25.)\n",
            "  pred = float(D @ self.rls[l].w)\n"
          ]
        },
        {
          "output_type": "stream",
          "name": "stdout",
          "text": [
            "s=0.3, L=3, N_hidden=30 -> RMSE: 0.7275, MASE: 0.6098\n"
          ]
        },
        {
          "output_type": "stream",
          "name": "stderr",
          "text": [
            "/tmp/ipython-input-14-3062527659.py:126: DeprecationWarning: Conversion of an array with ndim > 0 to a scalar is deprecated, and will error in future. Ensure you extract a single element from your array before performing this operation. (Deprecated NumPy 1.25.)\n",
            "  pred = float(D @ self.rls[l].w)\n"
          ]
        },
        {
          "output_type": "stream",
          "name": "stdout",
          "text": [
            "s=0.3, L=3, N_hidden=40 -> RMSE: 0.7061, MASE: 0.5763\n"
          ]
        },
        {
          "output_type": "stream",
          "name": "stderr",
          "text": [
            "/tmp/ipython-input-14-3062527659.py:126: DeprecationWarning: Conversion of an array with ndim > 0 to a scalar is deprecated, and will error in future. Ensure you extract a single element from your array before performing this operation. (Deprecated NumPy 1.25.)\n",
            "  pred = float(D @ self.rls[l].w)\n"
          ]
        },
        {
          "output_type": "stream",
          "name": "stdout",
          "text": [
            "s=0.3, L=4, N_hidden=20 -> RMSE: 0.6533, MASE: 0.5538\n"
          ]
        },
        {
          "output_type": "stream",
          "name": "stderr",
          "text": [
            "/tmp/ipython-input-14-3062527659.py:126: DeprecationWarning: Conversion of an array with ndim > 0 to a scalar is deprecated, and will error in future. Ensure you extract a single element from your array before performing this operation. (Deprecated NumPy 1.25.)\n",
            "  pred = float(D @ self.rls[l].w)\n"
          ]
        },
        {
          "output_type": "stream",
          "name": "stdout",
          "text": [
            "s=0.3, L=4, N_hidden=30 -> RMSE: 0.7144, MASE: 0.5847\n"
          ]
        },
        {
          "output_type": "stream",
          "name": "stderr",
          "text": [
            "/tmp/ipython-input-14-3062527659.py:126: DeprecationWarning: Conversion of an array with ndim > 0 to a scalar is deprecated, and will error in future. Ensure you extract a single element from your array before performing this operation. (Deprecated NumPy 1.25.)\n",
            "  pred = float(D @ self.rls[l].w)\n",
            "/tmp/ipython-input-14-3062527659.py:126: DeprecationWarning: Conversion of an array with ndim > 0 to a scalar is deprecated, and will error in future. Ensure you extract a single element from your array before performing this operation. (Deprecated NumPy 1.25.)\n",
            "  pred = float(D @ self.rls[l].w)\n",
            "/tmp/ipython-input-14-3062527659.py:126: DeprecationWarning: Conversion of an array with ndim > 0 to a scalar is deprecated, and will error in future. Ensure you extract a single element from your array before performing this operation. (Deprecated NumPy 1.25.)\n",
            "  pred = float(D @ self.rls[l].w)\n",
            "/tmp/ipython-input-14-3062527659.py:126: DeprecationWarning: Conversion of an array with ndim > 0 to a scalar is deprecated, and will error in future. Ensure you extract a single element from your array before performing this operation. (Deprecated NumPy 1.25.)\n",
            "  pred = float(D @ self.rls[l].w)\n"
          ]
        },
        {
          "output_type": "stream",
          "name": "stdout",
          "text": [
            "s=0.3, L=4, N_hidden=40 -> RMSE: 0.7059, MASE: 0.5232\n",
            "s=0.3, L=5, N_hidden=20 -> RMSE: 0.6316, MASE: 0.5132\n"
          ]
        },
        {
          "output_type": "stream",
          "name": "stderr",
          "text": [
            "/tmp/ipython-input-14-3062527659.py:126: DeprecationWarning: Conversion of an array with ndim > 0 to a scalar is deprecated, and will error in future. Ensure you extract a single element from your array before performing this operation. (Deprecated NumPy 1.25.)\n",
            "  pred = float(D @ self.rls[l].w)\n"
          ]
        },
        {
          "output_type": "stream",
          "name": "stdout",
          "text": [
            "s=0.3, L=5, N_hidden=30 -> RMSE: 0.7226, MASE: 0.5706\n"
          ]
        },
        {
          "output_type": "stream",
          "name": "stderr",
          "text": [
            "/tmp/ipython-input-14-3062527659.py:126: DeprecationWarning: Conversion of an array with ndim > 0 to a scalar is deprecated, and will error in future. Ensure you extract a single element from your array before performing this operation. (Deprecated NumPy 1.25.)\n",
            "  pred = float(D @ self.rls[l].w)\n",
            "/tmp/ipython-input-14-3062527659.py:126: DeprecationWarning: Conversion of an array with ndim > 0 to a scalar is deprecated, and will error in future. Ensure you extract a single element from your array before performing this operation. (Deprecated NumPy 1.25.)\n",
            "  pred = float(D @ self.rls[l].w)\n",
            "/tmp/ipython-input-14-3062527659.py:126: DeprecationWarning: Conversion of an array with ndim > 0 to a scalar is deprecated, and will error in future. Ensure you extract a single element from your array before performing this operation. (Deprecated NumPy 1.25.)\n",
            "  pred = float(D @ self.rls[l].w)\n",
            "/tmp/ipython-input-14-3062527659.py:126: DeprecationWarning: Conversion of an array with ndim > 0 to a scalar is deprecated, and will error in future. Ensure you extract a single element from your array before performing this operation. (Deprecated NumPy 1.25.)\n",
            "  pred = float(D @ self.rls[l].w)\n"
          ]
        },
        {
          "output_type": "stream",
          "name": "stdout",
          "text": [
            "s=0.3, L=5, N_hidden=40 -> RMSE: 0.6623, MASE: 0.4898\n",
            "s=0.3, L=6, N_hidden=20 -> RMSE: 0.6805, MASE: 0.5533\n"
          ]
        },
        {
          "output_type": "stream",
          "name": "stderr",
          "text": [
            "/tmp/ipython-input-14-3062527659.py:126: DeprecationWarning: Conversion of an array with ndim > 0 to a scalar is deprecated, and will error in future. Ensure you extract a single element from your array before performing this operation. (Deprecated NumPy 1.25.)\n",
            "  pred = float(D @ self.rls[l].w)\n",
            "/tmp/ipython-input-14-3062527659.py:126: DeprecationWarning: Conversion of an array with ndim > 0 to a scalar is deprecated, and will error in future. Ensure you extract a single element from your array before performing this operation. (Deprecated NumPy 1.25.)\n",
            "  pred = float(D @ self.rls[l].w)\n"
          ]
        },
        {
          "output_type": "stream",
          "name": "stdout",
          "text": [
            "s=0.3, L=6, N_hidden=30 -> RMSE: 0.6844, MASE: 0.5160\n"
          ]
        },
        {
          "output_type": "stream",
          "name": "stderr",
          "text": [
            "/tmp/ipython-input-14-3062527659.py:126: DeprecationWarning: Conversion of an array with ndim > 0 to a scalar is deprecated, and will error in future. Ensure you extract a single element from your array before performing this operation. (Deprecated NumPy 1.25.)\n",
            "  pred = float(D @ self.rls[l].w)\n",
            "/tmp/ipython-input-14-3062527659.py:126: DeprecationWarning: Conversion of an array with ndim > 0 to a scalar is deprecated, and will error in future. Ensure you extract a single element from your array before performing this operation. (Deprecated NumPy 1.25.)\n",
            "  pred = float(D @ self.rls[l].w)\n",
            "/tmp/ipython-input-14-3062527659.py:126: DeprecationWarning: Conversion of an array with ndim > 0 to a scalar is deprecated, and will error in future. Ensure you extract a single element from your array before performing this operation. (Deprecated NumPy 1.25.)\n",
            "  pred = float(D @ self.rls[l].w)\n",
            "/tmp/ipython-input-14-3062527659.py:126: DeprecationWarning: Conversion of an array with ndim > 0 to a scalar is deprecated, and will error in future. Ensure you extract a single element from your array before performing this operation. (Deprecated NumPy 1.25.)\n",
            "  pred = float(D @ self.rls[l].w)\n"
          ]
        },
        {
          "output_type": "stream",
          "name": "stdout",
          "text": [
            "s=0.3, L=6, N_hidden=40 -> RMSE: 0.5769, MASE: 0.4264\n",
            "s=0.3, L=7, N_hidden=20 -> RMSE: 0.7064, MASE: 0.5725\n"
          ]
        },
        {
          "output_type": "stream",
          "name": "stderr",
          "text": [
            "/tmp/ipython-input-14-3062527659.py:126: DeprecationWarning: Conversion of an array with ndim > 0 to a scalar is deprecated, and will error in future. Ensure you extract a single element from your array before performing this operation. (Deprecated NumPy 1.25.)\n",
            "  pred = float(D @ self.rls[l].w)\n",
            "/tmp/ipython-input-14-3062527659.py:126: DeprecationWarning: Conversion of an array with ndim > 0 to a scalar is deprecated, and will error in future. Ensure you extract a single element from your array before performing this operation. (Deprecated NumPy 1.25.)\n",
            "  pred = float(D @ self.rls[l].w)\n"
          ]
        },
        {
          "output_type": "stream",
          "name": "stdout",
          "text": [
            "s=0.3, L=7, N_hidden=30 -> RMSE: 0.6723, MASE: 0.4925\n"
          ]
        },
        {
          "output_type": "stream",
          "name": "stderr",
          "text": [
            "/tmp/ipython-input-14-3062527659.py:126: DeprecationWarning: Conversion of an array with ndim > 0 to a scalar is deprecated, and will error in future. Ensure you extract a single element from your array before performing this operation. (Deprecated NumPy 1.25.)\n",
            "  pred = float(D @ self.rls[l].w)\n",
            "/tmp/ipython-input-14-3062527659.py:126: DeprecationWarning: Conversion of an array with ndim > 0 to a scalar is deprecated, and will error in future. Ensure you extract a single element from your array before performing this operation. (Deprecated NumPy 1.25.)\n",
            "  pred = float(D @ self.rls[l].w)\n",
            "/tmp/ipython-input-14-3062527659.py:126: DeprecationWarning: Conversion of an array with ndim > 0 to a scalar is deprecated, and will error in future. Ensure you extract a single element from your array before performing this operation. (Deprecated NumPy 1.25.)\n",
            "  pred = float(D @ self.rls[l].w)\n",
            "/tmp/ipython-input-14-3062527659.py:126: DeprecationWarning: Conversion of an array with ndim > 0 to a scalar is deprecated, and will error in future. Ensure you extract a single element from your array before performing this operation. (Deprecated NumPy 1.25.)\n",
            "  pred = float(D @ self.rls[l].w)\n"
          ]
        },
        {
          "output_type": "stream",
          "name": "stdout",
          "text": [
            "s=0.3, L=7, N_hidden=40 -> RMSE: 0.6944, MASE: 0.4890\n"
          ]
        },
        {
          "output_type": "stream",
          "name": "stderr",
          "text": [
            "/tmp/ipython-input-14-3062527659.py:126: DeprecationWarning: Conversion of an array with ndim > 0 to a scalar is deprecated, and will error in future. Ensure you extract a single element from your array before performing this operation. (Deprecated NumPy 1.25.)\n",
            "  pred = float(D @ self.rls[l].w)\n"
          ]
        },
        {
          "output_type": "stream",
          "name": "stdout",
          "text": [
            "s=0.3, L=8, N_hidden=20 -> RMSE: 0.6223, MASE: 0.4608\n"
          ]
        },
        {
          "output_type": "stream",
          "name": "stderr",
          "text": [
            "/tmp/ipython-input-14-3062527659.py:126: DeprecationWarning: Conversion of an array with ndim > 0 to a scalar is deprecated, and will error in future. Ensure you extract a single element from your array before performing this operation. (Deprecated NumPy 1.25.)\n",
            "  pred = float(D @ self.rls[l].w)\n",
            "/tmp/ipython-input-14-3062527659.py:126: DeprecationWarning: Conversion of an array with ndim > 0 to a scalar is deprecated, and will error in future. Ensure you extract a single element from your array before performing this operation. (Deprecated NumPy 1.25.)\n",
            "  pred = float(D @ self.rls[l].w)\n",
            "/tmp/ipython-input-14-3062527659.py:126: DeprecationWarning: Conversion of an array with ndim > 0 to a scalar is deprecated, and will error in future. Ensure you extract a single element from your array before performing this operation. (Deprecated NumPy 1.25.)\n",
            "  pred = float(D @ self.rls[l].w)\n",
            "/tmp/ipython-input-14-3062527659.py:126: DeprecationWarning: Conversion of an array with ndim > 0 to a scalar is deprecated, and will error in future. Ensure you extract a single element from your array before performing this operation. (Deprecated NumPy 1.25.)\n",
            "  pred = float(D @ self.rls[l].w)\n",
            "/tmp/ipython-input-14-3062527659.py:126: DeprecationWarning: Conversion of an array with ndim > 0 to a scalar is deprecated, and will error in future. Ensure you extract a single element from your array before performing this operation. (Deprecated NumPy 1.25.)\n",
            "  pred = float(D @ self.rls[l].w)\n"
          ]
        },
        {
          "output_type": "stream",
          "name": "stdout",
          "text": [
            "s=0.3, L=8, N_hidden=30 -> RMSE: 0.6770, MASE: 0.4902\n"
          ]
        },
        {
          "output_type": "stream",
          "name": "stderr",
          "text": [
            "/tmp/ipython-input-14-3062527659.py:126: DeprecationWarning: Conversion of an array with ndim > 0 to a scalar is deprecated, and will error in future. Ensure you extract a single element from your array before performing this operation. (Deprecated NumPy 1.25.)\n",
            "  pred = float(D @ self.rls[l].w)\n",
            "/tmp/ipython-input-14-3062527659.py:126: DeprecationWarning: Conversion of an array with ndim > 0 to a scalar is deprecated, and will error in future. Ensure you extract a single element from your array before performing this operation. (Deprecated NumPy 1.25.)\n",
            "  pred = float(D @ self.rls[l].w)\n",
            "/tmp/ipython-input-14-3062527659.py:126: DeprecationWarning: Conversion of an array with ndim > 0 to a scalar is deprecated, and will error in future. Ensure you extract a single element from your array before performing this operation. (Deprecated NumPy 1.25.)\n",
            "  pred = float(D @ self.rls[l].w)\n",
            "/tmp/ipython-input-14-3062527659.py:126: DeprecationWarning: Conversion of an array with ndim > 0 to a scalar is deprecated, and will error in future. Ensure you extract a single element from your array before performing this operation. (Deprecated NumPy 1.25.)\n",
            "  pred = float(D @ self.rls[l].w)\n",
            "/tmp/ipython-input-14-3062527659.py:126: DeprecationWarning: Conversion of an array with ndim > 0 to a scalar is deprecated, and will error in future. Ensure you extract a single element from your array before performing this operation. (Deprecated NumPy 1.25.)\n",
            "  pred = float(D @ self.rls[l].w)\n"
          ]
        },
        {
          "output_type": "stream",
          "name": "stdout",
          "text": [
            "s=0.3, L=8, N_hidden=40 -> RMSE: 0.6953, MASE: 0.5043\n"
          ]
        },
        {
          "output_type": "stream",
          "name": "stderr",
          "text": [
            "/tmp/ipython-input-14-3062527659.py:126: DeprecationWarning: Conversion of an array with ndim > 0 to a scalar is deprecated, and will error in future. Ensure you extract a single element from your array before performing this operation. (Deprecated NumPy 1.25.)\n",
            "  pred = float(D @ self.rls[l].w)\n",
            "/tmp/ipython-input-14-3062527659.py:126: DeprecationWarning: Conversion of an array with ndim > 0 to a scalar is deprecated, and will error in future. Ensure you extract a single element from your array before performing this operation. (Deprecated NumPy 1.25.)\n",
            "  pred = float(D @ self.rls[l].w)\n"
          ]
        },
        {
          "output_type": "stream",
          "name": "stdout",
          "text": [
            "s=0.3, L=9, N_hidden=20 -> RMSE: 0.7352, MASE: 0.5490\n"
          ]
        },
        {
          "output_type": "stream",
          "name": "stderr",
          "text": [
            "/tmp/ipython-input-14-3062527659.py:126: DeprecationWarning: Conversion of an array with ndim > 0 to a scalar is deprecated, and will error in future. Ensure you extract a single element from your array before performing this operation. (Deprecated NumPy 1.25.)\n",
            "  pred = float(D @ self.rls[l].w)\n",
            "/tmp/ipython-input-14-3062527659.py:126: DeprecationWarning: Conversion of an array with ndim > 0 to a scalar is deprecated, and will error in future. Ensure you extract a single element from your array before performing this operation. (Deprecated NumPy 1.25.)\n",
            "  pred = float(D @ self.rls[l].w)\n",
            "/tmp/ipython-input-14-3062527659.py:126: DeprecationWarning: Conversion of an array with ndim > 0 to a scalar is deprecated, and will error in future. Ensure you extract a single element from your array before performing this operation. (Deprecated NumPy 1.25.)\n",
            "  pred = float(D @ self.rls[l].w)\n",
            "/tmp/ipython-input-14-3062527659.py:126: DeprecationWarning: Conversion of an array with ndim > 0 to a scalar is deprecated, and will error in future. Ensure you extract a single element from your array before performing this operation. (Deprecated NumPy 1.25.)\n",
            "  pred = float(D @ self.rls[l].w)\n"
          ]
        },
        {
          "output_type": "stream",
          "name": "stdout",
          "text": [
            "s=0.3, L=9, N_hidden=30 -> RMSE: 0.6562, MASE: 0.4728\n"
          ]
        },
        {
          "output_type": "stream",
          "name": "stderr",
          "text": [
            "/tmp/ipython-input-14-3062527659.py:126: DeprecationWarning: Conversion of an array with ndim > 0 to a scalar is deprecated, and will error in future. Ensure you extract a single element from your array before performing this operation. (Deprecated NumPy 1.25.)\n",
            "  pred = float(D @ self.rls[l].w)\n",
            "/tmp/ipython-input-14-3062527659.py:126: DeprecationWarning: Conversion of an array with ndim > 0 to a scalar is deprecated, and will error in future. Ensure you extract a single element from your array before performing this operation. (Deprecated NumPy 1.25.)\n",
            "  pred = float(D @ self.rls[l].w)\n",
            "/tmp/ipython-input-14-3062527659.py:126: DeprecationWarning: Conversion of an array with ndim > 0 to a scalar is deprecated, and will error in future. Ensure you extract a single element from your array before performing this operation. (Deprecated NumPy 1.25.)\n",
            "  pred = float(D @ self.rls[l].w)\n",
            "/tmp/ipython-input-14-3062527659.py:126: DeprecationWarning: Conversion of an array with ndim > 0 to a scalar is deprecated, and will error in future. Ensure you extract a single element from your array before performing this operation. (Deprecated NumPy 1.25.)\n",
            "  pred = float(D @ self.rls[l].w)\n",
            "/tmp/ipython-input-14-3062527659.py:126: DeprecationWarning: Conversion of an array with ndim > 0 to a scalar is deprecated, and will error in future. Ensure you extract a single element from your array before performing this operation. (Deprecated NumPy 1.25.)\n",
            "  pred = float(D @ self.rls[l].w)\n",
            "/tmp/ipython-input-14-3062527659.py:126: DeprecationWarning: Conversion of an array with ndim > 0 to a scalar is deprecated, and will error in future. Ensure you extract a single element from your array before performing this operation. (Deprecated NumPy 1.25.)\n",
            "  pred = float(D @ self.rls[l].w)\n",
            "/tmp/ipython-input-14-3062527659.py:126: DeprecationWarning: Conversion of an array with ndim > 0 to a scalar is deprecated, and will error in future. Ensure you extract a single element from your array before performing this operation. (Deprecated NumPy 1.25.)\n",
            "  pred = float(D @ self.rls[l].w)\n",
            "/tmp/ipython-input-14-3062527659.py:126: DeprecationWarning: Conversion of an array with ndim > 0 to a scalar is deprecated, and will error in future. Ensure you extract a single element from your array before performing this operation. (Deprecated NumPy 1.25.)\n",
            "  pred = float(D @ self.rls[l].w)\n",
            "/tmp/ipython-input-14-3062527659.py:126: DeprecationWarning: Conversion of an array with ndim > 0 to a scalar is deprecated, and will error in future. Ensure you extract a single element from your array before performing this operation. (Deprecated NumPy 1.25.)\n",
            "  pred = float(D @ self.rls[l].w)\n"
          ]
        },
        {
          "output_type": "stream",
          "name": "stdout",
          "text": [
            "s=0.3, L=9, N_hidden=40 -> RMSE: 0.6638, MASE: 0.4766\n",
            "s=0.4, L=2, N_hidden=20 -> RMSE: 0.6770, MASE: 0.5803\n"
          ]
        },
        {
          "output_type": "stream",
          "name": "stderr",
          "text": [
            "/tmp/ipython-input-14-3062527659.py:126: DeprecationWarning: Conversion of an array with ndim > 0 to a scalar is deprecated, and will error in future. Ensure you extract a single element from your array before performing this operation. (Deprecated NumPy 1.25.)\n",
            "  pred = float(D @ self.rls[l].w)\n",
            "/tmp/ipython-input-14-3062527659.py:126: DeprecationWarning: Conversion of an array with ndim > 0 to a scalar is deprecated, and will error in future. Ensure you extract a single element from your array before performing this operation. (Deprecated NumPy 1.25.)\n",
            "  pred = float(D @ self.rls[l].w)\n"
          ]
        },
        {
          "output_type": "stream",
          "name": "stdout",
          "text": [
            "s=0.4, L=2, N_hidden=30 -> RMSE: 0.7743, MASE: 0.6914\n",
            "s=0.4, L=2, N_hidden=40 -> RMSE: 0.7481, MASE: 0.6215\n"
          ]
        },
        {
          "output_type": "stream",
          "name": "stderr",
          "text": [
            "/tmp/ipython-input-14-3062527659.py:126: DeprecationWarning: Conversion of an array with ndim > 0 to a scalar is deprecated, and will error in future. Ensure you extract a single element from your array before performing this operation. (Deprecated NumPy 1.25.)\n",
            "  pred = float(D @ self.rls[l].w)\n",
            "/tmp/ipython-input-14-3062527659.py:126: DeprecationWarning: Conversion of an array with ndim > 0 to a scalar is deprecated, and will error in future. Ensure you extract a single element from your array before performing this operation. (Deprecated NumPy 1.25.)\n",
            "  pred = float(D @ self.rls[l].w)\n"
          ]
        },
        {
          "output_type": "stream",
          "name": "stdout",
          "text": [
            "s=0.4, L=3, N_hidden=20 -> RMSE: 0.6906, MASE: 0.5863\n",
            "s=0.4, L=3, N_hidden=30 -> RMSE: 0.7423, MASE: 0.6134\n"
          ]
        },
        {
          "output_type": "stream",
          "name": "stderr",
          "text": [
            "/tmp/ipython-input-14-3062527659.py:126: DeprecationWarning: Conversion of an array with ndim > 0 to a scalar is deprecated, and will error in future. Ensure you extract a single element from your array before performing this operation. (Deprecated NumPy 1.25.)\n",
            "  pred = float(D @ self.rls[l].w)\n",
            "/tmp/ipython-input-14-3062527659.py:126: DeprecationWarning: Conversion of an array with ndim > 0 to a scalar is deprecated, and will error in future. Ensure you extract a single element from your array before performing this operation. (Deprecated NumPy 1.25.)\n",
            "  pred = float(D @ self.rls[l].w)\n"
          ]
        },
        {
          "output_type": "stream",
          "name": "stdout",
          "text": [
            "s=0.4, L=3, N_hidden=40 -> RMSE: 0.7473, MASE: 0.6248\n"
          ]
        },
        {
          "output_type": "stream",
          "name": "stderr",
          "text": [
            "/tmp/ipython-input-14-3062527659.py:126: DeprecationWarning: Conversion of an array with ndim > 0 to a scalar is deprecated, and will error in future. Ensure you extract a single element from your array before performing this operation. (Deprecated NumPy 1.25.)\n",
            "  pred = float(D @ self.rls[l].w)\n",
            "/tmp/ipython-input-14-3062527659.py:126: DeprecationWarning: Conversion of an array with ndim > 0 to a scalar is deprecated, and will error in future. Ensure you extract a single element from your array before performing this operation. (Deprecated NumPy 1.25.)\n",
            "  pred = float(D @ self.rls[l].w)\n"
          ]
        },
        {
          "output_type": "stream",
          "name": "stdout",
          "text": [
            "s=0.4, L=4, N_hidden=20 -> RMSE: 0.7078, MASE: 0.5971\n"
          ]
        },
        {
          "output_type": "stream",
          "name": "stderr",
          "text": [
            "/tmp/ipython-input-14-3062527659.py:126: DeprecationWarning: Conversion of an array with ndim > 0 to a scalar is deprecated, and will error in future. Ensure you extract a single element from your array before performing this operation. (Deprecated NumPy 1.25.)\n",
            "  pred = float(D @ self.rls[l].w)\n"
          ]
        },
        {
          "output_type": "stream",
          "name": "stdout",
          "text": [
            "s=0.4, L=4, N_hidden=30 -> RMSE: 0.7353, MASE: 0.5801\n"
          ]
        },
        {
          "output_type": "stream",
          "name": "stderr",
          "text": [
            "/tmp/ipython-input-14-3062527659.py:126: DeprecationWarning: Conversion of an array with ndim > 0 to a scalar is deprecated, and will error in future. Ensure you extract a single element from your array before performing this operation. (Deprecated NumPy 1.25.)\n",
            "  pred = float(D @ self.rls[l].w)\n",
            "/tmp/ipython-input-14-3062527659.py:126: DeprecationWarning: Conversion of an array with ndim > 0 to a scalar is deprecated, and will error in future. Ensure you extract a single element from your array before performing this operation. (Deprecated NumPy 1.25.)\n",
            "  pred = float(D @ self.rls[l].w)\n",
            "/tmp/ipython-input-14-3062527659.py:126: DeprecationWarning: Conversion of an array with ndim > 0 to a scalar is deprecated, and will error in future. Ensure you extract a single element from your array before performing this operation. (Deprecated NumPy 1.25.)\n",
            "  pred = float(D @ self.rls[l].w)\n"
          ]
        },
        {
          "output_type": "stream",
          "name": "stdout",
          "text": [
            "s=0.4, L=4, N_hidden=40 -> RMSE: 0.6619, MASE: 0.4904\n",
            "s=0.4, L=5, N_hidden=20 -> RMSE: 0.6882, MASE: 0.5539\n"
          ]
        },
        {
          "output_type": "stream",
          "name": "stderr",
          "text": [
            "/tmp/ipython-input-14-3062527659.py:126: DeprecationWarning: Conversion of an array with ndim > 0 to a scalar is deprecated, and will error in future. Ensure you extract a single element from your array before performing this operation. (Deprecated NumPy 1.25.)\n",
            "  pred = float(D @ self.rls[l].w)\n"
          ]
        },
        {
          "output_type": "stream",
          "name": "stdout",
          "text": [
            "s=0.4, L=5, N_hidden=30 -> RMSE: 0.6365, MASE: 0.4794\n"
          ]
        },
        {
          "output_type": "stream",
          "name": "stderr",
          "text": [
            "/tmp/ipython-input-14-3062527659.py:126: DeprecationWarning: Conversion of an array with ndim > 0 to a scalar is deprecated, and will error in future. Ensure you extract a single element from your array before performing this operation. (Deprecated NumPy 1.25.)\n",
            "  pred = float(D @ self.rls[l].w)\n",
            "/tmp/ipython-input-14-3062527659.py:126: DeprecationWarning: Conversion of an array with ndim > 0 to a scalar is deprecated, and will error in future. Ensure you extract a single element from your array before performing this operation. (Deprecated NumPy 1.25.)\n",
            "  pred = float(D @ self.rls[l].w)\n",
            "/tmp/ipython-input-14-3062527659.py:126: DeprecationWarning: Conversion of an array with ndim > 0 to a scalar is deprecated, and will error in future. Ensure you extract a single element from your array before performing this operation. (Deprecated NumPy 1.25.)\n",
            "  pred = float(D @ self.rls[l].w)\n"
          ]
        },
        {
          "output_type": "stream",
          "name": "stdout",
          "text": [
            "s=0.4, L=5, N_hidden=40 -> RMSE: 0.6410, MASE: 0.4842\n"
          ]
        },
        {
          "output_type": "stream",
          "name": "stderr",
          "text": [
            "/tmp/ipython-input-14-3062527659.py:126: DeprecationWarning: Conversion of an array with ndim > 0 to a scalar is deprecated, and will error in future. Ensure you extract a single element from your array before performing this operation. (Deprecated NumPy 1.25.)\n",
            "  pred = float(D @ self.rls[l].w)\n"
          ]
        },
        {
          "output_type": "stream",
          "name": "stdout",
          "text": [
            "s=0.4, L=6, N_hidden=20 -> RMSE: 0.6809, MASE: 0.5441\n"
          ]
        },
        {
          "output_type": "stream",
          "name": "stderr",
          "text": [
            "/tmp/ipython-input-14-3062527659.py:126: DeprecationWarning: Conversion of an array with ndim > 0 to a scalar is deprecated, and will error in future. Ensure you extract a single element from your array before performing this operation. (Deprecated NumPy 1.25.)\n",
            "  pred = float(D @ self.rls[l].w)\n"
          ]
        },
        {
          "output_type": "stream",
          "name": "stdout",
          "text": [
            "s=0.4, L=6, N_hidden=30 -> RMSE: 0.7107, MASE: 0.5015\n"
          ]
        },
        {
          "output_type": "stream",
          "name": "stderr",
          "text": [
            "/tmp/ipython-input-14-3062527659.py:126: DeprecationWarning: Conversion of an array with ndim > 0 to a scalar is deprecated, and will error in future. Ensure you extract a single element from your array before performing this operation. (Deprecated NumPy 1.25.)\n",
            "  pred = float(D @ self.rls[l].w)\n",
            "/tmp/ipython-input-14-3062527659.py:126: DeprecationWarning: Conversion of an array with ndim > 0 to a scalar is deprecated, and will error in future. Ensure you extract a single element from your array before performing this operation. (Deprecated NumPy 1.25.)\n",
            "  pred = float(D @ self.rls[l].w)\n",
            "/tmp/ipython-input-14-3062527659.py:126: DeprecationWarning: Conversion of an array with ndim > 0 to a scalar is deprecated, and will error in future. Ensure you extract a single element from your array before performing this operation. (Deprecated NumPy 1.25.)\n",
            "  pred = float(D @ self.rls[l].w)\n",
            "/tmp/ipython-input-14-3062527659.py:126: DeprecationWarning: Conversion of an array with ndim > 0 to a scalar is deprecated, and will error in future. Ensure you extract a single element from your array before performing this operation. (Deprecated NumPy 1.25.)\n",
            "  pred = float(D @ self.rls[l].w)\n",
            "/tmp/ipython-input-14-3062527659.py:126: DeprecationWarning: Conversion of an array with ndim > 0 to a scalar is deprecated, and will error in future. Ensure you extract a single element from your array before performing this operation. (Deprecated NumPy 1.25.)\n",
            "  pred = float(D @ self.rls[l].w)\n"
          ]
        },
        {
          "output_type": "stream",
          "name": "stdout",
          "text": [
            "s=0.4, L=6, N_hidden=40 -> RMSE: 0.6843, MASE: 0.4907\n"
          ]
        },
        {
          "output_type": "stream",
          "name": "stderr",
          "text": [
            "/tmp/ipython-input-14-3062527659.py:126: DeprecationWarning: Conversion of an array with ndim > 0 to a scalar is deprecated, and will error in future. Ensure you extract a single element from your array before performing this operation. (Deprecated NumPy 1.25.)\n",
            "  pred = float(D @ self.rls[l].w)\n",
            "/tmp/ipython-input-14-3062527659.py:126: DeprecationWarning: Conversion of an array with ndim > 0 to a scalar is deprecated, and will error in future. Ensure you extract a single element from your array before performing this operation. (Deprecated NumPy 1.25.)\n",
            "  pred = float(D @ self.rls[l].w)\n",
            "/tmp/ipython-input-14-3062527659.py:126: DeprecationWarning: Conversion of an array with ndim > 0 to a scalar is deprecated, and will error in future. Ensure you extract a single element from your array before performing this operation. (Deprecated NumPy 1.25.)\n",
            "  pred = float(D @ self.rls[l].w)\n"
          ]
        },
        {
          "output_type": "stream",
          "name": "stdout",
          "text": [
            "s=0.4, L=7, N_hidden=20 -> RMSE: 0.6481, MASE: 0.4909\n"
          ]
        },
        {
          "output_type": "stream",
          "name": "stderr",
          "text": [
            "/tmp/ipython-input-14-3062527659.py:126: DeprecationWarning: Conversion of an array with ndim > 0 to a scalar is deprecated, and will error in future. Ensure you extract a single element from your array before performing this operation. (Deprecated NumPy 1.25.)\n",
            "  pred = float(D @ self.rls[l].w)\n"
          ]
        },
        {
          "output_type": "stream",
          "name": "stdout",
          "text": [
            "s=0.4, L=7, N_hidden=30 -> RMSE: 0.6523, MASE: 0.4921\n"
          ]
        },
        {
          "output_type": "stream",
          "name": "stderr",
          "text": [
            "/tmp/ipython-input-14-3062527659.py:126: DeprecationWarning: Conversion of an array with ndim > 0 to a scalar is deprecated, and will error in future. Ensure you extract a single element from your array before performing this operation. (Deprecated NumPy 1.25.)\n",
            "  pred = float(D @ self.rls[l].w)\n",
            "/tmp/ipython-input-14-3062527659.py:126: DeprecationWarning: Conversion of an array with ndim > 0 to a scalar is deprecated, and will error in future. Ensure you extract a single element from your array before performing this operation. (Deprecated NumPy 1.25.)\n",
            "  pred = float(D @ self.rls[l].w)\n",
            "/tmp/ipython-input-14-3062527659.py:126: DeprecationWarning: Conversion of an array with ndim > 0 to a scalar is deprecated, and will error in future. Ensure you extract a single element from your array before performing this operation. (Deprecated NumPy 1.25.)\n",
            "  pred = float(D @ self.rls[l].w)\n",
            "/tmp/ipython-input-14-3062527659.py:126: DeprecationWarning: Conversion of an array with ndim > 0 to a scalar is deprecated, and will error in future. Ensure you extract a single element from your array before performing this operation. (Deprecated NumPy 1.25.)\n",
            "  pred = float(D @ self.rls[l].w)\n"
          ]
        },
        {
          "output_type": "stream",
          "name": "stdout",
          "text": [
            "s=0.4, L=7, N_hidden=40 -> RMSE: 0.6892, MASE: 0.5010\n"
          ]
        },
        {
          "output_type": "stream",
          "name": "stderr",
          "text": [
            "/tmp/ipython-input-14-3062527659.py:126: DeprecationWarning: Conversion of an array with ndim > 0 to a scalar is deprecated, and will error in future. Ensure you extract a single element from your array before performing this operation. (Deprecated NumPy 1.25.)\n",
            "  pred = float(D @ self.rls[l].w)\n"
          ]
        },
        {
          "output_type": "stream",
          "name": "stdout",
          "text": [
            "s=0.4, L=8, N_hidden=20 -> RMSE: 0.6004, MASE: 0.4664\n"
          ]
        },
        {
          "output_type": "stream",
          "name": "stderr",
          "text": [
            "/tmp/ipython-input-14-3062527659.py:126: DeprecationWarning: Conversion of an array with ndim > 0 to a scalar is deprecated, and will error in future. Ensure you extract a single element from your array before performing this operation. (Deprecated NumPy 1.25.)\n",
            "  pred = float(D @ self.rls[l].w)\n",
            "/tmp/ipython-input-14-3062527659.py:126: DeprecationWarning: Conversion of an array with ndim > 0 to a scalar is deprecated, and will error in future. Ensure you extract a single element from your array before performing this operation. (Deprecated NumPy 1.25.)\n",
            "  pred = float(D @ self.rls[l].w)\n",
            "/tmp/ipython-input-14-3062527659.py:126: DeprecationWarning: Conversion of an array with ndim > 0 to a scalar is deprecated, and will error in future. Ensure you extract a single element from your array before performing this operation. (Deprecated NumPy 1.25.)\n",
            "  pred = float(D @ self.rls[l].w)\n",
            "/tmp/ipython-input-14-3062527659.py:126: DeprecationWarning: Conversion of an array with ndim > 0 to a scalar is deprecated, and will error in future. Ensure you extract a single element from your array before performing this operation. (Deprecated NumPy 1.25.)\n",
            "  pred = float(D @ self.rls[l].w)\n"
          ]
        },
        {
          "output_type": "stream",
          "name": "stdout",
          "text": [
            "s=0.4, L=8, N_hidden=30 -> RMSE: 0.5921, MASE: 0.4267\n"
          ]
        },
        {
          "output_type": "stream",
          "name": "stderr",
          "text": [
            "/tmp/ipython-input-14-3062527659.py:126: DeprecationWarning: Conversion of an array with ndim > 0 to a scalar is deprecated, and will error in future. Ensure you extract a single element from your array before performing this operation. (Deprecated NumPy 1.25.)\n",
            "  pred = float(D @ self.rls[l].w)\n",
            "/tmp/ipython-input-14-3062527659.py:126: DeprecationWarning: Conversion of an array with ndim > 0 to a scalar is deprecated, and will error in future. Ensure you extract a single element from your array before performing this operation. (Deprecated NumPy 1.25.)\n",
            "  pred = float(D @ self.rls[l].w)\n",
            "/tmp/ipython-input-14-3062527659.py:126: DeprecationWarning: Conversion of an array with ndim > 0 to a scalar is deprecated, and will error in future. Ensure you extract a single element from your array before performing this operation. (Deprecated NumPy 1.25.)\n",
            "  pred = float(D @ self.rls[l].w)\n",
            "/tmp/ipython-input-14-3062527659.py:126: DeprecationWarning: Conversion of an array with ndim > 0 to a scalar is deprecated, and will error in future. Ensure you extract a single element from your array before performing this operation. (Deprecated NumPy 1.25.)\n",
            "  pred = float(D @ self.rls[l].w)\n",
            "/tmp/ipython-input-14-3062527659.py:126: DeprecationWarning: Conversion of an array with ndim > 0 to a scalar is deprecated, and will error in future. Ensure you extract a single element from your array before performing this operation. (Deprecated NumPy 1.25.)\n",
            "  pred = float(D @ self.rls[l].w)\n"
          ]
        },
        {
          "output_type": "stream",
          "name": "stdout",
          "text": [
            "s=0.4, L=8, N_hidden=40 -> RMSE: 0.6251, MASE: 0.4336\n"
          ]
        },
        {
          "output_type": "stream",
          "name": "stderr",
          "text": [
            "/tmp/ipython-input-14-3062527659.py:126: DeprecationWarning: Conversion of an array with ndim > 0 to a scalar is deprecated, and will error in future. Ensure you extract a single element from your array before performing this operation. (Deprecated NumPy 1.25.)\n",
            "  pred = float(D @ self.rls[l].w)\n",
            "/tmp/ipython-input-14-3062527659.py:126: DeprecationWarning: Conversion of an array with ndim > 0 to a scalar is deprecated, and will error in future. Ensure you extract a single element from your array before performing this operation. (Deprecated NumPy 1.25.)\n",
            "  pred = float(D @ self.rls[l].w)\n",
            "/tmp/ipython-input-14-3062527659.py:126: DeprecationWarning: Conversion of an array with ndim > 0 to a scalar is deprecated, and will error in future. Ensure you extract a single element from your array before performing this operation. (Deprecated NumPy 1.25.)\n",
            "  pred = float(D @ self.rls[l].w)\n",
            "/tmp/ipython-input-14-3062527659.py:126: DeprecationWarning: Conversion of an array with ndim > 0 to a scalar is deprecated, and will error in future. Ensure you extract a single element from your array before performing this operation. (Deprecated NumPy 1.25.)\n",
            "  pred = float(D @ self.rls[l].w)\n"
          ]
        },
        {
          "output_type": "stream",
          "name": "stdout",
          "text": [
            "s=0.4, L=9, N_hidden=20 -> RMSE: 0.6505, MASE: 0.4927\n"
          ]
        },
        {
          "output_type": "stream",
          "name": "stderr",
          "text": [
            "/tmp/ipython-input-14-3062527659.py:126: DeprecationWarning: Conversion of an array with ndim > 0 to a scalar is deprecated, and will error in future. Ensure you extract a single element from your array before performing this operation. (Deprecated NumPy 1.25.)\n",
            "  pred = float(D @ self.rls[l].w)\n",
            "/tmp/ipython-input-14-3062527659.py:126: DeprecationWarning: Conversion of an array with ndim > 0 to a scalar is deprecated, and will error in future. Ensure you extract a single element from your array before performing this operation. (Deprecated NumPy 1.25.)\n",
            "  pred = float(D @ self.rls[l].w)\n"
          ]
        },
        {
          "output_type": "stream",
          "name": "stdout",
          "text": [
            "s=0.4, L=9, N_hidden=30 -> RMSE: 0.5320, MASE: 0.3744\n"
          ]
        },
        {
          "output_type": "stream",
          "name": "stderr",
          "text": [
            "/tmp/ipython-input-14-3062527659.py:126: DeprecationWarning: Conversion of an array with ndim > 0 to a scalar is deprecated, and will error in future. Ensure you extract a single element from your array before performing this operation. (Deprecated NumPy 1.25.)\n",
            "  pred = float(D @ self.rls[l].w)\n",
            "/tmp/ipython-input-14-3062527659.py:126: DeprecationWarning: Conversion of an array with ndim > 0 to a scalar is deprecated, and will error in future. Ensure you extract a single element from your array before performing this operation. (Deprecated NumPy 1.25.)\n",
            "  pred = float(D @ self.rls[l].w)\n",
            "/tmp/ipython-input-14-3062527659.py:126: DeprecationWarning: Conversion of an array with ndim > 0 to a scalar is deprecated, and will error in future. Ensure you extract a single element from your array before performing this operation. (Deprecated NumPy 1.25.)\n",
            "  pred = float(D @ self.rls[l].w)\n",
            "/tmp/ipython-input-14-3062527659.py:126: DeprecationWarning: Conversion of an array with ndim > 0 to a scalar is deprecated, and will error in future. Ensure you extract a single element from your array before performing this operation. (Deprecated NumPy 1.25.)\n",
            "  pred = float(D @ self.rls[l].w)\n",
            "/tmp/ipython-input-14-3062527659.py:126: DeprecationWarning: Conversion of an array with ndim > 0 to a scalar is deprecated, and will error in future. Ensure you extract a single element from your array before performing this operation. (Deprecated NumPy 1.25.)\n",
            "  pred = float(D @ self.rls[l].w)\n",
            "/tmp/ipython-input-14-3062527659.py:126: DeprecationWarning: Conversion of an array with ndim > 0 to a scalar is deprecated, and will error in future. Ensure you extract a single element from your array before performing this operation. (Deprecated NumPy 1.25.)\n",
            "  pred = float(D @ self.rls[l].w)\n",
            "/tmp/ipython-input-14-3062527659.py:126: DeprecationWarning: Conversion of an array with ndim > 0 to a scalar is deprecated, and will error in future. Ensure you extract a single element from your array before performing this operation. (Deprecated NumPy 1.25.)\n",
            "  pred = float(D @ self.rls[l].w)\n",
            "/tmp/ipython-input-14-3062527659.py:126: DeprecationWarning: Conversion of an array with ndim > 0 to a scalar is deprecated, and will error in future. Ensure you extract a single element from your array before performing this operation. (Deprecated NumPy 1.25.)\n",
            "  pred = float(D @ self.rls[l].w)\n",
            "/tmp/ipython-input-14-3062527659.py:126: DeprecationWarning: Conversion of an array with ndim > 0 to a scalar is deprecated, and will error in future. Ensure you extract a single element from your array before performing this operation. (Deprecated NumPy 1.25.)\n",
            "  pred = float(D @ self.rls[l].w)\n"
          ]
        },
        {
          "output_type": "stream",
          "name": "stdout",
          "text": [
            "s=0.4, L=9, N_hidden=40 -> RMSE: 0.7779, MASE: 0.5498\n",
            "s=0.5, L=2, N_hidden=20 -> RMSE: 0.6812, MASE: 0.5855\n",
            "s=0.5, L=2, N_hidden=30 -> RMSE: 0.7469, MASE: 0.6634\n"
          ]
        },
        {
          "output_type": "stream",
          "name": "stderr",
          "text": [
            "/tmp/ipython-input-14-3062527659.py:126: DeprecationWarning: Conversion of an array with ndim > 0 to a scalar is deprecated, and will error in future. Ensure you extract a single element from your array before performing this operation. (Deprecated NumPy 1.25.)\n",
            "  pred = float(D @ self.rls[l].w)\n",
            "/tmp/ipython-input-14-3062527659.py:126: DeprecationWarning: Conversion of an array with ndim > 0 to a scalar is deprecated, and will error in future. Ensure you extract a single element from your array before performing this operation. (Deprecated NumPy 1.25.)\n",
            "  pred = float(D @ self.rls[l].w)\n"
          ]
        },
        {
          "output_type": "stream",
          "name": "stdout",
          "text": [
            "s=0.5, L=2, N_hidden=40 -> RMSE: 0.7245, MASE: 0.6167\n",
            "s=0.5, L=3, N_hidden=20 -> RMSE: 0.7262, MASE: 0.6072\n"
          ]
        },
        {
          "output_type": "stream",
          "name": "stderr",
          "text": [
            "/tmp/ipython-input-14-3062527659.py:126: DeprecationWarning: Conversion of an array with ndim > 0 to a scalar is deprecated, and will error in future. Ensure you extract a single element from your array before performing this operation. (Deprecated NumPy 1.25.)\n",
            "  pred = float(D @ self.rls[l].w)\n",
            "/tmp/ipython-input-14-3062527659.py:126: DeprecationWarning: Conversion of an array with ndim > 0 to a scalar is deprecated, and will error in future. Ensure you extract a single element from your array before performing this operation. (Deprecated NumPy 1.25.)\n",
            "  pred = float(D @ self.rls[l].w)\n"
          ]
        },
        {
          "output_type": "stream",
          "name": "stdout",
          "text": [
            "s=0.5, L=3, N_hidden=30 -> RMSE: 0.7204, MASE: 0.6138\n"
          ]
        },
        {
          "output_type": "stream",
          "name": "stderr",
          "text": [
            "/tmp/ipython-input-14-3062527659.py:126: DeprecationWarning: Conversion of an array with ndim > 0 to a scalar is deprecated, and will error in future. Ensure you extract a single element from your array before performing this operation. (Deprecated NumPy 1.25.)\n",
            "  pred = float(D @ self.rls[l].w)\n",
            "/tmp/ipython-input-14-3062527659.py:126: DeprecationWarning: Conversion of an array with ndim > 0 to a scalar is deprecated, and will error in future. Ensure you extract a single element from your array before performing this operation. (Deprecated NumPy 1.25.)\n",
            "  pred = float(D @ self.rls[l].w)\n"
          ]
        },
        {
          "output_type": "stream",
          "name": "stdout",
          "text": [
            "s=0.5, L=3, N_hidden=40 -> RMSE: 0.7339, MASE: 0.5924\n"
          ]
        },
        {
          "output_type": "stream",
          "name": "stderr",
          "text": [
            "/tmp/ipython-input-14-3062527659.py:126: DeprecationWarning: Conversion of an array with ndim > 0 to a scalar is deprecated, and will error in future. Ensure you extract a single element from your array before performing this operation. (Deprecated NumPy 1.25.)\n",
            "  pred = float(D @ self.rls[l].w)\n",
            "/tmp/ipython-input-14-3062527659.py:126: DeprecationWarning: Conversion of an array with ndim > 0 to a scalar is deprecated, and will error in future. Ensure you extract a single element from your array before performing this operation. (Deprecated NumPy 1.25.)\n",
            "  pred = float(D @ self.rls[l].w)\n"
          ]
        },
        {
          "output_type": "stream",
          "name": "stdout",
          "text": [
            "s=0.5, L=4, N_hidden=20 -> RMSE: 0.7022, MASE: 0.5760\n",
            "s=0.5, L=4, N_hidden=30 -> RMSE: 0.7016, MASE: 0.5489\n"
          ]
        },
        {
          "output_type": "stream",
          "name": "stderr",
          "text": [
            "/tmp/ipython-input-14-3062527659.py:126: DeprecationWarning: Conversion of an array with ndim > 0 to a scalar is deprecated, and will error in future. Ensure you extract a single element from your array before performing this operation. (Deprecated NumPy 1.25.)\n",
            "  pred = float(D @ self.rls[l].w)\n"
          ]
        },
        {
          "output_type": "stream",
          "name": "stdout",
          "text": [
            "s=0.5, L=4, N_hidden=40 -> RMSE: 0.7694, MASE: 0.5855\n"
          ]
        },
        {
          "output_type": "stream",
          "name": "stderr",
          "text": [
            "/tmp/ipython-input-14-3062527659.py:126: DeprecationWarning: Conversion of an array with ndim > 0 to a scalar is deprecated, and will error in future. Ensure you extract a single element from your array before performing this operation. (Deprecated NumPy 1.25.)\n",
            "  pred = float(D @ self.rls[l].w)\n",
            "/tmp/ipython-input-14-3062527659.py:126: DeprecationWarning: Conversion of an array with ndim > 0 to a scalar is deprecated, and will error in future. Ensure you extract a single element from your array before performing this operation. (Deprecated NumPy 1.25.)\n",
            "  pred = float(D @ self.rls[l].w)\n"
          ]
        },
        {
          "output_type": "stream",
          "name": "stdout",
          "text": [
            "s=0.5, L=5, N_hidden=20 -> RMSE: 0.6659, MASE: 0.5365\n"
          ]
        },
        {
          "output_type": "stream",
          "name": "stderr",
          "text": [
            "/tmp/ipython-input-14-3062527659.py:126: DeprecationWarning: Conversion of an array with ndim > 0 to a scalar is deprecated, and will error in future. Ensure you extract a single element from your array before performing this operation. (Deprecated NumPy 1.25.)\n",
            "  pred = float(D @ self.rls[l].w)\n"
          ]
        },
        {
          "output_type": "stream",
          "name": "stdout",
          "text": [
            "s=0.5, L=5, N_hidden=30 -> RMSE: 0.6640, MASE: 0.5099\n"
          ]
        },
        {
          "output_type": "stream",
          "name": "stderr",
          "text": [
            "/tmp/ipython-input-14-3062527659.py:126: DeprecationWarning: Conversion of an array with ndim > 0 to a scalar is deprecated, and will error in future. Ensure you extract a single element from your array before performing this operation. (Deprecated NumPy 1.25.)\n",
            "  pred = float(D @ self.rls[l].w)\n",
            "/tmp/ipython-input-14-3062527659.py:126: DeprecationWarning: Conversion of an array with ndim > 0 to a scalar is deprecated, and will error in future. Ensure you extract a single element from your array before performing this operation. (Deprecated NumPy 1.25.)\n",
            "  pred = float(D @ self.rls[l].w)\n"
          ]
        },
        {
          "output_type": "stream",
          "name": "stdout",
          "text": [
            "s=0.5, L=5, N_hidden=40 -> RMSE: 0.6748, MASE: 0.4961\n"
          ]
        },
        {
          "output_type": "stream",
          "name": "stderr",
          "text": [
            "/tmp/ipython-input-14-3062527659.py:126: DeprecationWarning: Conversion of an array with ndim > 0 to a scalar is deprecated, and will error in future. Ensure you extract a single element from your array before performing this operation. (Deprecated NumPy 1.25.)\n",
            "  pred = float(D @ self.rls[l].w)\n"
          ]
        },
        {
          "output_type": "stream",
          "name": "stdout",
          "text": [
            "s=0.5, L=6, N_hidden=20 -> RMSE: 0.6948, MASE: 0.5514\n"
          ]
        },
        {
          "output_type": "stream",
          "name": "stderr",
          "text": [
            "/tmp/ipython-input-14-3062527659.py:126: DeprecationWarning: Conversion of an array with ndim > 0 to a scalar is deprecated, and will error in future. Ensure you extract a single element from your array before performing this operation. (Deprecated NumPy 1.25.)\n",
            "  pred = float(D @ self.rls[l].w)\n",
            "/tmp/ipython-input-14-3062527659.py:126: DeprecationWarning: Conversion of an array with ndim > 0 to a scalar is deprecated, and will error in future. Ensure you extract a single element from your array before performing this operation. (Deprecated NumPy 1.25.)\n",
            "  pred = float(D @ self.rls[l].w)\n",
            "/tmp/ipython-input-14-3062527659.py:126: DeprecationWarning: Conversion of an array with ndim > 0 to a scalar is deprecated, and will error in future. Ensure you extract a single element from your array before performing this operation. (Deprecated NumPy 1.25.)\n",
            "  pred = float(D @ self.rls[l].w)\n",
            "/tmp/ipython-input-14-3062527659.py:126: DeprecationWarning: Conversion of an array with ndim > 0 to a scalar is deprecated, and will error in future. Ensure you extract a single element from your array before performing this operation. (Deprecated NumPy 1.25.)\n",
            "  pred = float(D @ self.rls[l].w)\n"
          ]
        },
        {
          "output_type": "stream",
          "name": "stdout",
          "text": [
            "s=0.5, L=6, N_hidden=30 -> RMSE: 0.6719, MASE: 0.5086\n"
          ]
        },
        {
          "output_type": "stream",
          "name": "stderr",
          "text": [
            "/tmp/ipython-input-14-3062527659.py:126: DeprecationWarning: Conversion of an array with ndim > 0 to a scalar is deprecated, and will error in future. Ensure you extract a single element from your array before performing this operation. (Deprecated NumPy 1.25.)\n",
            "  pred = float(D @ self.rls[l].w)\n"
          ]
        },
        {
          "output_type": "stream",
          "name": "stdout",
          "text": [
            "s=0.5, L=6, N_hidden=40 -> RMSE: 0.6052, MASE: 0.4324\n"
          ]
        },
        {
          "output_type": "stream",
          "name": "stderr",
          "text": [
            "/tmp/ipython-input-14-3062527659.py:126: DeprecationWarning: Conversion of an array with ndim > 0 to a scalar is deprecated, and will error in future. Ensure you extract a single element from your array before performing this operation. (Deprecated NumPy 1.25.)\n",
            "  pred = float(D @ self.rls[l].w)\n"
          ]
        },
        {
          "output_type": "stream",
          "name": "stdout",
          "text": [
            "s=0.5, L=7, N_hidden=20 -> RMSE: 0.6747, MASE: 0.5118\n"
          ]
        },
        {
          "output_type": "stream",
          "name": "stderr",
          "text": [
            "/tmp/ipython-input-14-3062527659.py:126: DeprecationWarning: Conversion of an array with ndim > 0 to a scalar is deprecated, and will error in future. Ensure you extract a single element from your array before performing this operation. (Deprecated NumPy 1.25.)\n",
            "  pred = float(D @ self.rls[l].w)\n",
            "/tmp/ipython-input-14-3062527659.py:126: DeprecationWarning: Conversion of an array with ndim > 0 to a scalar is deprecated, and will error in future. Ensure you extract a single element from your array before performing this operation. (Deprecated NumPy 1.25.)\n",
            "  pred = float(D @ self.rls[l].w)\n",
            "/tmp/ipython-input-14-3062527659.py:126: DeprecationWarning: Conversion of an array with ndim > 0 to a scalar is deprecated, and will error in future. Ensure you extract a single element from your array before performing this operation. (Deprecated NumPy 1.25.)\n",
            "  pred = float(D @ self.rls[l].w)\n"
          ]
        },
        {
          "output_type": "stream",
          "name": "stdout",
          "text": [
            "s=0.5, L=7, N_hidden=30 -> RMSE: 0.6186, MASE: 0.4701\n"
          ]
        },
        {
          "output_type": "stream",
          "name": "stderr",
          "text": [
            "/tmp/ipython-input-14-3062527659.py:126: DeprecationWarning: Conversion of an array with ndim > 0 to a scalar is deprecated, and will error in future. Ensure you extract a single element from your array before performing this operation. (Deprecated NumPy 1.25.)\n",
            "  pred = float(D @ self.rls[l].w)\n",
            "/tmp/ipython-input-14-3062527659.py:126: DeprecationWarning: Conversion of an array with ndim > 0 to a scalar is deprecated, and will error in future. Ensure you extract a single element from your array before performing this operation. (Deprecated NumPy 1.25.)\n",
            "  pred = float(D @ self.rls[l].w)\n",
            "/tmp/ipython-input-14-3062527659.py:126: DeprecationWarning: Conversion of an array with ndim > 0 to a scalar is deprecated, and will error in future. Ensure you extract a single element from your array before performing this operation. (Deprecated NumPy 1.25.)\n",
            "  pred = float(D @ self.rls[l].w)\n",
            "/tmp/ipython-input-14-3062527659.py:126: DeprecationWarning: Conversion of an array with ndim > 0 to a scalar is deprecated, and will error in future. Ensure you extract a single element from your array before performing this operation. (Deprecated NumPy 1.25.)\n",
            "  pred = float(D @ self.rls[l].w)\n",
            "/tmp/ipython-input-14-3062527659.py:126: DeprecationWarning: Conversion of an array with ndim > 0 to a scalar is deprecated, and will error in future. Ensure you extract a single element from your array before performing this operation. (Deprecated NumPy 1.25.)\n",
            "  pred = float(D @ self.rls[l].w)\n"
          ]
        },
        {
          "output_type": "stream",
          "name": "stdout",
          "text": [
            "s=0.5, L=7, N_hidden=40 -> RMSE: 0.7009, MASE: 0.5212\n"
          ]
        },
        {
          "output_type": "stream",
          "name": "stderr",
          "text": [
            "/tmp/ipython-input-14-3062527659.py:126: DeprecationWarning: Conversion of an array with ndim > 0 to a scalar is deprecated, and will error in future. Ensure you extract a single element from your array before performing this operation. (Deprecated NumPy 1.25.)\n",
            "  pred = float(D @ self.rls[l].w)\n",
            "/tmp/ipython-input-14-3062527659.py:126: DeprecationWarning: Conversion of an array with ndim > 0 to a scalar is deprecated, and will error in future. Ensure you extract a single element from your array before performing this operation. (Deprecated NumPy 1.25.)\n",
            "  pred = float(D @ self.rls[l].w)\n"
          ]
        },
        {
          "output_type": "stream",
          "name": "stdout",
          "text": [
            "s=0.5, L=8, N_hidden=20 -> RMSE: 0.5738, MASE: 0.4277\n"
          ]
        },
        {
          "output_type": "stream",
          "name": "stderr",
          "text": [
            "/tmp/ipython-input-14-3062527659.py:126: DeprecationWarning: Conversion of an array with ndim > 0 to a scalar is deprecated, and will error in future. Ensure you extract a single element from your array before performing this operation. (Deprecated NumPy 1.25.)\n",
            "  pred = float(D @ self.rls[l].w)\n",
            "/tmp/ipython-input-14-3062527659.py:126: DeprecationWarning: Conversion of an array with ndim > 0 to a scalar is deprecated, and will error in future. Ensure you extract a single element from your array before performing this operation. (Deprecated NumPy 1.25.)\n",
            "  pred = float(D @ self.rls[l].w)\n",
            "/tmp/ipython-input-14-3062527659.py:126: DeprecationWarning: Conversion of an array with ndim > 0 to a scalar is deprecated, and will error in future. Ensure you extract a single element from your array before performing this operation. (Deprecated NumPy 1.25.)\n",
            "  pred = float(D @ self.rls[l].w)\n"
          ]
        },
        {
          "output_type": "stream",
          "name": "stdout",
          "text": [
            "s=0.5, L=8, N_hidden=30 -> RMSE: 0.6912, MASE: 0.4914\n"
          ]
        },
        {
          "output_type": "stream",
          "name": "stderr",
          "text": [
            "/tmp/ipython-input-14-3062527659.py:126: DeprecationWarning: Conversion of an array with ndim > 0 to a scalar is deprecated, and will error in future. Ensure you extract a single element from your array before performing this operation. (Deprecated NumPy 1.25.)\n",
            "  pred = float(D @ self.rls[l].w)\n",
            "/tmp/ipython-input-14-3062527659.py:126: DeprecationWarning: Conversion of an array with ndim > 0 to a scalar is deprecated, and will error in future. Ensure you extract a single element from your array before performing this operation. (Deprecated NumPy 1.25.)\n",
            "  pred = float(D @ self.rls[l].w)\n",
            "/tmp/ipython-input-14-3062527659.py:126: DeprecationWarning: Conversion of an array with ndim > 0 to a scalar is deprecated, and will error in future. Ensure you extract a single element from your array before performing this operation. (Deprecated NumPy 1.25.)\n",
            "  pred = float(D @ self.rls[l].w)\n",
            "/tmp/ipython-input-14-3062527659.py:126: DeprecationWarning: Conversion of an array with ndim > 0 to a scalar is deprecated, and will error in future. Ensure you extract a single element from your array before performing this operation. (Deprecated NumPy 1.25.)\n",
            "  pred = float(D @ self.rls[l].w)\n"
          ]
        },
        {
          "output_type": "stream",
          "name": "stdout",
          "text": [
            "s=0.5, L=8, N_hidden=40 -> RMSE: 0.6752, MASE: 0.4745\n"
          ]
        },
        {
          "output_type": "stream",
          "name": "stderr",
          "text": [
            "/tmp/ipython-input-14-3062527659.py:126: DeprecationWarning: Conversion of an array with ndim > 0 to a scalar is deprecated, and will error in future. Ensure you extract a single element from your array before performing this operation. (Deprecated NumPy 1.25.)\n",
            "  pred = float(D @ self.rls[l].w)\n",
            "/tmp/ipython-input-14-3062527659.py:126: DeprecationWarning: Conversion of an array with ndim > 0 to a scalar is deprecated, and will error in future. Ensure you extract a single element from your array before performing this operation. (Deprecated NumPy 1.25.)\n",
            "  pred = float(D @ self.rls[l].w)\n",
            "/tmp/ipython-input-14-3062527659.py:126: DeprecationWarning: Conversion of an array with ndim > 0 to a scalar is deprecated, and will error in future. Ensure you extract a single element from your array before performing this operation. (Deprecated NumPy 1.25.)\n",
            "  pred = float(D @ self.rls[l].w)\n"
          ]
        },
        {
          "output_type": "stream",
          "name": "stdout",
          "text": [
            "s=0.5, L=9, N_hidden=20 -> RMSE: 0.6576, MASE: 0.5000\n"
          ]
        },
        {
          "output_type": "stream",
          "name": "stderr",
          "text": [
            "/tmp/ipython-input-14-3062527659.py:126: DeprecationWarning: Conversion of an array with ndim > 0 to a scalar is deprecated, and will error in future. Ensure you extract a single element from your array before performing this operation. (Deprecated NumPy 1.25.)\n",
            "  pred = float(D @ self.rls[l].w)\n",
            "/tmp/ipython-input-14-3062527659.py:126: DeprecationWarning: Conversion of an array with ndim > 0 to a scalar is deprecated, and will error in future. Ensure you extract a single element from your array before performing this operation. (Deprecated NumPy 1.25.)\n",
            "  pred = float(D @ self.rls[l].w)\n",
            "/tmp/ipython-input-14-3062527659.py:126: DeprecationWarning: Conversion of an array with ndim > 0 to a scalar is deprecated, and will error in future. Ensure you extract a single element from your array before performing this operation. (Deprecated NumPy 1.25.)\n",
            "  pred = float(D @ self.rls[l].w)\n",
            "/tmp/ipython-input-14-3062527659.py:126: DeprecationWarning: Conversion of an array with ndim > 0 to a scalar is deprecated, and will error in future. Ensure you extract a single element from your array before performing this operation. (Deprecated NumPy 1.25.)\n",
            "  pred = float(D @ self.rls[l].w)\n",
            "/tmp/ipython-input-14-3062527659.py:126: DeprecationWarning: Conversion of an array with ndim > 0 to a scalar is deprecated, and will error in future. Ensure you extract a single element from your array before performing this operation. (Deprecated NumPy 1.25.)\n",
            "  pred = float(D @ self.rls[l].w)\n"
          ]
        },
        {
          "output_type": "stream",
          "name": "stdout",
          "text": [
            "s=0.5, L=9, N_hidden=30 -> RMSE: 0.7044, MASE: 0.5297\n"
          ]
        },
        {
          "output_type": "stream",
          "name": "stderr",
          "text": [
            "/tmp/ipython-input-14-3062527659.py:126: DeprecationWarning: Conversion of an array with ndim > 0 to a scalar is deprecated, and will error in future. Ensure you extract a single element from your array before performing this operation. (Deprecated NumPy 1.25.)\n",
            "  pred = float(D @ self.rls[l].w)\n",
            "/tmp/ipython-input-14-3062527659.py:126: DeprecationWarning: Conversion of an array with ndim > 0 to a scalar is deprecated, and will error in future. Ensure you extract a single element from your array before performing this operation. (Deprecated NumPy 1.25.)\n",
            "  pred = float(D @ self.rls[l].w)\n",
            "/tmp/ipython-input-14-3062527659.py:126: DeprecationWarning: Conversion of an array with ndim > 0 to a scalar is deprecated, and will error in future. Ensure you extract a single element from your array before performing this operation. (Deprecated NumPy 1.25.)\n",
            "  pred = float(D @ self.rls[l].w)\n",
            "/tmp/ipython-input-14-3062527659.py:126: DeprecationWarning: Conversion of an array with ndim > 0 to a scalar is deprecated, and will error in future. Ensure you extract a single element from your array before performing this operation. (Deprecated NumPy 1.25.)\n",
            "  pred = float(D @ self.rls[l].w)\n",
            "/tmp/ipython-input-14-3062527659.py:126: DeprecationWarning: Conversion of an array with ndim > 0 to a scalar is deprecated, and will error in future. Ensure you extract a single element from your array before performing this operation. (Deprecated NumPy 1.25.)\n",
            "  pred = float(D @ self.rls[l].w)\n",
            "/tmp/ipython-input-14-3062527659.py:126: DeprecationWarning: Conversion of an array with ndim > 0 to a scalar is deprecated, and will error in future. Ensure you extract a single element from your array before performing this operation. (Deprecated NumPy 1.25.)\n",
            "  pred = float(D @ self.rls[l].w)\n",
            "/tmp/ipython-input-14-3062527659.py:126: DeprecationWarning: Conversion of an array with ndim > 0 to a scalar is deprecated, and will error in future. Ensure you extract a single element from your array before performing this operation. (Deprecated NumPy 1.25.)\n",
            "  pred = float(D @ self.rls[l].w)\n"
          ]
        },
        {
          "output_type": "stream",
          "name": "stdout",
          "text": [
            "s=0.5, L=9, N_hidden=40 -> RMSE: 0.6757, MASE: 0.4846\n",
            "s=0.6, L=2, N_hidden=20 -> RMSE: 0.6830, MASE: 0.6023\n",
            "s=0.6, L=2, N_hidden=30 -> RMSE: 0.7288, MASE: 0.6092\n"
          ]
        },
        {
          "output_type": "stream",
          "name": "stderr",
          "text": [
            "/tmp/ipython-input-14-3062527659.py:126: DeprecationWarning: Conversion of an array with ndim > 0 to a scalar is deprecated, and will error in future. Ensure you extract a single element from your array before performing this operation. (Deprecated NumPy 1.25.)\n",
            "  pred = float(D @ self.rls[l].w)\n",
            "/tmp/ipython-input-14-3062527659.py:126: DeprecationWarning: Conversion of an array with ndim > 0 to a scalar is deprecated, and will error in future. Ensure you extract a single element from your array before performing this operation. (Deprecated NumPy 1.25.)\n",
            "  pred = float(D @ self.rls[l].w)\n",
            "/tmp/ipython-input-14-3062527659.py:126: DeprecationWarning: Conversion of an array with ndim > 0 to a scalar is deprecated, and will error in future. Ensure you extract a single element from your array before performing this operation. (Deprecated NumPy 1.25.)\n",
            "  pred = float(D @ self.rls[l].w)\n"
          ]
        },
        {
          "output_type": "stream",
          "name": "stdout",
          "text": [
            "s=0.6, L=2, N_hidden=40 -> RMSE: 0.7604, MASE: 0.6384\n",
            "s=0.6, L=3, N_hidden=20 -> RMSE: 0.6942, MASE: 0.5995\n"
          ]
        },
        {
          "output_type": "stream",
          "name": "stderr",
          "text": [
            "/tmp/ipython-input-14-3062527659.py:126: DeprecationWarning: Conversion of an array with ndim > 0 to a scalar is deprecated, and will error in future. Ensure you extract a single element from your array before performing this operation. (Deprecated NumPy 1.25.)\n",
            "  pred = float(D @ self.rls[l].w)\n",
            "/tmp/ipython-input-14-3062527659.py:126: DeprecationWarning: Conversion of an array with ndim > 0 to a scalar is deprecated, and will error in future. Ensure you extract a single element from your array before performing this operation. (Deprecated NumPy 1.25.)\n",
            "  pred = float(D @ self.rls[l].w)\n",
            "/tmp/ipython-input-14-3062527659.py:126: DeprecationWarning: Conversion of an array with ndim > 0 to a scalar is deprecated, and will error in future. Ensure you extract a single element from your array before performing this operation. (Deprecated NumPy 1.25.)\n",
            "  pred = float(D @ self.rls[l].w)\n"
          ]
        },
        {
          "output_type": "stream",
          "name": "stdout",
          "text": [
            "s=0.6, L=3, N_hidden=30 -> RMSE: 0.7377, MASE: 0.6115\n",
            "s=0.6, L=3, N_hidden=40 -> RMSE: 0.7693, MASE: 0.6040\n",
            "s=0.6, L=4, N_hidden=20 -> RMSE: 0.6937, MASE: 0.5811\n"
          ]
        },
        {
          "output_type": "stream",
          "name": "stderr",
          "text": [
            "/tmp/ipython-input-14-3062527659.py:126: DeprecationWarning: Conversion of an array with ndim > 0 to a scalar is deprecated, and will error in future. Ensure you extract a single element from your array before performing this operation. (Deprecated NumPy 1.25.)\n",
            "  pred = float(D @ self.rls[l].w)\n",
            "/tmp/ipython-input-14-3062527659.py:126: DeprecationWarning: Conversion of an array with ndim > 0 to a scalar is deprecated, and will error in future. Ensure you extract a single element from your array before performing this operation. (Deprecated NumPy 1.25.)\n",
            "  pred = float(D @ self.rls[l].w)\n"
          ]
        },
        {
          "output_type": "stream",
          "name": "stdout",
          "text": [
            "s=0.6, L=4, N_hidden=30 -> RMSE: 0.6876, MASE: 0.5320\n"
          ]
        },
        {
          "output_type": "stream",
          "name": "stderr",
          "text": [
            "/tmp/ipython-input-14-3062527659.py:126: DeprecationWarning: Conversion of an array with ndim > 0 to a scalar is deprecated, and will error in future. Ensure you extract a single element from your array before performing this operation. (Deprecated NumPy 1.25.)\n",
            "  pred = float(D @ self.rls[l].w)\n"
          ]
        },
        {
          "output_type": "stream",
          "name": "stdout",
          "text": [
            "s=0.6, L=4, N_hidden=40 -> RMSE: 0.7512, MASE: 0.5733\n"
          ]
        },
        {
          "output_type": "stream",
          "name": "stderr",
          "text": [
            "/tmp/ipython-input-14-3062527659.py:126: DeprecationWarning: Conversion of an array with ndim > 0 to a scalar is deprecated, and will error in future. Ensure you extract a single element from your array before performing this operation. (Deprecated NumPy 1.25.)\n",
            "  pred = float(D @ self.rls[l].w)\n",
            "/tmp/ipython-input-14-3062527659.py:126: DeprecationWarning: Conversion of an array with ndim > 0 to a scalar is deprecated, and will error in future. Ensure you extract a single element from your array before performing this operation. (Deprecated NumPy 1.25.)\n",
            "  pred = float(D @ self.rls[l].w)\n"
          ]
        },
        {
          "output_type": "stream",
          "name": "stdout",
          "text": [
            "s=0.6, L=5, N_hidden=20 -> RMSE: 0.6845, MASE: 0.5656\n"
          ]
        },
        {
          "output_type": "stream",
          "name": "stderr",
          "text": [
            "/tmp/ipython-input-14-3062527659.py:126: DeprecationWarning: Conversion of an array with ndim > 0 to a scalar is deprecated, and will error in future. Ensure you extract a single element from your array before performing this operation. (Deprecated NumPy 1.25.)\n",
            "  pred = float(D @ self.rls[l].w)\n",
            "/tmp/ipython-input-14-3062527659.py:126: DeprecationWarning: Conversion of an array with ndim > 0 to a scalar is deprecated, and will error in future. Ensure you extract a single element from your array before performing this operation. (Deprecated NumPy 1.25.)\n",
            "  pred = float(D @ self.rls[l].w)\n"
          ]
        },
        {
          "output_type": "stream",
          "name": "stdout",
          "text": [
            "s=0.6, L=5, N_hidden=30 -> RMSE: 0.7229, MASE: 0.5560\n"
          ]
        },
        {
          "output_type": "stream",
          "name": "stderr",
          "text": [
            "/tmp/ipython-input-14-3062527659.py:126: DeprecationWarning: Conversion of an array with ndim > 0 to a scalar is deprecated, and will error in future. Ensure you extract a single element from your array before performing this operation. (Deprecated NumPy 1.25.)\n",
            "  pred = float(D @ self.rls[l].w)\n",
            "/tmp/ipython-input-14-3062527659.py:126: DeprecationWarning: Conversion of an array with ndim > 0 to a scalar is deprecated, and will error in future. Ensure you extract a single element from your array before performing this operation. (Deprecated NumPy 1.25.)\n",
            "  pred = float(D @ self.rls[l].w)\n"
          ]
        },
        {
          "output_type": "stream",
          "name": "stdout",
          "text": [
            "s=0.6, L=5, N_hidden=40 -> RMSE: 0.6329, MASE: 0.4805\n"
          ]
        },
        {
          "output_type": "stream",
          "name": "stderr",
          "text": [
            "/tmp/ipython-input-14-3062527659.py:126: DeprecationWarning: Conversion of an array with ndim > 0 to a scalar is deprecated, and will error in future. Ensure you extract a single element from your array before performing this operation. (Deprecated NumPy 1.25.)\n",
            "  pred = float(D @ self.rls[l].w)\n",
            "/tmp/ipython-input-14-3062527659.py:126: DeprecationWarning: Conversion of an array with ndim > 0 to a scalar is deprecated, and will error in future. Ensure you extract a single element from your array before performing this operation. (Deprecated NumPy 1.25.)\n",
            "  pred = float(D @ self.rls[l].w)\n",
            "/tmp/ipython-input-14-3062527659.py:126: DeprecationWarning: Conversion of an array with ndim > 0 to a scalar is deprecated, and will error in future. Ensure you extract a single element from your array before performing this operation. (Deprecated NumPy 1.25.)\n",
            "  pred = float(D @ self.rls[l].w)\n"
          ]
        },
        {
          "output_type": "stream",
          "name": "stdout",
          "text": [
            "s=0.6, L=6, N_hidden=20 -> RMSE: 0.7059, MASE: 0.5654\n"
          ]
        },
        {
          "output_type": "stream",
          "name": "stderr",
          "text": [
            "/tmp/ipython-input-14-3062527659.py:126: DeprecationWarning: Conversion of an array with ndim > 0 to a scalar is deprecated, and will error in future. Ensure you extract a single element from your array before performing this operation. (Deprecated NumPy 1.25.)\n",
            "  pred = float(D @ self.rls[l].w)\n",
            "/tmp/ipython-input-14-3062527659.py:126: DeprecationWarning: Conversion of an array with ndim > 0 to a scalar is deprecated, and will error in future. Ensure you extract a single element from your array before performing this operation. (Deprecated NumPy 1.25.)\n",
            "  pred = float(D @ self.rls[l].w)\n"
          ]
        },
        {
          "output_type": "stream",
          "name": "stdout",
          "text": [
            "s=0.6, L=6, N_hidden=30 -> RMSE: 0.7162, MASE: 0.5607\n",
            "s=0.6, L=6, N_hidden=40 -> RMSE: 0.7058, MASE: 0.5354\n"
          ]
        },
        {
          "output_type": "stream",
          "name": "stderr",
          "text": [
            "/tmp/ipython-input-14-3062527659.py:126: DeprecationWarning: Conversion of an array with ndim > 0 to a scalar is deprecated, and will error in future. Ensure you extract a single element from your array before performing this operation. (Deprecated NumPy 1.25.)\n",
            "  pred = float(D @ self.rls[l].w)\n",
            "/tmp/ipython-input-14-3062527659.py:126: DeprecationWarning: Conversion of an array with ndim > 0 to a scalar is deprecated, and will error in future. Ensure you extract a single element from your array before performing this operation. (Deprecated NumPy 1.25.)\n",
            "  pred = float(D @ self.rls[l].w)\n",
            "/tmp/ipython-input-14-3062527659.py:126: DeprecationWarning: Conversion of an array with ndim > 0 to a scalar is deprecated, and will error in future. Ensure you extract a single element from your array before performing this operation. (Deprecated NumPy 1.25.)\n",
            "  pred = float(D @ self.rls[l].w)\n"
          ]
        },
        {
          "output_type": "stream",
          "name": "stdout",
          "text": [
            "s=0.6, L=7, N_hidden=20 -> RMSE: 0.6357, MASE: 0.5029\n"
          ]
        },
        {
          "output_type": "stream",
          "name": "stderr",
          "text": [
            "/tmp/ipython-input-14-3062527659.py:126: DeprecationWarning: Conversion of an array with ndim > 0 to a scalar is deprecated, and will error in future. Ensure you extract a single element from your array before performing this operation. (Deprecated NumPy 1.25.)\n",
            "  pred = float(D @ self.rls[l].w)\n",
            "/tmp/ipython-input-14-3062527659.py:126: DeprecationWarning: Conversion of an array with ndim > 0 to a scalar is deprecated, and will error in future. Ensure you extract a single element from your array before performing this operation. (Deprecated NumPy 1.25.)\n",
            "  pred = float(D @ self.rls[l].w)\n"
          ]
        },
        {
          "output_type": "stream",
          "name": "stdout",
          "text": [
            "s=0.6, L=7, N_hidden=30 -> RMSE: 0.7123, MASE: 0.5251\n"
          ]
        },
        {
          "output_type": "stream",
          "name": "stderr",
          "text": [
            "/tmp/ipython-input-14-3062527659.py:126: DeprecationWarning: Conversion of an array with ndim > 0 to a scalar is deprecated, and will error in future. Ensure you extract a single element from your array before performing this operation. (Deprecated NumPy 1.25.)\n",
            "  pred = float(D @ self.rls[l].w)\n",
            "/tmp/ipython-input-14-3062527659.py:126: DeprecationWarning: Conversion of an array with ndim > 0 to a scalar is deprecated, and will error in future. Ensure you extract a single element from your array before performing this operation. (Deprecated NumPy 1.25.)\n",
            "  pred = float(D @ self.rls[l].w)\n",
            "/tmp/ipython-input-14-3062527659.py:126: DeprecationWarning: Conversion of an array with ndim > 0 to a scalar is deprecated, and will error in future. Ensure you extract a single element from your array before performing this operation. (Deprecated NumPy 1.25.)\n",
            "  pred = float(D @ self.rls[l].w)\n",
            "/tmp/ipython-input-14-3062527659.py:126: DeprecationWarning: Conversion of an array with ndim > 0 to a scalar is deprecated, and will error in future. Ensure you extract a single element from your array before performing this operation. (Deprecated NumPy 1.25.)\n",
            "  pred = float(D @ self.rls[l].w)\n",
            "/tmp/ipython-input-14-3062527659.py:126: DeprecationWarning: Conversion of an array with ndim > 0 to a scalar is deprecated, and will error in future. Ensure you extract a single element from your array before performing this operation. (Deprecated NumPy 1.25.)\n",
            "  pred = float(D @ self.rls[l].w)\n"
          ]
        },
        {
          "output_type": "stream",
          "name": "stdout",
          "text": [
            "s=0.6, L=7, N_hidden=40 -> RMSE: 0.7423, MASE: 0.5110\n",
            "s=0.6, L=8, N_hidden=20 -> RMSE: 0.6345, MASE: 0.5034\n"
          ]
        },
        {
          "output_type": "stream",
          "name": "stderr",
          "text": [
            "/tmp/ipython-input-14-3062527659.py:126: DeprecationWarning: Conversion of an array with ndim > 0 to a scalar is deprecated, and will error in future. Ensure you extract a single element from your array before performing this operation. (Deprecated NumPy 1.25.)\n",
            "  pred = float(D @ self.rls[l].w)\n",
            "/tmp/ipython-input-14-3062527659.py:126: DeprecationWarning: Conversion of an array with ndim > 0 to a scalar is deprecated, and will error in future. Ensure you extract a single element from your array before performing this operation. (Deprecated NumPy 1.25.)\n",
            "  pred = float(D @ self.rls[l].w)\n",
            "/tmp/ipython-input-14-3062527659.py:126: DeprecationWarning: Conversion of an array with ndim > 0 to a scalar is deprecated, and will error in future. Ensure you extract a single element from your array before performing this operation. (Deprecated NumPy 1.25.)\n",
            "  pred = float(D @ self.rls[l].w)\n",
            "/tmp/ipython-input-14-3062527659.py:126: DeprecationWarning: Conversion of an array with ndim > 0 to a scalar is deprecated, and will error in future. Ensure you extract a single element from your array before performing this operation. (Deprecated NumPy 1.25.)\n",
            "  pred = float(D @ self.rls[l].w)\n",
            "/tmp/ipython-input-14-3062527659.py:126: DeprecationWarning: Conversion of an array with ndim > 0 to a scalar is deprecated, and will error in future. Ensure you extract a single element from your array before performing this operation. (Deprecated NumPy 1.25.)\n",
            "  pred = float(D @ self.rls[l].w)\n"
          ]
        },
        {
          "output_type": "stream",
          "name": "stdout",
          "text": [
            "s=0.6, L=8, N_hidden=30 -> RMSE: 0.6100, MASE: 0.4419\n"
          ]
        },
        {
          "output_type": "stream",
          "name": "stderr",
          "text": [
            "/tmp/ipython-input-14-3062527659.py:126: DeprecationWarning: Conversion of an array with ndim > 0 to a scalar is deprecated, and will error in future. Ensure you extract a single element from your array before performing this operation. (Deprecated NumPy 1.25.)\n",
            "  pred = float(D @ self.rls[l].w)\n",
            "/tmp/ipython-input-14-3062527659.py:126: DeprecationWarning: Conversion of an array with ndim > 0 to a scalar is deprecated, and will error in future. Ensure you extract a single element from your array before performing this operation. (Deprecated NumPy 1.25.)\n",
            "  pred = float(D @ self.rls[l].w)\n",
            "/tmp/ipython-input-14-3062527659.py:126: DeprecationWarning: Conversion of an array with ndim > 0 to a scalar is deprecated, and will error in future. Ensure you extract a single element from your array before performing this operation. (Deprecated NumPy 1.25.)\n",
            "  pred = float(D @ self.rls[l].w)\n",
            "/tmp/ipython-input-14-3062527659.py:126: DeprecationWarning: Conversion of an array with ndim > 0 to a scalar is deprecated, and will error in future. Ensure you extract a single element from your array before performing this operation. (Deprecated NumPy 1.25.)\n",
            "  pred = float(D @ self.rls[l].w)\n",
            "/tmp/ipython-input-14-3062527659.py:126: DeprecationWarning: Conversion of an array with ndim > 0 to a scalar is deprecated, and will error in future. Ensure you extract a single element from your array before performing this operation. (Deprecated NumPy 1.25.)\n",
            "  pred = float(D @ self.rls[l].w)\n"
          ]
        },
        {
          "output_type": "stream",
          "name": "stdout",
          "text": [
            "s=0.6, L=8, N_hidden=40 -> RMSE: 0.6493, MASE: 0.4494\n"
          ]
        },
        {
          "output_type": "stream",
          "name": "stderr",
          "text": [
            "/tmp/ipython-input-14-3062527659.py:126: DeprecationWarning: Conversion of an array with ndim > 0 to a scalar is deprecated, and will error in future. Ensure you extract a single element from your array before performing this operation. (Deprecated NumPy 1.25.)\n",
            "  pred = float(D @ self.rls[l].w)\n",
            "/tmp/ipython-input-14-3062527659.py:126: DeprecationWarning: Conversion of an array with ndim > 0 to a scalar is deprecated, and will error in future. Ensure you extract a single element from your array before performing this operation. (Deprecated NumPy 1.25.)\n",
            "  pred = float(D @ self.rls[l].w)\n"
          ]
        },
        {
          "output_type": "stream",
          "name": "stdout",
          "text": [
            "s=0.6, L=9, N_hidden=20 -> RMSE: 0.5859, MASE: 0.4384\n"
          ]
        },
        {
          "output_type": "stream",
          "name": "stderr",
          "text": [
            "/tmp/ipython-input-14-3062527659.py:126: DeprecationWarning: Conversion of an array with ndim > 0 to a scalar is deprecated, and will error in future. Ensure you extract a single element from your array before performing this operation. (Deprecated NumPy 1.25.)\n",
            "  pred = float(D @ self.rls[l].w)\n",
            "/tmp/ipython-input-14-3062527659.py:126: DeprecationWarning: Conversion of an array with ndim > 0 to a scalar is deprecated, and will error in future. Ensure you extract a single element from your array before performing this operation. (Deprecated NumPy 1.25.)\n",
            "  pred = float(D @ self.rls[l].w)\n",
            "/tmp/ipython-input-14-3062527659.py:126: DeprecationWarning: Conversion of an array with ndim > 0 to a scalar is deprecated, and will error in future. Ensure you extract a single element from your array before performing this operation. (Deprecated NumPy 1.25.)\n",
            "  pred = float(D @ self.rls[l].w)\n",
            "/tmp/ipython-input-14-3062527659.py:126: DeprecationWarning: Conversion of an array with ndim > 0 to a scalar is deprecated, and will error in future. Ensure you extract a single element from your array before performing this operation. (Deprecated NumPy 1.25.)\n",
            "  pred = float(D @ self.rls[l].w)\n"
          ]
        },
        {
          "output_type": "stream",
          "name": "stdout",
          "text": [
            "s=0.6, L=9, N_hidden=30 -> RMSE: 0.6570, MASE: 0.4843\n"
          ]
        },
        {
          "output_type": "stream",
          "name": "stderr",
          "text": [
            "/tmp/ipython-input-14-3062527659.py:126: DeprecationWarning: Conversion of an array with ndim > 0 to a scalar is deprecated, and will error in future. Ensure you extract a single element from your array before performing this operation. (Deprecated NumPy 1.25.)\n",
            "  pred = float(D @ self.rls[l].w)\n",
            "/tmp/ipython-input-14-3062527659.py:126: DeprecationWarning: Conversion of an array with ndim > 0 to a scalar is deprecated, and will error in future. Ensure you extract a single element from your array before performing this operation. (Deprecated NumPy 1.25.)\n",
            "  pred = float(D @ self.rls[l].w)\n",
            "/tmp/ipython-input-14-3062527659.py:126: DeprecationWarning: Conversion of an array with ndim > 0 to a scalar is deprecated, and will error in future. Ensure you extract a single element from your array before performing this operation. (Deprecated NumPy 1.25.)\n",
            "  pred = float(D @ self.rls[l].w)\n",
            "/tmp/ipython-input-14-3062527659.py:126: DeprecationWarning: Conversion of an array with ndim > 0 to a scalar is deprecated, and will error in future. Ensure you extract a single element from your array before performing this operation. (Deprecated NumPy 1.25.)\n",
            "  pred = float(D @ self.rls[l].w)\n",
            "/tmp/ipython-input-14-3062527659.py:126: DeprecationWarning: Conversion of an array with ndim > 0 to a scalar is deprecated, and will error in future. Ensure you extract a single element from your array before performing this operation. (Deprecated NumPy 1.25.)\n",
            "  pred = float(D @ self.rls[l].w)\n",
            "/tmp/ipython-input-14-3062527659.py:126: DeprecationWarning: Conversion of an array with ndim > 0 to a scalar is deprecated, and will error in future. Ensure you extract a single element from your array before performing this operation. (Deprecated NumPy 1.25.)\n",
            "  pred = float(D @ self.rls[l].w)\n",
            "/tmp/ipython-input-14-3062527659.py:126: DeprecationWarning: Conversion of an array with ndim > 0 to a scalar is deprecated, and will error in future. Ensure you extract a single element from your array before performing this operation. (Deprecated NumPy 1.25.)\n",
            "  pred = float(D @ self.rls[l].w)\n"
          ]
        },
        {
          "output_type": "stream",
          "name": "stdout",
          "text": [
            "s=0.6, L=9, N_hidden=40 -> RMSE: 0.5827, MASE: 0.4323\n",
            "s=0.7, L=2, N_hidden=20 -> RMSE: 0.6994, MASE: 0.6046\n"
          ]
        },
        {
          "output_type": "stream",
          "name": "stderr",
          "text": [
            "/tmp/ipython-input-14-3062527659.py:126: DeprecationWarning: Conversion of an array with ndim > 0 to a scalar is deprecated, and will error in future. Ensure you extract a single element from your array before performing this operation. (Deprecated NumPy 1.25.)\n",
            "  pred = float(D @ self.rls[l].w)\n",
            "/tmp/ipython-input-14-3062527659.py:126: DeprecationWarning: Conversion of an array with ndim > 0 to a scalar is deprecated, and will error in future. Ensure you extract a single element from your array before performing this operation. (Deprecated NumPy 1.25.)\n",
            "  pred = float(D @ self.rls[l].w)\n"
          ]
        },
        {
          "output_type": "stream",
          "name": "stdout",
          "text": [
            "s=0.7, L=2, N_hidden=30 -> RMSE: 0.7244, MASE: 0.6199\n",
            "s=0.7, L=2, N_hidden=40 -> RMSE: 0.7355, MASE: 0.6223\n"
          ]
        },
        {
          "output_type": "stream",
          "name": "stderr",
          "text": [
            "/tmp/ipython-input-14-3062527659.py:126: DeprecationWarning: Conversion of an array with ndim > 0 to a scalar is deprecated, and will error in future. Ensure you extract a single element from your array before performing this operation. (Deprecated NumPy 1.25.)\n",
            "  pred = float(D @ self.rls[l].w)\n",
            "/tmp/ipython-input-14-3062527659.py:126: DeprecationWarning: Conversion of an array with ndim > 0 to a scalar is deprecated, and will error in future. Ensure you extract a single element from your array before performing this operation. (Deprecated NumPy 1.25.)\n",
            "  pred = float(D @ self.rls[l].w)\n",
            "/tmp/ipython-input-14-3062527659.py:126: DeprecationWarning: Conversion of an array with ndim > 0 to a scalar is deprecated, and will error in future. Ensure you extract a single element from your array before performing this operation. (Deprecated NumPy 1.25.)\n",
            "  pred = float(D @ self.rls[l].w)\n"
          ]
        },
        {
          "output_type": "stream",
          "name": "stdout",
          "text": [
            "s=0.7, L=3, N_hidden=20 -> RMSE: 0.6780, MASE: 0.5644\n",
            "s=0.7, L=3, N_hidden=30 -> RMSE: 0.6893, MASE: 0.5573\n"
          ]
        },
        {
          "output_type": "stream",
          "name": "stderr",
          "text": [
            "/tmp/ipython-input-14-3062527659.py:126: DeprecationWarning: Conversion of an array with ndim > 0 to a scalar is deprecated, and will error in future. Ensure you extract a single element from your array before performing this operation. (Deprecated NumPy 1.25.)\n",
            "  pred = float(D @ self.rls[l].w)\n",
            "/tmp/ipython-input-14-3062527659.py:126: DeprecationWarning: Conversion of an array with ndim > 0 to a scalar is deprecated, and will error in future. Ensure you extract a single element from your array before performing this operation. (Deprecated NumPy 1.25.)\n",
            "  pred = float(D @ self.rls[l].w)\n"
          ]
        },
        {
          "output_type": "stream",
          "name": "stdout",
          "text": [
            "s=0.7, L=3, N_hidden=40 -> RMSE: 0.7061, MASE: 0.5756\n"
          ]
        },
        {
          "output_type": "stream",
          "name": "stderr",
          "text": [
            "/tmp/ipython-input-14-3062527659.py:126: DeprecationWarning: Conversion of an array with ndim > 0 to a scalar is deprecated, and will error in future. Ensure you extract a single element from your array before performing this operation. (Deprecated NumPy 1.25.)\n",
            "  pred = float(D @ self.rls[l].w)\n"
          ]
        },
        {
          "output_type": "stream",
          "name": "stdout",
          "text": [
            "s=0.7, L=4, N_hidden=20 -> RMSE: 0.7111, MASE: 0.5762\n"
          ]
        },
        {
          "output_type": "stream",
          "name": "stderr",
          "text": [
            "/tmp/ipython-input-14-3062527659.py:126: DeprecationWarning: Conversion of an array with ndim > 0 to a scalar is deprecated, and will error in future. Ensure you extract a single element from your array before performing this operation. (Deprecated NumPy 1.25.)\n",
            "  pred = float(D @ self.rls[l].w)\n"
          ]
        },
        {
          "output_type": "stream",
          "name": "stdout",
          "text": [
            "s=0.7, L=4, N_hidden=30 -> RMSE: 0.7101, MASE: 0.5567\n"
          ]
        },
        {
          "output_type": "stream",
          "name": "stderr",
          "text": [
            "/tmp/ipython-input-14-3062527659.py:126: DeprecationWarning: Conversion of an array with ndim > 0 to a scalar is deprecated, and will error in future. Ensure you extract a single element from your array before performing this operation. (Deprecated NumPy 1.25.)\n",
            "  pred = float(D @ self.rls[l].w)\n",
            "/tmp/ipython-input-14-3062527659.py:126: DeprecationWarning: Conversion of an array with ndim > 0 to a scalar is deprecated, and will error in future. Ensure you extract a single element from your array before performing this operation. (Deprecated NumPy 1.25.)\n",
            "  pred = float(D @ self.rls[l].w)\n"
          ]
        },
        {
          "output_type": "stream",
          "name": "stdout",
          "text": [
            "s=0.7, L=4, N_hidden=40 -> RMSE: 0.7543, MASE: 0.5707\n"
          ]
        },
        {
          "output_type": "stream",
          "name": "stderr",
          "text": [
            "/tmp/ipython-input-14-3062527659.py:126: DeprecationWarning: Conversion of an array with ndim > 0 to a scalar is deprecated, and will error in future. Ensure you extract a single element from your array before performing this operation. (Deprecated NumPy 1.25.)\n",
            "  pred = float(D @ self.rls[l].w)\n"
          ]
        },
        {
          "output_type": "stream",
          "name": "stdout",
          "text": [
            "s=0.7, L=5, N_hidden=20 -> RMSE: 0.6616, MASE: 0.5433\n"
          ]
        },
        {
          "output_type": "stream",
          "name": "stderr",
          "text": [
            "/tmp/ipython-input-14-3062527659.py:126: DeprecationWarning: Conversion of an array with ndim > 0 to a scalar is deprecated, and will error in future. Ensure you extract a single element from your array before performing this operation. (Deprecated NumPy 1.25.)\n",
            "  pred = float(D @ self.rls[l].w)\n",
            "/tmp/ipython-input-14-3062527659.py:126: DeprecationWarning: Conversion of an array with ndim > 0 to a scalar is deprecated, and will error in future. Ensure you extract a single element from your array before performing this operation. (Deprecated NumPy 1.25.)\n",
            "  pred = float(D @ self.rls[l].w)\n"
          ]
        },
        {
          "output_type": "stream",
          "name": "stdout",
          "text": [
            "s=0.7, L=5, N_hidden=30 -> RMSE: 0.6399, MASE: 0.4993\n"
          ]
        },
        {
          "output_type": "stream",
          "name": "stderr",
          "text": [
            "/tmp/ipython-input-14-3062527659.py:126: DeprecationWarning: Conversion of an array with ndim > 0 to a scalar is deprecated, and will error in future. Ensure you extract a single element from your array before performing this operation. (Deprecated NumPy 1.25.)\n",
            "  pred = float(D @ self.rls[l].w)\n"
          ]
        },
        {
          "output_type": "stream",
          "name": "stdout",
          "text": [
            "s=0.7, L=5, N_hidden=40 -> RMSE: 0.7084, MASE: 0.5157\n"
          ]
        },
        {
          "output_type": "stream",
          "name": "stderr",
          "text": [
            "/tmp/ipython-input-14-3062527659.py:126: DeprecationWarning: Conversion of an array with ndim > 0 to a scalar is deprecated, and will error in future. Ensure you extract a single element from your array before performing this operation. (Deprecated NumPy 1.25.)\n",
            "  pred = float(D @ self.rls[l].w)\n",
            "/tmp/ipython-input-14-3062527659.py:126: DeprecationWarning: Conversion of an array with ndim > 0 to a scalar is deprecated, and will error in future. Ensure you extract a single element from your array before performing this operation. (Deprecated NumPy 1.25.)\n",
            "  pred = float(D @ self.rls[l].w)\n",
            "/tmp/ipython-input-14-3062527659.py:126: DeprecationWarning: Conversion of an array with ndim > 0 to a scalar is deprecated, and will error in future. Ensure you extract a single element from your array before performing this operation. (Deprecated NumPy 1.25.)\n",
            "  pred = float(D @ self.rls[l].w)\n"
          ]
        },
        {
          "output_type": "stream",
          "name": "stdout",
          "text": [
            "s=0.7, L=6, N_hidden=20 -> RMSE: 0.6878, MASE: 0.5368\n"
          ]
        },
        {
          "output_type": "stream",
          "name": "stderr",
          "text": [
            "/tmp/ipython-input-14-3062527659.py:126: DeprecationWarning: Conversion of an array with ndim > 0 to a scalar is deprecated, and will error in future. Ensure you extract a single element from your array before performing this operation. (Deprecated NumPy 1.25.)\n",
            "  pred = float(D @ self.rls[l].w)\n",
            "/tmp/ipython-input-14-3062527659.py:126: DeprecationWarning: Conversion of an array with ndim > 0 to a scalar is deprecated, and will error in future. Ensure you extract a single element from your array before performing this operation. (Deprecated NumPy 1.25.)\n",
            "  pred = float(D @ self.rls[l].w)\n"
          ]
        },
        {
          "output_type": "stream",
          "name": "stdout",
          "text": [
            "s=0.7, L=6, N_hidden=30 -> RMSE: 0.7037, MASE: 0.5317\n"
          ]
        },
        {
          "output_type": "stream",
          "name": "stderr",
          "text": [
            "/tmp/ipython-input-14-3062527659.py:126: DeprecationWarning: Conversion of an array with ndim > 0 to a scalar is deprecated, and will error in future. Ensure you extract a single element from your array before performing this operation. (Deprecated NumPy 1.25.)\n",
            "  pred = float(D @ self.rls[l].w)\n",
            "/tmp/ipython-input-14-3062527659.py:126: DeprecationWarning: Conversion of an array with ndim > 0 to a scalar is deprecated, and will error in future. Ensure you extract a single element from your array before performing this operation. (Deprecated NumPy 1.25.)\n",
            "  pred = float(D @ self.rls[l].w)\n",
            "/tmp/ipython-input-14-3062527659.py:126: DeprecationWarning: Conversion of an array with ndim > 0 to a scalar is deprecated, and will error in future. Ensure you extract a single element from your array before performing this operation. (Deprecated NumPy 1.25.)\n",
            "  pred = float(D @ self.rls[l].w)\n"
          ]
        },
        {
          "output_type": "stream",
          "name": "stdout",
          "text": [
            "s=0.7, L=6, N_hidden=40 -> RMSE: 0.7109, MASE: 0.5231\n"
          ]
        },
        {
          "output_type": "stream",
          "name": "stderr",
          "text": [
            "/tmp/ipython-input-14-3062527659.py:126: DeprecationWarning: Conversion of an array with ndim > 0 to a scalar is deprecated, and will error in future. Ensure you extract a single element from your array before performing this operation. (Deprecated NumPy 1.25.)\n",
            "  pred = float(D @ self.rls[l].w)\n"
          ]
        },
        {
          "output_type": "stream",
          "name": "stdout",
          "text": [
            "s=0.7, L=7, N_hidden=20 -> RMSE: 0.6750, MASE: 0.5277\n"
          ]
        },
        {
          "output_type": "stream",
          "name": "stderr",
          "text": [
            "/tmp/ipython-input-14-3062527659.py:126: DeprecationWarning: Conversion of an array with ndim > 0 to a scalar is deprecated, and will error in future. Ensure you extract a single element from your array before performing this operation. (Deprecated NumPy 1.25.)\n",
            "  pred = float(D @ self.rls[l].w)\n",
            "/tmp/ipython-input-14-3062527659.py:126: DeprecationWarning: Conversion of an array with ndim > 0 to a scalar is deprecated, and will error in future. Ensure you extract a single element from your array before performing this operation. (Deprecated NumPy 1.25.)\n",
            "  pred = float(D @ self.rls[l].w)\n",
            "/tmp/ipython-input-14-3062527659.py:126: DeprecationWarning: Conversion of an array with ndim > 0 to a scalar is deprecated, and will error in future. Ensure you extract a single element from your array before performing this operation. (Deprecated NumPy 1.25.)\n",
            "  pred = float(D @ self.rls[l].w)\n"
          ]
        },
        {
          "output_type": "stream",
          "name": "stdout",
          "text": [
            "s=0.7, L=7, N_hidden=30 -> RMSE: 0.7555, MASE: 0.5705\n"
          ]
        },
        {
          "output_type": "stream",
          "name": "stderr",
          "text": [
            "/tmp/ipython-input-14-3062527659.py:126: DeprecationWarning: Conversion of an array with ndim > 0 to a scalar is deprecated, and will error in future. Ensure you extract a single element from your array before performing this operation. (Deprecated NumPy 1.25.)\n",
            "  pred = float(D @ self.rls[l].w)\n",
            "/tmp/ipython-input-14-3062527659.py:126: DeprecationWarning: Conversion of an array with ndim > 0 to a scalar is deprecated, and will error in future. Ensure you extract a single element from your array before performing this operation. (Deprecated NumPy 1.25.)\n",
            "  pred = float(D @ self.rls[l].w)\n",
            "/tmp/ipython-input-14-3062527659.py:126: DeprecationWarning: Conversion of an array with ndim > 0 to a scalar is deprecated, and will error in future. Ensure you extract a single element from your array before performing this operation. (Deprecated NumPy 1.25.)\n",
            "  pred = float(D @ self.rls[l].w)\n"
          ]
        },
        {
          "output_type": "stream",
          "name": "stdout",
          "text": [
            "s=0.7, L=7, N_hidden=40 -> RMSE: 0.6753, MASE: 0.4841\n"
          ]
        },
        {
          "output_type": "stream",
          "name": "stderr",
          "text": [
            "/tmp/ipython-input-14-3062527659.py:126: DeprecationWarning: Conversion of an array with ndim > 0 to a scalar is deprecated, and will error in future. Ensure you extract a single element from your array before performing this operation. (Deprecated NumPy 1.25.)\n",
            "  pred = float(D @ self.rls[l].w)\n",
            "/tmp/ipython-input-14-3062527659.py:126: DeprecationWarning: Conversion of an array with ndim > 0 to a scalar is deprecated, and will error in future. Ensure you extract a single element from your array before performing this operation. (Deprecated NumPy 1.25.)\n",
            "  pred = float(D @ self.rls[l].w)\n",
            "/tmp/ipython-input-14-3062527659.py:126: DeprecationWarning: Conversion of an array with ndim > 0 to a scalar is deprecated, and will error in future. Ensure you extract a single element from your array before performing this operation. (Deprecated NumPy 1.25.)\n",
            "  pred = float(D @ self.rls[l].w)\n",
            "/tmp/ipython-input-14-3062527659.py:126: DeprecationWarning: Conversion of an array with ndim > 0 to a scalar is deprecated, and will error in future. Ensure you extract a single element from your array before performing this operation. (Deprecated NumPy 1.25.)\n",
            "  pred = float(D @ self.rls[l].w)\n"
          ]
        },
        {
          "output_type": "stream",
          "name": "stdout",
          "text": [
            "s=0.7, L=8, N_hidden=20 -> RMSE: 0.6101, MASE: 0.4505\n"
          ]
        },
        {
          "output_type": "stream",
          "name": "stderr",
          "text": [
            "/tmp/ipython-input-14-3062527659.py:126: DeprecationWarning: Conversion of an array with ndim > 0 to a scalar is deprecated, and will error in future. Ensure you extract a single element from your array before performing this operation. (Deprecated NumPy 1.25.)\n",
            "  pred = float(D @ self.rls[l].w)\n"
          ]
        },
        {
          "output_type": "stream",
          "name": "stdout",
          "text": [
            "s=0.7, L=8, N_hidden=30 -> RMSE: 0.6477, MASE: 0.4626\n"
          ]
        },
        {
          "output_type": "stream",
          "name": "stderr",
          "text": [
            "/tmp/ipython-input-14-3062527659.py:126: DeprecationWarning: Conversion of an array with ndim > 0 to a scalar is deprecated, and will error in future. Ensure you extract a single element from your array before performing this operation. (Deprecated NumPy 1.25.)\n",
            "  pred = float(D @ self.rls[l].w)\n",
            "/tmp/ipython-input-14-3062527659.py:126: DeprecationWarning: Conversion of an array with ndim > 0 to a scalar is deprecated, and will error in future. Ensure you extract a single element from your array before performing this operation. (Deprecated NumPy 1.25.)\n",
            "  pred = float(D @ self.rls[l].w)\n",
            "/tmp/ipython-input-14-3062527659.py:126: DeprecationWarning: Conversion of an array with ndim > 0 to a scalar is deprecated, and will error in future. Ensure you extract a single element from your array before performing this operation. (Deprecated NumPy 1.25.)\n",
            "  pred = float(D @ self.rls[l].w)\n",
            "/tmp/ipython-input-14-3062527659.py:126: DeprecationWarning: Conversion of an array with ndim > 0 to a scalar is deprecated, and will error in future. Ensure you extract a single element from your array before performing this operation. (Deprecated NumPy 1.25.)\n",
            "  pred = float(D @ self.rls[l].w)\n",
            "/tmp/ipython-input-14-3062527659.py:126: DeprecationWarning: Conversion of an array with ndim > 0 to a scalar is deprecated, and will error in future. Ensure you extract a single element from your array before performing this operation. (Deprecated NumPy 1.25.)\n",
            "  pred = float(D @ self.rls[l].w)\n",
            "/tmp/ipython-input-14-3062527659.py:126: DeprecationWarning: Conversion of an array with ndim > 0 to a scalar is deprecated, and will error in future. Ensure you extract a single element from your array before performing this operation. (Deprecated NumPy 1.25.)\n",
            "  pred = float(D @ self.rls[l].w)\n",
            "/tmp/ipython-input-14-3062527659.py:126: DeprecationWarning: Conversion of an array with ndim > 0 to a scalar is deprecated, and will error in future. Ensure you extract a single element from your array before performing this operation. (Deprecated NumPy 1.25.)\n",
            "  pred = float(D @ self.rls[l].w)\n"
          ]
        },
        {
          "output_type": "stream",
          "name": "stdout",
          "text": [
            "s=0.7, L=8, N_hidden=40 -> RMSE: 0.6232, MASE: 0.4558\n"
          ]
        },
        {
          "output_type": "stream",
          "name": "stderr",
          "text": [
            "/tmp/ipython-input-14-3062527659.py:126: DeprecationWarning: Conversion of an array with ndim > 0 to a scalar is deprecated, and will error in future. Ensure you extract a single element from your array before performing this operation. (Deprecated NumPy 1.25.)\n",
            "  pred = float(D @ self.rls[l].w)\n",
            "/tmp/ipython-input-14-3062527659.py:126: DeprecationWarning: Conversion of an array with ndim > 0 to a scalar is deprecated, and will error in future. Ensure you extract a single element from your array before performing this operation. (Deprecated NumPy 1.25.)\n",
            "  pred = float(D @ self.rls[l].w)\n"
          ]
        },
        {
          "output_type": "stream",
          "name": "stdout",
          "text": [
            "s=0.7, L=9, N_hidden=20 -> RMSE: 0.6409, MASE: 0.4891\n"
          ]
        },
        {
          "output_type": "stream",
          "name": "stderr",
          "text": [
            "/tmp/ipython-input-14-3062527659.py:126: DeprecationWarning: Conversion of an array with ndim > 0 to a scalar is deprecated, and will error in future. Ensure you extract a single element from your array before performing this operation. (Deprecated NumPy 1.25.)\n",
            "  pred = float(D @ self.rls[l].w)\n",
            "/tmp/ipython-input-14-3062527659.py:126: DeprecationWarning: Conversion of an array with ndim > 0 to a scalar is deprecated, and will error in future. Ensure you extract a single element from your array before performing this operation. (Deprecated NumPy 1.25.)\n",
            "  pred = float(D @ self.rls[l].w)\n",
            "/tmp/ipython-input-14-3062527659.py:126: DeprecationWarning: Conversion of an array with ndim > 0 to a scalar is deprecated, and will error in future. Ensure you extract a single element from your array before performing this operation. (Deprecated NumPy 1.25.)\n",
            "  pred = float(D @ self.rls[l].w)\n",
            "/tmp/ipython-input-14-3062527659.py:126: DeprecationWarning: Conversion of an array with ndim > 0 to a scalar is deprecated, and will error in future. Ensure you extract a single element from your array before performing this operation. (Deprecated NumPy 1.25.)\n",
            "  pred = float(D @ self.rls[l].w)\n"
          ]
        },
        {
          "output_type": "stream",
          "name": "stdout",
          "text": [
            "s=0.7, L=9, N_hidden=30 -> RMSE: 0.6476, MASE: 0.4613\n"
          ]
        },
        {
          "output_type": "stream",
          "name": "stderr",
          "text": [
            "/tmp/ipython-input-14-3062527659.py:126: DeprecationWarning: Conversion of an array with ndim > 0 to a scalar is deprecated, and will error in future. Ensure you extract a single element from your array before performing this operation. (Deprecated NumPy 1.25.)\n",
            "  pred = float(D @ self.rls[l].w)\n",
            "/tmp/ipython-input-14-3062527659.py:126: DeprecationWarning: Conversion of an array with ndim > 0 to a scalar is deprecated, and will error in future. Ensure you extract a single element from your array before performing this operation. (Deprecated NumPy 1.25.)\n",
            "  pred = float(D @ self.rls[l].w)\n",
            "/tmp/ipython-input-14-3062527659.py:126: DeprecationWarning: Conversion of an array with ndim > 0 to a scalar is deprecated, and will error in future. Ensure you extract a single element from your array before performing this operation. (Deprecated NumPy 1.25.)\n",
            "  pred = float(D @ self.rls[l].w)\n",
            "/tmp/ipython-input-14-3062527659.py:126: DeprecationWarning: Conversion of an array with ndim > 0 to a scalar is deprecated, and will error in future. Ensure you extract a single element from your array before performing this operation. (Deprecated NumPy 1.25.)\n",
            "  pred = float(D @ self.rls[l].w)\n",
            "/tmp/ipython-input-14-3062527659.py:126: DeprecationWarning: Conversion of an array with ndim > 0 to a scalar is deprecated, and will error in future. Ensure you extract a single element from your array before performing this operation. (Deprecated NumPy 1.25.)\n",
            "  pred = float(D @ self.rls[l].w)\n",
            "/tmp/ipython-input-14-3062527659.py:126: DeprecationWarning: Conversion of an array with ndim > 0 to a scalar is deprecated, and will error in future. Ensure you extract a single element from your array before performing this operation. (Deprecated NumPy 1.25.)\n",
            "  pred = float(D @ self.rls[l].w)\n",
            "/tmp/ipython-input-14-3062527659.py:126: DeprecationWarning: Conversion of an array with ndim > 0 to a scalar is deprecated, and will error in future. Ensure you extract a single element from your array before performing this operation. (Deprecated NumPy 1.25.)\n",
            "  pred = float(D @ self.rls[l].w)\n"
          ]
        },
        {
          "output_type": "stream",
          "name": "stdout",
          "text": [
            "s=0.7, L=9, N_hidden=40 -> RMSE: 0.5700, MASE: 0.3964\n",
            "s=0.8, L=2, N_hidden=20 -> RMSE: 0.6916, MASE: 0.6128\n"
          ]
        },
        {
          "output_type": "stream",
          "name": "stderr",
          "text": [
            "/tmp/ipython-input-14-3062527659.py:126: DeprecationWarning: Conversion of an array with ndim > 0 to a scalar is deprecated, and will error in future. Ensure you extract a single element from your array before performing this operation. (Deprecated NumPy 1.25.)\n",
            "  pred = float(D @ self.rls[l].w)\n",
            "/tmp/ipython-input-14-3062527659.py:126: DeprecationWarning: Conversion of an array with ndim > 0 to a scalar is deprecated, and will error in future. Ensure you extract a single element from your array before performing this operation. (Deprecated NumPy 1.25.)\n",
            "  pred = float(D @ self.rls[l].w)\n",
            "/tmp/ipython-input-14-3062527659.py:126: DeprecationWarning: Conversion of an array with ndim > 0 to a scalar is deprecated, and will error in future. Ensure you extract a single element from your array before performing this operation. (Deprecated NumPy 1.25.)\n",
            "  pred = float(D @ self.rls[l].w)\n"
          ]
        },
        {
          "output_type": "stream",
          "name": "stdout",
          "text": [
            "s=0.8, L=2, N_hidden=30 -> RMSE: 0.7409, MASE: 0.6145\n",
            "s=0.8, L=2, N_hidden=40 -> RMSE: 0.7666, MASE: 0.6713\n"
          ]
        },
        {
          "output_type": "stream",
          "name": "stderr",
          "text": [
            "/tmp/ipython-input-14-3062527659.py:126: DeprecationWarning: Conversion of an array with ndim > 0 to a scalar is deprecated, and will error in future. Ensure you extract a single element from your array before performing this operation. (Deprecated NumPy 1.25.)\n",
            "  pred = float(D @ self.rls[l].w)\n",
            "/tmp/ipython-input-14-3062527659.py:126: DeprecationWarning: Conversion of an array with ndim > 0 to a scalar is deprecated, and will error in future. Ensure you extract a single element from your array before performing this operation. (Deprecated NumPy 1.25.)\n",
            "  pred = float(D @ self.rls[l].w)\n"
          ]
        },
        {
          "output_type": "stream",
          "name": "stdout",
          "text": [
            "s=0.8, L=3, N_hidden=20 -> RMSE: 0.7329, MASE: 0.6324\n"
          ]
        },
        {
          "output_type": "stream",
          "name": "stderr",
          "text": [
            "/tmp/ipython-input-14-3062527659.py:126: DeprecationWarning: Conversion of an array with ndim > 0 to a scalar is deprecated, and will error in future. Ensure you extract a single element from your array before performing this operation. (Deprecated NumPy 1.25.)\n",
            "  pred = float(D @ self.rls[l].w)\n",
            "/tmp/ipython-input-14-3062527659.py:126: DeprecationWarning: Conversion of an array with ndim > 0 to a scalar is deprecated, and will error in future. Ensure you extract a single element from your array before performing this operation. (Deprecated NumPy 1.25.)\n",
            "  pred = float(D @ self.rls[l].w)\n"
          ]
        },
        {
          "output_type": "stream",
          "name": "stdout",
          "text": [
            "s=0.8, L=3, N_hidden=30 -> RMSE: 0.7213, MASE: 0.5876\n"
          ]
        },
        {
          "output_type": "stream",
          "name": "stderr",
          "text": [
            "/tmp/ipython-input-14-3062527659.py:126: DeprecationWarning: Conversion of an array with ndim > 0 to a scalar is deprecated, and will error in future. Ensure you extract a single element from your array before performing this operation. (Deprecated NumPy 1.25.)\n",
            "  pred = float(D @ self.rls[l].w)\n"
          ]
        },
        {
          "output_type": "stream",
          "name": "stdout",
          "text": [
            "s=0.8, L=3, N_hidden=40 -> RMSE: 0.7913, MASE: 0.6366\n"
          ]
        },
        {
          "output_type": "stream",
          "name": "stderr",
          "text": [
            "/tmp/ipython-input-14-3062527659.py:126: DeprecationWarning: Conversion of an array with ndim > 0 to a scalar is deprecated, and will error in future. Ensure you extract a single element from your array before performing this operation. (Deprecated NumPy 1.25.)\n",
            "  pred = float(D @ self.rls[l].w)\n"
          ]
        },
        {
          "output_type": "stream",
          "name": "stdout",
          "text": [
            "s=0.8, L=4, N_hidden=20 -> RMSE: 0.6939, MASE: 0.5976\n"
          ]
        },
        {
          "output_type": "stream",
          "name": "stderr",
          "text": [
            "/tmp/ipython-input-14-3062527659.py:126: DeprecationWarning: Conversion of an array with ndim > 0 to a scalar is deprecated, and will error in future. Ensure you extract a single element from your array before performing this operation. (Deprecated NumPy 1.25.)\n",
            "  pred = float(D @ self.rls[l].w)\n",
            "/tmp/ipython-input-14-3062527659.py:126: DeprecationWarning: Conversion of an array with ndim > 0 to a scalar is deprecated, and will error in future. Ensure you extract a single element from your array before performing this operation. (Deprecated NumPy 1.25.)\n",
            "  pred = float(D @ self.rls[l].w)\n",
            "/tmp/ipython-input-14-3062527659.py:126: DeprecationWarning: Conversion of an array with ndim > 0 to a scalar is deprecated, and will error in future. Ensure you extract a single element from your array before performing this operation. (Deprecated NumPy 1.25.)\n",
            "  pred = float(D @ self.rls[l].w)\n"
          ]
        },
        {
          "output_type": "stream",
          "name": "stdout",
          "text": [
            "s=0.8, L=4, N_hidden=30 -> RMSE: 0.6454, MASE: 0.5067\n",
            "s=0.8, L=4, N_hidden=40 -> RMSE: 0.6513, MASE: 0.4986\n"
          ]
        },
        {
          "output_type": "stream",
          "name": "stderr",
          "text": [
            "/tmp/ipython-input-14-3062527659.py:126: DeprecationWarning: Conversion of an array with ndim > 0 to a scalar is deprecated, and will error in future. Ensure you extract a single element from your array before performing this operation. (Deprecated NumPy 1.25.)\n",
            "  pred = float(D @ self.rls[l].w)\n"
          ]
        },
        {
          "output_type": "stream",
          "name": "stdout",
          "text": [
            "s=0.8, L=5, N_hidden=20 -> RMSE: 0.6639, MASE: 0.5301\n"
          ]
        },
        {
          "output_type": "stream",
          "name": "stderr",
          "text": [
            "/tmp/ipython-input-14-3062527659.py:126: DeprecationWarning: Conversion of an array with ndim > 0 to a scalar is deprecated, and will error in future. Ensure you extract a single element from your array before performing this operation. (Deprecated NumPy 1.25.)\n",
            "  pred = float(D @ self.rls[l].w)\n"
          ]
        },
        {
          "output_type": "stream",
          "name": "stdout",
          "text": [
            "s=0.8, L=5, N_hidden=30 -> RMSE: 0.6751, MASE: 0.5196\n"
          ]
        },
        {
          "output_type": "stream",
          "name": "stderr",
          "text": [
            "/tmp/ipython-input-14-3062527659.py:126: DeprecationWarning: Conversion of an array with ndim > 0 to a scalar is deprecated, and will error in future. Ensure you extract a single element from your array before performing this operation. (Deprecated NumPy 1.25.)\n",
            "  pred = float(D @ self.rls[l].w)\n",
            "/tmp/ipython-input-14-3062527659.py:126: DeprecationWarning: Conversion of an array with ndim > 0 to a scalar is deprecated, and will error in future. Ensure you extract a single element from your array before performing this operation. (Deprecated NumPy 1.25.)\n",
            "  pred = float(D @ self.rls[l].w)\n",
            "/tmp/ipython-input-14-3062527659.py:126: DeprecationWarning: Conversion of an array with ndim > 0 to a scalar is deprecated, and will error in future. Ensure you extract a single element from your array before performing this operation. (Deprecated NumPy 1.25.)\n",
            "  pred = float(D @ self.rls[l].w)\n"
          ]
        },
        {
          "output_type": "stream",
          "name": "stdout",
          "text": [
            "s=0.8, L=5, N_hidden=40 -> RMSE: 0.6980, MASE: 0.5351\n"
          ]
        },
        {
          "output_type": "stream",
          "name": "stderr",
          "text": [
            "/tmp/ipython-input-14-3062527659.py:126: DeprecationWarning: Conversion of an array with ndim > 0 to a scalar is deprecated, and will error in future. Ensure you extract a single element from your array before performing this operation. (Deprecated NumPy 1.25.)\n",
            "  pred = float(D @ self.rls[l].w)\n",
            "/tmp/ipython-input-14-3062527659.py:126: DeprecationWarning: Conversion of an array with ndim > 0 to a scalar is deprecated, and will error in future. Ensure you extract a single element from your array before performing this operation. (Deprecated NumPy 1.25.)\n",
            "  pred = float(D @ self.rls[l].w)\n",
            "/tmp/ipython-input-14-3062527659.py:126: DeprecationWarning: Conversion of an array with ndim > 0 to a scalar is deprecated, and will error in future. Ensure you extract a single element from your array before performing this operation. (Deprecated NumPy 1.25.)\n",
            "  pred = float(D @ self.rls[l].w)\n"
          ]
        },
        {
          "output_type": "stream",
          "name": "stdout",
          "text": [
            "s=0.8, L=6, N_hidden=20 -> RMSE: 0.7094, MASE: 0.5586\n",
            "s=0.8, L=6, N_hidden=30 -> RMSE: 0.6296, MASE: 0.4913\n"
          ]
        },
        {
          "output_type": "stream",
          "name": "stderr",
          "text": [
            "/tmp/ipython-input-14-3062527659.py:126: DeprecationWarning: Conversion of an array with ndim > 0 to a scalar is deprecated, and will error in future. Ensure you extract a single element from your array before performing this operation. (Deprecated NumPy 1.25.)\n",
            "  pred = float(D @ self.rls[l].w)\n",
            "/tmp/ipython-input-14-3062527659.py:126: DeprecationWarning: Conversion of an array with ndim > 0 to a scalar is deprecated, and will error in future. Ensure you extract a single element from your array before performing this operation. (Deprecated NumPy 1.25.)\n",
            "  pred = float(D @ self.rls[l].w)\n",
            "/tmp/ipython-input-14-3062527659.py:126: DeprecationWarning: Conversion of an array with ndim > 0 to a scalar is deprecated, and will error in future. Ensure you extract a single element from your array before performing this operation. (Deprecated NumPy 1.25.)\n",
            "  pred = float(D @ self.rls[l].w)\n"
          ]
        },
        {
          "output_type": "stream",
          "name": "stdout",
          "text": [
            "s=0.8, L=6, N_hidden=40 -> RMSE: 0.7709, MASE: 0.5679\n"
          ]
        },
        {
          "output_type": "stream",
          "name": "stderr",
          "text": [
            "/tmp/ipython-input-14-3062527659.py:126: DeprecationWarning: Conversion of an array with ndim > 0 to a scalar is deprecated, and will error in future. Ensure you extract a single element from your array before performing this operation. (Deprecated NumPy 1.25.)\n",
            "  pred = float(D @ self.rls[l].w)\n",
            "/tmp/ipython-input-14-3062527659.py:126: DeprecationWarning: Conversion of an array with ndim > 0 to a scalar is deprecated, and will error in future. Ensure you extract a single element from your array before performing this operation. (Deprecated NumPy 1.25.)\n",
            "  pred = float(D @ self.rls[l].w)\n",
            "/tmp/ipython-input-14-3062527659.py:126: DeprecationWarning: Conversion of an array with ndim > 0 to a scalar is deprecated, and will error in future. Ensure you extract a single element from your array before performing this operation. (Deprecated NumPy 1.25.)\n",
            "  pred = float(D @ self.rls[l].w)\n"
          ]
        },
        {
          "output_type": "stream",
          "name": "stdout",
          "text": [
            "s=0.8, L=7, N_hidden=20 -> RMSE: 0.7342, MASE: 0.5717\n",
            "s=0.8, L=7, N_hidden=30 -> RMSE: 0.6457, MASE: 0.4896\n"
          ]
        },
        {
          "output_type": "stream",
          "name": "stderr",
          "text": [
            "/tmp/ipython-input-14-3062527659.py:126: DeprecationWarning: Conversion of an array with ndim > 0 to a scalar is deprecated, and will error in future. Ensure you extract a single element from your array before performing this operation. (Deprecated NumPy 1.25.)\n",
            "  pred = float(D @ self.rls[l].w)\n",
            "/tmp/ipython-input-14-3062527659.py:126: DeprecationWarning: Conversion of an array with ndim > 0 to a scalar is deprecated, and will error in future. Ensure you extract a single element from your array before performing this operation. (Deprecated NumPy 1.25.)\n",
            "  pred = float(D @ self.rls[l].w)\n",
            "/tmp/ipython-input-14-3062527659.py:126: DeprecationWarning: Conversion of an array with ndim > 0 to a scalar is deprecated, and will error in future. Ensure you extract a single element from your array before performing this operation. (Deprecated NumPy 1.25.)\n",
            "  pred = float(D @ self.rls[l].w)\n",
            "/tmp/ipython-input-14-3062527659.py:126: DeprecationWarning: Conversion of an array with ndim > 0 to a scalar is deprecated, and will error in future. Ensure you extract a single element from your array before performing this operation. (Deprecated NumPy 1.25.)\n",
            "  pred = float(D @ self.rls[l].w)\n",
            "/tmp/ipython-input-14-3062527659.py:126: DeprecationWarning: Conversion of an array with ndim > 0 to a scalar is deprecated, and will error in future. Ensure you extract a single element from your array before performing this operation. (Deprecated NumPy 1.25.)\n",
            "  pred = float(D @ self.rls[l].w)\n",
            "/tmp/ipython-input-14-3062527659.py:126: DeprecationWarning: Conversion of an array with ndim > 0 to a scalar is deprecated, and will error in future. Ensure you extract a single element from your array before performing this operation. (Deprecated NumPy 1.25.)\n",
            "  pred = float(D @ self.rls[l].w)\n"
          ]
        },
        {
          "output_type": "stream",
          "name": "stdout",
          "text": [
            "s=0.8, L=7, N_hidden=40 -> RMSE: 0.6476, MASE: 0.4618\n"
          ]
        },
        {
          "output_type": "stream",
          "name": "stderr",
          "text": [
            "/tmp/ipython-input-14-3062527659.py:126: DeprecationWarning: Conversion of an array with ndim > 0 to a scalar is deprecated, and will error in future. Ensure you extract a single element from your array before performing this operation. (Deprecated NumPy 1.25.)\n",
            "  pred = float(D @ self.rls[l].w)\n"
          ]
        },
        {
          "output_type": "stream",
          "name": "stdout",
          "text": [
            "s=0.8, L=8, N_hidden=20 -> RMSE: 0.6398, MASE: 0.4860\n"
          ]
        },
        {
          "output_type": "stream",
          "name": "stderr",
          "text": [
            "/tmp/ipython-input-14-3062527659.py:126: DeprecationWarning: Conversion of an array with ndim > 0 to a scalar is deprecated, and will error in future. Ensure you extract a single element from your array before performing this operation. (Deprecated NumPy 1.25.)\n",
            "  pred = float(D @ self.rls[l].w)\n",
            "/tmp/ipython-input-14-3062527659.py:126: DeprecationWarning: Conversion of an array with ndim > 0 to a scalar is deprecated, and will error in future. Ensure you extract a single element from your array before performing this operation. (Deprecated NumPy 1.25.)\n",
            "  pred = float(D @ self.rls[l].w)\n",
            "/tmp/ipython-input-14-3062527659.py:126: DeprecationWarning: Conversion of an array with ndim > 0 to a scalar is deprecated, and will error in future. Ensure you extract a single element from your array before performing this operation. (Deprecated NumPy 1.25.)\n",
            "  pred = float(D @ self.rls[l].w)\n",
            "/tmp/ipython-input-14-3062527659.py:126: DeprecationWarning: Conversion of an array with ndim > 0 to a scalar is deprecated, and will error in future. Ensure you extract a single element from your array before performing this operation. (Deprecated NumPy 1.25.)\n",
            "  pred = float(D @ self.rls[l].w)\n"
          ]
        },
        {
          "output_type": "stream",
          "name": "stdout",
          "text": [
            "s=0.8, L=8, N_hidden=30 -> RMSE: 0.5722, MASE: 0.4011\n"
          ]
        },
        {
          "output_type": "stream",
          "name": "stderr",
          "text": [
            "/tmp/ipython-input-14-3062527659.py:126: DeprecationWarning: Conversion of an array with ndim > 0 to a scalar is deprecated, and will error in future. Ensure you extract a single element from your array before performing this operation. (Deprecated NumPy 1.25.)\n",
            "  pred = float(D @ self.rls[l].w)\n",
            "/tmp/ipython-input-14-3062527659.py:126: DeprecationWarning: Conversion of an array with ndim > 0 to a scalar is deprecated, and will error in future. Ensure you extract a single element from your array before performing this operation. (Deprecated NumPy 1.25.)\n",
            "  pred = float(D @ self.rls[l].w)\n",
            "/tmp/ipython-input-14-3062527659.py:126: DeprecationWarning: Conversion of an array with ndim > 0 to a scalar is deprecated, and will error in future. Ensure you extract a single element from your array before performing this operation. (Deprecated NumPy 1.25.)\n",
            "  pred = float(D @ self.rls[l].w)\n",
            "/tmp/ipython-input-14-3062527659.py:126: DeprecationWarning: Conversion of an array with ndim > 0 to a scalar is deprecated, and will error in future. Ensure you extract a single element from your array before performing this operation. (Deprecated NumPy 1.25.)\n",
            "  pred = float(D @ self.rls[l].w)\n",
            "/tmp/ipython-input-14-3062527659.py:126: DeprecationWarning: Conversion of an array with ndim > 0 to a scalar is deprecated, and will error in future. Ensure you extract a single element from your array before performing this operation. (Deprecated NumPy 1.25.)\n",
            "  pred = float(D @ self.rls[l].w)\n"
          ]
        },
        {
          "output_type": "stream",
          "name": "stdout",
          "text": [
            "s=0.8, L=8, N_hidden=40 -> RMSE: 0.6485, MASE: 0.4648\n",
            "s=0.8, L=9, N_hidden=20 -> RMSE: 0.7379, MASE: 0.5622\n"
          ]
        },
        {
          "output_type": "stream",
          "name": "stderr",
          "text": [
            "/tmp/ipython-input-14-3062527659.py:126: DeprecationWarning: Conversion of an array with ndim > 0 to a scalar is deprecated, and will error in future. Ensure you extract a single element from your array before performing this operation. (Deprecated NumPy 1.25.)\n",
            "  pred = float(D @ self.rls[l].w)\n",
            "/tmp/ipython-input-14-3062527659.py:126: DeprecationWarning: Conversion of an array with ndim > 0 to a scalar is deprecated, and will error in future. Ensure you extract a single element from your array before performing this operation. (Deprecated NumPy 1.25.)\n",
            "  pred = float(D @ self.rls[l].w)\n",
            "/tmp/ipython-input-14-3062527659.py:126: DeprecationWarning: Conversion of an array with ndim > 0 to a scalar is deprecated, and will error in future. Ensure you extract a single element from your array before performing this operation. (Deprecated NumPy 1.25.)\n",
            "  pred = float(D @ self.rls[l].w)\n",
            "/tmp/ipython-input-14-3062527659.py:126: DeprecationWarning: Conversion of an array with ndim > 0 to a scalar is deprecated, and will error in future. Ensure you extract a single element from your array before performing this operation. (Deprecated NumPy 1.25.)\n",
            "  pred = float(D @ self.rls[l].w)\n",
            "/tmp/ipython-input-14-3062527659.py:126: DeprecationWarning: Conversion of an array with ndim > 0 to a scalar is deprecated, and will error in future. Ensure you extract a single element from your array before performing this operation. (Deprecated NumPy 1.25.)\n",
            "  pred = float(D @ self.rls[l].w)\n",
            "/tmp/ipython-input-14-3062527659.py:126: DeprecationWarning: Conversion of an array with ndim > 0 to a scalar is deprecated, and will error in future. Ensure you extract a single element from your array before performing this operation. (Deprecated NumPy 1.25.)\n",
            "  pred = float(D @ self.rls[l].w)\n"
          ]
        },
        {
          "output_type": "stream",
          "name": "stdout",
          "text": [
            "s=0.8, L=9, N_hidden=30 -> RMSE: 0.7062, MASE: 0.5160\n"
          ]
        },
        {
          "output_type": "stream",
          "name": "stderr",
          "text": [
            "/tmp/ipython-input-14-3062527659.py:126: DeprecationWarning: Conversion of an array with ndim > 0 to a scalar is deprecated, and will error in future. Ensure you extract a single element from your array before performing this operation. (Deprecated NumPy 1.25.)\n",
            "  pred = float(D @ self.rls[l].w)\n",
            "/tmp/ipython-input-14-3062527659.py:126: DeprecationWarning: Conversion of an array with ndim > 0 to a scalar is deprecated, and will error in future. Ensure you extract a single element from your array before performing this operation. (Deprecated NumPy 1.25.)\n",
            "  pred = float(D @ self.rls[l].w)\n",
            "/tmp/ipython-input-14-3062527659.py:126: DeprecationWarning: Conversion of an array with ndim > 0 to a scalar is deprecated, and will error in future. Ensure you extract a single element from your array before performing this operation. (Deprecated NumPy 1.25.)\n",
            "  pred = float(D @ self.rls[l].w)\n",
            "/tmp/ipython-input-14-3062527659.py:126: DeprecationWarning: Conversion of an array with ndim > 0 to a scalar is deprecated, and will error in future. Ensure you extract a single element from your array before performing this operation. (Deprecated NumPy 1.25.)\n",
            "  pred = float(D @ self.rls[l].w)\n",
            "/tmp/ipython-input-14-3062527659.py:126: DeprecationWarning: Conversion of an array with ndim > 0 to a scalar is deprecated, and will error in future. Ensure you extract a single element from your array before performing this operation. (Deprecated NumPy 1.25.)\n",
            "  pred = float(D @ self.rls[l].w)\n",
            "/tmp/ipython-input-14-3062527659.py:126: DeprecationWarning: Conversion of an array with ndim > 0 to a scalar is deprecated, and will error in future. Ensure you extract a single element from your array before performing this operation. (Deprecated NumPy 1.25.)\n",
            "  pred = float(D @ self.rls[l].w)\n"
          ]
        },
        {
          "output_type": "stream",
          "name": "stdout",
          "text": [
            "s=0.8, L=9, N_hidden=40 -> RMSE: 0.6551, MASE: 0.4625\n",
            "s=0.9, L=2, N_hidden=20 -> RMSE: 0.7063, MASE: 0.6125\n",
            "s=0.9, L=2, N_hidden=30 -> RMSE: 0.6989, MASE: 0.5730\n"
          ]
        },
        {
          "output_type": "stream",
          "name": "stderr",
          "text": [
            "/tmp/ipython-input-14-3062527659.py:126: DeprecationWarning: Conversion of an array with ndim > 0 to a scalar is deprecated, and will error in future. Ensure you extract a single element from your array before performing this operation. (Deprecated NumPy 1.25.)\n",
            "  pred = float(D @ self.rls[l].w)\n",
            "/tmp/ipython-input-14-3062527659.py:126: DeprecationWarning: Conversion of an array with ndim > 0 to a scalar is deprecated, and will error in future. Ensure you extract a single element from your array before performing this operation. (Deprecated NumPy 1.25.)\n",
            "  pred = float(D @ self.rls[l].w)\n",
            "/tmp/ipython-input-14-3062527659.py:126: DeprecationWarning: Conversion of an array with ndim > 0 to a scalar is deprecated, and will error in future. Ensure you extract a single element from your array before performing this operation. (Deprecated NumPy 1.25.)\n",
            "  pred = float(D @ self.rls[l].w)\n"
          ]
        },
        {
          "output_type": "stream",
          "name": "stdout",
          "text": [
            "s=0.9, L=2, N_hidden=40 -> RMSE: 0.7861, MASE: 0.6818\n",
            "s=0.9, L=3, N_hidden=20 -> RMSE: 0.6883, MASE: 0.5988\n"
          ]
        },
        {
          "output_type": "stream",
          "name": "stderr",
          "text": [
            "/tmp/ipython-input-14-3062527659.py:126: DeprecationWarning: Conversion of an array with ndim > 0 to a scalar is deprecated, and will error in future. Ensure you extract a single element from your array before performing this operation. (Deprecated NumPy 1.25.)\n",
            "  pred = float(D @ self.rls[l].w)\n",
            "/tmp/ipython-input-14-3062527659.py:126: DeprecationWarning: Conversion of an array with ndim > 0 to a scalar is deprecated, and will error in future. Ensure you extract a single element from your array before performing this operation. (Deprecated NumPy 1.25.)\n",
            "  pred = float(D @ self.rls[l].w)\n",
            "/tmp/ipython-input-14-3062527659.py:126: DeprecationWarning: Conversion of an array with ndim > 0 to a scalar is deprecated, and will error in future. Ensure you extract a single element from your array before performing this operation. (Deprecated NumPy 1.25.)\n",
            "  pred = float(D @ self.rls[l].w)\n"
          ]
        },
        {
          "output_type": "stream",
          "name": "stdout",
          "text": [
            "s=0.9, L=3, N_hidden=30 -> RMSE: 0.7015, MASE: 0.6024\n"
          ]
        },
        {
          "output_type": "stream",
          "name": "stderr",
          "text": [
            "/tmp/ipython-input-14-3062527659.py:126: DeprecationWarning: Conversion of an array with ndim > 0 to a scalar is deprecated, and will error in future. Ensure you extract a single element from your array before performing this operation. (Deprecated NumPy 1.25.)\n",
            "  pred = float(D @ self.rls[l].w)\n",
            "/tmp/ipython-input-14-3062527659.py:126: DeprecationWarning: Conversion of an array with ndim > 0 to a scalar is deprecated, and will error in future. Ensure you extract a single element from your array before performing this operation. (Deprecated NumPy 1.25.)\n",
            "  pred = float(D @ self.rls[l].w)\n"
          ]
        },
        {
          "output_type": "stream",
          "name": "stdout",
          "text": [
            "s=0.9, L=3, N_hidden=40 -> RMSE: 0.7766, MASE: 0.6490\n",
            "s=0.9, L=4, N_hidden=20 -> RMSE: 0.6851, MASE: 0.5792\n"
          ]
        },
        {
          "output_type": "stream",
          "name": "stderr",
          "text": [
            "/tmp/ipython-input-14-3062527659.py:126: DeprecationWarning: Conversion of an array with ndim > 0 to a scalar is deprecated, and will error in future. Ensure you extract a single element from your array before performing this operation. (Deprecated NumPy 1.25.)\n",
            "  pred = float(D @ self.rls[l].w)\n",
            "/tmp/ipython-input-14-3062527659.py:126: DeprecationWarning: Conversion of an array with ndim > 0 to a scalar is deprecated, and will error in future. Ensure you extract a single element from your array before performing this operation. (Deprecated NumPy 1.25.)\n",
            "  pred = float(D @ self.rls[l].w)\n"
          ]
        },
        {
          "output_type": "stream",
          "name": "stdout",
          "text": [
            "s=0.9, L=4, N_hidden=30 -> RMSE: 0.7471, MASE: 0.5853\n"
          ]
        },
        {
          "output_type": "stream",
          "name": "stderr",
          "text": [
            "/tmp/ipython-input-14-3062527659.py:126: DeprecationWarning: Conversion of an array with ndim > 0 to a scalar is deprecated, and will error in future. Ensure you extract a single element from your array before performing this operation. (Deprecated NumPy 1.25.)\n",
            "  pred = float(D @ self.rls[l].w)\n",
            "/tmp/ipython-input-14-3062527659.py:126: DeprecationWarning: Conversion of an array with ndim > 0 to a scalar is deprecated, and will error in future. Ensure you extract a single element from your array before performing this operation. (Deprecated NumPy 1.25.)\n",
            "  pred = float(D @ self.rls[l].w)\n"
          ]
        },
        {
          "output_type": "stream",
          "name": "stdout",
          "text": [
            "s=0.9, L=4, N_hidden=40 -> RMSE: 0.7084, MASE: 0.5452\n"
          ]
        },
        {
          "output_type": "stream",
          "name": "stderr",
          "text": [
            "/tmp/ipython-input-14-3062527659.py:126: DeprecationWarning: Conversion of an array with ndim > 0 to a scalar is deprecated, and will error in future. Ensure you extract a single element from your array before performing this operation. (Deprecated NumPy 1.25.)\n",
            "  pred = float(D @ self.rls[l].w)\n"
          ]
        },
        {
          "output_type": "stream",
          "name": "stdout",
          "text": [
            "s=0.9, L=5, N_hidden=20 -> RMSE: 0.7199, MASE: 0.5816\n"
          ]
        },
        {
          "output_type": "stream",
          "name": "stderr",
          "text": [
            "/tmp/ipython-input-14-3062527659.py:126: DeprecationWarning: Conversion of an array with ndim > 0 to a scalar is deprecated, and will error in future. Ensure you extract a single element from your array before performing this operation. (Deprecated NumPy 1.25.)\n",
            "  pred = float(D @ self.rls[l].w)\n",
            "/tmp/ipython-input-14-3062527659.py:126: DeprecationWarning: Conversion of an array with ndim > 0 to a scalar is deprecated, and will error in future. Ensure you extract a single element from your array before performing this operation. (Deprecated NumPy 1.25.)\n",
            "  pred = float(D @ self.rls[l].w)\n",
            "/tmp/ipython-input-14-3062527659.py:126: DeprecationWarning: Conversion of an array with ndim > 0 to a scalar is deprecated, and will error in future. Ensure you extract a single element from your array before performing this operation. (Deprecated NumPy 1.25.)\n",
            "  pred = float(D @ self.rls[l].w)\n"
          ]
        },
        {
          "output_type": "stream",
          "name": "stdout",
          "text": [
            "s=0.9, L=5, N_hidden=30 -> RMSE: 0.7131, MASE: 0.5232\n"
          ]
        },
        {
          "output_type": "stream",
          "name": "stderr",
          "text": [
            "/tmp/ipython-input-14-3062527659.py:126: DeprecationWarning: Conversion of an array with ndim > 0 to a scalar is deprecated, and will error in future. Ensure you extract a single element from your array before performing this operation. (Deprecated NumPy 1.25.)\n",
            "  pred = float(D @ self.rls[l].w)\n",
            "/tmp/ipython-input-14-3062527659.py:126: DeprecationWarning: Conversion of an array with ndim > 0 to a scalar is deprecated, and will error in future. Ensure you extract a single element from your array before performing this operation. (Deprecated NumPy 1.25.)\n",
            "  pred = float(D @ self.rls[l].w)\n"
          ]
        },
        {
          "output_type": "stream",
          "name": "stdout",
          "text": [
            "s=0.9, L=5, N_hidden=40 -> RMSE: 0.7107, MASE: 0.5190\n"
          ]
        },
        {
          "output_type": "stream",
          "name": "stderr",
          "text": [
            "/tmp/ipython-input-14-3062527659.py:126: DeprecationWarning: Conversion of an array with ndim > 0 to a scalar is deprecated, and will error in future. Ensure you extract a single element from your array before performing this operation. (Deprecated NumPy 1.25.)\n",
            "  pred = float(D @ self.rls[l].w)\n"
          ]
        },
        {
          "output_type": "stream",
          "name": "stdout",
          "text": [
            "s=0.9, L=6, N_hidden=20 -> RMSE: 0.6869, MASE: 0.5353\n"
          ]
        },
        {
          "output_type": "stream",
          "name": "stderr",
          "text": [
            "/tmp/ipython-input-14-3062527659.py:126: DeprecationWarning: Conversion of an array with ndim > 0 to a scalar is deprecated, and will error in future. Ensure you extract a single element from your array before performing this operation. (Deprecated NumPy 1.25.)\n",
            "  pred = float(D @ self.rls[l].w)\n"
          ]
        },
        {
          "output_type": "stream",
          "name": "stdout",
          "text": [
            "s=0.9, L=6, N_hidden=30 -> RMSE: 0.7442, MASE: 0.5799\n"
          ]
        },
        {
          "output_type": "stream",
          "name": "stderr",
          "text": [
            "/tmp/ipython-input-14-3062527659.py:126: DeprecationWarning: Conversion of an array with ndim > 0 to a scalar is deprecated, and will error in future. Ensure you extract a single element from your array before performing this operation. (Deprecated NumPy 1.25.)\n",
            "  pred = float(D @ self.rls[l].w)\n",
            "/tmp/ipython-input-14-3062527659.py:126: DeprecationWarning: Conversion of an array with ndim > 0 to a scalar is deprecated, and will error in future. Ensure you extract a single element from your array before performing this operation. (Deprecated NumPy 1.25.)\n",
            "  pred = float(D @ self.rls[l].w)\n",
            "/tmp/ipython-input-14-3062527659.py:126: DeprecationWarning: Conversion of an array with ndim > 0 to a scalar is deprecated, and will error in future. Ensure you extract a single element from your array before performing this operation. (Deprecated NumPy 1.25.)\n",
            "  pred = float(D @ self.rls[l].w)\n"
          ]
        },
        {
          "output_type": "stream",
          "name": "stdout",
          "text": [
            "s=0.9, L=6, N_hidden=40 -> RMSE: 0.7028, MASE: 0.4848\n"
          ]
        },
        {
          "output_type": "stream",
          "name": "stderr",
          "text": [
            "/tmp/ipython-input-14-3062527659.py:126: DeprecationWarning: Conversion of an array with ndim > 0 to a scalar is deprecated, and will error in future. Ensure you extract a single element from your array before performing this operation. (Deprecated NumPy 1.25.)\n",
            "  pred = float(D @ self.rls[l].w)\n"
          ]
        },
        {
          "output_type": "stream",
          "name": "stdout",
          "text": [
            "s=0.9, L=7, N_hidden=20 -> RMSE: 0.6473, MASE: 0.4851\n"
          ]
        },
        {
          "output_type": "stream",
          "name": "stderr",
          "text": [
            "/tmp/ipython-input-14-3062527659.py:126: DeprecationWarning: Conversion of an array with ndim > 0 to a scalar is deprecated, and will error in future. Ensure you extract a single element from your array before performing this operation. (Deprecated NumPy 1.25.)\n",
            "  pred = float(D @ self.rls[l].w)\n",
            "/tmp/ipython-input-14-3062527659.py:126: DeprecationWarning: Conversion of an array with ndim > 0 to a scalar is deprecated, and will error in future. Ensure you extract a single element from your array before performing this operation. (Deprecated NumPy 1.25.)\n",
            "  pred = float(D @ self.rls[l].w)\n",
            "/tmp/ipython-input-14-3062527659.py:126: DeprecationWarning: Conversion of an array with ndim > 0 to a scalar is deprecated, and will error in future. Ensure you extract a single element from your array before performing this operation. (Deprecated NumPy 1.25.)\n",
            "  pred = float(D @ self.rls[l].w)\n"
          ]
        },
        {
          "output_type": "stream",
          "name": "stdout",
          "text": [
            "s=0.9, L=7, N_hidden=30 -> RMSE: 0.6110, MASE: 0.4531\n"
          ]
        },
        {
          "output_type": "stream",
          "name": "stderr",
          "text": [
            "/tmp/ipython-input-14-3062527659.py:126: DeprecationWarning: Conversion of an array with ndim > 0 to a scalar is deprecated, and will error in future. Ensure you extract a single element from your array before performing this operation. (Deprecated NumPy 1.25.)\n",
            "  pred = float(D @ self.rls[l].w)\n",
            "/tmp/ipython-input-14-3062527659.py:126: DeprecationWarning: Conversion of an array with ndim > 0 to a scalar is deprecated, and will error in future. Ensure you extract a single element from your array before performing this operation. (Deprecated NumPy 1.25.)\n",
            "  pred = float(D @ self.rls[l].w)\n",
            "/tmp/ipython-input-14-3062527659.py:126: DeprecationWarning: Conversion of an array with ndim > 0 to a scalar is deprecated, and will error in future. Ensure you extract a single element from your array before performing this operation. (Deprecated NumPy 1.25.)\n",
            "  pred = float(D @ self.rls[l].w)\n",
            "/tmp/ipython-input-14-3062527659.py:126: DeprecationWarning: Conversion of an array with ndim > 0 to a scalar is deprecated, and will error in future. Ensure you extract a single element from your array before performing this operation. (Deprecated NumPy 1.25.)\n",
            "  pred = float(D @ self.rls[l].w)\n",
            "/tmp/ipython-input-14-3062527659.py:126: DeprecationWarning: Conversion of an array with ndim > 0 to a scalar is deprecated, and will error in future. Ensure you extract a single element from your array before performing this operation. (Deprecated NumPy 1.25.)\n",
            "  pred = float(D @ self.rls[l].w)\n"
          ]
        },
        {
          "output_type": "stream",
          "name": "stdout",
          "text": [
            "s=0.9, L=7, N_hidden=40 -> RMSE: 0.6380, MASE: 0.4724\n",
            "s=0.9, L=8, N_hidden=20 -> RMSE: 0.7472, MASE: 0.5847\n"
          ]
        },
        {
          "output_type": "stream",
          "name": "stderr",
          "text": [
            "/tmp/ipython-input-14-3062527659.py:126: DeprecationWarning: Conversion of an array with ndim > 0 to a scalar is deprecated, and will error in future. Ensure you extract a single element from your array before performing this operation. (Deprecated NumPy 1.25.)\n",
            "  pred = float(D @ self.rls[l].w)\n",
            "/tmp/ipython-input-14-3062527659.py:126: DeprecationWarning: Conversion of an array with ndim > 0 to a scalar is deprecated, and will error in future. Ensure you extract a single element from your array before performing this operation. (Deprecated NumPy 1.25.)\n",
            "  pred = float(D @ self.rls[l].w)\n",
            "/tmp/ipython-input-14-3062527659.py:126: DeprecationWarning: Conversion of an array with ndim > 0 to a scalar is deprecated, and will error in future. Ensure you extract a single element from your array before performing this operation. (Deprecated NumPy 1.25.)\n",
            "  pred = float(D @ self.rls[l].w)\n",
            "/tmp/ipython-input-14-3062527659.py:126: DeprecationWarning: Conversion of an array with ndim > 0 to a scalar is deprecated, and will error in future. Ensure you extract a single element from your array before performing this operation. (Deprecated NumPy 1.25.)\n",
            "  pred = float(D @ self.rls[l].w)\n"
          ]
        },
        {
          "output_type": "stream",
          "name": "stdout",
          "text": [
            "s=0.9, L=8, N_hidden=30 -> RMSE: 0.6766, MASE: 0.4788\n"
          ]
        },
        {
          "output_type": "stream",
          "name": "stderr",
          "text": [
            "/tmp/ipython-input-14-3062527659.py:126: DeprecationWarning: Conversion of an array with ndim > 0 to a scalar is deprecated, and will error in future. Ensure you extract a single element from your array before performing this operation. (Deprecated NumPy 1.25.)\n",
            "  pred = float(D @ self.rls[l].w)\n",
            "/tmp/ipython-input-14-3062527659.py:126: DeprecationWarning: Conversion of an array with ndim > 0 to a scalar is deprecated, and will error in future. Ensure you extract a single element from your array before performing this operation. (Deprecated NumPy 1.25.)\n",
            "  pred = float(D @ self.rls[l].w)\n",
            "/tmp/ipython-input-14-3062527659.py:126: DeprecationWarning: Conversion of an array with ndim > 0 to a scalar is deprecated, and will error in future. Ensure you extract a single element from your array before performing this operation. (Deprecated NumPy 1.25.)\n",
            "  pred = float(D @ self.rls[l].w)\n",
            "/tmp/ipython-input-14-3062527659.py:126: DeprecationWarning: Conversion of an array with ndim > 0 to a scalar is deprecated, and will error in future. Ensure you extract a single element from your array before performing this operation. (Deprecated NumPy 1.25.)\n",
            "  pred = float(D @ self.rls[l].w)\n"
          ]
        },
        {
          "output_type": "stream",
          "name": "stdout",
          "text": [
            "s=0.9, L=8, N_hidden=40 -> RMSE: 0.6115, MASE: 0.4362\n"
          ]
        },
        {
          "output_type": "stream",
          "name": "stderr",
          "text": [
            "/tmp/ipython-input-14-3062527659.py:126: DeprecationWarning: Conversion of an array with ndim > 0 to a scalar is deprecated, and will error in future. Ensure you extract a single element from your array before performing this operation. (Deprecated NumPy 1.25.)\n",
            "  pred = float(D @ self.rls[l].w)\n",
            "/tmp/ipython-input-14-3062527659.py:126: DeprecationWarning: Conversion of an array with ndim > 0 to a scalar is deprecated, and will error in future. Ensure you extract a single element from your array before performing this operation. (Deprecated NumPy 1.25.)\n",
            "  pred = float(D @ self.rls[l].w)\n"
          ]
        },
        {
          "output_type": "stream",
          "name": "stdout",
          "text": [
            "s=0.9, L=9, N_hidden=20 -> RMSE: 0.5836, MASE: 0.4261\n"
          ]
        },
        {
          "output_type": "stream",
          "name": "stderr",
          "text": [
            "/tmp/ipython-input-14-3062527659.py:126: DeprecationWarning: Conversion of an array with ndim > 0 to a scalar is deprecated, and will error in future. Ensure you extract a single element from your array before performing this operation. (Deprecated NumPy 1.25.)\n",
            "  pred = float(D @ self.rls[l].w)\n",
            "/tmp/ipython-input-14-3062527659.py:126: DeprecationWarning: Conversion of an array with ndim > 0 to a scalar is deprecated, and will error in future. Ensure you extract a single element from your array before performing this operation. (Deprecated NumPy 1.25.)\n",
            "  pred = float(D @ self.rls[l].w)\n",
            "/tmp/ipython-input-14-3062527659.py:126: DeprecationWarning: Conversion of an array with ndim > 0 to a scalar is deprecated, and will error in future. Ensure you extract a single element from your array before performing this operation. (Deprecated NumPy 1.25.)\n",
            "  pred = float(D @ self.rls[l].w)\n",
            "/tmp/ipython-input-14-3062527659.py:126: DeprecationWarning: Conversion of an array with ndim > 0 to a scalar is deprecated, and will error in future. Ensure you extract a single element from your array before performing this operation. (Deprecated NumPy 1.25.)\n",
            "  pred = float(D @ self.rls[l].w)\n"
          ]
        },
        {
          "output_type": "stream",
          "name": "stdout",
          "text": [
            "s=0.9, L=9, N_hidden=30 -> RMSE: 0.5685, MASE: 0.4084\n"
          ]
        },
        {
          "output_type": "stream",
          "name": "stderr",
          "text": [
            "/tmp/ipython-input-14-3062527659.py:126: DeprecationWarning: Conversion of an array with ndim > 0 to a scalar is deprecated, and will error in future. Ensure you extract a single element from your array before performing this operation. (Deprecated NumPy 1.25.)\n",
            "  pred = float(D @ self.rls[l].w)\n",
            "/tmp/ipython-input-14-3062527659.py:126: DeprecationWarning: Conversion of an array with ndim > 0 to a scalar is deprecated, and will error in future. Ensure you extract a single element from your array before performing this operation. (Deprecated NumPy 1.25.)\n",
            "  pred = float(D @ self.rls[l].w)\n",
            "/tmp/ipython-input-14-3062527659.py:126: DeprecationWarning: Conversion of an array with ndim > 0 to a scalar is deprecated, and will error in future. Ensure you extract a single element from your array before performing this operation. (Deprecated NumPy 1.25.)\n",
            "  pred = float(D @ self.rls[l].w)\n",
            "/tmp/ipython-input-14-3062527659.py:126: DeprecationWarning: Conversion of an array with ndim > 0 to a scalar is deprecated, and will error in future. Ensure you extract a single element from your array before performing this operation. (Deprecated NumPy 1.25.)\n",
            "  pred = float(D @ self.rls[l].w)\n",
            "/tmp/ipython-input-14-3062527659.py:126: DeprecationWarning: Conversion of an array with ndim > 0 to a scalar is deprecated, and will error in future. Ensure you extract a single element from your array before performing this operation. (Deprecated NumPy 1.25.)\n",
            "  pred = float(D @ self.rls[l].w)\n",
            "/tmp/ipython-input-14-3062527659.py:126: DeprecationWarning: Conversion of an array with ndim > 0 to a scalar is deprecated, and will error in future. Ensure you extract a single element from your array before performing this operation. (Deprecated NumPy 1.25.)\n",
            "  pred = float(D @ self.rls[l].w)\n",
            "/tmp/ipython-input-14-3062527659.py:126: DeprecationWarning: Conversion of an array with ndim > 0 to a scalar is deprecated, and will error in future. Ensure you extract a single element from your array before performing this operation. (Deprecated NumPy 1.25.)\n",
            "  pred = float(D @ self.rls[l].w)\n",
            "/tmp/ipython-input-14-3062527659.py:126: DeprecationWarning: Conversion of an array with ndim > 0 to a scalar is deprecated, and will error in future. Ensure you extract a single element from your array before performing this operation. (Deprecated NumPy 1.25.)\n",
            "  pred = float(D @ self.rls[l].w)\n"
          ]
        },
        {
          "output_type": "stream",
          "name": "stdout",
          "text": [
            "s=0.9, L=9, N_hidden=40 -> RMSE: 0.5538, MASE: 0.3980\n",
            "\n",
            "Best Configuration:\n",
            "{'s': 0.4, 'L': 9, 'N_hidden': 30, 'RMSE': np.float64(0.5320367174675243), 'MASE': np.float64(0.37439914619008935)}\n"
          ]
        }
      ],
      "source": [
        "# ------------------------ Hyperparameter Tuning for Wine Quality (Red) Dataset ------------------------\n",
        "# Initialize best RMSE as infinity and containers for best configuration and all results\n",
        "best_rmse = float('inf')\n",
        "best_config = {}\n",
        "results = []\n",
        "\n",
        "# Define the grid of hyperparameter values for tuning\n",
        "s_values = [0.1,0.2,0.3,0.4,0.5,0.6,0.7,0.8,0.9]\n",
        "L_values = [2,3,4,5,6,7,8,9]\n",
        "hidden_values = [20,30,40]\n",
        "\n",
        "# Loop through all combinations of s, L, and N_hidden\n",
        "for s in s_values:\n",
        "    for L in L_values:\n",
        "        for N_hidden in hidden_values:\n",
        "            # Initialize model with current hyperparameters\n",
        "            model = OnlineEDRVFL(input_dim=X_train.shape[1], N_hidden=N_hidden, L=L, s=s)\n",
        "            model.initialize_offline(X_train[:200], y_train[:200])  # offline training with first 200 samples\n",
        "\n",
        "            predictions = []\n",
        "            y_stream = y_test[:500]      # use first 500 test samples for streaming\n",
        "            X_stream = X_test[:500]\n",
        "            batch_size = 10              # batch size for simulation\n",
        "\n",
        "            # Simulate streaming in batches\n",
        "            for i in range(0, len(X_stream), batch_size):\n",
        "                x_batch = X_stream[i:i + batch_size]\n",
        "                y_batch = y_stream[i:i + batch_size]\n",
        "\n",
        "                # Predict each instance in the batch\n",
        "                for j in range(len(x_batch)):\n",
        "                    x_i = x_batch[j]\n",
        "                    y_i = float(y_batch[j])\n",
        "                    preds = model.predict(x_i)\n",
        "                    y_pred = model.ensemble_predict(preds, y_i)\n",
        "                    predictions.append(y_pred)\n",
        "\n",
        "                # Update the model with true labels (online learning)\n",
        "                for j in range(len(x_batch)):\n",
        "                    x_i = x_batch[j]\n",
        "                    y_i = float(y_batch[j])\n",
        "                    model.update_online(x_i, y_i)\n",
        "\n",
        "            # Convert predictions to array and calculate RMSE and MASE\n",
        "            predictions = np.array(predictions)\n",
        "            rmse = np.sqrt(mean_squared_error(y_stream, predictions))\n",
        "            naive_mae = np.mean(np.abs(np.diff(y_train)))  # naive forecast error for MASE\n",
        "            mase = np.mean(np.abs(y_stream - predictions)) / naive_mae\n",
        "\n",
        "            # Store the result for this configuration\n",
        "            results.append((rmse, mase, s, L, N_hidden))\n",
        "\n",
        "            # Update best configuration if current RMSE is lower\n",
        "            if rmse < best_rmse:\n",
        "                best_rmse = rmse\n",
        "                best_config = {\n",
        "                    's': s,\n",
        "                    'L': L,\n",
        "                    'N_hidden': N_hidden,\n",
        "                    'RMSE': rmse,\n",
        "                    'MASE': mase\n",
        "                }\n",
        "\n",
        "            # Print performance for current configuration\n",
        "            print(f\"s={s}, L={L}, N_hidden={N_hidden} -> RMSE: {rmse:.4f}, MASE: {mase:.4f}\")\n",
        "\n",
        "# Print best configuration after all trials\n",
        "print(\"\\nBest Configuration:\")\n",
        "print(best_config)\n"
      ]
    }
  ],
  "metadata": {
    "colab": {
      "provenance": []
    },
    "kernelspec": {
      "display_name": "Python 3",
      "name": "python3"
    },
    "language_info": {
      "name": "python"
    }
  },
  "nbformat": 4,
  "nbformat_minor": 0
}