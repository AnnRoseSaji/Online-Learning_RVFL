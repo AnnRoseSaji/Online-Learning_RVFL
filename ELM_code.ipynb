{
  "cells": [
    {
      "cell_type": "markdown",
      "metadata": {
        "id": "qXVIm4rDPX1a"
      },
      "source": [
        "# Breast Cancer Dataset"
      ]
    },
    {
      "cell_type": "code",
      "execution_count": null,
      "metadata": {
        "colab": {
          "base_uri": "https://localhost:8080/"
        },
        "id": "JbmhDfPKRl65",
        "outputId": "e6a12758-78a6-4c0e-bdca-783a13f5c83c"
      },
      "outputs": [
        {
          "name": "stdout",
          "output_type": "stream",
          "text": [
            "Training Accuracy : 0.9538\n",
            "Training RMSE     : 0.220525\n",
            "Training STD      : 0.452624\n",
            "Test Accuracy     : 0.9474\n",
            "Test RMSE         : 0.257306\n",
            "Test STD          : 0.422858\n",
            "Training Time     : 0.030712 seconds\n",
            "Prediction Time   : 0.000304 seconds\n"
          ]
        }
      ],
      "source": [
        "import numpy as np\n",
        "import time\n",
        "from sklearn.datasets import load_breast_cancer\n",
        "from sklearn.model_selection import train_test_split\n",
        "from sklearn.preprocessing import StandardScaler\n",
        "from sklearn.metrics import accuracy_score, mean_squared_error\n",
        "\n",
        "def activation_function(X, activation):\n",
        "    if activation == 'sigmoid':\n",
        "        return 1 / (1 + np.exp(-X))\n",
        "    elif activation == 'tanh':\n",
        "        return np.tanh(X)\n",
        "    elif activation == 'relu':\n",
        "        return np.maximum(0, X)\n",
        "    else:\n",
        "        raise ValueError(\"Unsupported activation function\")\n",
        "\n",
        "def initialize_elm(input_size, hidden_size):\n",
        "    input_weights = np.random.randn(hidden_size, input_size)\n",
        "    biases = np.random.randn(hidden_size)\n",
        "    return input_weights, biases\n",
        "\n",
        "def train_elm(X, y, input_weights, biases, activation):\n",
        "    H = activation_function(np.dot(X, input_weights.T) + biases, activation)\n",
        "    H_pinv = np.linalg.pinv(H)\n",
        "    output_weights = np.dot(H_pinv, y)\n",
        "    return output_weights\n",
        "\n",
        "def predict_elm(X, input_weights, biases, output_weights, activation):\n",
        "    H = activation_function(np.dot(X, input_weights.T) + biases, activation)\n",
        "    return np.dot(H, output_weights)\n",
        "\n",
        "# Load and prepare data\n",
        "data = load_breast_cancer()\n",
        "X = data.data\n",
        "y = data.target\n",
        "y_onehot = np.eye(2)[y]\n",
        "\n",
        "scaler = StandardScaler()\n",
        "X = scaler.fit_transform(X)\n",
        "X_train, X_test, y_train, y_test = train_test_split(X, y_onehot, test_size=0.2, random_state=42, stratify=y)\n",
        "\n",
        "# Initialize and train ELM\n",
        "input_size = X.shape[1]\n",
        "hidden_size = 20\n",
        "activation = 'sigmoid'\n",
        "\n",
        "input_weights, biases = initialize_elm(input_size, hidden_size)\n",
        "\n",
        "start_train = time.time()\n",
        "output_weights = train_elm(X_train, y_train, input_weights, biases, activation)\n",
        "end_train = time.time()\n",
        "\n",
        "# Predictions\n",
        "y_train_pred = predict_elm(X_train, input_weights, biases, output_weights, activation)\n",
        "y_test_pred = predict_elm(X_test, input_weights, biases, output_weights, activation)\n",
        "\n",
        "# Evaluate performance\n",
        "train_pred_labels = np.argmax(y_train_pred, axis=1)\n",
        "train_true_labels = np.argmax(y_train, axis=1)\n",
        "train_acc = accuracy_score(train_true_labels, train_pred_labels)\n",
        "train_rmse = np.sqrt(mean_squared_error(y_train, y_train_pred))\n",
        "train_std = np.std(y_train_pred)\n",
        "\n",
        "test_pred_labels = np.argmax(y_test_pred, axis=1)\n",
        "test_true_labels = np.argmax(y_test, axis=1)\n",
        "test_acc = accuracy_score(test_true_labels, test_pred_labels)\n",
        "test_rmse = np.sqrt(mean_squared_error(y_test, y_test_pred))\n",
        "test_std = np.std(y_test_pred)\n",
        "\n",
        "# Prediction timing\n",
        "start_test = time.time()\n",
        "_ = predict_elm(X_test, input_weights, biases, output_weights, activation)\n",
        "end_test = time.time()\n",
        "\n",
        "# Print results\n",
        "print(f\"Training Accuracy : {train_acc:.4f}\")\n",
        "print(f\"Training RMSE     : {train_rmse:.6f}\")\n",
        "print(f\"Training STD      : {train_std:.6f}\")\n",
        "print(f\"Test Accuracy     : {test_acc:.4f}\")\n",
        "print(f\"Test RMSE         : {test_rmse:.6f}\")\n",
        "print(f\"Test STD          : {test_std:.6f}\")\n",
        "print(f\"Training Time     : {end_train - start_train:.6f} seconds\")\n",
        "print(f\"Prediction Time   : {end_test - start_test:.6f} seconds\")\n"
      ]
    },
    {
      "cell_type": "markdown",
      "metadata": {
        "id": "bFLXfT4APd3u"
      },
      "source": [
        "# Mnist Dataset"
      ]
    },
    {
      "cell_type": "code",
      "execution_count": null,
      "metadata": {
        "colab": {
          "base_uri": "https://localhost:8080/"
        },
        "id": "cwKCvA1i6ugc",
        "outputId": "fc947428-1fb1-432f-bb42-d98afaee928a"
      },
      "outputs": [
        {
          "name": "stderr",
          "output_type": "stream",
          "text": [
            "<ipython-input-5-9fd5b73c734a>:10: RuntimeWarning: overflow encountered in exp\n",
            "  return 1 / (1 + np.exp(-X))\n"
          ]
        },
        {
          "name": "stdout",
          "output_type": "stream",
          "text": [
            "Training Accuracy : 0.7723\n",
            "Training RMSE     : 0.226701\n",
            "Training STD      : 0.196796\n",
            "Test Accuracy     : 0.7675\n",
            "Test RMSE         : 0.226625\n",
            "Test STD          : 0.196916\n",
            "Training Time     : 1.528769 seconds\n",
            "Prediction Time   : 0.123839 seconds\n"
          ]
        },
        {
          "name": "stderr",
          "output_type": "stream",
          "text": [
            "<ipython-input-5-9fd5b73c734a>:10: RuntimeWarning: overflow encountered in exp\n",
            "  return 1 / (1 + np.exp(-X))\n"
          ]
        }
      ],
      "source": [
        "import numpy as np\n",
        "import time\n",
        "from sklearn.datasets import fetch_openml\n",
        "from sklearn.model_selection import train_test_split\n",
        "from sklearn.preprocessing import StandardScaler\n",
        "from sklearn.metrics import accuracy_score, mean_squared_error\n",
        "\n",
        "def activation_function(X, activation='sigmoid'):\n",
        "    if activation == 'sigmoid':\n",
        "        return 1 / (1 + np.exp(-X))\n",
        "    elif activation == 'tanh':\n",
        "        return np.tanh(X)\n",
        "    elif activation == 'relu':\n",
        "        return np.maximum(0, X)\n",
        "    else:\n",
        "        raise ValueError(\"Unsupported activation function\")\n",
        "\n",
        "def initialize_elm(input_size, hidden_size):\n",
        "    input_weights = np.random.randn(hidden_size, input_size)\n",
        "    biases = np.random.randn(hidden_size)\n",
        "    return input_weights, biases\n",
        "\n",
        "def train_elm(X, y, input_weights, biases, activation='sigmoid'):\n",
        "    H = activation_function(np.dot(X, input_weights.T) + biases, activation)\n",
        "    H_pinv = np.linalg.pinv(H)\n",
        "    output_weights = np.dot(H_pinv, y)\n",
        "    return output_weights\n",
        "\n",
        "def predict_elm(X, input_weights, biases, output_weights, activation='sigmoid'):\n",
        "    H = activation_function(np.dot(X, input_weights.T) + biases, activation)\n",
        "    return np.dot(H, output_weights)\n",
        "\n",
        "# Load MNIST dataset from OpenML\n",
        "mnist = fetch_openml('mnist_784', version=1, as_frame=False)\n",
        "X = mnist.data\n",
        "y = mnist.target.astype(int)\n",
        "\n",
        "# One-hot encode labels\n",
        "num_classes = 10\n",
        "y_onehot = np.eye(num_classes)[y]\n",
        "\n",
        "# Standardize features\n",
        "scaler = StandardScaler()\n",
        "X = scaler.fit_transform(X)\n",
        "\n",
        "# Train/test split\n",
        "X_train, X_test, y_train, y_test = train_test_split(\n",
        "    X, y_onehot, test_size=0.2, random_state=42, stratify=y\n",
        ")\n",
        "\n",
        "# ELM configuration\n",
        "input_size = X.shape[1]\n",
        "hidden_size = 100  # Can be increased for better accuracy\n",
        "activation = 'sigmoid'\n",
        "\n",
        "# Initialize ELM\n",
        "input_weights, biases = initialize_elm(input_size, hidden_size)\n",
        "\n",
        "# Train\n",
        "start_train = time.time()\n",
        "output_weights = train_elm(X_train, y_train, input_weights, biases, activation)\n",
        "end_train = time.time()\n",
        "\n",
        "# Predict on train set\n",
        "y_train_pred = predict_elm(X_train, input_weights, biases, output_weights, activation)\n",
        "train_pred_labels = np.argmax(y_train_pred, axis=1)\n",
        "train_true_labels = np.argmax(y_train, axis=1)\n",
        "train_acc = accuracy_score(train_true_labels, train_pred_labels)\n",
        "train_rmse = np.sqrt(mean_squared_error(y_train, y_train_pred))\n",
        "train_std = np.std(y_train_pred)\n",
        "\n",
        "# Predict on test set\n",
        "start_test = time.time()\n",
        "y_test_pred = predict_elm(X_test, input_weights, biases, output_weights, activation)\n",
        "end_test = time.time()\n",
        "test_pred_labels = np.argmax(y_test_pred, axis=1)\n",
        "test_true_labels = np.argmax(y_test, axis=1)\n",
        "test_acc = accuracy_score(test_true_labels, test_pred_labels)\n",
        "test_rmse = np.sqrt(mean_squared_error(y_test, y_test_pred))\n",
        "test_std = np.std(y_test_pred)\n",
        "\n",
        "# Results\n",
        "print(f\"Training Accuracy : {train_acc:.4f}\")\n",
        "print(f\"Training RMSE     : {train_rmse:.6f}\")\n",
        "print(f\"Training STD      : {train_std:.6f}\")\n",
        "print(f\"Test Accuracy     : {test_acc:.4f}\")\n",
        "print(f\"Test RMSE         : {test_rmse:.6f}\")\n",
        "print(f\"Test STD          : {test_std:.6f}\")\n",
        "print(f\"Training Time     : {end_train - start_train:.6f} seconds\")\n",
        "print(f\"Prediction Time   : {end_test - start_test:.6f} seconds\")\n"
      ]
    },
    {
      "cell_type": "markdown",
      "metadata": {
        "id": "qPdXzwrFPgHl"
      },
      "source": [
        "# Shuttle Dataset"
      ]
    },
    {
      "cell_type": "code",
      "execution_count": null,
      "metadata": {
        "colab": {
          "base_uri": "https://localhost:8080/"
        },
        "id": "q3RufbrhSrEx",
        "outputId": "6938430e-2d1d-4949-e000-24439f764632"
      },
      "outputs": [
        {
          "name": "stdout",
          "output_type": "stream",
          "text": [
            "Collecting ucimlrepo\n",
            "  Downloading ucimlrepo-0.0.7-py3-none-any.whl.metadata (5.5 kB)\n",
            "Requirement already satisfied: pandas>=1.0.0 in /usr/local/lib/python3.11/dist-packages (from ucimlrepo) (2.2.2)\n",
            "Requirement already satisfied: certifi>=2020.12.5 in /usr/local/lib/python3.11/dist-packages (from ucimlrepo) (2025.4.26)\n",
            "Requirement already satisfied: numpy>=1.23.2 in /usr/local/lib/python3.11/dist-packages (from pandas>=1.0.0->ucimlrepo) (2.0.2)\n",
            "Requirement already satisfied: python-dateutil>=2.8.2 in /usr/local/lib/python3.11/dist-packages (from pandas>=1.0.0->ucimlrepo) (2.9.0.post0)\n",
            "Requirement already satisfied: pytz>=2020.1 in /usr/local/lib/python3.11/dist-packages (from pandas>=1.0.0->ucimlrepo) (2025.2)\n",
            "Requirement already satisfied: tzdata>=2022.7 in /usr/local/lib/python3.11/dist-packages (from pandas>=1.0.0->ucimlrepo) (2025.2)\n",
            "Requirement already satisfied: six>=1.5 in /usr/local/lib/python3.11/dist-packages (from python-dateutil>=2.8.2->pandas>=1.0.0->ucimlrepo) (1.17.0)\n",
            "Downloading ucimlrepo-0.0.7-py3-none-any.whl (8.0 kB)\n",
            "Installing collected packages: ucimlrepo\n",
            "Successfully installed ucimlrepo-0.0.7\n"
          ]
        }
      ],
      "source": [
        "!pip install ucimlrepo\n"
      ]
    },
    {
      "cell_type": "code",
      "execution_count": null,
      "metadata": {
        "colab": {
          "base_uri": "https://localhost:8080/"
        },
        "id": "uyCHXnJT7Bk7",
        "outputId": "7ec10bac-d1a0-40e0-b7fc-992711150faf"
      },
      "outputs": [
        {
          "name": "stdout",
          "output_type": "stream",
          "text": [
            "Training Accuracy : 0.9908\n",
            "Training RMSE     : 0.068340\n",
            "Training STD      : 0.343190\n",
            "Test Accuracy     : 0.9901\n",
            "Test RMSE         : 0.069502\n",
            "Test STD          : 0.343322\n",
            "Training Time     : 1.566438 seconds\n",
            "Prediction Time   : 0.054692 seconds\n"
          ]
        }
      ],
      "source": [
        "import numpy as np\n",
        "import time\n",
        "from sklearn.model_selection import train_test_split\n",
        "from sklearn.preprocessing import StandardScaler\n",
        "from sklearn.metrics import accuracy_score, mean_squared_error\n",
        "from ucimlrepo import fetch_ucirepo\n",
        "\n",
        "def activation_function(X, activation):\n",
        "    if activation == 'sigmoid':\n",
        "        return 1 / (1 + np.exp(-X))\n",
        "    elif activation == 'tanh':\n",
        "        return np.tanh(X)\n",
        "    elif activation == 'relu':\n",
        "        return np.maximum(0, X)\n",
        "    else:\n",
        "        raise ValueError(\"Unsupported activation function\")\n",
        "\n",
        "def fit_elm(X, y, input_weights, biases, activation):\n",
        "    H = activation_function(np.dot(X, input_weights.T) + biases, activation)\n",
        "    H_pinv = np.linalg.pinv(H)\n",
        "    output_weights = np.dot(H_pinv, y)\n",
        "    return output_weights\n",
        "\n",
        "def predict_elm(X, input_weights, biases, output_weights, activation):\n",
        "    H = activation_function(np.dot(X, input_weights.T) + biases, activation)\n",
        "    return np.dot(H, output_weights)\n",
        "\n",
        "def evaluate(y_true_onehot, y_pred_probs):\n",
        "    y_true = np.argmax(y_true_onehot, axis=1)\n",
        "    y_pred = np.argmax(y_pred_probs, axis=1)\n",
        "    accuracy = accuracy_score(y_true, y_pred)\n",
        "    rmse = np.sqrt(mean_squared_error(y_true_onehot, y_pred_probs))\n",
        "    std_dev = np.std(y_pred_probs)\n",
        "    return accuracy, rmse, std_dev\n",
        "\n",
        "def run_elm_pipeline(hidden_size=50, activation='sigmoid'):\n",
        "    # Load dataset\n",
        "    dataset = fetch_ucirepo(id=148)\n",
        "    X = dataset.data.features.to_numpy()\n",
        "    y = dataset.data.targets.to_numpy().ravel()\n",
        "\n",
        "    # One-hot encode labels\n",
        "    num_classes = len(np.unique(y))\n",
        "    y_onehot = np.eye(num_classes)[y - 1]\n",
        "\n",
        "    # Standardize features\n",
        "    scaler = StandardScaler()\n",
        "    X_scaled = scaler.fit_transform(X)\n",
        "\n",
        "    # Train-test split\n",
        "    X_train, X_test, y_train, y_test = train_test_split(\n",
        "        X_scaled, y_onehot, test_size=0.25, random_state=123, stratify=y\n",
        "    )\n",
        "\n",
        "    # Initialize weights and biases\n",
        "    input_size = X.shape[1]\n",
        "    input_weights = np.random.randn(hidden_size, input_size)\n",
        "    biases = np.random.randn(hidden_size)\n",
        "\n",
        "    # Train\n",
        "    start_train = time.time()\n",
        "    output_weights = fit_elm(X_train, y_train, input_weights, biases, activation)\n",
        "    end_train = time.time()\n",
        "\n",
        "    # Train evaluation\n",
        "    y_train_pred = predict_elm(X_train, input_weights, biases, output_weights, activation)\n",
        "    train_acc, train_rmse, train_std = evaluate(y_train, y_train_pred)\n",
        "\n",
        "    # Test evaluation\n",
        "    start_test = time.time()\n",
        "    y_test_pred = predict_elm(X_test, input_weights, biases, output_weights, activation)\n",
        "    end_test = time.time()\n",
        "    test_acc, test_rmse, test_std = evaluate(y_test, y_test_pred)\n",
        "\n",
        "    # Print results\n",
        "    print(f\"Training Accuracy : {train_acc:.4f}\")\n",
        "    print(f\"Training RMSE     : {train_rmse:.6f}\")\n",
        "    print(f\"Training STD      : {train_std:.6f}\")\n",
        "    print(f\"Test Accuracy     : {test_acc:.4f}\")\n",
        "    print(f\"Test RMSE         : {test_rmse:.6f}\")\n",
        "    print(f\"Test STD          : {test_std:.6f}\")\n",
        "    print(f\"Training Time     : {end_train - start_train:.6f} seconds\")\n",
        "    print(f\"Prediction Time   : {end_test - start_test:.6f} seconds\")\n",
        "\n",
        "# Run the function-based ELM pipeline\n",
        "if __name__ == \"__main__\":\n",
        "    run_elm_pipeline(hidden_size=50, activation='sigmoid')\n"
      ]
    }
  ],
  "metadata": {
    "colab": {
      "provenance": []
    },
    "kernelspec": {
      "display_name": "Python 3",
      "name": "python3"
    },
    "language_info": {
      "name": "python"
    }
  },
  "nbformat": 4,
  "nbformat_minor": 0
}
